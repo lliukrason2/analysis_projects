{
 "cells": [
  {
   "cell_type": "markdown",
   "metadata": {},
   "source": [
    "# Finding surveillance planes using random forests\n",
    "\n",
    "**The story:**\n",
    "\n",
    "- https://www.buzzfeednews.com/article/peteraldhous/spies-in-the-skies\n",
    "- https://www.buzzfeednews.com/article/peteraldhous/hidden-spy-planes\n",
    "    \n",
    "This story, done by Peter Aldhous at Buzzfeed News, involved training a machine learning algorithm to recognize government surveillance planes based on what their flight patterns look like.\n",
    "\n",
    "**Topics:** Random Forests\n",
    "\n",
    "**Datasets**\n",
    "\n",
    "* **feds.csv:** Transponder codes of planes operated by the federal government\n",
    "* **planes_features.csv:** various features describing each plane's flight patterns\n",
    "* **train.csv:** a labeled dataset of transponder codes and whether each plane is a surveillance plane or not\n",
    "    - The `label` column was originally `class`, but I renamed it because pandas freaks out a bit with a column named `class`\n",
    "    - This was created by Buzzfeed `feds.csv`\n",
    "* **data dictionary:** You can find the data dictionary published with their analysis [here](https://buzzfeednews.github.io/2016-04-federal-surveillance-planes/analysis.html)\n",
    "* **a few other files**\n",
    "\n",
    "## What's the goal?\n",
    "\n",
    "The FBI and Department of Homeland Security operate many planes that are not directly labeled as belonging to the government. If we can uncover these planes, we have a better idea of the surveillance activities they are undertaking."
   ]
  },
  {
   "cell_type": "markdown",
   "metadata": {},
   "source": [
    "## Imports\n",
    "\n",
    "Also set a large number of maximum columns."
   ]
  },
  {
   "cell_type": "code",
   "execution_count": 1,
   "metadata": {},
   "outputs": [],
   "source": [
    "import pandas as pd\n",
    "\n",
    "pd.set_option(\"display.max_columns\", 100)"
   ]
  },
  {
   "cell_type": "markdown",
   "metadata": {},
   "source": [
    "# Read in our data\n",
    "\n",
    "Almost all classification problems start with a set of labeled features. In this case, the features are in one CSV file and the labels are in another. **Read both files in and merge them on `adshex`, the transpoder code.**"
   ]
  },
  {
   "cell_type": "code",
   "execution_count": 2,
   "metadata": {},
   "outputs": [
    {
     "data": {
      "text/html": [
       "<div>\n",
       "<style scoped>\n",
       "    .dataframe tbody tr th:only-of-type {\n",
       "        vertical-align: middle;\n",
       "    }\n",
       "\n",
       "    .dataframe tbody tr th {\n",
       "        vertical-align: top;\n",
       "    }\n",
       "\n",
       "    .dataframe thead th {\n",
       "        text-align: right;\n",
       "    }\n",
       "</style>\n",
       "<table border=\"1\" class=\"dataframe\">\n",
       "  <thead>\n",
       "    <tr style=\"text-align: right;\">\n",
       "      <th></th>\n",
       "      <th>adshex</th>\n",
       "      <th>duration1</th>\n",
       "      <th>duration2</th>\n",
       "      <th>duration3</th>\n",
       "      <th>duration4</th>\n",
       "      <th>duration5</th>\n",
       "      <th>boxes1</th>\n",
       "      <th>boxes2</th>\n",
       "      <th>boxes3</th>\n",
       "      <th>boxes4</th>\n",
       "      <th>boxes5</th>\n",
       "      <th>speed1</th>\n",
       "      <th>speed2</th>\n",
       "      <th>speed3</th>\n",
       "      <th>speed4</th>\n",
       "      <th>speed5</th>\n",
       "      <th>altitude1</th>\n",
       "      <th>altitude2</th>\n",
       "      <th>altitude3</th>\n",
       "      <th>altitude4</th>\n",
       "      <th>altitude5</th>\n",
       "      <th>steer1</th>\n",
       "      <th>steer2</th>\n",
       "      <th>steer3</th>\n",
       "      <th>steer4</th>\n",
       "      <th>steer5</th>\n",
       "      <th>steer6</th>\n",
       "      <th>steer7</th>\n",
       "      <th>steer8</th>\n",
       "      <th>flights</th>\n",
       "      <th>squawk_1</th>\n",
       "      <th>observations</th>\n",
       "      <th>type</th>\n",
       "    </tr>\n",
       "  </thead>\n",
       "  <tbody>\n",
       "    <tr>\n",
       "      <th>0</th>\n",
       "      <td>A</td>\n",
       "      <td>0.120253</td>\n",
       "      <td>0.075949</td>\n",
       "      <td>0.183544</td>\n",
       "      <td>0.335443</td>\n",
       "      <td>0.284810</td>\n",
       "      <td>0.088608</td>\n",
       "      <td>0.044304</td>\n",
       "      <td>0.069620</td>\n",
       "      <td>0.120253</td>\n",
       "      <td>0.677215</td>\n",
       "      <td>0.021824</td>\n",
       "      <td>0.020550</td>\n",
       "      <td>0.062330</td>\n",
       "      <td>0.100713</td>\n",
       "      <td>0.794582</td>\n",
       "      <td>0.042374</td>\n",
       "      <td>0.060971</td>\n",
       "      <td>0.066831</td>\n",
       "      <td>0.106403</td>\n",
       "      <td>0.723421</td>\n",
       "      <td>0.020211</td>\n",
       "      <td>0.048913</td>\n",
       "      <td>0.270550</td>\n",
       "      <td>0.344090</td>\n",
       "      <td>0.097317</td>\n",
       "      <td>0.186651</td>\n",
       "      <td>0.011379</td>\n",
       "      <td>0.009426</td>\n",
       "      <td>158</td>\n",
       "      <td>0</td>\n",
       "      <td>11776</td>\n",
       "      <td>GRND</td>\n",
       "    </tr>\n",
       "    <tr>\n",
       "      <th>1</th>\n",
       "      <td>A00000</td>\n",
       "      <td>0.211735</td>\n",
       "      <td>0.155612</td>\n",
       "      <td>0.181122</td>\n",
       "      <td>0.198980</td>\n",
       "      <td>0.252551</td>\n",
       "      <td>0.204082</td>\n",
       "      <td>0.183673</td>\n",
       "      <td>0.168367</td>\n",
       "      <td>0.173469</td>\n",
       "      <td>0.267857</td>\n",
       "      <td>0.107348</td>\n",
       "      <td>0.143410</td>\n",
       "      <td>0.208139</td>\n",
       "      <td>0.177013</td>\n",
       "      <td>0.364090</td>\n",
       "      <td>0.177318</td>\n",
       "      <td>0.114457</td>\n",
       "      <td>0.129648</td>\n",
       "      <td>0.197694</td>\n",
       "      <td>0.380882</td>\n",
       "      <td>0.034976</td>\n",
       "      <td>0.048127</td>\n",
       "      <td>0.240732</td>\n",
       "      <td>0.356314</td>\n",
       "      <td>0.116116</td>\n",
       "      <td>0.159325</td>\n",
       "      <td>0.012828</td>\n",
       "      <td>0.013628</td>\n",
       "      <td>392</td>\n",
       "      <td>0</td>\n",
       "      <td>52465</td>\n",
       "      <td>TBM7</td>\n",
       "    </tr>\n",
       "    <tr>\n",
       "      <th>2</th>\n",
       "      <td>A00002</td>\n",
       "      <td>0.517241</td>\n",
       "      <td>0.103448</td>\n",
       "      <td>0.103448</td>\n",
       "      <td>0.103448</td>\n",
       "      <td>0.172414</td>\n",
       "      <td>0.862069</td>\n",
       "      <td>0.137931</td>\n",
       "      <td>0.000000</td>\n",
       "      <td>0.000000</td>\n",
       "      <td>0.000000</td>\n",
       "      <td>0.990792</td>\n",
       "      <td>0.000921</td>\n",
       "      <td>0.000000</td>\n",
       "      <td>0.000000</td>\n",
       "      <td>0.008287</td>\n",
       "      <td>0.599448</td>\n",
       "      <td>0.400552</td>\n",
       "      <td>0.000000</td>\n",
       "      <td>0.000000</td>\n",
       "      <td>0.000000</td>\n",
       "      <td>0.105893</td>\n",
       "      <td>0.090239</td>\n",
       "      <td>0.174954</td>\n",
       "      <td>0.244015</td>\n",
       "      <td>0.034070</td>\n",
       "      <td>0.202578</td>\n",
       "      <td>0.021179</td>\n",
       "      <td>0.068140</td>\n",
       "      <td>29</td>\n",
       "      <td>0</td>\n",
       "      <td>1086</td>\n",
       "      <td>SHIP</td>\n",
       "    </tr>\n",
       "    <tr>\n",
       "      <th>3</th>\n",
       "      <td>A00008</td>\n",
       "      <td>0.125000</td>\n",
       "      <td>0.041667</td>\n",
       "      <td>0.208333</td>\n",
       "      <td>0.166667</td>\n",
       "      <td>0.458333</td>\n",
       "      <td>0.125000</td>\n",
       "      <td>0.083333</td>\n",
       "      <td>0.125000</td>\n",
       "      <td>0.166667</td>\n",
       "      <td>0.500000</td>\n",
       "      <td>0.187960</td>\n",
       "      <td>0.278952</td>\n",
       "      <td>0.221048</td>\n",
       "      <td>0.190257</td>\n",
       "      <td>0.121783</td>\n",
       "      <td>0.014706</td>\n",
       "      <td>0.053309</td>\n",
       "      <td>0.149816</td>\n",
       "      <td>0.279871</td>\n",
       "      <td>0.502298</td>\n",
       "      <td>0.029871</td>\n",
       "      <td>0.044118</td>\n",
       "      <td>0.202665</td>\n",
       "      <td>0.380515</td>\n",
       "      <td>0.094669</td>\n",
       "      <td>0.182904</td>\n",
       "      <td>0.014706</td>\n",
       "      <td>0.020221</td>\n",
       "      <td>24</td>\n",
       "      <td>0</td>\n",
       "      <td>2176</td>\n",
       "      <td>PA46</td>\n",
       "    </tr>\n",
       "    <tr>\n",
       "      <th>4</th>\n",
       "      <td>A0001E</td>\n",
       "      <td>0.100000</td>\n",
       "      <td>0.200000</td>\n",
       "      <td>0.200000</td>\n",
       "      <td>0.400000</td>\n",
       "      <td>0.100000</td>\n",
       "      <td>0.100000</td>\n",
       "      <td>0.000000</td>\n",
       "      <td>0.100000</td>\n",
       "      <td>0.400000</td>\n",
       "      <td>0.400000</td>\n",
       "      <td>0.007937</td>\n",
       "      <td>0.026984</td>\n",
       "      <td>0.084127</td>\n",
       "      <td>0.179365</td>\n",
       "      <td>0.701587</td>\n",
       "      <td>0.041270</td>\n",
       "      <td>0.085714</td>\n",
       "      <td>0.039683</td>\n",
       "      <td>0.111111</td>\n",
       "      <td>0.722222</td>\n",
       "      <td>0.019048</td>\n",
       "      <td>0.049206</td>\n",
       "      <td>0.249206</td>\n",
       "      <td>0.326984</td>\n",
       "      <td>0.112698</td>\n",
       "      <td>0.206349</td>\n",
       "      <td>0.012698</td>\n",
       "      <td>0.011111</td>\n",
       "      <td>10</td>\n",
       "      <td>1135</td>\n",
       "      <td>630</td>\n",
       "      <td>C56X</td>\n",
       "    </tr>\n",
       "  </tbody>\n",
       "</table>\n",
       "</div>"
      ],
      "text/plain": [
       "   adshex  duration1  duration2  duration3  duration4  duration5    boxes1  \\\n",
       "0       A   0.120253   0.075949   0.183544   0.335443   0.284810  0.088608   \n",
       "1  A00000   0.211735   0.155612   0.181122   0.198980   0.252551  0.204082   \n",
       "2  A00002   0.517241   0.103448   0.103448   0.103448   0.172414  0.862069   \n",
       "3  A00008   0.125000   0.041667   0.208333   0.166667   0.458333  0.125000   \n",
       "4  A0001E   0.100000   0.200000   0.200000   0.400000   0.100000  0.100000   \n",
       "\n",
       "     boxes2    boxes3    boxes4    boxes5    speed1    speed2    speed3  \\\n",
       "0  0.044304  0.069620  0.120253  0.677215  0.021824  0.020550  0.062330   \n",
       "1  0.183673  0.168367  0.173469  0.267857  0.107348  0.143410  0.208139   \n",
       "2  0.137931  0.000000  0.000000  0.000000  0.990792  0.000921  0.000000   \n",
       "3  0.083333  0.125000  0.166667  0.500000  0.187960  0.278952  0.221048   \n",
       "4  0.000000  0.100000  0.400000  0.400000  0.007937  0.026984  0.084127   \n",
       "\n",
       "     speed4    speed5  altitude1  altitude2  altitude3  altitude4  altitude5  \\\n",
       "0  0.100713  0.794582   0.042374   0.060971   0.066831   0.106403   0.723421   \n",
       "1  0.177013  0.364090   0.177318   0.114457   0.129648   0.197694   0.380882   \n",
       "2  0.000000  0.008287   0.599448   0.400552   0.000000   0.000000   0.000000   \n",
       "3  0.190257  0.121783   0.014706   0.053309   0.149816   0.279871   0.502298   \n",
       "4  0.179365  0.701587   0.041270   0.085714   0.039683   0.111111   0.722222   \n",
       "\n",
       "     steer1    steer2    steer3    steer4    steer5    steer6    steer7  \\\n",
       "0  0.020211  0.048913  0.270550  0.344090  0.097317  0.186651  0.011379   \n",
       "1  0.034976  0.048127  0.240732  0.356314  0.116116  0.159325  0.012828   \n",
       "2  0.105893  0.090239  0.174954  0.244015  0.034070  0.202578  0.021179   \n",
       "3  0.029871  0.044118  0.202665  0.380515  0.094669  0.182904  0.014706   \n",
       "4  0.019048  0.049206  0.249206  0.326984  0.112698  0.206349  0.012698   \n",
       "\n",
       "     steer8  flights  squawk_1  observations  type  \n",
       "0  0.009426      158         0         11776  GRND  \n",
       "1  0.013628      392         0         52465  TBM7  \n",
       "2  0.068140       29         0          1086  SHIP  \n",
       "3  0.020221       24         0          2176  PA46  \n",
       "4  0.011111       10      1135           630  C56X  "
      ]
     },
     "execution_count": 2,
     "metadata": {},
     "output_type": "execute_result"
    }
   ],
   "source": [
    "# Read in your features\n",
    "features = pd.read_csv(\"data/planes_features.csv\")\n",
    "features.head()"
   ]
  },
  {
   "cell_type": "code",
   "execution_count": 3,
   "metadata": {},
   "outputs": [
    {
     "data": {
      "text/html": [
       "<div>\n",
       "<style scoped>\n",
       "    .dataframe tbody tr th:only-of-type {\n",
       "        vertical-align: middle;\n",
       "    }\n",
       "\n",
       "    .dataframe tbody tr th {\n",
       "        vertical-align: top;\n",
       "    }\n",
       "\n",
       "    .dataframe thead th {\n",
       "        text-align: right;\n",
       "    }\n",
       "</style>\n",
       "<table border=\"1\" class=\"dataframe\">\n",
       "  <thead>\n",
       "    <tr style=\"text-align: right;\">\n",
       "      <th></th>\n",
       "      <th>adshex</th>\n",
       "      <th>class</th>\n",
       "    </tr>\n",
       "  </thead>\n",
       "  <tbody>\n",
       "    <tr>\n",
       "      <th>0</th>\n",
       "      <td>A00C4B</td>\n",
       "      <td>surveil</td>\n",
       "    </tr>\n",
       "    <tr>\n",
       "      <th>1</th>\n",
       "      <td>A0AB21</td>\n",
       "      <td>surveil</td>\n",
       "    </tr>\n",
       "    <tr>\n",
       "      <th>2</th>\n",
       "      <td>A0AE77</td>\n",
       "      <td>surveil</td>\n",
       "    </tr>\n",
       "    <tr>\n",
       "      <th>3</th>\n",
       "      <td>A0AE7C</td>\n",
       "      <td>surveil</td>\n",
       "    </tr>\n",
       "    <tr>\n",
       "      <th>4</th>\n",
       "      <td>A0C462</td>\n",
       "      <td>surveil</td>\n",
       "    </tr>\n",
       "  </tbody>\n",
       "</table>\n",
       "</div>"
      ],
      "text/plain": [
       "   adshex    class\n",
       "0  A00C4B  surveil\n",
       "1  A0AB21  surveil\n",
       "2  A0AE77  surveil\n",
       "3  A0AE7C  surveil\n",
       "4  A0C462  surveil"
      ]
     },
     "execution_count": 3,
     "metadata": {},
     "output_type": "execute_result"
    }
   ],
   "source": [
    "# Read in your labels\n",
    "labeled = pd.read_csv(\"data/train.csv\")\n",
    "labeled.head()"
   ]
  },
  {
   "cell_type": "code",
   "execution_count": 4,
   "metadata": {},
   "outputs": [
    {
     "data": {
      "text/html": [
       "<div>\n",
       "<style scoped>\n",
       "    .dataframe tbody tr th:only-of-type {\n",
       "        vertical-align: middle;\n",
       "    }\n",
       "\n",
       "    .dataframe tbody tr th {\n",
       "        vertical-align: top;\n",
       "    }\n",
       "\n",
       "    .dataframe thead th {\n",
       "        text-align: right;\n",
       "    }\n",
       "</style>\n",
       "<table border=\"1\" class=\"dataframe\">\n",
       "  <thead>\n",
       "    <tr style=\"text-align: right;\">\n",
       "      <th></th>\n",
       "      <th>adshex</th>\n",
       "      <th>class</th>\n",
       "      <th>duration1</th>\n",
       "      <th>duration2</th>\n",
       "      <th>duration3</th>\n",
       "      <th>duration4</th>\n",
       "      <th>duration5</th>\n",
       "      <th>boxes1</th>\n",
       "      <th>boxes2</th>\n",
       "      <th>boxes3</th>\n",
       "      <th>boxes4</th>\n",
       "      <th>boxes5</th>\n",
       "      <th>speed1</th>\n",
       "      <th>speed2</th>\n",
       "      <th>speed3</th>\n",
       "      <th>speed4</th>\n",
       "      <th>speed5</th>\n",
       "      <th>altitude1</th>\n",
       "      <th>altitude2</th>\n",
       "      <th>altitude3</th>\n",
       "      <th>altitude4</th>\n",
       "      <th>altitude5</th>\n",
       "      <th>steer1</th>\n",
       "      <th>steer2</th>\n",
       "      <th>steer3</th>\n",
       "      <th>steer4</th>\n",
       "      <th>steer5</th>\n",
       "      <th>steer6</th>\n",
       "      <th>steer7</th>\n",
       "      <th>steer8</th>\n",
       "      <th>flights</th>\n",
       "      <th>squawk_1</th>\n",
       "      <th>observations</th>\n",
       "      <th>type</th>\n",
       "    </tr>\n",
       "  </thead>\n",
       "  <tbody>\n",
       "    <tr>\n",
       "      <th>0</th>\n",
       "      <td>A00C4B</td>\n",
       "      <td>surveil</td>\n",
       "      <td>0.450000</td>\n",
       "      <td>0.125000</td>\n",
       "      <td>0.025000</td>\n",
       "      <td>0.025000</td>\n",
       "      <td>0.375000</td>\n",
       "      <td>0.475000</td>\n",
       "      <td>0.250000</td>\n",
       "      <td>0.250000</td>\n",
       "      <td>0.025000</td>\n",
       "      <td>0.000000</td>\n",
       "      <td>0.337128</td>\n",
       "      <td>0.408286</td>\n",
       "      <td>0.185431</td>\n",
       "      <td>0.053026</td>\n",
       "      <td>0.016129</td>\n",
       "      <td>0.010226</td>\n",
       "      <td>0.168564</td>\n",
       "      <td>0.793274</td>\n",
       "      <td>0.027936</td>\n",
       "      <td>0.000000</td>\n",
       "      <td>0.151697</td>\n",
       "      <td>0.203774</td>\n",
       "      <td>0.303922</td>\n",
       "      <td>0.154544</td>\n",
       "      <td>0.033312</td>\n",
       "      <td>0.088024</td>\n",
       "      <td>0.010858</td>\n",
       "      <td>0.010753</td>\n",
       "      <td>40</td>\n",
       "      <td>4414</td>\n",
       "      <td>9486</td>\n",
       "      <td>C182</td>\n",
       "    </tr>\n",
       "    <tr>\n",
       "      <th>1</th>\n",
       "      <td>A0AB21</td>\n",
       "      <td>surveil</td>\n",
       "      <td>0.523810</td>\n",
       "      <td>0.000000</td>\n",
       "      <td>0.047619</td>\n",
       "      <td>0.095238</td>\n",
       "      <td>0.333333</td>\n",
       "      <td>0.714286</td>\n",
       "      <td>0.095238</td>\n",
       "      <td>0.047619</td>\n",
       "      <td>0.142857</td>\n",
       "      <td>0.000000</td>\n",
       "      <td>0.703329</td>\n",
       "      <td>0.144543</td>\n",
       "      <td>0.114201</td>\n",
       "      <td>0.026549</td>\n",
       "      <td>0.011378</td>\n",
       "      <td>0.007164</td>\n",
       "      <td>0.580700</td>\n",
       "      <td>0.374210</td>\n",
       "      <td>0.037927</td>\n",
       "      <td>0.000000</td>\n",
       "      <td>0.141593</td>\n",
       "      <td>0.152550</td>\n",
       "      <td>0.166456</td>\n",
       "      <td>0.309313</td>\n",
       "      <td>0.008007</td>\n",
       "      <td>0.078382</td>\n",
       "      <td>0.021492</td>\n",
       "      <td>0.064054</td>\n",
       "      <td>21</td>\n",
       "      <td>4414</td>\n",
       "      <td>2373</td>\n",
       "      <td>C182</td>\n",
       "    </tr>\n",
       "    <tr>\n",
       "      <th>2</th>\n",
       "      <td>A0AE77</td>\n",
       "      <td>surveil</td>\n",
       "      <td>0.262295</td>\n",
       "      <td>0.196721</td>\n",
       "      <td>0.081967</td>\n",
       "      <td>0.114754</td>\n",
       "      <td>0.344262</td>\n",
       "      <td>0.639344</td>\n",
       "      <td>0.295082</td>\n",
       "      <td>0.032787</td>\n",
       "      <td>0.032787</td>\n",
       "      <td>0.000000</td>\n",
       "      <td>0.703037</td>\n",
       "      <td>0.181262</td>\n",
       "      <td>0.066502</td>\n",
       "      <td>0.030956</td>\n",
       "      <td>0.018244</td>\n",
       "      <td>0.000000</td>\n",
       "      <td>0.000118</td>\n",
       "      <td>0.034134</td>\n",
       "      <td>0.923376</td>\n",
       "      <td>0.042373</td>\n",
       "      <td>0.121234</td>\n",
       "      <td>0.256709</td>\n",
       "      <td>0.279779</td>\n",
       "      <td>0.209981</td>\n",
       "      <td>0.009416</td>\n",
       "      <td>0.037900</td>\n",
       "      <td>0.011064</td>\n",
       "      <td>0.027778</td>\n",
       "      <td>61</td>\n",
       "      <td>4414</td>\n",
       "      <td>8496</td>\n",
       "      <td>T206</td>\n",
       "    </tr>\n",
       "    <tr>\n",
       "      <th>3</th>\n",
       "      <td>A0AE7C</td>\n",
       "      <td>surveil</td>\n",
       "      <td>0.521739</td>\n",
       "      <td>0.086957</td>\n",
       "      <td>0.043478</td>\n",
       "      <td>0.043478</td>\n",
       "      <td>0.304348</td>\n",
       "      <td>0.565217</td>\n",
       "      <td>0.043478</td>\n",
       "      <td>0.260870</td>\n",
       "      <td>0.000000</td>\n",
       "      <td>0.130435</td>\n",
       "      <td>0.129674</td>\n",
       "      <td>0.291088</td>\n",
       "      <td>0.384954</td>\n",
       "      <td>0.098159</td>\n",
       "      <td>0.096126</td>\n",
       "      <td>0.000000</td>\n",
       "      <td>0.004631</td>\n",
       "      <td>0.200723</td>\n",
       "      <td>0.722806</td>\n",
       "      <td>0.071840</td>\n",
       "      <td>0.159494</td>\n",
       "      <td>0.256636</td>\n",
       "      <td>0.238111</td>\n",
       "      <td>0.168305</td>\n",
       "      <td>0.023043</td>\n",
       "      <td>0.086073</td>\n",
       "      <td>0.014007</td>\n",
       "      <td>0.014797</td>\n",
       "      <td>23</td>\n",
       "      <td>4415</td>\n",
       "      <td>8853</td>\n",
       "      <td>T206</td>\n",
       "    </tr>\n",
       "    <tr>\n",
       "      <th>4</th>\n",
       "      <td>A0C462</td>\n",
       "      <td>surveil</td>\n",
       "      <td>0.250000</td>\n",
       "      <td>0.083333</td>\n",
       "      <td>0.500000</td>\n",
       "      <td>0.083333</td>\n",
       "      <td>0.083333</td>\n",
       "      <td>0.208333</td>\n",
       "      <td>0.041667</td>\n",
       "      <td>0.041667</td>\n",
       "      <td>0.500000</td>\n",
       "      <td>0.208333</td>\n",
       "      <td>0.040691</td>\n",
       "      <td>0.002466</td>\n",
       "      <td>0.041924</td>\n",
       "      <td>0.170160</td>\n",
       "      <td>0.744760</td>\n",
       "      <td>0.011097</td>\n",
       "      <td>0.007398</td>\n",
       "      <td>0.023428</td>\n",
       "      <td>0.090012</td>\n",
       "      <td>0.868064</td>\n",
       "      <td>0.019729</td>\n",
       "      <td>0.020962</td>\n",
       "      <td>0.199753</td>\n",
       "      <td>0.478422</td>\n",
       "      <td>0.119605</td>\n",
       "      <td>0.118372</td>\n",
       "      <td>0.006165</td>\n",
       "      <td>0.011097</td>\n",
       "      <td>24</td>\n",
       "      <td>1731</td>\n",
       "      <td>811</td>\n",
       "      <td>P8</td>\n",
       "    </tr>\n",
       "  </tbody>\n",
       "</table>\n",
       "</div>"
      ],
      "text/plain": [
       "   adshex    class  duration1  duration2  duration3  duration4  duration5  \\\n",
       "0  A00C4B  surveil   0.450000   0.125000   0.025000   0.025000   0.375000   \n",
       "1  A0AB21  surveil   0.523810   0.000000   0.047619   0.095238   0.333333   \n",
       "2  A0AE77  surveil   0.262295   0.196721   0.081967   0.114754   0.344262   \n",
       "3  A0AE7C  surveil   0.521739   0.086957   0.043478   0.043478   0.304348   \n",
       "4  A0C462  surveil   0.250000   0.083333   0.500000   0.083333   0.083333   \n",
       "\n",
       "     boxes1    boxes2    boxes3    boxes4    boxes5    speed1    speed2  \\\n",
       "0  0.475000  0.250000  0.250000  0.025000  0.000000  0.337128  0.408286   \n",
       "1  0.714286  0.095238  0.047619  0.142857  0.000000  0.703329  0.144543   \n",
       "2  0.639344  0.295082  0.032787  0.032787  0.000000  0.703037  0.181262   \n",
       "3  0.565217  0.043478  0.260870  0.000000  0.130435  0.129674  0.291088   \n",
       "4  0.208333  0.041667  0.041667  0.500000  0.208333  0.040691  0.002466   \n",
       "\n",
       "     speed3    speed4    speed5  altitude1  altitude2  altitude3  altitude4  \\\n",
       "0  0.185431  0.053026  0.016129   0.010226   0.168564   0.793274   0.027936   \n",
       "1  0.114201  0.026549  0.011378   0.007164   0.580700   0.374210   0.037927   \n",
       "2  0.066502  0.030956  0.018244   0.000000   0.000118   0.034134   0.923376   \n",
       "3  0.384954  0.098159  0.096126   0.000000   0.004631   0.200723   0.722806   \n",
       "4  0.041924  0.170160  0.744760   0.011097   0.007398   0.023428   0.090012   \n",
       "\n",
       "   altitude5    steer1    steer2    steer3    steer4    steer5    steer6  \\\n",
       "0   0.000000  0.151697  0.203774  0.303922  0.154544  0.033312  0.088024   \n",
       "1   0.000000  0.141593  0.152550  0.166456  0.309313  0.008007  0.078382   \n",
       "2   0.042373  0.121234  0.256709  0.279779  0.209981  0.009416  0.037900   \n",
       "3   0.071840  0.159494  0.256636  0.238111  0.168305  0.023043  0.086073   \n",
       "4   0.868064  0.019729  0.020962  0.199753  0.478422  0.119605  0.118372   \n",
       "\n",
       "     steer7    steer8  flights  squawk_1  observations  type  \n",
       "0  0.010858  0.010753       40      4414          9486  C182  \n",
       "1  0.021492  0.064054       21      4414          2373  C182  \n",
       "2  0.011064  0.027778       61      4414          8496  T206  \n",
       "3  0.014007  0.014797       23      4415          8853  T206  \n",
       "4  0.006165  0.011097       24      1731           811    P8  "
      ]
     },
     "execution_count": 4,
     "metadata": {},
     "output_type": "execute_result"
    }
   ],
   "source": [
    "df = labeled.merge(features, on='adshex')\n",
    "df.head()"
   ]
  },
  {
   "cell_type": "markdown",
   "metadata": {},
   "source": [
    "### No wait, merge them again!\n",
    "\n",
    "We have features for about 20,000 planes and labels for about 600 planes. When you merge, the planes you have features for but not labels for will disappear.\n",
    "\n",
    "We want to keep those in the dataframe so we can play detective with them later, and try to find surveillance planes using the features. When you merge, you should use `how='left'` or `how='right'` to keep unmatched columns from the left (or right) dataframe."
   ]
  },
  {
   "cell_type": "code",
   "execution_count": 5,
   "metadata": {},
   "outputs": [],
   "source": [
    "df = labeled.merge(features, on='adshex', how='right')"
   ]
  },
  {
   "cell_type": "markdown",
   "metadata": {},
   "source": [
    "Confirm you have 19,799 rows and 34 columns."
   ]
  },
  {
   "cell_type": "code",
   "execution_count": 6,
   "metadata": {},
   "outputs": [
    {
     "data": {
      "text/plain": [
       "(19799, 34)"
      ]
     },
     "execution_count": 6,
     "metadata": {},
     "output_type": "execute_result"
    }
   ],
   "source": [
    "df.shape"
   ]
  },
  {
   "cell_type": "markdown",
   "metadata": {},
   "source": [
    "# Cleaning up our data\n",
    "\n",
    "## Number-izing our labels\n",
    "\n",
    "Each row is a plane, and it's marked as either a surveillance plane or not. How many do we have in each category?"
   ]
  },
  {
   "cell_type": "code",
   "execution_count": 9,
   "metadata": {},
   "outputs": [
    {
     "data": {
      "text/plain": [
       "Index(['adshex', 'class', 'duration1', 'duration2', 'duration3', 'duration4',\n",
       "       'duration5', 'boxes1', 'boxes2', 'boxes3', 'boxes4', 'boxes5', 'speed1',\n",
       "       'speed2', 'speed3', 'speed4', 'speed5', 'altitude1', 'altitude2',\n",
       "       'altitude3', 'altitude4', 'altitude5', 'steer1', 'steer2', 'steer3',\n",
       "       'steer4', 'steer5', 'steer6', 'steer7', 'steer8', 'flights', 'squawk_1',\n",
       "       'observations', 'type'],\n",
       "      dtype='object')"
      ]
     },
     "execution_count": 9,
     "metadata": {},
     "output_type": "execute_result"
    }
   ],
   "source": [
    "df.columns"
   ]
  },
  {
   "cell_type": "code",
   "execution_count": 12,
   "metadata": {},
   "outputs": [
    {
     "data": {
      "text/plain": [
       "unknown    2528\n",
       "C172       1014\n",
       "SR22        799\n",
       "BE36        699\n",
       "C182        693\n",
       "           ... \n",
       "DHC1          1\n",
       "BE80          1\n",
       "VTUR          1\n",
       "ESCP          1\n",
       "BRAV          1\n",
       "Name: type, Length: 455, dtype: int64"
      ]
     },
     "execution_count": 12,
     "metadata": {},
     "output_type": "execute_result"
    }
   ],
   "source": [
    "df[\"class\"].value_co"
   ]
  },
  {
   "cell_type": "markdown",
   "metadata": {},
   "source": [
    "How do you feel about that split?\n",
    "\n",
    "**Prepare this column for machine learning.** What's wrong with it as `\"surveil\"` and `\"other\"`? Add a new column that we can use for classification."
   ]
  },
  {
   "cell_type": "code",
   "execution_count": null,
   "metadata": {},
   "outputs": [],
   "source": [
    "# Replace label with numbers\n",
    "df['label'] = df.label.replace({\n",
    "    'surveil': 1,\n",
    "    'other': 0\n",
    "})\n",
    "df.head()"
   ]
  },
  {
   "cell_type": "markdown",
   "metadata": {},
   "source": [
    "## Categorical variables\n",
    "\n",
    "Do we have any variables that count as categories? Yes, we do! ...but how many different categories does it have?\n",
    "\n",
    "* **Tip:** You can use `.unique()` or `.value_counts()` to count unique items, depending on what you're looking for"
   ]
  },
  {
   "cell_type": "code",
   "execution_count": null,
   "metadata": {},
   "outputs": [],
   "source": [
    "df.type.value_counts()"
   ]
  },
  {
   "cell_type": "markdown",
   "metadata": {},
   "source": [
    "Most of those types of plane only have one appearance, which means they wouldn't be very helpful identifiers in the final analysis. For example, if I only see one GLF5 and it's a surveillance plane, does that mean the next one I see is probably a surveillance plane? With such a small sample size, I have no idea!\n",
    "\n",
    "We have a few options\n",
    "\n",
    "1. Create a very large set of dummy variables out of all 133 types of planes\n",
    "2. Create `0`/`1` columns for common plane types and ignore the less common ones -  C182, T206, SR22\n",
    "3. Interview someone who knows something about planes and put these into a few broader categories\n",
    "4. Keep them as one column, just turn them into numbers - it doesn't make sense in terms of order, but if one or two plane types are very indicative of a surveillance plane the forest might pick it up\n",
    "\n",
    "Oddly enough, **the last one is a common approach.** Let's use it!\n",
    "\n",
    "If you want to convert a list of categories into numbers, an easy way is to use the `Categorical` data type."
   ]
  },
  {
   "cell_type": "code",
   "execution_count": null,
   "metadata": {},
   "outputs": [],
   "source": [
    "df.type = df.type.astype('category')\n",
    "df.type.head()"
   ]
  },
  {
   "cell_type": "markdown",
   "metadata": {},
   "source": [
    "It looks like a normal bunch of strings, but pandas is secretly using a number for each one! You can find the number with `.cat.codes`.\n",
    "\n",
    "**Use `df.type.cat.codes` to make a new columns called `type_code`.** "
   ]
  },
  {
   "cell_type": "code",
   "execution_count": null,
   "metadata": {},
   "outputs": [],
   "source": [
    "df['type_code'] = df.type.cat.codes\n",
    "df[['type', 'type_code']].head(10)"
   ]
  },
  {
   "cell_type": "markdown",
   "metadata": {},
   "source": [
    "We'll use `type_code` for machine learning since sklearn needs a number, and `type` for reading since we like text."
   ]
  },
  {
   "cell_type": "markdown",
   "metadata": {},
   "source": [
    "# Building our classifier\n",
    "\n",
    "When we're about to classify, we usually just drop our target column to build our inputs and outputs:\n",
    "\n",
    "```python\n",
    "X = train_df.drop(column='column_you_are_predicting')\n",
    "y = train_df.column_you_are_predicting\n",
    "```\n",
    "\n",
    "This time is a little different. First, we have unlabeled data in there! Use `.dropna()` to filter your training data so we only have labeled data.\n",
    "\n",
    "Confirm `train_df` has 597 rows and 35 columns."
   ]
  },
  {
   "cell_type": "code",
   "execution_count": null,
   "metadata": {},
   "outputs": [],
   "source": [
    "train_df = df.dropna()\n",
    "train_df.shape"
   ]
  },
  {
   "cell_type": "markdown",
   "metadata": {},
   "source": [
    "We also have a few extra columns that we aren't using for classification (like the text version of the type column and the transponder code). It's fine to drop multiple columns here that you aren't using, just a little bit messier. You also have to make sure you're dropping all the right ones.\n",
    "\n",
    "Do a `.head()` to double-check all of the columns you need to drop when creating your `X`."
   ]
  },
  {
   "cell_type": "code",
   "execution_count": null,
   "metadata": {},
   "outputs": [],
   "source": [
    "df.head(2)"
   ]
  },
  {
   "cell_type": "markdown",
   "metadata": {},
   "source": [
    "### Create your `X` and `y`.\n",
    "\n",
    "When you do `train_df.drop`, you'll want to remove more than just your `0`/`1` surveillance label. What other columns do you not want to use as input? Maybe some categories you converted into codes?"
   ]
  },
  {
   "cell_type": "code",
   "execution_count": null,
   "metadata": {},
   "outputs": [],
   "source": [
    "X = train_df.drop(columns=['adshex', 'type', 'label'])\n",
    "y = train_df.label"
   ]
  },
  {
   "cell_type": "markdown",
   "metadata": {},
   "source": [
    "Triple-check that `X` is a list of numeric features and and `y` is a numeric label."
   ]
  },
  {
   "cell_type": "code",
   "execution_count": null,
   "metadata": {},
   "outputs": [],
   "source": [
    "X.head(2)"
   ]
  },
  {
   "cell_type": "code",
   "execution_count": null,
   "metadata": {},
   "outputs": [],
   "source": [
    "y.head(2)"
   ]
  },
  {
   "cell_type": "markdown",
   "metadata": {},
   "source": [
    "### Split into test and train datasets\n",
    "\n",
    "We could be nice and lazy and use all our data for training, but it just isn't right! Taking a test using the exact same questions you studied is just cheating. Split your data into test and train.\n",
    "\n",
    "* **Tip:** Don't do this manually! There's a method for it in sklearn"
   ]
  },
  {
   "cell_type": "code",
   "execution_count": null,
   "metadata": {},
   "outputs": [],
   "source": [
    "from sklearn.model_selection import train_test_split\n",
    "\n",
    "X_train, X_test, y_train, y_test = train_test_split(X, y)"
   ]
  },
  {
   "cell_type": "markdown",
   "metadata": {},
   "source": [
    "# Classify using a logistic classifier\n",
    "\n",
    "## Train your classifier\n",
    "\n",
    "Build a `LogisticRegression` and fit it to your data, making sure you're training using only `X_train` and `y_train`.\n",
    "\n",
    "* **Tip:** You'll want to give `LogisticRegression` an extra argument of `max_iter=4000` - it means \"work a little harder than you expect,\" because otherwise it won't find an answer (by default it only has a `max_iter` of 100)"
   ]
  },
  {
   "cell_type": "code",
   "execution_count": null,
   "metadata": {},
   "outputs": [],
   "source": [
    "from sklearn.linear_model import LogisticRegression\n",
    "\n",
    "clf = LogisticRegression(C=1e9, solver='lbfgs', max_iter=4000)\n",
    "\n",
    "clf.fit(X_train, y_train)"
   ]
  },
  {
   "cell_type": "markdown",
   "metadata": {},
   "source": [
    "## Examine the coefficients\n",
    "\n",
    "What does it mean? What features is the classifier using? Do you care about the odds ratio? **What is even the point of this `LogisticRegression` thing?**"
   ]
  },
  {
   "cell_type": "code",
   "execution_count": null,
   "metadata": {},
   "outputs": [],
   "source": [
    "import numpy as np\n",
    "\n",
    "feature_names = X.columns\n",
    "coefficients = clf.coef_[0]\n",
    "\n",
    "pd.DataFrame({\n",
    "    'feature': feature_names,\n",
    "    'coefficient (log odds ratio)': coefficients,\n",
    "    'odds ratio': np.exp(coefficients)\n",
    "}).sort_values(by='odds ratio', ascending=False)"
   ]
  },
  {
   "cell_type": "markdown",
   "metadata": {},
   "source": [
    "## How well does our classifier perform?\n",
    "\n",
    "Let's take a look at the confusion matrix to see how well this classifier finds surveillance planes. Make sure you're using `y_test` and `X_test`, not the full dataset."
   ]
  },
  {
   "cell_type": "code",
   "execution_count": null,
   "metadata": {},
   "outputs": [],
   "source": [
    "from sklearn.metrics import confusion_matrix\n",
    "\n",
    "y_true = y_test\n",
    "y_pred = clf.predict(X_test)\n",
    "matrix = confusion_matrix(y_true, y_pred)\n",
    "\n",
    "label_names = pd.Series(['not surveil', 'surveil'])\n",
    "pd.DataFrame(matrix,\n",
    "     columns='Predicted ' + label_names,\n",
    "     index='Is ' + label_names)"
   ]
  },
  {
   "cell_type": "markdown",
   "metadata": {},
   "source": [
    "# Classify using a decision tree\n",
    "\n",
    "Now we'll use a decision tree. This is how you make one:\n",
    "\n",
    "```python\n",
    "from sklearn.tree import DecisionTreeClassifier\n",
    "\n",
    "clf = DecisionTreeClassifier()\n",
    "```\n",
    "\n",
    "But it's up to you to teach it what spy planes look like using your training data.\n",
    "\n",
    "If we use `max_depth=` to limit the depth of the tree, it will help us visualize it. For example, `max_depth=5` will only allow the tree to make five decisions.\n",
    "\n",
    "Make a decision tree and fit it to your data. Use a `max_depth=` of something between 2 to 5."
   ]
  },
  {
   "cell_type": "code",
   "execution_count": null,
   "metadata": {},
   "outputs": [],
   "source": [
    "from sklearn.tree import DecisionTreeClassifier\n",
    "\n",
    "clf = DecisionTreeClassifier(max_depth=5)\n",
    "clf.fit(X_train, y_train)"
   ]
  },
  {
   "cell_type": "markdown",
   "metadata": {},
   "source": [
    "## What are the important features?\n",
    "\n",
    "This code is slightly different than feature importance for logistic regression. It looks like this:\n",
    "\n",
    "```python\n",
    "feature_names = X.columns\n",
    "importances = clf.feature_importances_\n",
    "\n",
    "pd.DataFrame({\n",
    "    'feature': feature_names,\n",
    "    'feature importance': importances,\n",
    "}).sort_values(by='feature importance', ascending=False)\n",
    "```"
   ]
  },
  {
   "cell_type": "code",
   "execution_count": null,
   "metadata": {},
   "outputs": [],
   "source": [
    "feature_names = X.columns\n",
    "importances = clf.feature_importances_\n",
    "\n",
    "pd.DataFrame({\n",
    "    'feature': feature_names,\n",
    "    'feature importance': importances,\n",
    "}).sort_values(by='feature importance', ascending=False)"
   ]
  },
  {
   "cell_type": "markdown",
   "metadata": {},
   "source": [
    "### Understanding the output\n",
    "\n",
    "**Why is the feature importance difference than for logistic regression?**\n",
    "\n",
    "Also, if you don't specify a `max_depth`, that's a LOT of zeroes! It doesn't even use most of the features! **Why not?**"
   ]
  },
  {
   "cell_type": "code",
   "execution_count": null,
   "metadata": {},
   "outputs": [],
   "source": [
    "# Because it's a different algorithm\n",
    "# Because the features aren't important"
   ]
  },
  {
   "cell_type": "markdown",
   "metadata": {},
   "source": [
    "## How well does the tree perform?\n",
    "\n",
    "Display another confusion matrix with your new classifier."
   ]
  },
  {
   "cell_type": "code",
   "execution_count": null,
   "metadata": {},
   "outputs": [],
   "source": [
    "from sklearn.metrics import confusion_matrix\n",
    "\n",
    "y_true = y_test\n",
    "y_pred = clf.predict(X_test)\n",
    "matrix = confusion_matrix(y_true, y_pred)\n",
    "\n",
    "label_names = pd.Series(['not surveil', 'surveil'])\n",
    "pd.DataFrame(matrix,\n",
    "     columns='Predicted ' + label_names,\n",
    "     index='Is ' + label_names)"
   ]
  },
  {
   "cell_type": "markdown",
   "metadata": {},
   "source": [
    "## Visualize the tree\n",
    "\n",
    "You can use this code to visualize the tree. You might need to `brew install graphviz` and `pip install graphviz`.\n",
    "\n",
    "```python\n",
    "from sklearn import tree\n",
    "import graphviz\n",
    "\n",
    "label_names = ['not surveillance', 'surveillance']\n",
    "feature_names = X.columns\n",
    "\n",
    "dot_data = tree.export_graphviz(clf,\n",
    "                    feature_names=feature_names,  \n",
    "                    filled=True,\n",
    "                    class_names=label_names)  \n",
    "graph = graphviz.Source(dot_data)  \n",
    "graph\n",
    "```\n",
    "\n",
    "* **Tip:** You'll probably need to scroll sideways a bit"
   ]
  },
  {
   "cell_type": "code",
   "execution_count": null,
   "metadata": {},
   "outputs": [],
   "source": [
    "from sklearn import tree\n",
    "import graphviz\n",
    "\n",
    "label_names = ['not surveillance', 'surveillance']\n",
    "feature_names = X.columns\n",
    "\n",
    "dot_data = tree.export_graphviz(clf,\n",
    "                    feature_names=feature_names,  \n",
    "                    filled=True,\n",
    "                    class_names=label_names)  \n",
    "graph = graphviz.Source(dot_data)  \n",
    "graph"
   ]
  },
  {
   "cell_type": "markdown",
   "metadata": {},
   "source": [
    "# One more classifier: Random forest\n",
    "\n",
    "## Build and train your classifier\n",
    "\n",
    "We can build a random forest classifier like this:\n",
    "\n",
    "```python\n",
    "from sklearn.ensemble import RandomForestClassifier\n",
    "clf = RandomForestClassifier()\n",
    "```\n",
    "\n",
    "But you're in charge of fitting it to your training data!\n",
    "\n",
    "* **Tip:** You can also set `max_depth` here, but you won't be able to visualize the result.\n",
    "* **Tip:** Increase `n_estimators` to 100 to make a better classifier."
   ]
  },
  {
   "cell_type": "code",
   "execution_count": null,
   "metadata": {},
   "outputs": [],
   "source": [
    "from sklearn.ensemble import RandomForestClassifier\n",
    "\n",
    "clf = RandomForestClassifier(n_estimators=100, max_depth=5)\n",
    "clf.fit(X_train, y_train)"
   ]
  },
  {
   "cell_type": "markdown",
   "metadata": {},
   "source": [
    "## What are the important features?"
   ]
  },
  {
   "cell_type": "code",
   "execution_count": null,
   "metadata": {},
   "outputs": [],
   "source": [
    "feature_names = X.columns\n",
    "importances = clf.feature_importances_\n",
    "\n",
    "pd.DataFrame({\n",
    "    'feature': feature_names,\n",
    "    'feature importance': importances,\n",
    "}).sort_values(by='feature importance', ascending=False)"
   ]
  },
  {
   "cell_type": "markdown",
   "metadata": {},
   "source": [
    "### Understanding the output\n",
    "\n",
    "What is a random forest, and **why is the feature importance difference than for the decision tree?** Isn't a random forest just like a decision tree or something?"
   ]
  },
  {
   "cell_type": "code",
   "execution_count": null,
   "metadata": {},
   "outputs": [],
   "source": [
    "# It's a lot of decision trees that all work together, so it'll even try to use less useful features"
   ]
  },
  {
   "cell_type": "markdown",
   "metadata": {},
   "source": [
    "## How well does it perform?"
   ]
  },
  {
   "cell_type": "code",
   "execution_count": null,
   "metadata": {},
   "outputs": [],
   "source": [
    "from sklearn.metrics import confusion_matrix\n",
    "\n",
    "y_true = y_test\n",
    "y_pred = clf.predict(X_test)\n",
    "matrix = confusion_matrix(y_true, y_pred)\n",
    "\n",
    "label_names = pd.Series(['not surveil', 'surveil'])\n",
    "pd.DataFrame(matrix,\n",
    "     columns='Predicted ' + label_names,\n",
    "     index='Is ' + label_names)"
   ]
  },
  {
   "cell_type": "markdown",
   "metadata": {},
   "source": [
    "### How confident do you feel in the model?"
   ]
  },
  {
   "cell_type": "code",
   "execution_count": null,
   "metadata": {},
   "outputs": [],
   "source": [
    "# Very confident"
   ]
  },
  {
   "cell_type": "markdown",
   "metadata": {},
   "source": [
    "# Actually finding spy planes\n",
    "\n",
    "Now let's try ot actually find our spy planes\n",
    "\n",
    "## Retrain our model\n",
    "\n",
    "When we did test/train split, we trained our model with only a subset of our data, so we could test with the rest. Now that we're working in the \"real world\" we want to re-train it using not just `_train` and `_test` data, but instead **everything we have labels for.**"
   ]
  },
  {
   "cell_type": "code",
   "execution_count": null,
   "metadata": {},
   "outputs": [],
   "source": [
    "clf.fit(X, y)"
   ]
  },
  {
   "cell_type": "markdown",
   "metadata": {},
   "source": [
    "## Filter for planes we want to predict\n",
    "\n",
    "We have a dataframe of features that includes three types of planes:\n",
    "\n",
    "* Those that are labeled as surveillance planes\n",
    "* Those that are labeled as not surveillance\n",
    "* Those that aren't labeled\n",
    "\n",
    "Which do we want to predictions for? **Filter a new dataframe that's just those.**\n",
    "\n",
    "* **Tip:** Scroll up to see where you created your `train_df`, it's the opposite!"
   ]
  },
  {
   "cell_type": "code",
   "execution_count": null,
   "metadata": {},
   "outputs": [],
   "source": [
    "real_df = df[df.label.isna()]"
   ]
  },
  {
   "cell_type": "markdown",
   "metadata": {},
   "source": [
    "How many planes do you have in that list? **Confirm it's about 19,200.**"
   ]
  },
  {
   "cell_type": "code",
   "execution_count": null,
   "metadata": {},
   "outputs": [],
   "source": [
    "real_df.shape"
   ]
  },
  {
   "cell_type": "markdown",
   "metadata": {},
   "source": [
    "## Predicting \n",
    "\n",
    "Build your `X` - remember you need to drop a few columns - and use that to make a prediction for each plane.\n",
    "\n",
    "**Assign the prediction into the `predicted` column**.\n",
    "\n",
    "* **Tip:** Scroll up to see where you created your features for training, it's similar\n",
    "* **Tip:** pandas will yell at us about setting values on copies of a slice but it's fine"
   ]
  },
  {
   "cell_type": "code",
   "execution_count": null,
   "metadata": {},
   "outputs": [],
   "source": [
    "X = real_df.drop(columns=['label', 'adshex', 'type'])\n",
    "real_df['predicted'] = clf.predict(X)"
   ]
  },
  {
   "cell_type": "markdown",
   "metadata": {},
   "source": [
    "## How many planes did it predict to be surveillance planes?\n",
    "\n",
    "It should be roughly around 70-80 planes."
   ]
  },
  {
   "cell_type": "code",
   "execution_count": null,
   "metadata": {},
   "outputs": [],
   "source": [
    "real_df[real_df.predicted == 1].shape"
   ]
  },
  {
   "cell_type": "markdown",
   "metadata": {},
   "source": [
    "## But.. what about those other ones? The ones that are just below the threshold?\n",
    "\n",
    "The cutoff for a prediction of `1` is 50%, but since we have a lot of time we're interested in investigating the top 150. To get the probability for each row, you will use `clf.predict_proba` instead of `clf.predict`. Also, to get the predicted probability for the `1` category, you'll need to add `[:,1]` to the end of the\n",
    "\n",
    "```python\n",
    "clf.predict_proba(***your features***)[:,1]\n",
    "```\n",
    "\n",
    "**Create a new column called `predicted_prob` that is the chance that the plane is a surveillance plane.**\n",
    "\n",
    "* **Tip:** You dropped three columns when using `clf.predict`, but if you drop the same three you'll get an error now. There's now an extra column that you'll need to drop! What is it?"
   ]
  },
  {
   "cell_type": "code",
   "execution_count": null,
   "metadata": {},
   "outputs": [],
   "source": [
    "# Predict the probability it's in the class represented by '1'\n",
    "real_df['predicted_prob'] = clf.predict_proba(real_df.drop(columns=['label', 'adshex', 'type', 'predicted']))[:,1]\n",
    "real_df.head()"
   ]
  },
  {
   "cell_type": "markdown",
   "metadata": {},
   "source": [
    "### Get the top 200 predictions\n",
    "\n",
    "Take a look at what the probabilities look like, showing the top 200 planes that are **most likely to be surveillance planes.**\n",
    "\n",
    "Then save them to a file for later research."
   ]
  },
  {
   "cell_type": "code",
   "execution_count": null,
   "metadata": {},
   "outputs": [],
   "source": [
    "top_predictions = real_df.sort_values(by='predicted_prob', ascending=False).head(200)\n",
    "top_predictions"
   ]
  },
  {
   "cell_type": "code",
   "execution_count": null,
   "metadata": {},
   "outputs": [],
   "source": [
    "top_predictions.to_csv(\"planes-to-research.csv\")"
   ]
  },
  {
   "cell_type": "markdown",
   "metadata": {},
   "source": [
    "# Questions"
   ]
  },
  {
   "cell_type": "markdown",
   "metadata": {},
   "source": [
    "### Question 1\n",
    "\n",
    "What kind of machine learning are we doing here, and why are we doing it?"
   ]
  },
  {
   "cell_type": "code",
   "execution_count": null,
   "metadata": {},
   "outputs": [],
   "source": [
    "# Classification (or supervised learning) because we have labels"
   ]
  },
  {
   "cell_type": "markdown",
   "metadata": {},
   "source": [
    "### Question 2\n",
    "\n",
    "What are a few different ways you can deal with categorical data? Think about how we dealt with race in the reveal regression compared to how we dealt with type in this dataset."
   ]
  },
  {
   "cell_type": "code",
   "execution_count": null,
   "metadata": {},
   "outputs": [],
   "source": [
    "# You can one-hot encode them if you have few\n",
    "# You can just make them numbers if you have a lot"
   ]
  },
  {
   "cell_type": "markdown",
   "metadata": {},
   "source": [
    "### Question 3\n",
    "\n",
    "Every time we ran a machine learning algorithm on our dataset, we looked at feature importance.\n",
    "\n",
    "* When might it be important to explain what our model found important?\n",
    "* When might it not be important?"
   ]
  },
  {
   "cell_type": "code",
   "execution_count": null,
   "metadata": {},
   "outputs": [],
   "source": [
    "# If we're trying to understand what's going wrong or why it is/isn't working well\n",
    "# It's more important if we're presenting this to the public"
   ]
  },
  {
   "cell_type": "markdown",
   "metadata": {},
   "source": [
    "### Question 4\n",
    "\n",
    "Using words and not column names, describe what the machine learning algorithm found to be important when identifying surveillance planes."
   ]
  },
  {
   "cell_type": "code",
   "execution_count": null,
   "metadata": {},
   "outputs": [],
   "source": [
    "# Slow speed, constant turning vs going straight"
   ]
  },
  {
   "cell_type": "markdown",
   "metadata": {},
   "source": [
    "### Question 5\n",
    "\n",
    "Why did we use test/train split when it would have been more effective to give our model all of the data from the start?"
   ]
  },
  {
   "cell_type": "code",
   "execution_count": null,
   "metadata": {},
   "outputs": [],
   "source": [
    "# Shouldn't test on things that it's already seen"
   ]
  },
  {
   "cell_type": "markdown",
   "metadata": {},
   "source": [
    "### Question 6\n",
    "\n",
    "Why did we use a random forest instead of a decision tree or logistic regression? Was there something about the data?"
   ]
  },
  {
   "cell_type": "code",
   "execution_count": null,
   "metadata": {},
   "outputs": [],
   "source": [
    "# Because it did a better job!!!"
   ]
  },
  {
   "cell_type": "markdown",
   "metadata": {},
   "source": [
    "### Question 7\n",
    "\n",
    "Why did we use probability instead of just looking for planes with a predicted value of 1? It seems like we should have just trusted the algorithm, right?"
   ]
  },
  {
   "cell_type": "code",
   "execution_count": null,
   "metadata": {},
   "outputs": [],
   "source": [
    "# The 0/1 is an arbitrary cutoff of 50%, we're fine going lower because it gives us more to research"
   ]
  },
  {
   "cell_type": "markdown",
   "metadata": {},
   "source": [
    "### Question 8\n",
    "\n",
    "What if our random forest or input dataset were flawed? What would be the repercussions?"
   ]
  },
  {
   "cell_type": "code",
   "execution_count": null,
   "metadata": {},
   "outputs": [],
   "source": [
    "# We'd be investigating a bunch of planes that didn't need to be investigated"
   ]
  },
  {
   "cell_type": "markdown",
   "metadata": {},
   "source": [
    "### Question 9\n",
    "\n",
    "The government could claim that we're threatening national security by publishing this paper as well as publishing this code - now anyone could look for planes that are surveilling them. What do you think?"
   ]
  },
  {
   "cell_type": "code",
   "execution_count": null,
   "metadata": {},
   "outputs": [],
   "source": [
    "# Up to you!"
   ]
  },
  {
   "cell_type": "markdown",
   "metadata": {},
   "source": [
    "### Question 10\n",
    "\n",
    "We're using data from the past, but you can get real-time flight data from many services. Can you think of any uses for this algorithm using real-time instead of historical data?"
   ]
  },
  {
   "cell_type": "code",
   "execution_count": null,
   "metadata": {},
   "outputs": [],
   "source": [
    "# Finding out when something crazy is going on police-wise, maybe"
   ]
  },
  {
   "cell_type": "markdown",
   "metadata": {},
   "source": [
    "### Question 11\n",
    "\n",
    "This isn't a question, but if you look at `candidates.csv` and `candidates-annotates.csv` you can see how Buzzfeed did their research after finding a list of suspicious planes."
   ]
  },
  {
   "cell_type": "code",
   "execution_count": null,
   "metadata": {},
   "outputs": [],
   "source": [
    "# k"
   ]
  }
 ],
 "metadata": {
  "kernelspec": {
   "display_name": "Python 3",
   "language": "python",
   "name": "python3"
  },
  "language_info": {
   "codemirror_mode": {
    "name": "ipython",
    "version": 3
   },
   "file_extension": ".py",
   "mimetype": "text/x-python",
   "name": "python",
   "nbconvert_exporter": "python",
   "pygments_lexer": "ipython3",
   "version": "3.6.6"
  }
 },
 "nbformat": 4,
 "nbformat_minor": 2
}
