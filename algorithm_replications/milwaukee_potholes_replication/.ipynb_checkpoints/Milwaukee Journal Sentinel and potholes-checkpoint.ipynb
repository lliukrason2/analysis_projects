{
 "cells": [
  {
   "cell_type": "markdown",
   "metadata": {},
   "source": [
    "# The Milwaukee Journal Sentinel and Life Expectancy\n",
    "\n",
    "**Story:** [Race gap found in pothole patching](https://web.archive.org/web/20081223094123/http://www.jsonline.com/news/milwaukee/32580034.html)\n",
    "\n",
    "**Author:** Keegan Kyle, Grant Smith and Ben Poston, Milwaukee Journal Sentinel\n",
    "\n",
    "**Topics:** Census Data, Geocoding, QGIS Spatial Joins, Linear Regression\n",
    "\n",
    "**Datasets**\n",
    "\n",
    "* Pothole fill data from the Milwaukee [Department of Public Works](https://city.milwaukee.gov/dpw)\n",
    "    - **2007-2010 POTHOLES.xls**: Pothole data, July 2007-July 2010\n",
    "    - **2010-2013 POTHOLES.xls**: Pothole data, July 2010-July 2013\n",
    "    - **2013-2017 POTHOLES.xls**: Pothole data, July 2013-July 2017\n",
    "* **tl_2013_55_tract.zip:** 2013 census tract boundaries from the [US Census Bureau](https://www.census.gov/cgi-bin/geo/shapefiles/index.php)\n",
    "* **addresses_geocoded.csv:** a large selection of addresses in Milwaukee, geocoded by [Geocod.io](https://geocod.io)\n",
    "* **R12216099_SL140.csv:** ACS 2013 5-year, tract level, from [Social Explorer](https://www.socialexplorer.com)\n",
    "    - Table A04001, Hispanic or Latino by Race\n",
    "    - `R12216099.txt` is the data dictionary\n",
    "* **R12216226_SL140.csv** ACS 2013 5-year, tract level, from [Social Explorer](https://www.socialexplorer.com)\n",
    "    - Table A14006, 2013 Median Household income\n",
    "    - Data dictionary [is here](https://www.socialexplorer.com/data/ACS2013_5yr/metadata/?ds=SE&table=A14006)\n",
    "\n",
    "# What's the story?\n",
    "\n",
    "We're trying to figure out if the **time it took Milwaukee to fill pot holes** is related to the racial makeup of a census tract."
   ]
  },
  {
   "cell_type": "markdown",
   "metadata": {},
   "source": [
    "# Do your imports\n",
    "\n",
    "You'll also want to set pandas to display **up to 200 columns at a time**."
   ]
  },
  {
   "cell_type": "code",
   "execution_count": null,
   "metadata": {},
   "outputs": [],
   "source": [
    "import pandas as pd\n",
    "import numpy as np\n",
    "import matplotlib.pyplot as plt\n",
    "import seaborn as sns\n",
    "%matplotlib inline"
   ]
  },
  {
   "cell_type": "markdown",
   "metadata": {},
   "source": [
    "# Create a dataframe of potholes from only 2013\n",
    "\n",
    "The delivered multiple files to us, so we'll need to filter them down to just 2013.\n",
    "\n",
    "**Editorial decision:** When we say \"a pothole from 2013,\" what exactly do we mean?"
   ]
  },
  {
   "cell_type": "code",
   "execution_count": null,
   "metadata": {},
   "outputs": [],
   "source": []
  },
  {
   "cell_type": "code",
   "execution_count": null,
   "metadata": {},
   "outputs": [],
   "source": []
  },
  {
   "cell_type": "markdown",
   "metadata": {},
   "source": [
    "## What is the maximum and minimum `EnterDt` and `ResolvDt`?\n",
    "\n",
    "Use this to confirm that your date range is what you expected. If it isn't, take a look at what might have happened with your dataset.\n",
    "\n",
    "* **Tip:** Missing data might be a headache"
   ]
  },
  {
   "cell_type": "code",
   "execution_count": null,
   "metadata": {},
   "outputs": [],
   "source": []
  },
  {
   "cell_type": "code",
   "execution_count": null,
   "metadata": {},
   "outputs": [],
   "source": []
  },
  {
   "cell_type": "markdown",
   "metadata": {},
   "source": [
    "## Calculate how long it took to fill potholes in 2013\n",
    "\n",
    "Save it into a new column.\n",
    "\n",
    "* **Tip:** It's possible to subtract two dates"
   ]
  },
  {
   "cell_type": "code",
   "execution_count": null,
   "metadata": {},
   "outputs": [],
   "source": []
  },
  {
   "cell_type": "markdown",
   "metadata": {},
   "source": [
    "### Hrm, well, I think we need that difference to be an integer\n",
    "\n",
    "If your new column isn't an integer, create _another_ column that is.\n",
    "\n",
    "* **Tip:** Just like you might use `.str.strip()` on a string column, if your column is a datetime you can use `.dt.components` to get the days, hours, minutes, seconds, etc of the column."
   ]
  },
  {
   "cell_type": "code",
   "execution_count": null,
   "metadata": {},
   "outputs": [],
   "source": []
  },
  {
   "cell_type": "markdown",
   "metadata": {},
   "source": [
    "# Read in your race-related census data\n",
    "\n",
    "* **Tip:** This will probably give you an error the first time you try, because the Census Bureau doesn't think about the rest of the world."
   ]
  },
  {
   "cell_type": "code",
   "execution_count": null,
   "metadata": {},
   "outputs": [],
   "source": []
  },
  {
   "cell_type": "markdown",
   "metadata": {},
   "source": [
    "## Create new dataframe describing the racial makeup of each census tract\n",
    "\n",
    "Each row should contain:\n",
    "\n",
    "* The census tract number\n",
    "* The percent of the population that is White\n",
    "* The percent of the population that is Black\n",
    "* The percent of the population that is Hispanic\n",
    "* The percent of the population that is a minority (non-White)\n",
    "\n",
    "You can either calculate and filter on the original shapefile, or create a whole new dataframe.\n",
    "\n",
    "* **Tip:** You'll want to read the data dictionary for the Census data.\n",
    "* **Tip:** The column names don't exactly match the data dictionary, but you can figure it out\n",
    "* **Tip:** If you aren't sure which column is the actual census tract number, you can keep multiples for now"
   ]
  },
  {
   "cell_type": "code",
   "execution_count": null,
   "metadata": {},
   "outputs": [],
   "source": []
  },
  {
   "cell_type": "markdown",
   "metadata": {},
   "source": [
    "# Combine this census data with your street address data\n",
    "\n",
    "Create a new dataframe my merging your street addresses with your census data. It would be nice to marge on census tract code, but your addresses data does **not** have a census tract on them! **This is where things get a little crazy.**\n",
    "\n",
    "### Adding census tract codes to addresses\n",
    "\n",
    "We went ahead and geocoded many addresses in Milwaukee to create `addresses_geocoded.csv`. You'll need to add a new column using QGIS that adds in the address's census tract.\n",
    "\n",
    "The QGIS command **Join attributes by location** will merge datasets that geographically overlap each other. If you have one layer that's a list of lat/lon points and one layer that's a shapefile with census tract information, **join attributes by location** can create a new layer of lat/lon points that also has census tract information.\n",
    "\n",
    "You can export the result by right clicking the layer, selecting **Export As** and making sure the output is another CSV.\n",
    "\n",
    "### Merging\n",
    "\n",
    "Now you'll have three datasets:\n",
    "\n",
    "* Addresses and pothole fill ties\n",
    "* Census data according with census tract codes\n",
    "* Addresses with census tract codes\n",
    "\n",
    "You'll need to merge them each together to create one whole dataset."
   ]
  },
  {
   "cell_type": "code",
   "execution_count": null,
   "metadata": {},
   "outputs": [],
   "source": []
  },
  {
   "cell_type": "markdown",
   "metadata": {},
   "source": [
    "# Linear regression\n",
    "\n",
    "Using the `statsmodels` package, run a linear regression to find the coefficient relating percent minority and pothole fill times."
   ]
  },
  {
   "cell_type": "code",
   "execution_count": null,
   "metadata": {},
   "outputs": [],
   "source": []
  },
  {
   "cell_type": "markdown",
   "metadata": {},
   "source": [
    "Translate that into the form **\"every X percentage point change in the minority population translates to a Y change in pot hole fill times\"**"
   ]
  },
  {
   "cell_type": "code",
   "execution_count": null,
   "metadata": {},
   "outputs": [],
   "source": []
  },
  {
   "cell_type": "markdown",
   "metadata": {},
   "source": [
    "Do you feel comfortable that someone can understand that? Can you reword it to make it more easily understandable?"
   ]
  },
  {
   "cell_type": "code",
   "execution_count": null,
   "metadata": {},
   "outputs": [],
   "source": []
  },
  {
   "cell_type": "markdown",
   "metadata": {},
   "source": [
    "# Other methods of explanation\n",
    "\n",
    "While the regression is technically correct, it just does't sound very nice. What other options do we have?\n",
    "\n",
    "## What's the average wait to fill a pothole between majority-white and majority-minority census tracts?\n",
    "\n",
    "You'll need to create a new column to specify whether the census tract is majority White or not."
   ]
  },
  {
   "cell_type": "code",
   "execution_count": null,
   "metadata": {},
   "outputs": [],
   "source": []
  },
  {
   "cell_type": "markdown",
   "metadata": {},
   "source": [
    "## How does the average wait time to fill a pothole change as more minorities live in an area?\n",
    "\n",
    "* **Tip:** Use `.cut` or `.qcut` to split the percent minority (or white) into a few different bins."
   ]
  },
  {
   "cell_type": "code",
   "execution_count": null,
   "metadata": {},
   "outputs": [],
   "source": []
  },
  {
   "cell_type": "markdown",
   "metadata": {},
   "source": [
    "# Bonus: Income\n",
    "\n",
    "`R12216226_SL140.csv` contains income data for each census tract in Wisconsin. Add it into your analysis.\n",
    "\n",
    "If you run a multivariate regression also including income, how does this change things?"
   ]
  },
  {
   "cell_type": "code",
   "execution_count": null,
   "metadata": {},
   "outputs": [],
   "source": []
  }
 ],
 "metadata": {
  "kernelspec": {
   "display_name": "Python 3",
   "language": "python",
   "name": "python3"
  },
  "language_info": {
   "codemirror_mode": {
    "name": "ipython",
    "version": 3
   },
   "file_extension": ".py",
   "mimetype": "text/x-python",
   "name": "python",
   "nbconvert_exporter": "python",
   "pygments_lexer": "ipython3",
   "version": "3.6.7"
  }
 },
 "nbformat": 4,
 "nbformat_minor": 2
}
