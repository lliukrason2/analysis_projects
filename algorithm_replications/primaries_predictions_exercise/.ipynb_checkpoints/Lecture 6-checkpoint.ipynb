{
 "cells": [
  {
   "cell_type": "code",
   "execution_count": 1,
   "metadata": {},
   "outputs": [],
   "source": [
    "import pandas as pd\n",
    "import numpy as np\n",
    "import matplotlib.pyplot as plt\n",
    "import seaborn as sns\n",
    "%matplotlib inline"
   ]
  },
  {
   "cell_type": "markdown",
   "metadata": {},
   "source": [
    "### Import the data \"primaries.csv\""
   ]
  },
  {
   "cell_type": "code",
   "execution_count": 2,
   "metadata": {},
   "outputs": [
    {
     "name": "stdout",
     "output_type": "stream",
     "text": [
      "<class 'pandas.core.frame.DataFrame'>\n",
      "RangeIndex: 2450 entries, 0 to 2449\n",
      "Data columns (total 50 columns):\n",
      "fips                   2450 non-null int64\n",
      "county_name            2450 non-null object\n",
      "state_postal           2450 non-null object\n",
      "region                 2450 non-null object\n",
      "election_date          2450 non-null object\n",
      "racetype               2450 non-null object\n",
      "tvotes                 2450 non-null int64\n",
      "clinton                2450 non-null int64\n",
      "obama                  2450 non-null int64\n",
      "edwards                2450 non-null int64\n",
      "margin                 2450 non-null float64\n",
      "winner                 2430 non-null object\n",
      "POP05_SQMI             2449 non-null float64\n",
      "popUnder30_00          2449 non-null float64\n",
      "pop65up_00             2449 non-null float64\n",
      "presVote04             2449 non-null float64\n",
      "kerry04                2449 non-null float64\n",
      "Bush04                 2449 non-null float64\n",
      "pres04margin           2449 non-null float64\n",
      "pres04winner           2449 non-null object\n",
      "pop06                  2449 non-null float64\n",
      "pop00                  2449 non-null float64\n",
      "hisp06                 2449 non-null float64\n",
      "white06                2449 non-null float64\n",
      "black06                2449 non-null float64\n",
      "indian06               2449 non-null float64\n",
      "asian06                2449 non-null float64\n",
      "hawaii06               2449 non-null float64\n",
      "mixed06                2449 non-null float64\n",
      "pct_less_30k           2448 non-null float64\n",
      "pct_more_100k          2448 non-null float64\n",
      "pct_hs_grad            2448 non-null float64\n",
      "pct_labor_force        2448 non-null float64\n",
      "pct_homeowner          2448 non-null float64\n",
      "unempFeb07             2441 non-null float64\n",
      "unempFeb08             2441 non-null float64\n",
      "unempChg               2441 non-null float64\n",
      "pctUnins00             2448 non-null float64\n",
      "subForPctHomes         2442 non-null float64\n",
      "poverty05              2450 non-null float64\n",
      "median_hhi05           2450 non-null int64\n",
      "Catholic               2447 non-null float64\n",
      "So.Bapt.Conv           2447 non-null float64\n",
      "Un.Methodist           2447 non-null float64\n",
      "E.L.C.A.               2447 non-null float64\n",
      "Construction           2447 non-null float64\n",
      "Manufacturing          2447 non-null float64\n",
      "FinancialActivities    2449 non-null float64\n",
      "GoodsProducing         2445 non-null float64\n",
      "ServiceProviding       2448 non-null float64\n",
      "dtypes: float64(37), int64(6), object(7)\n",
      "memory usage: 957.1+ KB\n"
     ]
    }
   ],
   "source": [
    "df = pd.read_csv('primaries.csv')\n",
    "df.head()\n",
    "df.info()"
   ]
  },
  {
   "cell_type": "markdown",
   "metadata": {},
   "source": [
    "#### Primary\n",
    "\n",
    "The data we are going to use is not from the criminal justice system.\n",
    "\n",
    "It comes from the election in 2008, and specifically during the primaries. It was developed by Amanda Cox, a visual journalist at The New York Times. Here is her graphic:https://archive.nytimes.com/www.nytimes.com/imagepages/2008/04/16/us/20080416_OBAMA_GRAPHIC.html Have a look. The tree is like a game of 20 questions. If you want to know how a county will vote, answer a few questions. What is the racial makeup? What about the HS graduation rate? Where in the country is the county?\n",
    "\n",
    "The questions are in the form of a tree -- as we have seen before, computer scientists grow their trees upside down. As you answer questions, you eventually end up at a leaf and a decision is made. Note that it's not perfect -- there is some uncertainty in the decision."
   ]
  },
  {
   "cell_type": "markdown",
   "metadata": {},
   "source": [
    "### Check how NY state has voted on the primaries"
   ]
  },
  {
   "cell_type": "code",
   "execution_count": 3,
   "metadata": {},
   "outputs": [],
   "source": [
    "ny_vote = df[df.state_postal == 'NY'][['county_name', 'winner']]"
   ]
  },
  {
   "cell_type": "markdown",
   "metadata": {},
   "source": [
    "### Calculate how many counties voted for Clinton & how many for Obama?"
   ]
  },
  {
   "cell_type": "code",
   "execution_count": 4,
   "metadata": {},
   "outputs": [
    {
     "data": {
      "text/plain": [
       "clinton    1369\n",
       "obama      1061\n",
       "Name: winner, dtype: int64"
      ]
     },
     "execution_count": 4,
     "metadata": {},
     "output_type": "execute_result"
    }
   ],
   "source": [
    "df.winner.value_counts()"
   ]
  },
  {
   "cell_type": "markdown",
   "metadata": {},
   "source": [
    "### Now, given all the features in df, which ones \"explain\" county-level voting patterns? \n",
    "\n",
    "Hint: Consider whether or not a majority of the county voted for Bush in 2004"
   ]
  },
  {
   "cell_type": "code",
   "execution_count": 5,
   "metadata": {},
   "outputs": [
    {
     "data": {
      "text/plain": [
       "pres04winner  winner \n",
       "bush          clinton    1178\n",
       "              obama       760\n",
       "kerry         obama       300\n",
       "              clinton     191\n",
       "Name: winner, dtype: int64"
      ]
     },
     "execution_count": 5,
     "metadata": {},
     "output_type": "execute_result"
    }
   ],
   "source": [
    "df.groupby([ 'pres04winner']).winner.value_counts()"
   ]
  },
  {
   "cell_type": "code",
   "execution_count": 6,
   "metadata": {},
   "outputs": [
    {
     "data": {
      "text/plain": [
       "0.6109979633401222"
      ]
     },
     "execution_count": 6,
     "metadata": {},
     "output_type": "execute_result"
    }
   ],
   "source": [
    "#Out of all the counties that voted for Kerry, how many voted for Obama\n",
    "300/(300+191)"
   ]
  },
  {
   "cell_type": "code",
   "execution_count": 7,
   "metadata": {},
   "outputs": [
    {
     "data": {
      "text/plain": [
       "0.6078431372549019"
      ]
     },
     "execution_count": 7,
     "metadata": {},
     "output_type": "execute_result"
    }
   ],
   "source": [
    "# Out of all the counties that voted for Bush, how many voted for Clinton\n",
    "1178/(1178+760)"
   ]
  },
  {
   "cell_type": "markdown",
   "metadata": {},
   "source": [
    "Therefore, Obama won about 61% of those counties not voting for Bush in 04, while Clinton won about 60% of those counties that did vote for Bush in 04. \n",
    "\n",
    "#### Now, consider the simple prediction rule: If a county voted for Bush in 04, we’ll say that they will vote for Clinton in the primary, while if a county was mostly in favor of Kerry in 04, we’ll assign the win to Obama.\n",
    "Is it a good rule?\n",
    "\n",
    "Of course this rule isn’t perfect; by applying it, we would make 191 + 760 = 951 mistakes (out of 2,430 counties, or about 39% error); we refer to these mistakes as having been \"misclassified\" by our simple rule. So the question becomes, can we do any better? What do you think?"
   ]
  },
  {
   "cell_type": "markdown",
   "metadata": {},
   "source": [
    "### Use decision tree to predict who is going to win the election"
   ]
  },
  {
   "cell_type": "markdown",
   "metadata": {},
   "source": [
    "1. Start by selecting all the necessary columns\n",
    "2. Convert categorical data (the `region` column) to numeric values\n",
    "3. Separate data into train and test\n",
    "4. Build a decision tree\n",
    "5. Fit the data"
   ]
  },
  {
   "cell_type": "code",
   "execution_count": 8,
   "metadata": {},
   "outputs": [],
   "source": [
    "from sklearn import tree\n",
    "from sklearn.model_selection import train_test_split\n",
    "\n",
    "df.dropna(inplace=True)\n",
    "X = df[['region','pres04margin', 'black06','hisp06','white06',\n",
    "            'pct_less_30k','pct_more_100k','pct_hs_grad','pct_homeowner','POP05_SQMI']]\n",
    "X = pd.get_dummies(X,drop_first=True)\n",
    "\n",
    "# Split dataset into training set and test set\n",
    "X_train, X_test, y_train, y_test = train_test_split(X, df.winner, test_size=0.3) # 70% training and 30% test\n",
    "\n",
    "clf = tree.DecisionTreeClassifier(max_depth = 3)\n",
    "clf = clf.fit(X_train, y_train)"
   ]
  },
  {
   "cell_type": "markdown",
   "metadata": {},
   "source": [
    "#### Evaluate your model: calculate the accuracy ( the fraction of predictions our model got right)"
   ]
  },
  {
   "cell_type": "code",
   "execution_count": 9,
   "metadata": {},
   "outputs": [
    {
     "name": "stdout",
     "output_type": "stream",
     "text": [
      "Accuracy: 0.7040110650069157\n"
     ]
    }
   ],
   "source": [
    "#Import scikit-learn metrics module for accuracy calculation\n",
    "from sklearn import metrics\n",
    "\n",
    "y_pred=clf.predict(X_test)\n",
    "\n",
    "# Model Accuracy, how often is the classifier correct?\n",
    "print(\"Accuracy:\",metrics.accuracy_score(y_test, y_pred))"
   ]
  },
  {
   "cell_type": "markdown",
   "metadata": {},
   "source": [
    "#### Predict the winner in the county of your choice"
   ]
  },
  {
   "cell_type": "code",
   "execution_count": 10,
   "metadata": {},
   "outputs": [
    {
     "data": {
      "text/plain": [
       "array(['obama'], dtype=object)"
      ]
     },
     "execution_count": 10,
     "metadata": {},
     "output_type": "execute_result"
    }
   ],
   "source": [
    "clf.predict([[0.049557,527.0,2885.0,61063.0,0.3996,0.058778,0.8549,0.7277,38.7,0,0,1]])"
   ]
  },
  {
   "cell_type": "markdown",
   "metadata": {},
   "source": [
    "### Plot the results\n",
    "We're going to use graphviz to plot the results.\n",
    "You can install it by running `!brew install graphviz`\n"
   ]
  },
  {
   "cell_type": "code",
   "execution_count": 11,
   "metadata": {
    "scrolled": false
   },
   "outputs": [],
   "source": [
    "from sklearn.tree import export_graphviz\n",
    "# get column names\n",
    "feature_names = list(X.columns)\n",
    "#create a graphviz object\n",
    "tree_dot = export_graphviz(clf, out_file=None, feature_names=feature_names)\n"
   ]
  },
  {
   "cell_type": "code",
   "execution_count": null,
   "metadata": {},
   "outputs": [
    {
     "name": "stdout",
     "output_type": "stream",
     "text": [
      "Updating Homebrew...\n",
      "\u001b[34m==>\u001b[0m \u001b[1mAuto-updated Homebrew!\u001b[0m\n",
      "Updated 1 tap (homebrew/core).\n",
      "\u001b[34m==>\u001b[0m \u001b[1mNew Formulae\u001b[0m\n",
      "asyncplusplus       cpl                 libspng             tflint\n",
      "aws-google-auth     dhall-bash          libvncserver        whalebrew\n",
      "bazelisk            gatsby-cli          netlify-cli\n",
      "benthos             grpc-swift          quickjs\n",
      "borgmatic           libsixel            shadowenv\n",
      "\u001b[34m==>\u001b[0m \u001b[1mUpdated Formulae\u001b[0m\n",
      "\u001b[1mffmpeg \u001b[32m✔\u001b[0m\u001b[0m                                 libphonenumber\n",
      "\u001b[1mfreetype \u001b[32m✔\u001b[0m\u001b[0m                               libpq\n",
      "\u001b[1mghostscript \u001b[32m✔\u001b[0m\u001b[0m                            libpqxx\n",
      "\u001b[1mglib \u001b[32m✔\u001b[0m\u001b[0m                                   libqalculate\n",
      "\u001b[1mlibbluray \u001b[32m✔\u001b[0m\u001b[0m                              libraw\n",
      "\u001b[1mlibvpx \u001b[32m✔\u001b[0m\u001b[0m                                 libsbol\n",
      "\u001b[1mocrmypdf \u001b[32m✔\u001b[0m\u001b[0m                               libshout\n",
      "\u001b[1mpyenv \u001b[32m✔\u001b[0m\u001b[0m                                  libstatgrab\n",
      "\u001b[1mpython \u001b[32m✔\u001b[0m\u001b[0m                                 libsvm\n",
      "\u001b[1mqt \u001b[32m✔\u001b[0m\u001b[0m                                     libtensorflow\n",
      "\u001b[1msqlite \u001b[32m✔\u001b[0m\u001b[0m                                 libtrace\n",
      "\u001b[1mtesseract \u001b[32m✔\u001b[0m\u001b[0m                              libuninameslist\n",
      "\u001b[1mwebp \u001b[32m✔\u001b[0m\u001b[0m                                   libuv\n",
      "\u001b[1mx265 \u001b[32m✔\u001b[0m\u001b[0m                                   libvirt\n",
      "abcm2ps                                  libxkbcommon\n",
      "abcmidi                                  libxmlsec1\n",
      "ack                                      libzdb\n",
      "acpica                                   link-grammar\n",
      "agda                                     linkerd\n",
      "aliyun-cli                               liquibase\n",
      "amazon-ecs-cli                           lldpd\n",
      "ammonite-repl                            llvm@7\n",
      "angular-cli                              lmdb\n",
      "ansible                                  lmod\n",
      "apache-arrow                             lnav\n",
      "apache-arrow-glib                        log4cplus\n",
      "apache-flink                             log4shib\n",
      "aptly                                    logcheck\n",
      "arangodb                                 logstash\n",
      "argon2                                   lolcat\n",
      "armadillo                                lxc\n",
      "armor                                    lynis\n",
      "asdf                                     mackup\n",
      "ask-cli                                  macvim\n",
      "astrometry-net                           magic-wormhole\n",
      "atlantis                                 mame\n",
      "atomist-cli                              mariadb-connector-c\n",
      "ats2-postiats                            mbedtls\n",
      "avfs                                     mdbook\n",
      "aws-okta                                 media-info\n",
      "aws-sdk-cpp                              mednafen\n",
      "awscli                                   memcached\n",
      "azure-cli                                mercurial\n",
      "babel                                    mesa\n",
      "babeld                                   meson\n",
      "bacula-fd                                mesos\n",
      "balena-cli                               metabase\n",
      "basex                                    mg\n",
      "bazel                                    micronaut\n",
      "beanstalkd                               mill\n",
      "bgpstream                                minio\n",
      "binaryen                                 minio-mc\n",
      "bindfs                                   mkl-dnn\n",
      "bit                                      mlkit\n",
      "bitrise                                  modules\n",
      "black                                    monero\n",
      "blink1                                   monit\n",
      "botan                                    monkeysphere\n",
      "breezy                                   mono\n",
      "bro                                      mpg123\n",
      "btfs                                     mpop\n",
      "bundletool                               msitools\n",
      "byacc                                    msmtp\n",
      "bzip2                                    mujs\n",
      "bzt                                      mypy\n",
      "c-blosc                                  mysql\n",
      "caddy                                    mysql++\n",
      "cake                                     n\n",
      "calcurse                                 nats-server\n",
      "calicoctl                                ncdc\n",
      "cargo-completion                         nco\n",
      "cash-cli                                 ncview\n",
      "catimg                                   neo4j\n",
      "ccache                                   neovim\n",
      "certbot                                  netdata\n",
      "cfengine                                 newt\n",
      "cfn-lint                                 nginx\n",
      "cfssl                                    nickle\n",
      "chakra                                   nim\n",
      "chamber                                  node\n",
      "chipmunk                                 nsd\n",
      "chronograf                               nss\n",
      "cimg                                     ocrad\n",
      "circleci                                 odpi\n",
      "citus                                    omega\n",
      "cjdns                                    omniorb\n",
      "ckan                                     onscripter\n",
      "clhep                                    opa\n",
      "click                                    opam\n",
      "clojure                                  open-jtalk\n",
      "cmake                                    open-mesh\n",
      "cockroach                                open-zwave\n",
      "cocoapods                                openapi-generator\n",
      "cointop                                  openconnect\n",
      "collectd                                 openhmd\n",
      "conan                                    openkim-models\n",
      "consul                                   openrct2\n",
      "contentful-cli                           opensaml\n",
      "convox                                   openshift-cli\n",
      "cppcheck                                 openttd\n",
      "cpprestsdk                               operator-sdk\n",
      "creduce                                  osc\n",
      "cromwell                                 overmind\n",
      "csound                                   oxipng\n",
      "csvq                                     paket\n",
      "curl                                     parallel\n",
      "curl-openssl                             passenger\n",
      "cxxopts                                  pazpar2\n",
      "cython                                   pcsc-lite\n",
      "dbhash                                   pdfcrack\n",
      "dbus                                     pdftoipe\n",
      "dcd                                      pdns\n",
      "deark                                    pdnsrec\n",
      "debianutils                              perltidy\n",
      "deno                                     petsc\n",
      "dependency-check                         petsc-complex\n",
      "devspace                                 pgbouncer\n",
      "di                                       php\n",
      "diamond                                  php@7.2\n",
      "diff-pdf                                 phpmd\n",
      "diffoscope                               phpunit\n",
      "digdag                                   picard-tools\n",
      "direvent                                 pinboard-notes-backup\n",
      "dita-ot                                  pioneer\n",
      "django-completion                        pius\n",
      "dmd                                      pjproject\n",
      "dnsperf                                  plantuml\n",
      "dnstwist                                 platformio\n",
      "docfx                                    platypus\n",
      "docker                                   pmd\n",
      "docker-completion                        png++\n",
      "docker-credential-helper                 poco\n",
      "docker-credential-helper-ecr             podofo\n",
      "doctl                                    pony-stable\n",
      "docutils                                 ponyc\n",
      "doitlive                                 poppler\n",
      "dosbox                                   postgresql\n",
      "dovecot                                  presto\n",
      "dpkg                                     prips\n",
      "drone-cli                                proftpd\n",
      "dscanner                                 proguard\n",
      "dub                                      proj\n",
      "duck                                     prometheus\n",
      "dynamips                                 proteinortho\n",
      "ecasound                                 protobuf-c\n",
      "eccodes                                  protoc-gen-go\n",
      "eiffelstudio                             prototool\n",
      "ejabberd                                 pspg\n",
      "elixir                                   pulumi\n",
      "enchant                                  pushpin\n",
      "entr                                     putty\n",
      "eprover                                  pyinstaller\n",
      "epubcheck                                pyside\n",
      "erlang                                   python-markdown\n",
      "erlang@21                                pyvim\n",
      "eslint                                   qmmp\n",
      "esptool                                  r\n",
      "ethereum                                 rabbitmq\n",
      "ettercap                                 radare2\n",
      "exa                                      re-flex\n",
      "exercism                                 re2\n",
      "exiftool                                 redex\n",
      "exploitdb                                redo\n",
      "faas-cli                                 remarshal\n",
      "fasttext                                 repo\n",
      "faudio                                   reposurgeon\n",
      "feh                                      rex\n",
      "ffmpeg@2.8                               rke\n",
      "ffsend                                   robot-framework\n",
      "fio                                      rpm2cpio\n",
      "firebase-cli                             rsyslog\n",
      "flake8                                   rush\n",
      "flashrom                                 rust\n",
      "flawfinder                               s3-backer\n",
      "fluxctl                                  s3ql\n",
      "fn                                       s6\n",
      "folly                                    sbcl\n",
      "fonttools                                scamper\n",
      "fossil                                   scdoc\n",
      "freediameter                             sceptre\n",
      "freetds                                  schismtracker\n",
      "frpc                                     scons\n",
      "frps                                     sdl2_image\n",
      "frugal                                   sdlpop\n",
      "fs-uae                                   ser2net\n",
      "fselect                                  serverless\n",
      "fuse-emulator                            sf-pwgen\n",
      "gammaray                                 sflowtool\n",
      "gammu                                    shc\n",
      "gauche                                   shibboleth-sp\n",
      "gcsfuse                                  ship\n",
      "gdal                                     sip\n",
      "gdcm                                     sispmctl\n",
      "gearsystem                               skaffold\n",
      "gegl                                     snakemake\n",
      "geoserver                                solr\n",
      "get_iplayer                              sonar-scanner\n",
      "ghex                                     sonarqube\n",
      "ghr                                      sourcekitten\n",
      "gibo                                     spice-protocol\n",
      "ginac                                    spin\n",
      "git-absorb                               sqldiff\n",
      "git-cinnabar                             sqlite-analyzer\n",
      "git-lfs                                  sqlmap\n",
      "gitg                                     squid\n",
      "gitlab-runner                            sshguard\n",
      "gitmoji                                  stanford-parser\n",
      "gkrellm                                  stella\n",
      "glances                                  stern\n",
      "glide                                    stress-ng\n",
      "glooctl                                  stuntman\n",
      "gmic                                     subnetcalc\n",
      "gmsh                                     subversion\n",
      "gnu-apl                                  suil\n",
      "gnunet                                   supervisor\n",
      "go                                       svgo\n",
      "go@1.11                                  swagger-codegen\n",
      "godep                                    swagger-codegen@2\n",
      "golang-migrate                           swaks\n",
      "goreleaser                               swi-prolog\n",
      "gpgme                                    swift-protobuf\n",
      "gphoto2                                  swiftlint\n",
      "gradle                                   syncthing\n",
      "grails                                   sysdig\n",
      "grakn                                    tag\n",
      "graph-tool                               telegraf\n",
      "graphicsmagick                           termtosvg\n",
      "groonga                                  terraform\n",
      "grpc                                     terraformer\n",
      "grpcurl                                  terragrunt\n",
      "gsoap                                    terrahub\n",
      "gspell                                   thors-serializer\n",
      "gst-plugins-bad                          tintin\n",
      "gst-plugins-good                         tmpreaper\n",
      "gtk+3                                    todoman\n",
      "guile                                    tokei\n",
      "gxml                                     tomcat\n",
      "h3                                       tomcat-native\n",
      "hadolint                                 tomcat@8\n",
      "hamlib                                   topgrade\n",
      "haproxy                                  tox\n",
      "haskell-stack                            translate-toolkit\n",
      "hcloud                                   triton\n",
      "helmfile                                 ttyd\n",
      "helmsman                                 twine-pypi\n",
      "hidapi                                   txr\n",
      "hlint                                    typescript\n",
      "hqx                                      u-boot-tools\n",
      "hub                                      ucloud\n",
      "hugo                                     udunits\n",
      "hwloc                                    uftp\n",
      "hypre                                    ungit\n",
      "i2pd                                     unrtf\n",
      "i386-elf-gcc                             unzip\n",
      "i386-elf-gdb                             urh\n",
      "i386-elf-grub                            uriparser\n",
      "idris                                    userspace-rcu\n",
      "igv                                      uwsgi\n",
      "imagemagick                              v8\n",
      "imagemagick@6                            vala\n",
      "imageoptim-cli                           valgrind\n",
      "influxdb                                 vapoursynth\n",
      "internetarchive                          vapoursynth-imwri\n",
      "ios-webkit-debug-proxy                   vapoursynth-ocr\n",
      "ipython                                  vapoursynth-sub\n",
      "iso-codes                                vault\n",
      "isync                                    vegeta\n",
      "janet                                    vert.x\n",
      "jboss-forge                              vfuse\n",
      "jenkins                                  vim\n",
      "jenkins-lts                              vim@7.4\n",
      "jetty                                    vips\n",
      "jfrog-cli-go                             vitetris\n",
      "jhead                                    vmtouch\n",
      "jinja2-cli                               vnstat\n",
      "jlog                                     volatility\n",
      "jsdoc3                                   vttest\n",
      "jsoncpp                                  vulkan-headers\n",
      "juju                                     wandio\n",
      "k3d                                      watson\n",
      "kim-api                                  wcslib\n",
      "klavaro                                  webdis\n",
      "kobalt                                   webpack\n",
      "kore                                     websocat\n",
      "kotlin                                   webtorrent-cli\n",
      "ktlint                                   wgetpaste\n",
      "kube-aws                                 whois\n",
      "kubeless                                 widelands\n",
      "kubeprod                                 wireguard-tools\n",
      "kubernetes-cli                           wireshark\n",
      "kubernetes-helm                          wolfssl\n",
      "kubeseal                                 wtf\n",
      "kustomize                                wxmac\n",
      "kvazaar                                  wxmaxima\n",
      "landscaper                               x11vnc\n",
      "languagetool                             x3270\n",
      "lean-cli                                 xa\n",
      "lego                                     xapian\n",
      "lf                                       xml-tooling-c\n",
      "lgogdownloader                           xonsh\n",
      "libbi                                    xorriso\n",
      "libcouchbase                             xsimd\n",
      "libdazzle                                yapf\n",
      "libebml                                  yarn\n",
      "libev                                    yash\n",
      "libfabric                                yaz\n",
      "libgphoto2                               ydcv\n",
      "libgweather                              ykpers\n",
      "libhdhomerun                             youtube-dl\n",
      "libheif                                  zabbix\n",
      "libiscsi                                 zabbix-cli\n",
      "libjson-rpc-cpp                          zeromq\n",
      "liblcf                                   znc\n",
      "libmaa                                   zshdb\n",
      "libmatroska                              zstd\n",
      "libopenmpt                               zurl\n",
      "\u001b[34m==>\u001b[0m \u001b[1mDeleted Formulae\u001b[0m\n",
      "libggz              libguess            lysp                smlnj\n"
     ]
    },
    {
     "name": "stdout",
     "output_type": "stream",
     "text": [
      "\n",
      "\u001b[32m==>\u001b[0m \u001b[1mInstalling dependencies for graphviz: \u001b[32mfreetype\u001b[39m, \u001b[32mwebp\u001b[39m, \u001b[32mgd\u001b[39m, \u001b[32msqlite\u001b[39m, \u001b[32mpython\u001b[39m, \u001b[32mglib\u001b[39m, \u001b[32mjasper\u001b[39m, \u001b[32mnetpbm\u001b[39m, \u001b[32mgts\u001b[39m and \u001b[32mlibtool\u001b[39m\u001b[0m\n",
      "\u001b[32m==>\u001b[0m \u001b[1mInstalling graphviz dependency: \u001b[32mfreetype\u001b[39m\u001b[0m\n",
      "\u001b[34m==>\u001b[0m \u001b[1mDownloading https://homebrew.bintray.com/bottles/freetype-2.10.1.sierra.bott\u001b[0m\n",
      "\u001b[34m==>\u001b[0m \u001b[1mDownloading from https://akamai.bintray.com/28/282171a01965ae9dfd2d7955459a7\u001b[0m\n",
      "######################################################################## 100.0%\n",
      "\u001b[34m==>\u001b[0m \u001b[1mPouring freetype-2.10.1.sierra.bottle.tar.gz\u001b[0m\n",
      "🍺  /usr/local/Cellar/freetype/2.10.1: 61 files, 2.2MB\n",
      "\u001b[32m==>\u001b[0m \u001b[1mInstalling graphviz dependency: \u001b[32mwebp\u001b[39m\u001b[0m\n",
      "\u001b[34m==>\u001b[0m \u001b[1mDownloading https://homebrew.bintray.com/bottles/webp-1.0.3.sierra.bottle.ta\u001b[0m\n",
      "\u001b[34m==>\u001b[0m \u001b[1mDownloading from https://akamai.bintray.com/dd/dd8d1b68c16db0a5861f4be748456\u001b[0m\n",
      "######################################################################## 100.0%\n",
      "\u001b[34m==>\u001b[0m \u001b[1mPouring webp-1.0.3.sierra.bottle.tar.gz\u001b[0m\n",
      "🍺  /usr/local/Cellar/webp/1.0.3: 39 files, 2.1MB\n",
      "\u001b[32m==>\u001b[0m \u001b[1mInstalling graphviz dependency: \u001b[32mgd\u001b[39m\u001b[0m\n",
      "\u001b[34m==>\u001b[0m \u001b[1mDownloading https://homebrew.bintray.com/bottles/gd-2.2.5.sierra.bottle.tar.\u001b[0m\n",
      "\u001b[34m==>\u001b[0m \u001b[1mDownloading from https://akamai.bintray.com/7a/7a2e1ebc9ef51896aa895a94c9e5c\u001b[0m\n",
      "######################################################################## 100.0%\n",
      "\u001b[34m==>\u001b[0m \u001b[1mPouring gd-2.2.5.sierra.bottle.tar.gz\u001b[0m\n",
      "🍺  /usr/local/Cellar/gd/2.2.5: 35 files, 1.1MB\n",
      "\u001b[32m==>\u001b[0m \u001b[1mInstalling graphviz dependency: \u001b[32msqlite\u001b[39m\u001b[0m\n",
      "\u001b[34m==>\u001b[0m \u001b[1mDownloading https://homebrew.bintray.com/bottles/sqlite-3.29.0.sierra.bottle\u001b[0m\n",
      "\u001b[34m==>\u001b[0m \u001b[1mDownloading from https://akamai.bintray.com/59/59e5e8d4abca99d7f3162bf8079be\u001b[0m\n",
      "######################################################################## 100.0%\n",
      "\u001b[34m==>\u001b[0m \u001b[1mPouring sqlite-3.29.0.sierra.bottle.tar.gz\u001b[0m\n",
      "\u001b[34m==>\u001b[0m \u001b[1mCaveats\u001b[0m\n",
      "sqlite is keg-only, which means it was not symlinked into /usr/local,\n",
      "because macOS provides an older sqlite3.\n",
      "\n",
      "If you need to have sqlite first in your PATH run:\n",
      "  echo 'export PATH=\"/usr/local/opt/sqlite/bin:$PATH\"' >> ~/.bash_profile\n",
      "\n",
      "For compilers to find sqlite you may need to set:\n",
      "  export LDFLAGS=\"-L/usr/local/opt/sqlite/lib\"\n",
      "  export CPPFLAGS=\"-I/usr/local/opt/sqlite/include\"\n",
      "\n",
      "For pkg-config to find sqlite you may need to set:\n",
      "  export PKG_CONFIG_PATH=\"/usr/local/opt/sqlite/lib/pkgconfig\"\n",
      "\n",
      "\u001b[34m==>\u001b[0m \u001b[1mSummary\u001b[0m\n",
      "🍺  /usr/local/Cellar/sqlite/3.29.0: 11 files, 3.9MB\n",
      "\u001b[32m==>\u001b[0m \u001b[1mInstalling graphviz dependency: \u001b[32mpython\u001b[39m\u001b[0m\n",
      "\u001b[34m==>\u001b[0m \u001b[1mDownloading https://homebrew.bintray.com/bottles/python-3.7.4.sierra.bottle.\u001b[0m\n",
      "\u001b[34m==>\u001b[0m \u001b[1mDownloading from https://akamai.bintray.com/09/0988e978adec8522525a8e620a5ec\u001b[0m\n",
      "######################################################################## 100.0%\n",
      "\u001b[34m==>\u001b[0m \u001b[1mPouring python-3.7.4.sierra.bottle.tar.gz\u001b[0m\n",
      "\u001b[31mError:\u001b[0m The `brew link` step did not complete successfully\n",
      "The formula built, but is not symlinked into /usr/local\n",
      "Could not symlink bin/2to3\n",
      "Target /usr/local/bin/2to3\n",
      "already exists. You may want to remove it:\n",
      "  rm '/usr/local/bin/2to3'\n",
      "\n",
      "To force the link and overwrite all conflicting files:\n",
      "  brew link --overwrite python\n",
      "\n",
      "To list all files that would be deleted:\n",
      "  brew link --overwrite --dry-run python\n",
      "\n",
      "Possible conflicting files are:\n",
      "/usr/local/bin/2to3 -> /Library/Frameworks/Python.framework/Versions/3.6/bin/2to3\n",
      "/usr/local/bin/2to3-3.7 -> /Library/Frameworks/Python.framework/Versions/3.7/bin/2to3-3.7\n",
      "/usr/local/bin/idle3 -> /Library/Frameworks/Python.framework/Versions/3.6/bin/idle3\n",
      "/usr/local/bin/idle3.7 -> /Library/Frameworks/Python.framework/Versions/3.7/bin/idle3.7\n",
      "/usr/local/bin/pydoc3 -> /Library/Frameworks/Python.framework/Versions/3.6/bin/pydoc3\n",
      "/usr/local/bin/pydoc3.7 -> /Library/Frameworks/Python.framework/Versions/3.7/bin/pydoc3.7\n",
      "/usr/local/bin/python3 -> /Library/Frameworks/Python.framework/Versions/3.6/bin/python3\n",
      "/usr/local/bin/python3-config -> /Library/Frameworks/Python.framework/Versions/3.6/bin/python3-config\n",
      "/usr/local/bin/python3.7 -> /Library/Frameworks/Python.framework/Versions/3.7/bin/python3.7\n",
      "/usr/local/bin/python3.7-config -> /Library/Frameworks/Python.framework/Versions/3.7/bin/python3.7-config\n",
      "/usr/local/bin/python3.7m -> /Library/Frameworks/Python.framework/Versions/3.7/bin/python3.7m\n",
      "/usr/local/bin/python3.7m-config -> /Library/Frameworks/Python.framework/Versions/3.7/bin/python3.7m-config\n",
      "/usr/local/bin/pyvenv -> /Library/Frameworks/Python.framework/Versions/3.6/bin/pyvenv\n",
      "/usr/local/bin/pyvenv-3.7 -> /Library/Frameworks/Python.framework/Versions/3.7/bin/pyvenv-3.7\n",
      "\u001b[34m==>\u001b[0m \u001b[1m/usr/local/Cellar/python/3.7.4/bin/python3 -s setup.py --no-user-cfg install\u001b[0m\n",
      "\u001b[34m==>\u001b[0m \u001b[1m/usr/local/Cellar/python/3.7.4/bin/python3 -s setup.py --no-user-cfg install\u001b[0m\n",
      "\u001b[34m==>\u001b[0m \u001b[1m/usr/local/Cellar/python/3.7.4/bin/python3 -s setup.py --no-user-cfg install\u001b[0m\n",
      "\u001b[34m==>\u001b[0m \u001b[1mCaveats\u001b[0m\n",
      "Python has been installed as\n",
      "  /usr/local/bin/python3\n",
      "\n",
      "Unversioned symlinks `python`, `python-config`, `pip` etc. pointing to\n",
      "`python3`, `python3-config`, `pip3` etc., respectively, have been installed into\n",
      "  /usr/local/opt/python/libexec/bin\n",
      "\n",
      "If you need Homebrew's Python 2.7 run\n",
      "  brew install python@2\n",
      "\n",
      "You can install Python packages with\n",
      "  pip3 install <package>\n",
      "They will install into the site-package directory\n",
      "  /usr/local/lib/python3.7/site-packages\n",
      "\n",
      "See: https://docs.brew.sh/Homebrew-and-Python\n",
      "\u001b[34m==>\u001b[0m \u001b[1mSummary\u001b[0m\n",
      "🍺  /usr/local/Cellar/python/3.7.4: 3,865 files, 60MB\n",
      "\u001b[32m==>\u001b[0m \u001b[1mInstalling graphviz dependency: \u001b[32mglib\u001b[39m\u001b[0m\n",
      "\u001b[34m==>\u001b[0m \u001b[1mDownloading https://homebrew.bintray.com/bottles/glib-2.60.6.sierra.bottle.t\u001b[0m\n",
      "\u001b[34m==>\u001b[0m \u001b[1mDownloading from https://akamai.bintray.com/a7/a7e5f7d3736fd08041edafe031fc1\u001b[0m\n",
      "######################################################################## 100.0%\n",
      "\u001b[34m==>\u001b[0m \u001b[1mPouring glib-2.60.6.sierra.bottle.tar.gz\u001b[0m\n"
     ]
    }
   ],
   "source": [
    "!brew install graphviz\n",
    "# vizualize the graphiz object\n",
    "import graphviz\n",
    "graphviz.Source(tree_dot)"
   ]
  },
  {
   "cell_type": "markdown",
   "metadata": {},
   "source": [
    "### Create a Random Forest to predict the winner of the elections\n"
   ]
  },
  {
   "cell_type": "code",
   "execution_count": 96,
   "metadata": {},
   "outputs": [
    {
     "data": {
      "text/plain": [
       "RandomForestClassifier(bootstrap=True, class_weight=None, criterion='gini',\n",
       "            max_depth=None, max_features='auto', max_leaf_nodes=None,\n",
       "            min_impurity_decrease=0.0, min_impurity_split=None,\n",
       "            min_samples_leaf=1, min_samples_split=2,\n",
       "            min_weight_fraction_leaf=0.0, n_estimators=100, n_jobs=1,\n",
       "            oob_score=False, random_state=None, verbose=0,\n",
       "            warm_start=False)"
      ]
     },
     "execution_count": 96,
     "metadata": {},
     "output_type": "execute_result"
    }
   ],
   "source": [
    "from sklearn.ensemble import RandomForestClassifier\n",
    "clf_forest=RandomForestClassifier(n_estimators=100, max_depth = 10)\n",
    "clf_forest.fit(X_train,y_train)"
   ]
  },
  {
   "cell_type": "markdown",
   "metadata": {},
   "source": [
    "#### Find the accuracy of the model"
   ]
  },
  {
   "cell_type": "code",
   "execution_count": 97,
   "metadata": {},
   "outputs": [
    {
     "name": "stdout",
     "output_type": "stream",
     "text": [
      "Accuracy: 0.7704011065006916\n"
     ]
    }
   ],
   "source": [
    "y_pred=clf_forest.predict(X_test)\n",
    "\n",
    "# Model Accuracy, how often is the classifier correct?\n",
    "print(\"Accuracy:\",metrics.accuracy_score(y_test, y_pred))"
   ]
  },
  {
   "cell_type": "markdown",
   "metadata": {},
   "source": [
    "#### Find out which features were the most important\n"
   ]
  },
  {
   "cell_type": "code",
   "execution_count": 98,
   "metadata": {},
   "outputs": [
    {
     "data": {
      "text/plain": [
       "black06          0.183504\n",
       "pct_hs_grad      0.128134\n",
       "pct_less_30k     0.100362\n",
       "pres04margin     0.096324\n",
       "hisp06           0.094567\n",
       "white06          0.094048\n",
       "POP05_SQMI       0.084448\n",
       "pct_more_100k    0.082741\n",
       "pct_homeowner    0.078541\n",
       "region_W         0.028385\n",
       "region_S         0.019810\n",
       "region_NE        0.009135\n",
       "dtype: float64"
      ]
     },
     "execution_count": 98,
     "metadata": {},
     "output_type": "execute_result"
    }
   ],
   "source": [
    "\n",
    "feature_imp = pd.Series(clf_forest.feature_importances_,index=list(X_train.columns)).sort_values(ascending=False)\n",
    "feature_imp"
   ]
  },
  {
   "cell_type": "markdown",
   "metadata": {},
   "source": [
    "#### Will the accuracy improve if remove the `region` field?"
   ]
  },
  {
   "cell_type": "code",
   "execution_count": 124,
   "metadata": {},
   "outputs": [
    {
     "data": {
      "text/plain": [
       "RandomForestClassifier(bootstrap=True, class_weight=None, criterion='gini',\n",
       "            max_depth=None, max_features='auto', max_leaf_nodes=None,\n",
       "            min_impurity_decrease=0.0, min_impurity_split=None,\n",
       "            min_samples_leaf=1, min_samples_split=2,\n",
       "            min_weight_fraction_leaf=0.0, n_estimators=100, n_jobs=1,\n",
       "            oob_score=False, random_state=None, verbose=0,\n",
       "            warm_start=False)"
      ]
     },
     "execution_count": 124,
     "metadata": {},
     "output_type": "execute_result"
    }
   ],
   "source": [
    "X = df[['pres04margin', 'black06','hisp06','white06',\n",
    "            'pct_less_30k','pct_hs_grad','POP05_SQMI']]\n",
    "X = pd.get_dummies(X,drop_first=True)\n",
    "\n",
    "# Split dataset into training set and test set\n",
    "X_train, X_test, y_train, y_test = train_test_split(X, df.winner, test_size=0.3) # 70% training and 30% test\n",
    "clf_forest=RandomForestClassifier(n_estimators=100)\n",
    "clf_forest.fit(X_train,y_train)"
   ]
  },
  {
   "cell_type": "code",
   "execution_count": 125,
   "metadata": {},
   "outputs": [
    {
     "name": "stdout",
     "output_type": "stream",
     "text": [
      "Accuracy: 0.7676348547717843\n"
     ]
    }
   ],
   "source": [
    "y_pred=clf_forest.predict(X_test)\n",
    "\n",
    "# Model Accuracy, how often is the classifier correct?\n",
    "print(\"Accuracy:\",metrics.accuracy_score(y_test, y_pred))"
   ]
  },
  {
   "cell_type": "code",
   "execution_count": null,
   "metadata": {},
   "outputs": [],
   "source": []
  }
 ],
 "metadata": {
  "kernelspec": {
   "display_name": "Python 3",
   "language": "python",
   "name": "python3"
  },
  "language_info": {
   "codemirror_mode": {
    "name": "ipython",
    "version": 3
   },
   "file_extension": ".py",
   "mimetype": "text/x-python",
   "name": "python",
   "nbconvert_exporter": "python",
   "pygments_lexer": "ipython3",
   "version": "3.7.1"
  }
 },
 "nbformat": 4,
 "nbformat_minor": 2
}
