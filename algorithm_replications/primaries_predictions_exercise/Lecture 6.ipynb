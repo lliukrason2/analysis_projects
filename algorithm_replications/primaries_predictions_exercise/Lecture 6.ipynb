{
 "cells": [
  {
   "cell_type": "code",
   "execution_count": 1,
   "metadata": {},
   "outputs": [],
   "source": [
    "import pandas as pd\n",
    "import numpy as np\n",
    "import matplotlib.pyplot as plt\n",
    "import seaborn as sns\n",
    "%matplotlib inline"
   ]
  },
  {
   "cell_type": "markdown",
   "metadata": {},
   "source": [
    "### Import the data \"primaries.csv\""
   ]
  },
  {
   "cell_type": "code",
   "execution_count": 14,
   "metadata": {},
   "outputs": [
    {
     "name": "stdout",
     "output_type": "stream",
     "text": [
      "<class 'pandas.core.frame.DataFrame'>\n",
      "RangeIndex: 2450 entries, 0 to 2449\n",
      "Data columns (total 50 columns):\n",
      "fips                   2450 non-null int64\n",
      "county_name            2450 non-null object\n",
      "state_postal           2450 non-null object\n",
      "region                 2450 non-null object\n",
      "election_date          2450 non-null object\n",
      "racetype               2450 non-null object\n",
      "tvotes                 2450 non-null int64\n",
      "clinton                2450 non-null int64\n",
      "obama                  2450 non-null int64\n",
      "edwards                2450 non-null int64\n",
      "margin                 2450 non-null float64\n",
      "winner                 2430 non-null object\n",
      "POP05_SQMI             2449 non-null float64\n",
      "popUnder30_00          2449 non-null float64\n",
      "pop65up_00             2449 non-null float64\n",
      "presVote04             2449 non-null float64\n",
      "kerry04                2449 non-null float64\n",
      "Bush04                 2449 non-null float64\n",
      "pres04margin           2449 non-null float64\n",
      "pres04winner           2449 non-null object\n",
      "pop06                  2449 non-null float64\n",
      "pop00                  2449 non-null float64\n",
      "hisp06                 2449 non-null float64\n",
      "white06                2449 non-null float64\n",
      "black06                2449 non-null float64\n",
      "indian06               2449 non-null float64\n",
      "asian06                2449 non-null float64\n",
      "hawaii06               2449 non-null float64\n",
      "mixed06                2449 non-null float64\n",
      "pct_less_30k           2448 non-null float64\n",
      "pct_more_100k          2448 non-null float64\n",
      "pct_hs_grad            2448 non-null float64\n",
      "pct_labor_force        2448 non-null float64\n",
      "pct_homeowner          2448 non-null float64\n",
      "unempFeb07             2441 non-null float64\n",
      "unempFeb08             2441 non-null float64\n",
      "unempChg               2441 non-null float64\n",
      "pctUnins00             2448 non-null float64\n",
      "subForPctHomes         2442 non-null float64\n",
      "poverty05              2450 non-null float64\n",
      "median_hhi05           2450 non-null int64\n",
      "Catholic               2447 non-null float64\n",
      "So.Bapt.Conv           2447 non-null float64\n",
      "Un.Methodist           2447 non-null float64\n",
      "E.L.C.A.               2447 non-null float64\n",
      "Construction           2447 non-null float64\n",
      "Manufacturing          2447 non-null float64\n",
      "FinancialActivities    2449 non-null float64\n",
      "GoodsProducing         2445 non-null float64\n",
      "ServiceProviding       2448 non-null float64\n",
      "dtypes: float64(37), int64(6), object(7)\n",
      "memory usage: 957.1+ KB\n"
     ]
    }
   ],
   "source": [
    "df = pd.read_csv('primaries.csv')\n",
    "df.head()\n",
    "df.info()"
   ]
  },
  {
   "cell_type": "markdown",
   "metadata": {},
   "source": [
    "#### Primary\n",
    "\n",
    "The data we are going to use is not from the criminal justice system.\n",
    "\n",
    "It comes from the election in 2008, and specifically during the primaries. It was developed by Amanda Cox, a visual journalist at The New York Times. Here is her graphic:https://archive.nytimes.com/www.nytimes.com/imagepages/2008/04/16/us/20080416_OBAMA_GRAPHIC.html Have a look. The tree is like a game of 20 questions. If you want to know how a county will vote, answer a few questions. What is the racial makeup? What about the HS graduation rate? Where in the country is the county?\n",
    "\n",
    "The questions are in the form of a tree -- as we have seen before, computer scientists grow their trees upside down. As you answer questions, you eventually end up at a leaf and a decision is made. Note that it's not perfect -- there is some uncertainty in the decision."
   ]
  },
  {
   "cell_type": "markdown",
   "metadata": {},
   "source": [
    "### Check how NY state has voted on the primaries"
   ]
  },
  {
   "cell_type": "code",
   "execution_count": 15,
   "metadata": {},
   "outputs": [],
   "source": [
    "ny_vote = df[df.state_postal == 'NY'][['county_name', 'winner']]"
   ]
  },
  {
   "cell_type": "markdown",
   "metadata": {},
   "source": [
    "### Calculate how many counties voted for Clinton & how many for Obama?"
   ]
  },
  {
   "cell_type": "code",
   "execution_count": 16,
   "metadata": {},
   "outputs": [
    {
     "data": {
      "text/plain": [
       "clinton    1369\n",
       "obama      1061\n",
       "Name: winner, dtype: int64"
      ]
     },
     "execution_count": 16,
     "metadata": {},
     "output_type": "execute_result"
    }
   ],
   "source": [
    "df.winner.value_counts()"
   ]
  },
  {
   "cell_type": "markdown",
   "metadata": {},
   "source": [
    "### Now, given all the features in df, which ones \"explain\" county-level voting patterns? \n",
    "\n",
    "Hint: Consider whether or not a majority of the county voted for Bush in 2004"
   ]
  },
  {
   "cell_type": "code",
   "execution_count": 17,
   "metadata": {},
   "outputs": [
    {
     "data": {
      "text/plain": [
       "pres04winner  winner \n",
       "bush          clinton    1178\n",
       "              obama       760\n",
       "kerry         obama       300\n",
       "              clinton     191\n",
       "Name: winner, dtype: int64"
      ]
     },
     "execution_count": 17,
     "metadata": {},
     "output_type": "execute_result"
    }
   ],
   "source": [
    "df.groupby([ 'pres04winner']).winner.value_counts()"
   ]
  },
  {
   "cell_type": "code",
   "execution_count": 18,
   "metadata": {},
   "outputs": [
    {
     "data": {
      "text/plain": [
       "0.6109979633401222"
      ]
     },
     "execution_count": 18,
     "metadata": {},
     "output_type": "execute_result"
    }
   ],
   "source": [
    "#Out of all the counties that voted for Kerry, how many voted for Obama\n",
    "300/(300+191)"
   ]
  },
  {
   "cell_type": "code",
   "execution_count": 19,
   "metadata": {},
   "outputs": [
    {
     "data": {
      "text/plain": [
       "0.6078431372549019"
      ]
     },
     "execution_count": 19,
     "metadata": {},
     "output_type": "execute_result"
    }
   ],
   "source": [
    "# Out of all the counties that voted for Bush, how many voted for Clinton\n",
    "1178/(1178+760)"
   ]
  },
  {
   "cell_type": "markdown",
   "metadata": {},
   "source": [
    "Therefore, Obama won about 61% of those counties not voting for Bush in 04, while Clinton won about 60% of those counties that did vote for Bush in 04. \n",
    "\n",
    "#### Now, consider the simple prediction rule: If a county voted for Bush in 04, we’ll say that they will vote for Clinton in the primary, while if a county was mostly in favor of Kerry in 04, we’ll assign the win to Obama.\n",
    "Is it a good rule?\n",
    "\n",
    "Of course this rule isn’t perfect; by applying it, we would make 191 + 760 = 951 mistakes (out of 2,430 counties, or about 39% error); we refer to these mistakes as having been \"misclassified\" by our simple rule. So the question becomes, can we do any better? What do you think?"
   ]
  },
  {
   "cell_type": "markdown",
   "metadata": {},
   "source": [
    "### Use decision tree to predict who is going to win the election"
   ]
  },
  {
   "cell_type": "markdown",
   "metadata": {},
   "source": [
    "1. Start by selecting all the necessary columns\n",
    "2. Convert categorical data (the `region` column) to numeric values\n",
    "3. Separate data into train and test\n",
    "4. Build a decision tree\n",
    "5. Fit the data"
   ]
  },
  {
   "cell_type": "code",
   "execution_count": 20,
   "metadata": {},
   "outputs": [],
   "source": [
    "from sklearn import tree\n",
    "from sklearn.model_selection import train_test_split\n",
    "\n",
    "df.dropna(inplace=True)\n",
    "X = df[['region','pres04margin', 'black06','hisp06','white06',\n",
    "            'pct_less_30k','pct_more_100k','pct_hs_grad','pct_homeowner','POP05_SQMI']]\n",
    "X = pd.get_dummies(X,drop_first=True)\n",
    "\n",
    "# Split dataset into training set and test set\n",
    "X_train, X_test, y_train, y_test = train_test_split(X, df.winner, test_size=0.3) # 70% training and 30% test\n",
    "\n",
    "clf = tree.DecisionTreeClassifier(max_depth = 3)\n",
    "clf = clf.fit(X_train, y_train)"
   ]
  },
  {
   "cell_type": "markdown",
   "metadata": {},
   "source": [
    "#### Evaluate your model: calculate the accuracy ( the fraction of predictions our model got right)"
   ]
  },
  {
   "cell_type": "code",
   "execution_count": 21,
   "metadata": {},
   "outputs": [
    {
     "name": "stdout",
     "output_type": "stream",
     "text": [
      "Accuracy: 0.7026279391424619\n"
     ]
    }
   ],
   "source": [
    "#Import scikit-learn metrics module for accuracy calculation\n",
    "from sklearn import metrics\n",
    "\n",
    "y_pred=clf.predict(X_test)\n",
    "\n",
    "# Model Accuracy, how often is the classifier correct?\n",
    "print(\"Accuracy:\",metrics.accuracy_score(y_test, y_pred))"
   ]
  },
  {
   "cell_type": "markdown",
   "metadata": {},
   "source": [
    "#### Predict the winner in the county of your choice"
   ]
  },
  {
   "cell_type": "code",
   "execution_count": 22,
   "metadata": {},
   "outputs": [
    {
     "data": {
      "text/plain": [
       "array(['obama'], dtype=object)"
      ]
     },
     "execution_count": 22,
     "metadata": {},
     "output_type": "execute_result"
    }
   ],
   "source": [
    "clf.predict([[0.049557,527.0,2885.0,61063.0,0.3996,0.058778,0.8549,0.7277,38.7,0,0,1]])"
   ]
  },
  {
   "cell_type": "markdown",
   "metadata": {},
   "source": [
    "### Plot the results\n",
    "We're going to use graphviz to plot the results.\n",
    "You can install it by running `!brew install graphviz`\n"
   ]
  },
  {
   "cell_type": "code",
   "execution_count": 23,
   "metadata": {
    "scrolled": false
   },
   "outputs": [],
   "source": [
    "from sklearn.tree import export_graphviz\n",
    "# get column names\n",
    "feature_names = list(X.columns)\n",
    "#create a graphviz object\n",
    "tree_dot = export_graphviz(clf, out_file=None, feature_names=feature_names)\n"
   ]
  },
  {
   "cell_type": "code",
   "execution_count": 24,
   "metadata": {},
   "outputs": [
    {
     "data": {
      "image/svg+xml": [
       "<?xml version=\"1.0\" encoding=\"UTF-8\" standalone=\"no\"?>\n",
       "<!DOCTYPE svg PUBLIC \"-//W3C//DTD SVG 1.1//EN\"\n",
       " \"http://www.w3.org/Graphics/SVG/1.1/DTD/svg11.dtd\">\n",
       "<!-- Generated by graphviz version 2.40.1 (20161225.0304)\n",
       " -->\n",
       "<!-- Title: Tree Pages: 1 -->\n",
       "<svg width=\"1014pt\" height=\"358pt\"\n",
       " viewBox=\"0.00 0.00 1013.54 358.00\" xmlns=\"http://www.w3.org/2000/svg\" xmlns:xlink=\"http://www.w3.org/1999/xlink\">\n",
       "<g id=\"graph0\" class=\"graph\" transform=\"scale(1 1) rotate(0) translate(4 354)\">\n",
       "<title>Tree</title>\n",
       "<polygon fill=\"#ffffff\" stroke=\"transparent\" points=\"-4,4 -4,-354 1009.5371,-354 1009.5371,4 -4,4\"/>\n",
       "<!-- 0 -->\n",
       "<g id=\"node1\" class=\"node\">\n",
       "<title>0</title>\n",
       "<polygon fill=\"none\" stroke=\"#000000\" points=\"577.9876,-350 439.5495,-350 439.5495,-286 577.9876,-286 577.9876,-350\"/>\n",
       "<text text-anchor=\"middle\" x=\"508.7686\" y=\"-334.8\" font-family=\"Times,serif\" font-size=\"14.00\" fill=\"#000000\">pct_hs_grad &lt;= 0.837</text>\n",
       "<text text-anchor=\"middle\" x=\"508.7686\" y=\"-320.8\" font-family=\"Times,serif\" font-size=\"14.00\" fill=\"#000000\">gini = 0.49</text>\n",
       "<text text-anchor=\"middle\" x=\"508.7686\" y=\"-306.8\" font-family=\"Times,serif\" font-size=\"14.00\" fill=\"#000000\">samples = 1684</text>\n",
       "<text text-anchor=\"middle\" x=\"508.7686\" y=\"-292.8\" font-family=\"Times,serif\" font-size=\"14.00\" fill=\"#000000\">value = [960, 724]</text>\n",
       "</g>\n",
       "<!-- 1 -->\n",
       "<g id=\"node2\" class=\"node\">\n",
       "<title>1</title>\n",
       "<polygon fill=\"none\" stroke=\"#000000\" points=\"492.3776,-250 371.1595,-250 371.1595,-186 492.3776,-186 492.3776,-250\"/>\n",
       "<text text-anchor=\"middle\" x=\"431.7686\" y=\"-234.8\" font-family=\"Times,serif\" font-size=\"14.00\" fill=\"#000000\">black06 &lt;= 5556.5</text>\n",
       "<text text-anchor=\"middle\" x=\"431.7686\" y=\"-220.8\" font-family=\"Times,serif\" font-size=\"14.00\" fill=\"#000000\">gini = 0.46</text>\n",
       "<text text-anchor=\"middle\" x=\"431.7686\" y=\"-206.8\" font-family=\"Times,serif\" font-size=\"14.00\" fill=\"#000000\">samples = 1300</text>\n",
       "<text text-anchor=\"middle\" x=\"431.7686\" y=\"-192.8\" font-family=\"Times,serif\" font-size=\"14.00\" fill=\"#000000\">value = [833, 467]</text>\n",
       "</g>\n",
       "<!-- 0&#45;&gt;1 -->\n",
       "<g id=\"edge1\" class=\"edge\">\n",
       "<title>0&#45;&gt;1</title>\n",
       "<path fill=\"none\" stroke=\"#000000\" d=\"M483.9814,-285.8089C477.1808,-276.9769 469.7234,-267.2921 462.627,-258.0759\"/>\n",
       "<polygon fill=\"#000000\" stroke=\"#000000\" points=\"465.3834,-255.9187 456.5092,-250.1308 459.8371,-260.1894 465.3834,-255.9187\"/>\n",
       "<text text-anchor=\"middle\" x=\"453.2877\" y=\"-270.7223\" font-family=\"Times,serif\" font-size=\"14.00\" fill=\"#000000\">True</text>\n",
       "</g>\n",
       "<!-- 8 -->\n",
       "<g id=\"node9\" class=\"node\">\n",
       "<title>8</title>\n",
       "<polygon fill=\"none\" stroke=\"#000000\" points=\"702.9876,-250 564.5495,-250 564.5495,-186 702.9876,-186 702.9876,-250\"/>\n",
       "<text text-anchor=\"middle\" x=\"633.7686\" y=\"-234.8\" font-family=\"Times,serif\" font-size=\"14.00\" fill=\"#000000\">pct_hs_grad &lt;= 0.907</text>\n",
       "<text text-anchor=\"middle\" x=\"633.7686\" y=\"-220.8\" font-family=\"Times,serif\" font-size=\"14.00\" fill=\"#000000\">gini = 0.443</text>\n",
       "<text text-anchor=\"middle\" x=\"633.7686\" y=\"-206.8\" font-family=\"Times,serif\" font-size=\"14.00\" fill=\"#000000\">samples = 384</text>\n",
       "<text text-anchor=\"middle\" x=\"633.7686\" y=\"-192.8\" font-family=\"Times,serif\" font-size=\"14.00\" fill=\"#000000\">value = [127, 257]</text>\n",
       "</g>\n",
       "<!-- 0&#45;&gt;8 -->\n",
       "<g id=\"edge8\" class=\"edge\">\n",
       "<title>0&#45;&gt;8</title>\n",
       "<path fill=\"none\" stroke=\"#000000\" d=\"M549.0074,-285.8089C560.7165,-276.4416 573.6248,-266.115 585.7614,-256.4057\"/>\n",
       "<polygon fill=\"#000000\" stroke=\"#000000\" points=\"587.9828,-259.1108 593.6051,-250.1308 583.6099,-253.6447 587.9828,-259.1108\"/>\n",
       "<text text-anchor=\"middle\" x=\"590.8443\" y=\"-270.7779\" font-family=\"Times,serif\" font-size=\"14.00\" fill=\"#000000\">False</text>\n",
       "</g>\n",
       "<!-- 2 -->\n",
       "<g id=\"node3\" class=\"node\">\n",
       "<title>2</title>\n",
       "<polygon fill=\"none\" stroke=\"#000000\" points=\"266.9876,-150 128.5495,-150 128.5495,-86 266.9876,-86 266.9876,-150\"/>\n",
       "<text text-anchor=\"middle\" x=\"197.7686\" y=\"-134.8\" font-family=\"Times,serif\" font-size=\"14.00\" fill=\"#000000\">pct_hs_grad &lt;= 0.796</text>\n",
       "<text text-anchor=\"middle\" x=\"197.7686\" y=\"-120.8\" font-family=\"Times,serif\" font-size=\"14.00\" fill=\"#000000\">gini = 0.377</text>\n",
       "<text text-anchor=\"middle\" x=\"197.7686\" y=\"-106.8\" font-family=\"Times,serif\" font-size=\"14.00\" fill=\"#000000\">samples = 932</text>\n",
       "<text text-anchor=\"middle\" x=\"197.7686\" y=\"-92.8\" font-family=\"Times,serif\" font-size=\"14.00\" fill=\"#000000\">value = [697, 235]</text>\n",
       "</g>\n",
       "<!-- 1&#45;&gt;2 -->\n",
       "<g id=\"edge2\" class=\"edge\">\n",
       "<title>1&#45;&gt;2</title>\n",
       "<path fill=\"none\" stroke=\"#000000\" d=\"M370.8987,-191.9872C342.0592,-179.6627 307.2569,-164.7899 276.4421,-151.6212\"/>\n",
       "<polygon fill=\"#000000\" stroke=\"#000000\" points=\"277.5888,-148.3051 267.0179,-147.5937 274.838,-154.7419 277.5888,-148.3051\"/>\n",
       "</g>\n",
       "<!-- 5 -->\n",
       "<g id=\"node6\" class=\"node\">\n",
       "<title>5</title>\n",
       "<polygon fill=\"none\" stroke=\"#000000\" points=\"496.6637,-150 366.8734,-150 366.8734,-86 496.6637,-86 496.6637,-150\"/>\n",
       "<text text-anchor=\"middle\" x=\"431.7686\" y=\"-134.8\" font-family=\"Times,serif\" font-size=\"14.00\" fill=\"#000000\">white06 &lt;= 27659.5</text>\n",
       "<text text-anchor=\"middle\" x=\"431.7686\" y=\"-120.8\" font-family=\"Times,serif\" font-size=\"14.00\" fill=\"#000000\">gini = 0.466</text>\n",
       "<text text-anchor=\"middle\" x=\"431.7686\" y=\"-106.8\" font-family=\"Times,serif\" font-size=\"14.00\" fill=\"#000000\">samples = 368</text>\n",
       "<text text-anchor=\"middle\" x=\"431.7686\" y=\"-92.8\" font-family=\"Times,serif\" font-size=\"14.00\" fill=\"#000000\">value = [136, 232]</text>\n",
       "</g>\n",
       "<!-- 1&#45;&gt;5 -->\n",
       "<g id=\"edge5\" class=\"edge\">\n",
       "<title>1&#45;&gt;5</title>\n",
       "<path fill=\"none\" stroke=\"#000000\" d=\"M431.7686,-185.8089C431.7686,-177.6906 431.7686,-168.8517 431.7686,-160.3186\"/>\n",
       "<polygon fill=\"#000000\" stroke=\"#000000\" points=\"435.2687,-160.1307 431.7686,-150.1308 428.2687,-160.1308 435.2687,-160.1307\"/>\n",
       "</g>\n",
       "<!-- 3 -->\n",
       "<g id=\"node4\" class=\"node\">\n",
       "<title>3</title>\n",
       "<polygon fill=\"none\" stroke=\"#000000\" points=\"119.3066,-50 .2306,-50 .2306,0 119.3066,0 119.3066,-50\"/>\n",
       "<text text-anchor=\"middle\" x=\"59.7686\" y=\"-34.8\" font-family=\"Times,serif\" font-size=\"14.00\" fill=\"#000000\">gini = 0.303</text>\n",
       "<text text-anchor=\"middle\" x=\"59.7686\" y=\"-20.8\" font-family=\"Times,serif\" font-size=\"14.00\" fill=\"#000000\">samples = 697</text>\n",
       "<text text-anchor=\"middle\" x=\"59.7686\" y=\"-6.8\" font-family=\"Times,serif\" font-size=\"14.00\" fill=\"#000000\">value = [567, 130]</text>\n",
       "</g>\n",
       "<!-- 2&#45;&gt;3 -->\n",
       "<g id=\"edge3\" class=\"edge\">\n",
       "<title>2&#45;&gt;3</title>\n",
       "<path fill=\"none\" stroke=\"#000000\" d=\"M150.2768,-85.9947C135.6777,-76.1562 119.6513,-65.3558 105.1942,-55.613\"/>\n",
       "<polygon fill=\"#000000\" stroke=\"#000000\" points=\"107.1348,-52.7002 96.8861,-50.014 103.2228,-58.505 107.1348,-52.7002\"/>\n",
       "</g>\n",
       "<!-- 4 -->\n",
       "<g id=\"node5\" class=\"node\">\n",
       "<title>4</title>\n",
       "<polygon fill=\"none\" stroke=\"#000000\" points=\"257.3066,-50 138.2306,-50 138.2306,0 257.3066,0 257.3066,-50\"/>\n",
       "<text text-anchor=\"middle\" x=\"197.7686\" y=\"-34.8\" font-family=\"Times,serif\" font-size=\"14.00\" fill=\"#000000\">gini = 0.494</text>\n",
       "<text text-anchor=\"middle\" x=\"197.7686\" y=\"-20.8\" font-family=\"Times,serif\" font-size=\"14.00\" fill=\"#000000\">samples = 235</text>\n",
       "<text text-anchor=\"middle\" x=\"197.7686\" y=\"-6.8\" font-family=\"Times,serif\" font-size=\"14.00\" fill=\"#000000\">value = [130, 105]</text>\n",
       "</g>\n",
       "<!-- 2&#45;&gt;4 -->\n",
       "<g id=\"edge4\" class=\"edge\">\n",
       "<title>2&#45;&gt;4</title>\n",
       "<path fill=\"none\" stroke=\"#000000\" d=\"M197.7686,-85.9947C197.7686,-77.6273 197.7686,-68.5643 197.7686,-60.0478\"/>\n",
       "<polygon fill=\"#000000\" stroke=\"#000000\" points=\"201.2687,-60.014 197.7686,-50.014 194.2687,-60.0141 201.2687,-60.014\"/>\n",
       "</g>\n",
       "<!-- 6 -->\n",
       "<g id=\"node7\" class=\"node\">\n",
       "<title>6</title>\n",
       "<polygon fill=\"none\" stroke=\"#000000\" points=\"387.8066,-50 275.7305,-50 275.7305,0 387.8066,0 387.8066,-50\"/>\n",
       "<text text-anchor=\"middle\" x=\"331.7686\" y=\"-34.8\" font-family=\"Times,serif\" font-size=\"14.00\" fill=\"#000000\">gini = 0.187</text>\n",
       "<text text-anchor=\"middle\" x=\"331.7686\" y=\"-20.8\" font-family=\"Times,serif\" font-size=\"14.00\" fill=\"#000000\">samples = 134</text>\n",
       "<text text-anchor=\"middle\" x=\"331.7686\" y=\"-6.8\" font-family=\"Times,serif\" font-size=\"14.00\" fill=\"#000000\">value = [14, 120]</text>\n",
       "</g>\n",
       "<!-- 5&#45;&gt;6 -->\n",
       "<g id=\"edge6\" class=\"edge\">\n",
       "<title>5&#45;&gt;6</title>\n",
       "<path fill=\"none\" stroke=\"#000000\" d=\"M397.3542,-85.9947C387.2695,-76.6159 376.2449,-66.363 366.1616,-56.9855\"/>\n",
       "<polygon fill=\"#000000\" stroke=\"#000000\" points=\"368.3717,-54.2612 358.6654,-50.014 363.6045,-59.3871 368.3717,-54.2612\"/>\n",
       "</g>\n",
       "<!-- 7 -->\n",
       "<g id=\"node8\" class=\"node\">\n",
       "<title>7</title>\n",
       "<polygon fill=\"none\" stroke=\"#000000\" points=\"525.293,-50 406.2441,-50 406.2441,0 525.293,0 525.293,-50\"/>\n",
       "<text text-anchor=\"middle\" x=\"465.7686\" y=\"-34.8\" font-family=\"Times,serif\" font-size=\"14.00\" fill=\"#000000\">gini = 0.499</text>\n",
       "<text text-anchor=\"middle\" x=\"465.7686\" y=\"-20.8\" font-family=\"Times,serif\" font-size=\"14.00\" fill=\"#000000\">samples = 234</text>\n",
       "<text text-anchor=\"middle\" x=\"465.7686\" y=\"-6.8\" font-family=\"Times,serif\" font-size=\"14.00\" fill=\"#000000\">value = [122, 112]</text>\n",
       "</g>\n",
       "<!-- 5&#45;&gt;7 -->\n",
       "<g id=\"edge7\" class=\"edge\">\n",
       "<title>5&#45;&gt;7</title>\n",
       "<path fill=\"none\" stroke=\"#000000\" d=\"M443.4694,-85.9947C446.5957,-77.4434 449.9876,-68.1656 453.1604,-59.487\"/>\n",
       "<polygon fill=\"#000000\" stroke=\"#000000\" points=\"456.4771,-60.6079 456.6236,-50.014 449.9027,-58.2043 456.4771,-60.6079\"/>\n",
       "</g>\n",
       "<!-- 9 -->\n",
       "<g id=\"node10\" class=\"node\">\n",
       "<title>9</title>\n",
       "<polygon fill=\"none\" stroke=\"#000000\" points=\"706.249,-150 561.2881,-150 561.2881,-86 706.249,-86 706.249,-150\"/>\n",
       "<text text-anchor=\"middle\" x=\"633.7686\" y=\"-134.8\" font-family=\"Times,serif\" font-size=\"14.00\" fill=\"#000000\">POP05_SQMI &lt;= 86.5</text>\n",
       "<text text-anchor=\"middle\" x=\"633.7686\" y=\"-120.8\" font-family=\"Times,serif\" font-size=\"14.00\" fill=\"#000000\">gini = 0.467</text>\n",
       "<text text-anchor=\"middle\" x=\"633.7686\" y=\"-106.8\" font-family=\"Times,serif\" font-size=\"14.00\" fill=\"#000000\">samples = 336</text>\n",
       "<text text-anchor=\"middle\" x=\"633.7686\" y=\"-92.8\" font-family=\"Times,serif\" font-size=\"14.00\" fill=\"#000000\">value = [125, 211]</text>\n",
       "</g>\n",
       "<!-- 8&#45;&gt;9 -->\n",
       "<g id=\"edge9\" class=\"edge\">\n",
       "<title>8&#45;&gt;9</title>\n",
       "<path fill=\"none\" stroke=\"#000000\" d=\"M633.7686,-185.8089C633.7686,-177.6906 633.7686,-168.8517 633.7686,-160.3186\"/>\n",
       "<polygon fill=\"#000000\" stroke=\"#000000\" points=\"637.2687,-160.1307 633.7686,-150.1308 630.2687,-160.1308 637.2687,-160.1307\"/>\n",
       "</g>\n",
       "<!-- 12 -->\n",
       "<g id=\"node13\" class=\"node\">\n",
       "<title>12</title>\n",
       "<polygon fill=\"none\" stroke=\"#000000\" points=\"910.8775,-150 782.6596,-150 782.6596,-86 910.8775,-86 910.8775,-150\"/>\n",
       "<text text-anchor=\"middle\" x=\"846.7686\" y=\"-134.8\" font-family=\"Times,serif\" font-size=\"14.00\" fill=\"#000000\">black06 &lt;= 25793.0</text>\n",
       "<text text-anchor=\"middle\" x=\"846.7686\" y=\"-120.8\" font-family=\"Times,serif\" font-size=\"14.00\" fill=\"#000000\">gini = 0.08</text>\n",
       "<text text-anchor=\"middle\" x=\"846.7686\" y=\"-106.8\" font-family=\"Times,serif\" font-size=\"14.00\" fill=\"#000000\">samples = 48</text>\n",
       "<text text-anchor=\"middle\" x=\"846.7686\" y=\"-92.8\" font-family=\"Times,serif\" font-size=\"14.00\" fill=\"#000000\">value = [2, 46]</text>\n",
       "</g>\n",
       "<!-- 8&#45;&gt;12 -->\n",
       "<g id=\"edge12\" class=\"edge\">\n",
       "<title>8&#45;&gt;12</title>\n",
       "<path fill=\"none\" stroke=\"#000000\" d=\"M702.042,-185.9467C724.8157,-175.2549 750.2783,-163.3006 773.4209,-152.4355\"/>\n",
       "<polygon fill=\"#000000\" stroke=\"#000000\" points=\"774.9381,-155.5898 782.5027,-148.1718 771.9632,-149.2534 774.9381,-155.5898\"/>\n",
       "</g>\n",
       "<!-- 10 -->\n",
       "<g id=\"node11\" class=\"node\">\n",
       "<title>10</title>\n",
       "<polygon fill=\"none\" stroke=\"#000000\" points=\"655.8066,-50 543.7305,-50 543.7305,0 655.8066,0 655.8066,-50\"/>\n",
       "<text text-anchor=\"middle\" x=\"599.7686\" y=\"-34.8\" font-family=\"Times,serif\" font-size=\"14.00\" fill=\"#000000\">gini = 0.4</text>\n",
       "<text text-anchor=\"middle\" x=\"599.7686\" y=\"-20.8\" font-family=\"Times,serif\" font-size=\"14.00\" fill=\"#000000\">samples = 174</text>\n",
       "<text text-anchor=\"middle\" x=\"599.7686\" y=\"-6.8\" font-family=\"Times,serif\" font-size=\"14.00\" fill=\"#000000\">value = [48, 126]</text>\n",
       "</g>\n",
       "<!-- 9&#45;&gt;10 -->\n",
       "<g id=\"edge10\" class=\"edge\">\n",
       "<title>9&#45;&gt;10</title>\n",
       "<path fill=\"none\" stroke=\"#000000\" d=\"M622.0677,-85.9947C618.9414,-77.4434 615.5495,-68.1656 612.3767,-59.487\"/>\n",
       "<polygon fill=\"#000000\" stroke=\"#000000\" points=\"615.6344,-58.2043 608.9135,-50.014 609.06,-60.6079 615.6344,-58.2043\"/>\n",
       "</g>\n",
       "<!-- 11 -->\n",
       "<g id=\"node12\" class=\"node\">\n",
       "<title>11</title>\n",
       "<polygon fill=\"none\" stroke=\"#000000\" points=\"779.3067,-50 674.2304,-50 674.2304,0 779.3067,0 779.3067,-50\"/>\n",
       "<text text-anchor=\"middle\" x=\"726.7686\" y=\"-34.8\" font-family=\"Times,serif\" font-size=\"14.00\" fill=\"#000000\">gini = 0.499</text>\n",
       "<text text-anchor=\"middle\" x=\"726.7686\" y=\"-20.8\" font-family=\"Times,serif\" font-size=\"14.00\" fill=\"#000000\">samples = 162</text>\n",
       "<text text-anchor=\"middle\" x=\"726.7686\" y=\"-6.8\" font-family=\"Times,serif\" font-size=\"14.00\" fill=\"#000000\">value = [77, 85]</text>\n",
       "</g>\n",
       "<!-- 9&#45;&gt;11 -->\n",
       "<g id=\"edge11\" class=\"edge\">\n",
       "<title>9&#45;&gt;11</title>\n",
       "<path fill=\"none\" stroke=\"#000000\" d=\"M665.7739,-85.9947C675.0607,-76.7079 685.2046,-66.564 694.507,-57.2616\"/>\n",
       "<polygon fill=\"#000000\" stroke=\"#000000\" points=\"697.1583,-59.56 701.7545,-50.014 692.2085,-54.6102 697.1583,-59.56\"/>\n",
       "</g>\n",
       "<!-- 13 -->\n",
       "<g id=\"node14\" class=\"node\">\n",
       "<title>13</title>\n",
       "<polygon fill=\"none\" stroke=\"#000000\" points=\"895.8067,-50 797.7304,-50 797.7304,0 895.8067,0 895.8067,-50\"/>\n",
       "<text text-anchor=\"middle\" x=\"846.7686\" y=\"-34.8\" font-family=\"Times,serif\" font-size=\"14.00\" fill=\"#000000\">gini = 0.0</text>\n",
       "<text text-anchor=\"middle\" x=\"846.7686\" y=\"-20.8\" font-family=\"Times,serif\" font-size=\"14.00\" fill=\"#000000\">samples = 43</text>\n",
       "<text text-anchor=\"middle\" x=\"846.7686\" y=\"-6.8\" font-family=\"Times,serif\" font-size=\"14.00\" fill=\"#000000\">value = [0, 43]</text>\n",
       "</g>\n",
       "<!-- 12&#45;&gt;13 -->\n",
       "<g id=\"edge13\" class=\"edge\">\n",
       "<title>12&#45;&gt;13</title>\n",
       "<path fill=\"none\" stroke=\"#000000\" d=\"M846.7686,-85.9947C846.7686,-77.6273 846.7686,-68.5643 846.7686,-60.0478\"/>\n",
       "<polygon fill=\"#000000\" stroke=\"#000000\" points=\"850.2687,-60.014 846.7686,-50.014 843.2687,-60.0141 850.2687,-60.014\"/>\n",
       "</g>\n",
       "<!-- 14 -->\n",
       "<g id=\"node15\" class=\"node\">\n",
       "<title>14</title>\n",
       "<polygon fill=\"none\" stroke=\"#000000\" points=\"1005.3068,-50 914.2303,-50 914.2303,0 1005.3068,0 1005.3068,-50\"/>\n",
       "<text text-anchor=\"middle\" x=\"959.7686\" y=\"-34.8\" font-family=\"Times,serif\" font-size=\"14.00\" fill=\"#000000\">gini = 0.48</text>\n",
       "<text text-anchor=\"middle\" x=\"959.7686\" y=\"-20.8\" font-family=\"Times,serif\" font-size=\"14.00\" fill=\"#000000\">samples = 5</text>\n",
       "<text text-anchor=\"middle\" x=\"959.7686\" y=\"-6.8\" font-family=\"Times,serif\" font-size=\"14.00\" fill=\"#000000\">value = [2, 3]</text>\n",
       "</g>\n",
       "<!-- 12&#45;&gt;14 -->\n",
       "<g id=\"edge14\" class=\"edge\">\n",
       "<title>12&#45;&gt;14</title>\n",
       "<path fill=\"none\" stroke=\"#000000\" d=\"M885.6567,-85.9947C897.2759,-76.432 909.9992,-65.9606 921.5735,-56.4349\"/>\n",
       "<polygon fill=\"#000000\" stroke=\"#000000\" points=\"923.878,-59.0712 929.3752,-50.014 919.4297,-53.6663 923.878,-59.0712\"/>\n",
       "</g>\n",
       "</g>\n",
       "</svg>\n"
      ],
      "text/plain": [
       "<graphviz.files.Source at 0x12380e518>"
      ]
     },
     "execution_count": 24,
     "metadata": {},
     "output_type": "execute_result"
    }
   ],
   "source": [
    "# !brew install graphviz\n",
    "# vizualize the graphiz object\n",
    "import graphviz\n",
    "graphviz.Source(tree_dot)"
   ]
  },
  {
   "cell_type": "markdown",
   "metadata": {},
   "source": [
    "### Create a Random Forest to predict the winner of the elections\n"
   ]
  },
  {
   "cell_type": "code",
   "execution_count": null,
   "metadata": {},
   "outputs": [],
   "source": [
    "from sklearn.ensemble import RandomForestClassifier\n",
    "clf_forest=RandomForestClassifier(n_estimators=100, max_depth = 10)\n",
    "clf_forest.fit(X_train,y_train)"
   ]
  },
  {
   "cell_type": "markdown",
   "metadata": {},
   "source": [
    "#### Find the accuracy of the model"
   ]
  },
  {
   "cell_type": "code",
   "execution_count": null,
   "metadata": {},
   "outputs": [],
   "source": [
    "y_pred=clf_forest.predict(X_test)\n",
    "\n",
    "# Model Accuracy, how often is the classifier correct?\n",
    "print(\"Accuracy:\",metrics.accuracy_score(y_test, y_pred))"
   ]
  },
  {
   "cell_type": "markdown",
   "metadata": {},
   "source": [
    "#### Find out which features were the most important\n"
   ]
  },
  {
   "cell_type": "code",
   "execution_count": null,
   "metadata": {},
   "outputs": [],
   "source": [
    "\n",
    "feature_imp = pd.Series(clf_forest.feature_importances_,index=list(X_train.columns)).sort_values(ascending=False)\n",
    "feature_imp"
   ]
  },
  {
   "cell_type": "markdown",
   "metadata": {},
   "source": [
    "#### Will the accuracy improve if remove the `region` field?"
   ]
  },
  {
   "cell_type": "code",
   "execution_count": null,
   "metadata": {},
   "outputs": [],
   "source": [
    "X = df[['pres04margin', 'black06','hisp06','white06',\n",
    "            'pct_less_30k','pct_hs_grad','POP05_SQMI']]\n",
    "X = pd.get_dummies(X,drop_first=True)\n",
    "\n",
    "# Split dataset into training set and test set\n",
    "X_train, X_test, y_train, y_test = train_test_split(X, df.winner, test_size=0.3) # 70% training and 30% test\n",
    "clf_forest=RandomForestClassifier(n_estimators=100)\n",
    "clf_forest.fit(X_train,y_train)"
   ]
  },
  {
   "cell_type": "code",
   "execution_count": null,
   "metadata": {},
   "outputs": [],
   "source": [
    "y_pred=clf_forest.predict(X_test)\n",
    "\n",
    "# Model Accuracy, how often is the classifier correct?\n",
    "print(\"Accuracy:\",metrics.accuracy_score(y_test, y_pred))"
   ]
  },
  {
   "cell_type": "code",
   "execution_count": null,
   "metadata": {},
   "outputs": [],
   "source": []
  }
 ],
 "metadata": {
  "kernelspec": {
   "display_name": "Python 3",
   "language": "python",
   "name": "python3"
  },
  "language_info": {
   "codemirror_mode": {
    "name": "ipython",
    "version": 3
   },
   "file_extension": ".py",
   "mimetype": "text/x-python",
   "name": "python",
   "nbconvert_exporter": "python",
   "pygments_lexer": "ipython3",
   "version": "3.7.1"
  }
 },
 "nbformat": 4,
 "nbformat_minor": 2
}
