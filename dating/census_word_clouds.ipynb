{
 "cells": [
  {
   "cell_type": "code",
   "execution_count": 1,
   "metadata": {
    "ExecuteTime": {
     "end_time": "2019-08-28T19:21:02.098834Z",
     "start_time": "2019-08-28T19:20:58.891980Z"
    }
   },
   "outputs": [],
   "source": [
    "import pandas as pd\n",
    "import requests\n",
    "import matplotlib\n",
    "import numpy as np\n",
    "import matplotlib.pyplot as plt\n",
    "import seaborn as sns\n",
    "from pylab import rcParams\n",
    "sns.set(style='whitegrid',palette='husl')\n",
    "matplotlib.rcParams['pdf.fonttype'] = 42\n",
    "\n",
    "#wordcloud imports\n",
    "from os import path\n",
    "from PIL import Image\n",
    "from wordcloud import WordCloud, STOPWORDS, ImageColorGenerator\n",
    "\n",
    "% matplotlib inline\n",
    "\n",
    "#warnings\n",
    "c:\\intelpython3\\lib\\site-packages\\matplotlib\\__init__.py:\n",
    "import warnings\n",
    "warnings.filterwarnings(\"ignore\")"
   ]
  },
  {
   "cell_type": "code",
   "execution_count": 2,
   "metadata": {
    "ExecuteTime": {
     "end_time": "2019-08-28T19:28:33.850157Z",
     "start_time": "2019-08-28T19:25:23.383681Z"
    }
   },
   "outputs": [
    {
     "name": "stdout",
     "output_type": "stream",
     "text": [
      "Collecting pillow\n",
      "\u001b[?25l  Downloading https://files.pythonhosted.org/packages/8f/f3/c6d351d7e582e4f2ef4343c9be1f0472cb249fb69695e68631e337f4b6e9/Pillow-6.1.0-cp37-cp37m-macosx_10_6_intel.macosx_10_9_intel.macosx_10_9_x86_64.macosx_10_10_intel.macosx_10_10_x86_64.whl (3.8MB)\n",
      "\u001b[K     |████████████████████████████████| 3.9MB 23kB/s eta 0:00:01357     |██████████████████▋             | 2.2MB 19kB/s eta 0:01:24\n",
      "\u001b[?25hInstalling collected packages: pillow\n",
      "Successfully installed pillow-6.1.0\n"
     ]
    }
   ],
   "source": [
    "# !pip install pillow"
   ]
  },
  {
   "cell_type": "code",
   "execution_count": 3,
   "metadata": {
    "ExecuteTime": {
     "end_time": "2019-08-28T19:35:20.175588Z",
     "start_time": "2019-08-28T19:35:19.619562Z"
    }
   },
   "outputs": [],
   "source": [
    "#load in the dataframe\n",
    "df=pd.read_csv('datingappbehavior.csv')"
   ]
  },
  {
   "cell_type": "markdown",
   "metadata": {},
   "source": [
    "# Look at the Dataframe"
   ]
  },
  {
   "cell_type": "code",
   "execution_count": 5,
   "metadata": {
    "ExecuteTime": {
     "end_time": "2019-08-28T19:35:38.421315Z",
     "start_time": "2019-08-28T19:35:38.401698Z"
    }
   },
   "outputs": [
    {
     "name": "stdout",
     "output_type": "stream",
     "text": [
      "<class 'pandas.core.frame.DataFrame'>\n",
      "RangeIndex: 476 entries, 0 to 475\n",
      "Data columns (total 25 columns):\n",
      "Timestamp                                                                                                                                                      476 non-null object\n",
      "Have you used a dating app or online dating site before?                                                                                                       476 non-null object\n",
      "How many of your friends use or have used dating apps or online dating?                                                                                        476 non-null object\n",
      "Have you been on a date with someone you are not in a committed relationship with in the last month ?                                                          476 non-null object\n",
      "If yes, how did you meet this person? (check all that apply)                                                                                                   182 non-null object\n",
      "how_meet_cleaned                                                                                                                                               179 non-null object\n",
      "If you were single, how would you meet people you wanted to date? (check all that apply)                                                                       384 non-null object\n",
      "how_want_meet_cleaned                                                                                                                                          359 non-null object\n",
      "Have you ever felt burnt out of dating?                                                                                                                        473 non-null object\n",
      "Why or Why not?                                                                                                                                                318 non-null object\n",
      "Have you used dating apps in the last month?                                                                                                                   438 non-null object\n",
      "Given your answer to the previous question, please tell me why or why not!                                                                                     343 non-null object\n",
      "On average, how frequently do you use dating apps/online date now?                                                                                             426 non-null object\n",
      "How has your dating app/online dating app usage changed in the last year?                                                                                      421 non-null object\n",
      "If your usage has changed, why?                                                                                                                                200 non-null object\n",
      "Have you ever felt \"burnt out\" of dating apps/online dating?                                                                                                   419 non-null object\n",
      "Have you ever been in a romantic relationship with a person you met online or through an app?                                                                  261 non-null object\n",
      "How old are you? Please type a number                                                                                                                          463 non-null float64\n",
      "Where are you from?                                                                                                                                            432 non-null object\n",
      "Where do you live?                                                                                                                                             435 non-null object\n",
      "What's Your Gender?                                                                                                                                            471 non-null object\n",
      "Sexuality                                                                                                                                                      467 non-null object\n",
      "Race (taken from census)                                                                                                                                       464 non-null object\n",
      "Race (how you identify, feel free to elaborate on the above categories or make your own)                                                                       110 non-null object\n",
      "Additional thoughts? Comments? Feels? This was my first time designing a survey so I might've missed something important. Rants on dating are also welcome.    63 non-null object\n",
      "dtypes: float64(1), object(24)\n",
      "memory usage: 93.0+ KB\n"
     ]
    }
   ],
   "source": [
    "df.info()"
   ]
  },
  {
   "cell_type": "code",
   "execution_count": 8,
   "metadata": {
    "ExecuteTime": {
     "end_time": "2019-08-28T19:39:17.707475Z",
     "start_time": "2019-08-28T19:39:17.661734Z"
    }
   },
   "outputs": [],
   "source": [
    "#rename columns\n",
    "df=df.rename(columns={'Race (taken from census)':'race_census','Race (how you identify, feel free to elaborate on the above categories or make your own)':'race_identity'})"
   ]
  },
  {
   "cell_type": "code",
   "execution_count": 9,
   "metadata": {
    "ExecuteTime": {
     "end_time": "2019-08-28T19:39:45.361609Z",
     "start_time": "2019-08-28T19:39:45.331454Z"
    }
   },
   "outputs": [
    {
     "data": {
      "text/html": [
       "<div>\n",
       "<style scoped>\n",
       "    .dataframe tbody tr th:only-of-type {\n",
       "        vertical-align: middle;\n",
       "    }\n",
       "\n",
       "    .dataframe tbody tr th {\n",
       "        vertical-align: top;\n",
       "    }\n",
       "\n",
       "    .dataframe thead th {\n",
       "        text-align: right;\n",
       "    }\n",
       "</style>\n",
       "<table border=\"1\" class=\"dataframe\">\n",
       "  <thead>\n",
       "    <tr style=\"text-align: right;\">\n",
       "      <th></th>\n",
       "      <th>race_census</th>\n",
       "      <th>race_identity</th>\n",
       "    </tr>\n",
       "  </thead>\n",
       "  <tbody>\n",
       "    <tr>\n",
       "      <th>0</th>\n",
       "      <td>White</td>\n",
       "      <td>NaN</td>\n",
       "    </tr>\n",
       "    <tr>\n",
       "      <th>1</th>\n",
       "      <td>Asian</td>\n",
       "      <td>NaN</td>\n",
       "    </tr>\n",
       "    <tr>\n",
       "      <th>2</th>\n",
       "      <td>Asian</td>\n",
       "      <td>NaN</td>\n",
       "    </tr>\n",
       "    <tr>\n",
       "      <th>3</th>\n",
       "      <td>White</td>\n",
       "      <td>NaN</td>\n",
       "    </tr>\n",
       "    <tr>\n",
       "      <th>4</th>\n",
       "      <td>White</td>\n",
       "      <td>NaN</td>\n",
       "    </tr>\n",
       "    <tr>\n",
       "      <th>5</th>\n",
       "      <td>Asian</td>\n",
       "      <td>NaN</td>\n",
       "    </tr>\n",
       "    <tr>\n",
       "      <th>6</th>\n",
       "      <td>NaN</td>\n",
       "      <td>NaN</td>\n",
       "    </tr>\n",
       "    <tr>\n",
       "      <th>7</th>\n",
       "      <td>Black or African American</td>\n",
       "      <td>NaN</td>\n",
       "    </tr>\n",
       "    <tr>\n",
       "      <th>8</th>\n",
       "      <td>White</td>\n",
       "      <td>NaN</td>\n",
       "    </tr>\n",
       "    <tr>\n",
       "      <th>9</th>\n",
       "      <td>White</td>\n",
       "      <td>NaN</td>\n",
       "    </tr>\n",
       "    <tr>\n",
       "      <th>10</th>\n",
       "      <td>Asian</td>\n",
       "      <td>Indian American</td>\n",
       "    </tr>\n",
       "    <tr>\n",
       "      <th>11</th>\n",
       "      <td>White</td>\n",
       "      <td>NaN</td>\n",
       "    </tr>\n",
       "    <tr>\n",
       "      <th>12</th>\n",
       "      <td>Asian</td>\n",
       "      <td>NaN</td>\n",
       "    </tr>\n",
       "    <tr>\n",
       "      <th>13</th>\n",
       "      <td>Two or more races</td>\n",
       "      <td>Half Japanese half Eastern European</td>\n",
       "    </tr>\n",
       "    <tr>\n",
       "      <th>14</th>\n",
       "      <td>Asian</td>\n",
       "      <td>NaN</td>\n",
       "    </tr>\n",
       "    <tr>\n",
       "      <th>15</th>\n",
       "      <td>Asian</td>\n",
       "      <td>NaN</td>\n",
       "    </tr>\n",
       "    <tr>\n",
       "      <th>16</th>\n",
       "      <td>Asian</td>\n",
       "      <td>NaN</td>\n",
       "    </tr>\n",
       "    <tr>\n",
       "      <th>17</th>\n",
       "      <td>Asian</td>\n",
       "      <td>NaN</td>\n",
       "    </tr>\n",
       "    <tr>\n",
       "      <th>18</th>\n",
       "      <td>Asian</td>\n",
       "      <td>NaN</td>\n",
       "    </tr>\n",
       "    <tr>\n",
       "      <th>19</th>\n",
       "      <td>White</td>\n",
       "      <td>NaN</td>\n",
       "    </tr>\n",
       "    <tr>\n",
       "      <th>20</th>\n",
       "      <td>Asian</td>\n",
       "      <td>NaN</td>\n",
       "    </tr>\n",
       "    <tr>\n",
       "      <th>21</th>\n",
       "      <td>Asian</td>\n",
       "      <td>NaN</td>\n",
       "    </tr>\n",
       "    <tr>\n",
       "      <th>22</th>\n",
       "      <td>White</td>\n",
       "      <td>NaN</td>\n",
       "    </tr>\n",
       "    <tr>\n",
       "      <th>23</th>\n",
       "      <td>White</td>\n",
       "      <td>NaN</td>\n",
       "    </tr>\n",
       "    <tr>\n",
       "      <th>24</th>\n",
       "      <td>White</td>\n",
       "      <td>NaN</td>\n",
       "    </tr>\n",
       "    <tr>\n",
       "      <th>25</th>\n",
       "      <td>White</td>\n",
       "      <td>NaN</td>\n",
       "    </tr>\n",
       "    <tr>\n",
       "      <th>26</th>\n",
       "      <td>Two or more races</td>\n",
       "      <td>https://m.youtube.com/watch?v=1TXNU1nh4E4</td>\n",
       "    </tr>\n",
       "    <tr>\n",
       "      <th>27</th>\n",
       "      <td>White</td>\n",
       "      <td>NaN</td>\n",
       "    </tr>\n",
       "    <tr>\n",
       "      <th>28</th>\n",
       "      <td>White</td>\n",
       "      <td>NaN</td>\n",
       "    </tr>\n",
       "    <tr>\n",
       "      <th>29</th>\n",
       "      <td>White</td>\n",
       "      <td>NaN</td>\n",
       "    </tr>\n",
       "    <tr>\n",
       "      <th>...</th>\n",
       "      <td>...</td>\n",
       "      <td>...</td>\n",
       "    </tr>\n",
       "    <tr>\n",
       "      <th>446</th>\n",
       "      <td>White</td>\n",
       "      <td>NaN</td>\n",
       "    </tr>\n",
       "    <tr>\n",
       "      <th>447</th>\n",
       "      <td>Native Hawaiian and Other Pacific Islander</td>\n",
       "      <td>NaN</td>\n",
       "    </tr>\n",
       "    <tr>\n",
       "      <th>448</th>\n",
       "      <td>Asian</td>\n",
       "      <td>NaN</td>\n",
       "    </tr>\n",
       "    <tr>\n",
       "      <th>449</th>\n",
       "      <td>White</td>\n",
       "      <td>NaN</td>\n",
       "    </tr>\n",
       "    <tr>\n",
       "      <th>450</th>\n",
       "      <td>White</td>\n",
       "      <td>American</td>\n",
       "    </tr>\n",
       "    <tr>\n",
       "      <th>451</th>\n",
       "      <td>White</td>\n",
       "      <td>Caucasoid</td>\n",
       "    </tr>\n",
       "    <tr>\n",
       "      <th>452</th>\n",
       "      <td>White</td>\n",
       "      <td>NaN</td>\n",
       "    </tr>\n",
       "    <tr>\n",
       "      <th>453</th>\n",
       "      <td>Two or more races</td>\n",
       "      <td>White and Hispanic.</td>\n",
       "    </tr>\n",
       "    <tr>\n",
       "      <th>454</th>\n",
       "      <td>White</td>\n",
       "      <td>white</td>\n",
       "    </tr>\n",
       "    <tr>\n",
       "      <th>455</th>\n",
       "      <td>White</td>\n",
       "      <td>NaN</td>\n",
       "    </tr>\n",
       "    <tr>\n",
       "      <th>456</th>\n",
       "      <td>Two or more races</td>\n",
       "      <td>NaN</td>\n",
       "    </tr>\n",
       "    <tr>\n",
       "      <th>457</th>\n",
       "      <td>Two or more races</td>\n",
       "      <td>NaN</td>\n",
       "    </tr>\n",
       "    <tr>\n",
       "      <th>458</th>\n",
       "      <td>White</td>\n",
       "      <td>NaN</td>\n",
       "    </tr>\n",
       "    <tr>\n",
       "      <th>459</th>\n",
       "      <td>White</td>\n",
       "      <td>NaN</td>\n",
       "    </tr>\n",
       "    <tr>\n",
       "      <th>460</th>\n",
       "      <td>White</td>\n",
       "      <td>White</td>\n",
       "    </tr>\n",
       "    <tr>\n",
       "      <th>461</th>\n",
       "      <td>White</td>\n",
       "      <td>NaN</td>\n",
       "    </tr>\n",
       "    <tr>\n",
       "      <th>462</th>\n",
       "      <td>White</td>\n",
       "      <td>White</td>\n",
       "    </tr>\n",
       "    <tr>\n",
       "      <th>463</th>\n",
       "      <td>White</td>\n",
       "      <td>NaN</td>\n",
       "    </tr>\n",
       "    <tr>\n",
       "      <th>464</th>\n",
       "      <td>White</td>\n",
       "      <td>NaN</td>\n",
       "    </tr>\n",
       "    <tr>\n",
       "      <th>465</th>\n",
       "      <td>White</td>\n",
       "      <td>NaN</td>\n",
       "    </tr>\n",
       "    <tr>\n",
       "      <th>466</th>\n",
       "      <td>White</td>\n",
       "      <td>NaN</td>\n",
       "    </tr>\n",
       "    <tr>\n",
       "      <th>467</th>\n",
       "      <td>White</td>\n",
       "      <td>NaN</td>\n",
       "    </tr>\n",
       "    <tr>\n",
       "      <th>468</th>\n",
       "      <td>Asian</td>\n",
       "      <td>Asian, half Malaysian Chinese half Malaysian I...</td>\n",
       "    </tr>\n",
       "    <tr>\n",
       "      <th>469</th>\n",
       "      <td>NaN</td>\n",
       "      <td>NaN</td>\n",
       "    </tr>\n",
       "    <tr>\n",
       "      <th>470</th>\n",
       "      <td>White</td>\n",
       "      <td>NaN</td>\n",
       "    </tr>\n",
       "    <tr>\n",
       "      <th>471</th>\n",
       "      <td>Asian</td>\n",
       "      <td>NaN</td>\n",
       "    </tr>\n",
       "    <tr>\n",
       "      <th>472</th>\n",
       "      <td>White</td>\n",
       "      <td>NaN</td>\n",
       "    </tr>\n",
       "    <tr>\n",
       "      <th>473</th>\n",
       "      <td>White</td>\n",
       "      <td>NaN</td>\n",
       "    </tr>\n",
       "    <tr>\n",
       "      <th>474</th>\n",
       "      <td>Two or more races</td>\n",
       "      <td>NaN</td>\n",
       "    </tr>\n",
       "    <tr>\n",
       "      <th>475</th>\n",
       "      <td>White</td>\n",
       "      <td>NaN</td>\n",
       "    </tr>\n",
       "  </tbody>\n",
       "</table>\n",
       "<p>476 rows × 2 columns</p>\n",
       "</div>"
      ],
      "text/plain": [
       "                                    race_census  \\\n",
       "0                                         White   \n",
       "1                                         Asian   \n",
       "2                                         Asian   \n",
       "3                                         White   \n",
       "4                                         White   \n",
       "5                                         Asian   \n",
       "6                                           NaN   \n",
       "7                     Black or African American   \n",
       "8                                         White   \n",
       "9                                         White   \n",
       "10                                        Asian   \n",
       "11                                        White   \n",
       "12                                        Asian   \n",
       "13                            Two or more races   \n",
       "14                                        Asian   \n",
       "15                                        Asian   \n",
       "16                                        Asian   \n",
       "17                                        Asian   \n",
       "18                                        Asian   \n",
       "19                                        White   \n",
       "20                                        Asian   \n",
       "21                                        Asian   \n",
       "22                                        White   \n",
       "23                                        White   \n",
       "24                                        White   \n",
       "25                                        White   \n",
       "26                            Two or more races   \n",
       "27                                        White   \n",
       "28                                        White   \n",
       "29                                        White   \n",
       "..                                          ...   \n",
       "446                                       White   \n",
       "447  Native Hawaiian and Other Pacific Islander   \n",
       "448                                       Asian   \n",
       "449                                       White   \n",
       "450                                       White   \n",
       "451                                       White   \n",
       "452                                       White   \n",
       "453                           Two or more races   \n",
       "454                                       White   \n",
       "455                                       White   \n",
       "456                           Two or more races   \n",
       "457                           Two or more races   \n",
       "458                                       White   \n",
       "459                                       White   \n",
       "460                                       White   \n",
       "461                                       White   \n",
       "462                                       White   \n",
       "463                                       White   \n",
       "464                                       White   \n",
       "465                                       White   \n",
       "466                                       White   \n",
       "467                                       White   \n",
       "468                                       Asian   \n",
       "469                                         NaN   \n",
       "470                                       White   \n",
       "471                                       Asian   \n",
       "472                                       White   \n",
       "473                                       White   \n",
       "474                           Two or more races   \n",
       "475                                       White   \n",
       "\n",
       "                                         race_identity  \n",
       "0                                                  NaN  \n",
       "1                                                  NaN  \n",
       "2                                                  NaN  \n",
       "3                                                  NaN  \n",
       "4                                                  NaN  \n",
       "5                                                  NaN  \n",
       "6                                                  NaN  \n",
       "7                                                  NaN  \n",
       "8                                                  NaN  \n",
       "9                                                  NaN  \n",
       "10                                     Indian American  \n",
       "11                                                 NaN  \n",
       "12                                                 NaN  \n",
       "13                Half Japanese half Eastern European   \n",
       "14                                                 NaN  \n",
       "15                                                 NaN  \n",
       "16                                                 NaN  \n",
       "17                                                 NaN  \n",
       "18                                                 NaN  \n",
       "19                                                 NaN  \n",
       "20                                                 NaN  \n",
       "21                                                 NaN  \n",
       "22                                                 NaN  \n",
       "23                                                 NaN  \n",
       "24                                                 NaN  \n",
       "25                                                 NaN  \n",
       "26           https://m.youtube.com/watch?v=1TXNU1nh4E4  \n",
       "27                                                 NaN  \n",
       "28                                                 NaN  \n",
       "29                                                 NaN  \n",
       "..                                                 ...  \n",
       "446                                                NaN  \n",
       "447                                                NaN  \n",
       "448                                                NaN  \n",
       "449                                                NaN  \n",
       "450                                           American  \n",
       "451                                          Caucasoid  \n",
       "452                                                NaN  \n",
       "453                                White and Hispanic.  \n",
       "454                                              white  \n",
       "455                                                NaN  \n",
       "456                                                NaN  \n",
       "457                                                NaN  \n",
       "458                                                NaN  \n",
       "459                                                NaN  \n",
       "460                                              White  \n",
       "461                                                NaN  \n",
       "462                                              White  \n",
       "463                                                NaN  \n",
       "464                                                NaN  \n",
       "465                                                NaN  \n",
       "466                                                NaN  \n",
       "467                                                NaN  \n",
       "468  Asian, half Malaysian Chinese half Malaysian I...  \n",
       "469                                                NaN  \n",
       "470                                                NaN  \n",
       "471                                                NaN  \n",
       "472                                                NaN  \n",
       "473                                                NaN  \n",
       "474                                                NaN  \n",
       "475                                                NaN  \n",
       "\n",
       "[476 rows x 2 columns]"
      ]
     },
     "execution_count": 9,
     "metadata": {},
     "output_type": "execute_result"
    }
   ],
   "source": [
    "df[['race_census','race_identity']]"
   ]
  },
  {
   "cell_type": "code",
   "execution_count": 13,
   "metadata": {
    "ExecuteTime": {
     "end_time": "2019-08-28T19:50:30.277537Z",
     "start_time": "2019-08-28T19:50:30.225371Z"
    }
   },
   "outputs": [
    {
     "data": {
      "text/plain": [
       "White                                         314\n",
       "Asian                                          94\n",
       "Two or more races                              38\n",
       "Black or African American                      14\n",
       "Native Hawaiian and Other Pacific Islander      2\n",
       "American Indian and Alaska Native               2\n",
       "Name: race_census, dtype: int64"
      ]
     },
     "execution_count": 13,
     "metadata": {},
     "output_type": "execute_result"
    }
   ],
   "source": [
    "df['race_census'].value_counts()"
   ]
  },
  {
   "cell_type": "code",
   "execution_count": 24,
   "metadata": {
    "ExecuteTime": {
     "end_time": "2019-08-28T20:00:32.486727Z",
     "start_time": "2019-08-28T20:00:32.465056Z"
    }
   },
   "outputs": [],
   "source": [
    "race=df.groupby('race_census')"
   ]
  },
  {
   "cell_type": "code",
   "execution_count": 30,
   "metadata": {
    "ExecuteTime": {
     "end_time": "2019-08-28T20:03:57.642458Z",
     "start_time": "2019-08-28T20:03:56.986604Z"
    }
   },
   "outputs": [
    {
     "ename": "NameError",
     "evalue": "name 'sizes' is not defined",
     "output_type": "error",
     "traceback": [
      "\u001b[0;31m---------------------------------------------------------------------------\u001b[0m",
      "\u001b[0;31mNameError\u001b[0m                                 Traceback (most recent call last)",
      "\u001b[0;32m<ipython-input-30-4fe36668c27c>\u001b[0m in \u001b[0;36m<module>\u001b[0;34m\u001b[0m\n\u001b[1;32m      1\u001b[0m \u001b[0mplt\u001b[0m\u001b[0;34m.\u001b[0m\u001b[0mfigure\u001b[0m\u001b[0;34m(\u001b[0m\u001b[0mfigsize\u001b[0m\u001b[0;34m=\u001b[0m\u001b[0;34m(\u001b[0m\u001b[0;36m15\u001b[0m\u001b[0;34m,\u001b[0m\u001b[0;36m10\u001b[0m\u001b[0;34m)\u001b[0m\u001b[0;34m)\u001b[0m\u001b[0;34m\u001b[0m\u001b[0;34m\u001b[0m\u001b[0m\n\u001b[1;32m      2\u001b[0m \u001b[0mrace\u001b[0m\u001b[0;34m.\u001b[0m\u001b[0msize\u001b[0m\u001b[0;34m(\u001b[0m\u001b[0;34m)\u001b[0m\u001b[0;34m.\u001b[0m\u001b[0msort_values\u001b[0m\u001b[0;34m(\u001b[0m\u001b[0mascending\u001b[0m\u001b[0;34m=\u001b[0m\u001b[0;32mFalse\u001b[0m\u001b[0;34m)\u001b[0m\u001b[0;34m.\u001b[0m\u001b[0mplot\u001b[0m\u001b[0;34m.\u001b[0m\u001b[0mpie\u001b[0m\u001b[0;34m(\u001b[0m\u001b[0;34m)\u001b[0m\u001b[0;34m\u001b[0m\u001b[0;34m\u001b[0m\u001b[0m\n\u001b[0;32m----> 3\u001b[0;31m \u001b[0mplt\u001b[0m\u001b[0;34m.\u001b[0m\u001b[0mpie\u001b[0m\u001b[0;34m(\u001b[0m\u001b[0msizes\u001b[0m\u001b[0;34m,\u001b[0m \u001b[0mlabels\u001b[0m\u001b[0;34m=\u001b[0m\u001b[0mlabels\u001b[0m\u001b[0;34m,\u001b[0m \u001b[0mautopct\u001b[0m\u001b[0;34m=\u001b[0m\u001b[0;34m'%1.0f%%'\u001b[0m\u001b[0;34m)\u001b[0m\u001b[0;34m\u001b[0m\u001b[0;34m\u001b[0m\u001b[0m\n\u001b[0m\u001b[1;32m      4\u001b[0m \u001b[0mplt\u001b[0m\u001b[0;34m.\u001b[0m\u001b[0mshow\u001b[0m\u001b[0;34m(\u001b[0m\u001b[0;34m)\u001b[0m\u001b[0;34m\u001b[0m\u001b[0;34m\u001b[0m\u001b[0m\n",
      "\u001b[0;31mNameError\u001b[0m: name 'sizes' is not defined"
     ]
    },
    {
     "data": {
      "image/png": "[encoded data removed]",
      "text/plain": [
       "<Figure size 1080x720 with 1 Axes>"
      ]
     },
     "metadata": {},
     "output_type": "display_data"
    }
   ],
   "source": [
    "plt.figure(figsize=(15,10))\n",
    "race.size().sort_values(ascending=False).plot.pie()\n",
    "plt.show()"
   ]
  },
  {
   "cell_type": "markdown",
   "metadata": {},
   "source": [
    "# Clean Data"
   ]
  },
  {
   "cell_type": "code",
   "execution_count": 15,
   "metadata": {
    "ExecuteTime": {
     "end_time": "2019-08-28T19:52:33.706260Z",
     "start_time": "2019-08-28T19:52:33.625511Z"
    }
   },
   "outputs": [],
   "source": [
    "#we need to make dataframes based on race\n",
    "white=df[df['race_census']=='White']\n",
    "asian=df[df['race_census']=='Asian']\n",
    "more =df[df['race_census']=='Two or more races']\n",
    "black=df[df['race_census']=='Black or African American']"
   ]
  },
  {
   "cell_type": "code",
   "execution_count": 16,
   "metadata": {
    "ExecuteTime": {
     "end_time": "2019-08-28T19:53:56.416888Z",
     "start_time": "2019-08-28T19:53:56.389611Z"
    }
   },
   "outputs": [],
   "source": [
    "#filter to columns I want\n",
    "white=white[['race_census','race_identity']]\n",
    "asian=asian[['race_census','race_identity']]\n",
    "more=more[['race_census','race_identity']]\n",
    "black=black[['race_census','race_identity']]"
   ]
  },
  {
   "cell_type": "code",
   "execution_count": 17,
   "metadata": {
    "ExecuteTime": {
     "end_time": "2019-08-28T19:54:43.635573Z",
     "start_time": "2019-08-28T19:54:43.607919Z"
    }
   },
   "outputs": [],
   "source": [
    "#fill nas\n",
    "white=white.fillna('White')\n",
    "asian=asian.fillna('Asian')\n",
    "more=more.fillna('Two or more races')\n",
    "black=black.fillna('Black or African American')"
   ]
  },
  {
   "cell_type": "code",
   "execution_count": 22,
   "metadata": {
    "ExecuteTime": {
     "end_time": "2019-08-28T19:56:57.740250Z",
     "start_time": "2019-08-28T19:56:57.731586Z"
    }
   },
   "outputs": [
    {
     "data": {
      "text/plain": [
       "Two or more races                                                                                                                                                              22\n",
       "https://m.youtube.com/watch?v=1TXNU1nh4E4                                                                                                                                       1\n",
       "White and Hispanic.                                                                                                                                                             1\n",
       "Asian American but white because I look Caucasian                                                                                                                               1\n",
       "Middle Eastern American                                                                                                                                                         1\n",
       "Mixed Race                                                                                                                                                                      1\n",
       "Native American/White                                                                                                                                                           1\n",
       "Hispanic and White                                                                                                                                                              1\n",
       "South Asian American                                                                                                                                                            1\n",
       "While I’m white-passing, only one of my parents is actually white, so the census records me as two or more races, but in a dating situation and for most people, I’m white.     1\n",
       "Latin                                                                                                                                                                           1\n",
       "Latina                                                                                                                                                                          1\n",
       "Asian/White                                                                                                                                                                     1\n",
       "White/hispanic                                                                                                                                                                  1\n",
       "Hispanic/Latino                                                                                                                                                                 1\n",
       "Half Japanese half Eastern European                                                                                                                                             1\n",
       "Mixed, black (Nigerian) & white (european)                                                                                                                                      1\n",
       "Name: race_identity, dtype: int64"
      ]
     },
     "execution_count": 22,
     "metadata": {},
     "output_type": "execute_result"
    }
   ],
   "source": [
    "more['race_identity'].value_counts()"
   ]
  },
  {
   "cell_type": "code",
   "execution_count": null,
   "metadata": {},
   "outputs": [],
   "source": []
  }
 ],
 "metadata": {
  "kernelspec": {
   "display_name": "Python 3",
   "language": "python",
   "name": "python3"
  },
  "language_info": {
   "codemirror_mode": {
    "name": "ipython",
    "version": 3
   },
   "file_extension": ".py",
   "mimetype": "text/x-python",
   "name": "python",
   "nbconvert_exporter": "python",
   "pygments_lexer": "ipython3",
   "version": "3.7.1"
  },
  "toc": {
   "base_numbering": 1,
   "nav_menu": {},
   "number_sections": true,
   "sideBar": true,
   "skip_h1_title": false,
   "title_cell": "Table of Contents",
   "title_sidebar": "Contents",
   "toc_cell": false,
   "toc_position": {},
   "toc_section_display": true,
   "toc_window_display": false
  },
  "varInspector": {
   "cols": {
    "lenName": 16,
    "lenType": 16,
    "lenVar": 40
   },
   "kernels_config": {
    "python": {
     "delete_cmd_postfix": "",
     "delete_cmd_prefix": "del ",
     "library": "var_list.py",
     "varRefreshCmd": "print(var_dic_list())"
    },
    "r": {
     "delete_cmd_postfix": ") ",
     "delete_cmd_prefix": "rm(",
     "library": "var_list.r",
     "varRefreshCmd": "cat(var_dic_list()) "
    }
   },
   "types_to_exclude": [
    "module",
    "function",
    "builtin_function_or_method",
    "instance",
    "_Feature"
   ],
   "window_display": false
  }
 },
 "nbformat": 4,
 "nbformat_minor": 2
}
