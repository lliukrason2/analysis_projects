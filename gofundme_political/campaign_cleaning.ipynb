{
 "cells": [
  {
   "cell_type": "code",
   "execution_count": 3,
   "metadata": {},
   "outputs": [],
   "source": [
    "import pandas as pd\n",
    "import requests\n",
    "import matplotlib\n",
    "import numpy as np\n",
    "import matplotlib.pyplot as plt\n",
    "import re\n",
    "import time\n",
    "from bs4 import BeautifulSoup\n",
    "from selenium.webdriver.common.by import By\n",
    "from selenium.webdriver.support.ui import WebDriverWait\n",
    "from selenium import webdriver\n",
    "from selenium.webdriver.support.ui import Select\n",
    "from selenium.webdriver.support import expected_conditions as EC\n",
    "\n",
    "%matplotlib inline"
   ]
  },
  {
   "cell_type": "code",
   "execution_count": 4,
   "metadata": {},
   "outputs": [],
   "source": [
    "#Import dataframes\n",
    "rep_df =pd.read_csv('rep_campaign_07082019.csv')"
   ]
  },
  {
   "cell_type": "code",
   "execution_count": 5,
   "metadata": {},
   "outputs": [
    {
     "data": {
      "text/html": [
       "<div>\n",
       "<style scoped>\n",
       "    .dataframe tbody tr th:only-of-type {\n",
       "        vertical-align: middle;\n",
       "    }\n",
       "\n",
       "    .dataframe tbody tr th {\n",
       "        vertical-align: top;\n",
       "    }\n",
       "\n",
       "    .dataframe thead th {\n",
       "        text-align: right;\n",
       "    }\n",
       "</style>\n",
       "<table border=\"1\" class=\"dataframe\">\n",
       "  <thead>\n",
       "    <tr style=\"text-align: right;\">\n",
       "      <th></th>\n",
       "      <th>funds</th>\n",
       "      <th>link</th>\n",
       "      <th>location</th>\n",
       "      <th>summary</th>\n",
       "      <th>title</th>\n",
       "    </tr>\n",
       "  </thead>\n",
       "  <tbody>\n",
       "    <tr>\n",
       "      <th>0</th>\n",
       "      <td>\\n$2,710 raised of $6,500</td>\n",
       "      <td>https://www.gofundme.com/steven-crowder-live-a...</td>\n",
       "      <td>Dallas, TX</td>\n",
       "      <td>SMU College Republicans is bringing comedian S...</td>\n",
       "      <td>Steven Crowder Live at SMU!</td>\n",
       "    </tr>\n",
       "    <tr>\n",
       "      <th>1</th>\n",
       "      <td>\\n$12,857 raised of $10,000</td>\n",
       "      <td>https://www.gofundme.com/reopen-a-nc-republica...</td>\n",
       "      <td>Brookline, MA</td>\n",
       "      <td>NOTE: We reached our goal and then some in les...</td>\n",
       "      <td>Dems help reopen a NC Repub office</td>\n",
       "    </tr>\n",
       "    <tr>\n",
       "      <th>2</th>\n",
       "      <td>\\n$13,021 raised of $20,000</td>\n",
       "      <td>https://www.gofundme.com/troopersanchez</td>\n",
       "      <td>Mcallen, TX</td>\n",
       "      <td>￼ Moises Sanchez, a Texas State Trooper, was s...</td>\n",
       "      <td>Funds for Trooper Moises Sanchez</td>\n",
       "    </tr>\n",
       "  </tbody>\n",
       "</table>\n",
       "</div>"
      ],
      "text/plain": [
       "                                             funds  \\\n",
       "0    \\n$2,710 raised of $6,500                       \n",
       "1  \\n$12,857 raised of $10,000                       \n",
       "2  \\n$13,021 raised of $20,000                       \n",
       "\n",
       "                                                link       location  \\\n",
       "0  https://www.gofundme.com/steven-crowder-live-a...     Dallas, TX   \n",
       "1  https://www.gofundme.com/reopen-a-nc-republica...  Brookline, MA   \n",
       "2            https://www.gofundme.com/troopersanchez    Mcallen, TX   \n",
       "\n",
       "                                             summary  \\\n",
       "0  SMU College Republicans is bringing comedian S...   \n",
       "1  NOTE: We reached our goal and then some in les...   \n",
       "2  ￼ Moises Sanchez, a Texas State Trooper, was s...   \n",
       "\n",
       "                                title  \n",
       "0         Steven Crowder Live at SMU!  \n",
       "1  Dems help reopen a NC Repub office  \n",
       "2    Funds for Trooper Moises Sanchez  "
      ]
     },
     "execution_count": 5,
     "metadata": {},
     "output_type": "execute_result"
    }
   ],
   "source": [
    "rep_df.head(3)"
   ]
  },
  {
   "cell_type": "markdown",
   "metadata": {},
   "source": [
    "# Looking at the Overlap\n",
    "taking a look at which campaigns have the same links with a simple merge\n"
   ]
  },
  {
   "cell_type": "markdown",
   "metadata": {},
   "source": [
    "# Cutting All Campaigns That Are Not in the USA\n",
    "Seems like we can 1) get rid of rows with different currencies other than $ and 2) get rid of rows that don't have state abbreviations"
   ]
  },
  {
   "cell_type": "code",
   "execution_count": 1,
   "metadata": {},
   "outputs": [],
   "source": [
    "#list of USA States:\n",
    "states = [\"AL\", \"AK\", \"AZ\", \"AR\", \"CA\", \"CO\", \"CT\", \"DC\", \"DE\", \"FL\", \"GA\", \n",
    "          \"HI\", \"ID\", \"IL\", \"IN\", \"IA\", \"KS\", \"KY\", \"LA\", \"ME\", \"MD\", \n",
    "          \"MA\", \"MI\", \"MN\", \"MS\", \"MO\", \"MT\", \"NE\", \"NV\", \"NH\", \"NJ\", \n",
    "          \"NM\", \"NY\", \"NC\", \"ND\", \"OH\", \"OK\", \"OR\", \"PA\", \"RI\", \"SC\", \n",
    "          \"SD\", \"TN\", \"TX\", \"UT\", \"VT\", \"VA\", \"WA\", \"WV\", \"WI\", \"WY\"]"
   ]
  },
  {
   "cell_type": "code",
   "execution_count": 2,
   "metadata": {},
   "outputs": [
    {
     "name": "stdout",
     "output_type": "stream",
     "text": [
      "['AL', 'AK', 'AZ', 'AR', 'CA', 'CO', 'CT', 'DC', 'DE', 'FL', 'GA', 'HI', 'ID', 'IL', 'IN', 'IA', 'KS', 'KY', 'LA', 'ME', 'MD', 'MA', 'MI', 'MN', 'MS', 'MO', 'MT', 'NE', 'NV', 'NH', 'NJ', 'NM', 'NY', 'NC', 'ND', 'OH', 'OK', 'OR', 'PA', 'RI', 'SC', 'SD', 'TN', 'TX', 'UT', 'VT', 'VA', 'WA', 'WV', 'WI', 'WY']\n"
     ]
    }
   ],
   "source": []
  },
  {
   "cell_type": "code",
   "execution_count": null,
   "metadata": {},
   "outputs": [],
   "source": []
  }
 ],
 "metadata": {
  "kernelspec": {
   "display_name": "Python 3",
   "language": "python",
   "name": "python3"
  },
  "language_info": {
   "codemirror_mode": {
    "name": "ipython",
    "version": 3
   },
   "file_extension": ".py",
   "mimetype": "text/x-python",
   "name": "python",
   "nbconvert_exporter": "python",
   "pygments_lexer": "ipython3",
   "version": "3.7.1"
  }
 },
 "nbformat": 4,
 "nbformat_minor": 2
}
