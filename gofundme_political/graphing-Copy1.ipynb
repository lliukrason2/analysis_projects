{
 "cells": [
  {
   "cell_type": "code",
   "execution_count": 1,
   "metadata": {
    "ExecuteTime": {
     "end_time": "2019-11-20T22:01:51.361161Z",
     "start_time": "2019-11-20T22:01:48.360346Z"
    }
   },
   "outputs": [
    {
     "name": "stderr",
     "output_type": "stream",
     "text": [
      "[nltk_data] Downloading package punkt to /Users/lilyliu-\n",
      "[nltk_data]     krason/nltk_data...\n",
      "[nltk_data]   Package punkt is already up-to-date!\n",
      "[nltk_data] Downloading package stopwords to /Users/lilyliu-\n",
      "[nltk_data]     krason/nltk_data...\n",
      "[nltk_data]   Package stopwords is already up-to-date!\n"
     ]
    }
   ],
   "source": [
    "import pandas as pd\n",
    "import requests\n",
    "import matplotlib\n",
    "import numpy as np\n",
    "import matplotlib.pyplot as plt\n",
    "import re\n",
    "from datetime import datetime, timedelta\n",
    "import time\n",
    "#scraping imports\n",
    "# from bs4 import BeautifulSoup\n",
    "# from selenium.webdriver.common.by import By\n",
    "# from selenium.webdriver.support.ui import WebDriverWait\n",
    "# from selenium import webdriver\n",
    "# from selenium.webdriver.support.ui import Select\n",
    "# from selenium.webdriver.support import expected_conditions as EC\n",
    "import seaborn as sns\n",
    "import nltk\n",
    "nltk.download('punkt')\n",
    "nltk.download('stopwords')\n",
    "sns.set(style='whitegrid',palette='pastel')\n",
    "from pylab import rcParams\n",
    "matplotlib.rcParams['pdf.fonttype'] = 42\n",
    "\n",
    "\n",
    "%matplotlib inline"
   ]
  },
  {
   "cell_type": "code",
   "execution_count": 2,
   "metadata": {
    "ExecuteTime": {
     "end_time": "2019-11-20T22:01:51.369095Z",
     "start_time": "2019-11-20T22:01:51.365465Z"
    }
   },
   "outputs": [],
   "source": [
    "# !pip install nltk"
   ]
  },
  {
   "cell_type": "code",
   "execution_count": 3,
   "metadata": {
    "ExecuteTime": {
     "end_time": "2019-11-20T22:01:51.474488Z",
     "start_time": "2019-11-20T22:01:51.373786Z"
    }
   },
   "outputs": [],
   "source": [
    "df=pd.read_csv('merged_final_11202019.csv',thousands=',')"
   ]
  },
  {
   "cell_type": "code",
   "execution_count": 4,
   "metadata": {
    "ExecuteTime": {
     "end_time": "2019-11-20T22:01:51.486835Z",
     "start_time": "2019-11-20T22:01:51.479015Z"
    }
   },
   "outputs": [],
   "source": [
    "df=df.drop(columns=['raised','goal'])"
   ]
  },
  {
   "cell_type": "code",
   "execution_count": 5,
   "metadata": {
    "ExecuteTime": {
     "end_time": "2019-11-20T22:01:51.516443Z",
     "start_time": "2019-11-20T22:01:51.490450Z"
    }
   },
   "outputs": [
    {
     "data": {
      "text/html": [
       "<div>\n",
       "<style scoped>\n",
       "    .dataframe tbody tr th:only-of-type {\n",
       "        vertical-align: middle;\n",
       "    }\n",
       "\n",
       "    .dataframe tbody tr th {\n",
       "        vertical-align: top;\n",
       "    }\n",
       "\n",
       "    .dataframe thead th {\n",
       "        text-align: right;\n",
       "    }\n",
       "</style>\n",
       "<table border=\"1\" class=\"dataframe\">\n",
       "  <thead>\n",
       "    <tr style=\"text-align: right;\">\n",
       "      <th></th>\n",
       "      <th>Unnamed: 0</th>\n",
       "      <th>funds</th>\n",
       "      <th>link</th>\n",
       "      <th>location</th>\n",
       "      <th>title</th>\n",
       "      <th>created_date</th>\n",
       "      <th>summary</th>\n",
       "      <th>tag</th>\n",
       "      <th>state</th>\n",
       "      <th>goal_int</th>\n",
       "      <th>raised_int</th>\n",
       "    </tr>\n",
       "  </thead>\n",
       "  <tbody>\n",
       "    <tr>\n",
       "      <th>0</th>\n",
       "      <td>0</td>\n",
       "      <td>\\n$2,710 raised of $6,500</td>\n",
       "      <td>https://www.gofundme.com/steven-crowder-live-a...</td>\n",
       "      <td>Dallas, TX</td>\n",
       "      <td>Steven Crowder Live at SMU!</td>\n",
       "      <td>March 7, 2018</td>\n",
       "      <td>SMU College Republicans is bringing comedian S...</td>\n",
       "      <td>rep</td>\n",
       "      <td>TX</td>\n",
       "      <td>6500.0</td>\n",
       "      <td>2710.0</td>\n",
       "    </tr>\n",
       "    <tr>\n",
       "      <th>1</th>\n",
       "      <td>1</td>\n",
       "      <td>\\n$12,857 raised of $10,000</td>\n",
       "      <td>https://www.gofundme.com/reopen-a-nc-republica...</td>\n",
       "      <td>Brookline, MA</td>\n",
       "      <td>Dems help reopen a NC Repub office</td>\n",
       "      <td>October 16, 2016</td>\n",
       "      <td>NOTE: We reached our goal and then some in les...</td>\n",
       "      <td>rep</td>\n",
       "      <td>MA</td>\n",
       "      <td>10000.0</td>\n",
       "      <td>12857.0</td>\n",
       "    </tr>\n",
       "    <tr>\n",
       "      <th>2</th>\n",
       "      <td>2</td>\n",
       "      <td>\\n$13,171 raised of $20,000</td>\n",
       "      <td>https://www.gofundme.com/troopersanchez</td>\n",
       "      <td>Mcallen, TX</td>\n",
       "      <td>Funds for Trooper Moises Sanchez</td>\n",
       "      <td>April 7, 2019</td>\n",
       "      <td>￼Moises Sanchez, a Texas State Trooper, was sh...</td>\n",
       "      <td>rep</td>\n",
       "      <td>TX</td>\n",
       "      <td>20000.0</td>\n",
       "      <td>13171.0</td>\n",
       "    </tr>\n",
       "  </tbody>\n",
       "</table>\n",
       "</div>"
      ],
      "text/plain": [
       "   Unnamed: 0                                            funds  \\\n",
       "0           0    \\n$2,710 raised of $6,500                       \n",
       "1           1  \\n$12,857 raised of $10,000                       \n",
       "2           2  \\n$13,171 raised of $20,000                       \n",
       "\n",
       "                                                link       location  \\\n",
       "0  https://www.gofundme.com/steven-crowder-live-a...     Dallas, TX   \n",
       "1  https://www.gofundme.com/reopen-a-nc-republica...  Brookline, MA   \n",
       "2            https://www.gofundme.com/troopersanchez    Mcallen, TX   \n",
       "\n",
       "                                title       created_date  \\\n",
       "0         Steven Crowder Live at SMU!      March 7, 2018   \n",
       "1  Dems help reopen a NC Repub office   October 16, 2016   \n",
       "2    Funds for Trooper Moises Sanchez      April 7, 2019   \n",
       "\n",
       "                                             summary  tag state  goal_int  \\\n",
       "0  SMU College Republicans is bringing comedian S...  rep    TX    6500.0   \n",
       "1  NOTE: We reached our goal and then some in les...  rep    MA   10000.0   \n",
       "2  ￼Moises Sanchez, a Texas State Trooper, was sh...  rep    TX   20000.0   \n",
       "\n",
       "   raised_int  \n",
       "0      2710.0  \n",
       "1     12857.0  \n",
       "2     13171.0  "
      ]
     },
     "execution_count": 5,
     "metadata": {},
     "output_type": "execute_result"
    }
   ],
   "source": [
    "df.head(3)"
   ]
  },
  {
   "cell_type": "code",
   "execution_count": 6,
   "metadata": {
    "ExecuteTime": {
     "end_time": "2019-11-20T22:01:51.533546Z",
     "start_time": "2019-11-20T22:01:51.520482Z"
    }
   },
   "outputs": [
    {
     "data": {
      "text/plain": [
       "rep    871\n",
       "dem    856\n",
       "Name: tag, dtype: int64"
      ]
     },
     "execution_count": 6,
     "metadata": {},
     "output_type": "execute_result"
    }
   ],
   "source": [
    "#getting a look at how many campaigns with word \"democrat\" vs \"republican\"\n",
    "df.tag.value_counts()"
   ]
  },
  {
   "cell_type": "code",
   "execution_count": 7,
   "metadata": {
    "ExecuteTime": {
     "end_time": "2019-11-20T22:01:51.554760Z",
     "start_time": "2019-11-20T22:01:51.537667Z"
    }
   },
   "outputs": [
    {
     "data": {
      "text/plain": [
       "239"
      ]
     },
     "execution_count": 7,
     "metadata": {},
     "output_type": "execute_result"
    }
   ],
   "source": [
    "#overlap count\n",
    "df.link.value_counts()[df.link.value_counts()==2].count()"
   ]
  },
  {
   "cell_type": "code",
   "execution_count": 8,
   "metadata": {
    "ExecuteTime": {
     "end_time": "2019-11-20T22:01:51.567552Z",
     "start_time": "2019-11-20T22:01:51.560681Z"
    }
   },
   "outputs": [],
   "source": [
    "#converting dates\n",
    "df['created_date']=df.created_date.str.replace('Created ','')\n",
    "\n",
    "# df['date']=pd.to_datetime(df.created_date,infer_datetime_format=True)"
   ]
  },
  {
   "cell_type": "code",
   "execution_count": 9,
   "metadata": {
    "ExecuteTime": {
     "end_time": "2019-11-20T22:01:51.658638Z",
     "start_time": "2019-11-20T22:01:51.572583Z"
    }
   },
   "outputs": [
    {
     "name": "stderr",
     "output_type": "stream",
     "text": [
      "/Users/lilyliu-krason/.pyenv/versions/3.7.1/lib/python3.7/site-packages/ipykernel_launcher.py:3: SettingWithCopyWarning: \n",
      "A value is trying to be set on a copy of a slice from a DataFrame.\n",
      "Try using .loc[row_indexer,col_indexer] = value instead\n",
      "\n",
      "See the caveats in the documentation: http://pandas.pydata.org/pandas-docs/stable/indexing.html#indexing-view-versus-copy\n",
      "  This is separate from the ipykernel package so we can avoid doing imports until\n"
     ]
    }
   ],
   "source": [
    "#you'll have to drop the 1 day ago, 3 days ago...\n",
    "ago_df=df[df.created_date.str.contains('ago')==True]\n",
    "ago_df['created_date']=ago_df.created_date.str.replace(' ago','')"
   ]
  },
  {
   "cell_type": "code",
   "execution_count": 10,
   "metadata": {
    "ExecuteTime": {
     "end_time": "2019-11-20T22:01:51.686140Z",
     "start_time": "2019-11-20T22:01:51.662533Z"
    }
   },
   "outputs": [
    {
     "data": {
      "text/html": [
       "<div>\n",
       "<style scoped>\n",
       "    .dataframe tbody tr th:only-of-type {\n",
       "        vertical-align: middle;\n",
       "    }\n",
       "\n",
       "    .dataframe tbody tr th {\n",
       "        vertical-align: top;\n",
       "    }\n",
       "\n",
       "    .dataframe thead th {\n",
       "        text-align: right;\n",
       "    }\n",
       "</style>\n",
       "<table border=\"1\" class=\"dataframe\">\n",
       "  <thead>\n",
       "    <tr style=\"text-align: right;\">\n",
       "      <th></th>\n",
       "      <th>Unnamed: 0</th>\n",
       "      <th>funds</th>\n",
       "      <th>link</th>\n",
       "      <th>location</th>\n",
       "      <th>title</th>\n",
       "      <th>created_date</th>\n",
       "      <th>summary</th>\n",
       "      <th>tag</th>\n",
       "      <th>state</th>\n",
       "      <th>goal_int</th>\n",
       "      <th>raised_int</th>\n",
       "    </tr>\n",
       "  </thead>\n",
       "  <tbody>\n",
       "    <tr>\n",
       "      <th>53</th>\n",
       "      <td>58</td>\n",
       "      <td>\\n$0 raised of $5,200</td>\n",
       "      <td>https://www.gofundme.com/educate-republican-se...</td>\n",
       "      <td>Plano, TX</td>\n",
       "      <td>Educate Republican Senators and Congressmen</td>\n",
       "      <td>4 days</td>\n",
       "      <td>This GoFundMe is to raise money to send each a...</td>\n",
       "      <td>rep</td>\n",
       "      <td>TX</td>\n",
       "      <td>5200.0</td>\n",
       "      <td>0.0</td>\n",
       "    </tr>\n",
       "    <tr>\n",
       "      <th>54</th>\n",
       "      <td>59</td>\n",
       "      <td>\\n$0 raised of $1,000</td>\n",
       "      <td>https://www.gofundme.com/empowering-conservati...</td>\n",
       "      <td>Lake Forest, IL</td>\n",
       "      <td>Empowering Conservatives @ Lake Forest College</td>\n",
       "      <td>4 days</td>\n",
       "      <td>This GoFundMe is designed to raise money for e...</td>\n",
       "      <td>rep</td>\n",
       "      <td>IL</td>\n",
       "      <td>1000.0</td>\n",
       "      <td>0.0</td>\n",
       "    </tr>\n",
       "    <tr>\n",
       "      <th>55</th>\n",
       "      <td>60</td>\n",
       "      <td>\\n$0 raised of $5,000</td>\n",
       "      <td>https://www.gofundme.com/ndsu-college-republicans</td>\n",
       "      <td>Fargo, ND</td>\n",
       "      <td>NDSU College Republicans</td>\n",
       "      <td>6 days</td>\n",
       "      <td>We are the NDSU College Republicans. We are ve...</td>\n",
       "      <td>rep</td>\n",
       "      <td>ND</td>\n",
       "      <td>5000.0</td>\n",
       "      <td>0.0</td>\n",
       "    </tr>\n",
       "  </tbody>\n",
       "</table>\n",
       "</div>"
      ],
      "text/plain": [
       "    Unnamed: 0                                      funds  \\\n",
       "53          58  \\n$0 raised of $5,200                       \n",
       "54          59  \\n$0 raised of $1,000                       \n",
       "55          60  \\n$0 raised of $5,000                       \n",
       "\n",
       "                                                 link         location  \\\n",
       "53  https://www.gofundme.com/educate-republican-se...        Plano, TX   \n",
       "54  https://www.gofundme.com/empowering-conservati...  Lake Forest, IL   \n",
       "55  https://www.gofundme.com/ndsu-college-republicans        Fargo, ND   \n",
       "\n",
       "                                             title created_date  \\\n",
       "53     Educate Republican Senators and Congressmen       4 days   \n",
       "54  Empowering Conservatives @ Lake Forest College       4 days   \n",
       "55                        NDSU College Republicans       6 days   \n",
       "\n",
       "                                              summary  tag state  goal_int  \\\n",
       "53  This GoFundMe is to raise money to send each a...  rep    TX    5200.0   \n",
       "54  This GoFundMe is designed to raise money for e...  rep    IL    1000.0   \n",
       "55  We are the NDSU College Republicans. We are ve...  rep    ND    5000.0   \n",
       "\n",
       "    raised_int  \n",
       "53         0.0  \n",
       "54         0.0  \n",
       "55         0.0  "
      ]
     },
     "execution_count": 10,
     "metadata": {},
     "output_type": "execute_result"
    }
   ],
   "source": [
    "ago_df.head(3)"
   ]
  },
  {
   "cell_type": "code",
   "execution_count": 11,
   "metadata": {
    "ExecuteTime": {
     "end_time": "2019-11-20T22:01:51.762582Z",
     "start_time": "2019-11-20T22:01:51.690175Z"
    },
    "scrolled": true
   },
   "outputs": [
    {
     "name": "stderr",
     "output_type": "stream",
     "text": [
      "/Users/lilyliu-krason/.pyenv/versions/3.7.1/lib/python3.7/site-packages/pandas/core/indexing.py:543: SettingWithCopyWarning: \n",
      "A value is trying to be set on a copy of a slice from a DataFrame.\n",
      "Try using .loc[row_indexer,col_indexer] = value instead\n",
      "\n",
      "See the caveats in the documentation: http://pandas.pydata.org/pandas-docs/stable/indexing.html#indexing-view-versus-copy\n",
      "  self.obj[item] = s\n"
     ]
    }
   ],
   "source": [
    "# turn hours ago to 1 day ago\n",
    "ago_df.loc[ago_df.created_date.str.contains(\"hour\"), 'created_date']='1 day'"
   ]
  },
  {
   "cell_type": "code",
   "execution_count": 12,
   "metadata": {
    "ExecuteTime": {
     "end_time": "2019-11-20T22:01:51.836957Z",
     "start_time": "2019-11-20T22:01:51.766205Z"
    }
   },
   "outputs": [
    {
     "name": "stderr",
     "output_type": "stream",
     "text": [
      "/Users/lilyliu-krason/.pyenv/versions/3.7.1/lib/python3.7/site-packages/ipykernel_launcher.py:2: SettingWithCopyWarning: \n",
      "A value is trying to be set on a copy of a slice from a DataFrame.\n",
      "Try using .loc[row_indexer,col_indexer] = value instead\n",
      "\n",
      "See the caveats in the documentation: http://pandas.pydata.org/pandas-docs/stable/indexing.html#indexing-view-versus-copy\n",
      "  \n"
     ]
    }
   ],
   "source": [
    "# extract the date difference\n",
    "ago_df['data_diff'] = ago_df.created_date.str.extract(r'(\\d+)', expand=False).astype(int)"
   ]
  },
  {
   "cell_type": "code",
   "execution_count": 13,
   "metadata": {
    "ExecuteTime": {
     "end_time": "2019-11-20T22:01:51.915909Z",
     "start_time": "2019-11-20T22:01:51.840397Z"
    }
   },
   "outputs": [
    {
     "name": "stderr",
     "output_type": "stream",
     "text": [
      "/Users/lilyliu-krason/.pyenv/versions/3.7.1/lib/python3.7/site-packages/ipykernel_launcher.py:2: SettingWithCopyWarning: \n",
      "A value is trying to be set on a copy of a slice from a DataFrame.\n",
      "Try using .loc[row_indexer,col_indexer] = value instead\n",
      "\n",
      "See the caveats in the documentation: http://pandas.pydata.org/pandas-docs/stable/indexing.html#indexing-view-versus-copy\n",
      "  \n"
     ]
    }
   ],
   "source": [
    "#since this data was grabbed 7/17 we'll have to subtract a few more days\n",
    "ago_df['created_actual']=ago_df['data_diff'].apply(lambda x: pd.datetime.now().date()-timedelta(days=x+5))"
   ]
  },
  {
   "cell_type": "code",
   "execution_count": 14,
   "metadata": {
    "ExecuteTime": {
     "end_time": "2019-11-20T22:01:51.926129Z",
     "start_time": "2019-11-20T22:01:51.919969Z"
    }
   },
   "outputs": [],
   "source": [
    "ago_df=ago_df.drop(columns=['created_date','data_diff'])"
   ]
  },
  {
   "cell_type": "code",
   "execution_count": 15,
   "metadata": {
    "ExecuteTime": {
     "end_time": "2019-11-20T22:01:51.934378Z",
     "start_time": "2019-11-20T22:01:51.929457Z"
    }
   },
   "outputs": [],
   "source": [
    "ago_df=ago_df.rename(columns={'created_actual':'created_date'})"
   ]
  },
  {
   "cell_type": "code",
   "execution_count": 16,
   "metadata": {
    "ExecuteTime": {
     "end_time": "2019-11-20T22:01:51.950888Z",
     "start_time": "2019-11-20T22:01:51.938757Z"
    }
   },
   "outputs": [],
   "source": [
    "df=df[df.created_date.str.contains('ago')==False]"
   ]
  },
  {
   "cell_type": "code",
   "execution_count": 17,
   "metadata": {
    "ExecuteTime": {
     "end_time": "2019-11-20T22:01:51.971597Z",
     "start_time": "2019-11-20T22:01:51.955400Z"
    }
   },
   "outputs": [
    {
     "name": "stderr",
     "output_type": "stream",
     "text": [
      "/Users/lilyliu-krason/.pyenv/versions/3.7.1/lib/python3.7/site-packages/pandas/core/frame.py:6692: FutureWarning: Sorting because non-concatenation axis is not aligned. A future version\n",
      "of pandas will change to not sort by default.\n",
      "\n",
      "To accept the future behavior, pass 'sort=False'.\n",
      "\n",
      "To retain the current behavior and silence the warning, pass 'sort=True'.\n",
      "\n",
      "  sort=sort)\n"
     ]
    }
   ],
   "source": [
    "df=df.append(ago_df)"
   ]
  },
  {
   "cell_type": "code",
   "execution_count": 18,
   "metadata": {
    "ExecuteTime": {
     "end_time": "2019-11-20T22:01:52.980425Z",
     "start_time": "2019-11-20T22:01:51.975988Z"
    }
   },
   "outputs": [],
   "source": [
    "#convert to datetime and add Year, Month, Weekday\n",
    "df['year']=pd.to_datetime(df.created_date).dt.year\n",
    "df['month']=pd.to_datetime(df.created_date).dt.month\n",
    "df['weekday_name'] =pd.to_datetime(df.created_date).dt.weekday_name"
   ]
  },
  {
   "cell_type": "markdown",
   "metadata": {},
   "source": [
    "# Using Crosstab to Compare \"Democrat\" vs \"Republican\""
   ]
  },
  {
   "cell_type": "code",
   "execution_count": 19,
   "metadata": {
    "ExecuteTime": {
     "end_time": "2019-11-20T22:01:53.610652Z",
     "start_time": "2019-11-20T22:01:52.983588Z"
    }
   },
   "outputs": [
    {
     "data": {
      "text/plain": [
       "<matplotlib.axes._subplots.AxesSubplot at 0x121222b00>"
      ]
     },
     "execution_count": 19,
     "metadata": {},
     "output_type": "execute_result"
    },
    {
     "data": {
      "image/png": "[encoded data removed]",
      "text/plain": [
       "<Figure size 432x288 with 1 Axes>"
      ]
     },
     "metadata": {
      "needs_background": "light"
     },
     "output_type": "display_data"
    }
   ],
   "source": [
    "pd.crosstab(index=df.year,columns=df.tag).plot(kind='barh',stacked=True,title='Campaigns Created By Year Containing Word')"
   ]
  },
  {
   "cell_type": "code",
   "execution_count": 20,
   "metadata": {
    "ExecuteTime": {
     "end_time": "2019-11-20T22:01:53.629860Z",
     "start_time": "2019-11-20T22:01:53.614742Z"
    }
   },
   "outputs": [],
   "source": [
    "overlap=df[df.link.isin(df.link.value_counts()[df.link.value_counts()==2].index)]"
   ]
  },
  {
   "cell_type": "code",
   "execution_count": 21,
   "metadata": {
    "ExecuteTime": {
     "end_time": "2019-11-20T22:01:54.118659Z",
     "start_time": "2019-11-20T22:01:53.633224Z"
    }
   },
   "outputs": [
    {
     "data": {
      "text/plain": [
       "<matplotlib.axes._subplots.AxesSubplot at 0x1213c7630>"
      ]
     },
     "execution_count": 21,
     "metadata": {},
     "output_type": "execute_result"
    },
    {
     "data": {
      "image/png": "[encoded data removed]",
      "text/plain": [
       "<Figure size 432x288 with 1 Axes>"
      ]
     },
     "metadata": {
      "needs_background": "light"
     },
     "output_type": "display_data"
    }
   ],
   "source": [
    "overlap.year.value_counts().plot(kind='barh',title='campaigns created with both words')"
   ]
  },
  {
   "cell_type": "code",
   "execution_count": 22,
   "metadata": {
    "ExecuteTime": {
     "end_time": "2019-11-20T22:01:54.840173Z",
     "start_time": "2019-11-20T22:01:54.122551Z"
    }
   },
   "outputs": [
    {
     "data": {
      "text/plain": [
       "<matplotlib.axes._subplots.AxesSubplot at 0x121157e10>"
      ]
     },
     "execution_count": 22,
     "metadata": {},
     "output_type": "execute_result"
    },
    {
     "data": {
      "image/png": "[encoded data removed]",
      "text/plain": [
       "<Figure size 720x720 with 1 Axes>"
      ]
     },
     "metadata": {
      "needs_background": "light"
     },
     "output_type": "display_data"
    }
   ],
   "source": [
    "pd.crosstab(index=df.month,columns=df.tag).plot(kind='barh',stacked=True,width=0.7,title='Campaigns Created By Month Containing Word',figsize=(10,10))"
   ]
  },
  {
   "cell_type": "code",
   "execution_count": 23,
   "metadata": {
    "ExecuteTime": {
     "end_time": "2019-11-20T22:01:55.516658Z",
     "start_time": "2019-11-20T22:01:54.848687Z"
    }
   },
   "outputs": [
    {
     "data": {
      "text/plain": [
       "<matplotlib.axes._subplots.AxesSubplot at 0x121925940>"
      ]
     },
     "execution_count": 23,
     "metadata": {},
     "output_type": "execute_result"
    },
    {
     "data": {
      "image/png": "[encoded data removed]",
      "text/plain": [
       "<Figure size 720x720 with 1 Axes>"
      ]
     },
     "metadata": {
      "needs_background": "light"
     },
     "output_type": "display_data"
    }
   ],
   "source": [
    "pd.crosstab(index=df['weekday_name'],columns=df.tag).plot(kind='barh',stacked=True,width=0.7,title='Campaigns Created By Day of Week Containing Word',figsize=(10,10))"
   ]
  },
  {
   "cell_type": "code",
   "execution_count": 24,
   "metadata": {
    "ExecuteTime": {
     "end_time": "2019-11-20T22:01:55.541870Z",
     "start_time": "2019-11-20T22:01:55.523180Z"
    }
   },
   "outputs": [
    {
     "data": {
      "text/plain": [
       "tag\n",
       "dem     5000.0\n",
       "rep    10000.0\n",
       "Name: goal_int, dtype: float64"
      ]
     },
     "execution_count": 24,
     "metadata": {},
     "output_type": "execute_result"
    }
   ],
   "source": [
    "df.groupby('tag')['goal_int'].median()"
   ]
  },
  {
   "cell_type": "code",
   "execution_count": 25,
   "metadata": {
    "ExecuteTime": {
     "end_time": "2019-11-20T22:01:55.555470Z",
     "start_time": "2019-11-20T22:01:55.545791Z"
    }
   },
   "outputs": [
    {
     "data": {
      "text/plain": [
       "10000.0"
      ]
     },
     "execution_count": 25,
     "metadata": {},
     "output_type": "execute_result"
    }
   ],
   "source": [
    "overlap.goal_int.median()"
   ]
  },
  {
   "cell_type": "code",
   "execution_count": 26,
   "metadata": {
    "ExecuteTime": {
     "end_time": "2019-11-20T22:01:56.841543Z",
     "start_time": "2019-11-20T22:01:55.559600Z"
    }
   },
   "outputs": [
    {
     "data": {
      "text/plain": [
       "<seaborn.axisgrid.FacetGrid at 0x121925fd0>"
      ]
     },
     "execution_count": 26,
     "metadata": {},
     "output_type": "execute_result"
    },
    {
     "data": {
      "image/png": "[encoded data removed]",
      "text/plain": [
       "<Figure size 421.1x360 with 1 Axes>"
      ]
     },
     "metadata": {
      "needs_background": "light"
     },
     "output_type": "display_data"
    }
   ],
   "source": [
    "sns.lmplot(x='month',y='goal_int',hue='tag',data=df)"
   ]
  },
  {
   "cell_type": "code",
   "execution_count": 27,
   "metadata": {
    "ExecuteTime": {
     "end_time": "2019-11-20T22:01:58.776741Z",
     "start_time": "2019-11-20T22:01:56.846775Z"
    }
   },
   "outputs": [
    {
     "data": {
      "image/png": "[encoded data removed]",
      "text/plain": [
       "<Figure size 1440x1440 with 1 Axes>"
      ]
     },
     "metadata": {
      "needs_background": "light"
     },
     "output_type": "display_data"
    }
   ],
   "source": [
    "ax=df.state.value_counts().sort_values(ascending=True).plot(kind='barh',figsize=(20,20),title='campaigns created by state')\n",
    "ax.grid(linestyle='-', linewidth='0.1')\n",
    "#remove grid lines\n",
    "plt.gca().yaxis.grid(False)\n",
    "for i, v in enumerate(df.state.value_counts(ascending=True).apply(lambda x: round(x, 1)).reset_index(drop=True)):\n",
    "     ax.text(v-0.1, i-0.2, str(v))"
   ]
  },
  {
   "cell_type": "code",
   "execution_count": 28,
   "metadata": {
    "ExecuteTime": {
     "end_time": "2019-11-20T22:01:58.795180Z",
     "start_time": "2019-11-20T22:01:58.780244Z"
    }
   },
   "outputs": [
    {
     "name": "stdout",
     "output_type": "stream",
     "text": [
      "<class 'pandas.core.frame.DataFrame'>\n",
      "Int64Index: 1727 entries, 0 to 1538\n",
      "Data columns (total 14 columns):\n",
      "Unnamed: 0      1727 non-null int64\n",
      "created_date    1727 non-null object\n",
      "funds           1727 non-null object\n",
      "goal_int        1727 non-null float64\n",
      "link            1727 non-null object\n",
      "location        1727 non-null object\n",
      "raised_int      1727 non-null float64\n",
      "state           1727 non-null object\n",
      "summary         1727 non-null object\n",
      "tag             1727 non-null object\n",
      "title           1727 non-null object\n",
      "year            1727 non-null int64\n",
      "month           1727 non-null int64\n",
      "weekday_name    1727 non-null object\n",
      "dtypes: float64(2), int64(3), object(9)\n",
      "memory usage: 202.4+ KB\n"
     ]
    }
   ],
   "source": [
    "df.info()"
   ]
  },
  {
   "cell_type": "code",
   "execution_count": 30,
   "metadata": {
    "ExecuteTime": {
     "end_time": "2019-11-20T22:05:55.177662Z",
     "start_time": "2019-11-20T22:05:55.161063Z"
    }
   },
   "outputs": [],
   "source": [
    "state_agg=df.groupby('state').agg({'raised_int': [min, max, sum]})\n",
    "state_agg.columns = state_agg.columns.droplevel(level=0)\n",
    "state_agg=state_agg.rename(columns={\n",
    "    \"min\": \"min_raised\", \"max\": \"max_raised\", \"sum\": \"sum_raised\",state_agg.index.name:'state'})\n",
    "state_agg=state_agg.reset_index()"
   ]
  },
  {
   "cell_type": "code",
   "execution_count": 31,
   "metadata": {
    "ExecuteTime": {
     "end_time": "2019-11-20T22:05:57.511386Z",
     "start_time": "2019-11-20T22:05:57.495740Z"
    }
   },
   "outputs": [],
   "source": [
    "#getting some total raised numbers by state\n",
    "state_det=df.groupby('state').agg({'raised_int': [min, max, sum,'mean']})\n",
    "state_det.columns = state_det.columns.droplevel(level=0)\n",
    "state_det=state_det.rename(columns={\"mean\": \"avg_raised\",\n",
    "    \"min\": \"min_raised\", \"max\": \"max_raised\", \"sum\": \"sum_raised\",state_agg.index.name:'state'})\n",
    "state_det=state_det.reset_index()\n"
   ]
  },
  {
   "cell_type": "code",
   "execution_count": 32,
   "metadata": {
    "ExecuteTime": {
     "end_time": "2019-11-20T22:06:02.216535Z",
     "start_time": "2019-11-20T22:06:02.200242Z"
    }
   },
   "outputs": [],
   "source": [
    "state_det\n",
    "state_det.to_csv('state_det_raw_graphs1120.csv',index=False)"
   ]
  },
  {
   "cell_type": "code",
   "execution_count": 33,
   "metadata": {
    "ExecuteTime": {
     "end_time": "2019-11-20T22:06:04.616312Z",
     "start_time": "2019-11-20T22:06:04.606050Z"
    }
   },
   "outputs": [
    {
     "name": "stdout",
     "output_type": "stream",
     "text": [
      "<class 'pandas.core.frame.DataFrame'>\n",
      "RangeIndex: 51 entries, 0 to 50\n",
      "Data columns (total 4 columns):\n",
      "state         51 non-null object\n",
      "min_raised    51 non-null float64\n",
      "max_raised    51 non-null float64\n",
      "sum_raised    51 non-null float64\n",
      "dtypes: float64(3), object(1)\n",
      "memory usage: 1.7+ KB\n"
     ]
    }
   ],
   "source": [
    "state_agg.info()"
   ]
  },
  {
   "cell_type": "code",
   "execution_count": 34,
   "metadata": {
    "ExecuteTime": {
     "end_time": "2019-11-20T22:06:07.763080Z",
     "start_time": "2019-11-20T22:06:07.016593Z"
    }
   },
   "outputs": [
    {
     "data": {
      "image/png": "[encoded data removed]",
      "text/plain": [
       "<Figure size 720x360 with 1 Axes>"
      ]
     },
     "metadata": {
      "needs_background": "light"
     },
     "output_type": "display_data"
    }
   ],
   "source": [
    "#average raised by states\n",
    "plt.figure(figsize=(10,5))\n",
    "\n",
    "ax=sns.barplot(x='avg_raised',y='state',ci=0,data=state_det.sort_values(by='avg_raised',ascending=False).head(20),palette='husl')\n",
    "plt.ticklabel_format(style='plain', axis='x')\n",
    "\n",
    "for i, v in enumerate(state_det.sort_values(by='avg_raised',ascending=False).head(20)['avg_raised'].apply(lambda x: round(x, 1)).reset_index(drop=True)):\n",
    "     ax.text(v-0.1, i+0.1, str(v))"
   ]
  },
  {
   "cell_type": "code",
   "execution_count": 35,
   "metadata": {
    "ExecuteTime": {
     "end_time": "2019-11-20T22:06:13.865271Z",
     "start_time": "2019-11-20T22:06:13.178260Z"
    }
   },
   "outputs": [
    {
     "data": {
      "image/png": "[encoded data removed]",
      "text/plain": [
       "<Figure size 720x360 with 1 Axes>"
      ]
     },
     "metadata": {
      "needs_background": "light"
     },
     "output_type": "display_data"
    }
   ],
   "source": [
    "#total raised by states\n",
    "plt.figure(figsize=(10,5))\n",
    "\n",
    "ax=sns.barplot(x='sum_raised',y='state',ci=0,data=state_agg.sort_values(by='sum_raised',ascending=False).head(20),palette='husl')\n",
    "plt.ticklabel_format(style='plain', axis='x')\n",
    "\n",
    "for i, v in enumerate(state_agg.sort_values(by='sum_raised',ascending=False).head(20)['sum_raised'].apply(lambda x: round(x, 1)).reset_index(drop=True)):\n",
    "     ax.text(v-0.1, i+0.1, str(v))"
   ]
  },
  {
   "cell_type": "code",
   "execution_count": 36,
   "metadata": {
    "ExecuteTime": {
     "end_time": "2019-11-20T22:06:21.619063Z",
     "start_time": "2019-11-20T22:06:20.973844Z"
    }
   },
   "outputs": [
    {
     "data": {
      "image/png": "[encoded data removed]",
      "text/plain": [
       "<Figure size 720x360 with 1 Axes>"
      ]
     },
     "metadata": {
      "needs_background": "light"
     },
     "output_type": "display_data"
    }
   ],
   "source": [
    "#top 10 campaigns\n",
    "plt.figure(figsize=(10,5))\n",
    "\n",
    "ax=sns.barplot(x='raised_int',y='title',ci=0,data=df.sort_values(by='raised_int',ascending=False).head(12),palette='husl')\n",
    "plt.ticklabel_format(style='plain', axis='x')\n",
    "\n",
    "for i, v in enumerate(df.sort_values(by='raised_int',ascending=False).head(10)['raised_int'].reset_index(drop=True)):\n",
    "     ax.text(v-0.1, i+0.1, str(v))\n",
    "\n"
   ]
  },
  {
   "cell_type": "code",
   "execution_count": 37,
   "metadata": {
    "ExecuteTime": {
     "end_time": "2019-11-20T22:06:50.472889Z",
     "start_time": "2019-11-20T22:06:48.211270Z"
    }
   },
   "outputs": [
    {
     "data": {
      "text/plain": [
       "<matplotlib.axes._subplots.AxesSubplot at 0x12553bfd0>"
      ]
     },
     "execution_count": 37,
     "metadata": {},
     "output_type": "execute_result"
    },
    {
     "data": {
      "image/png": "[encoded data removed]",
      "text/plain": [
       "<Figure size 1440x360 with 1 Axes>"
      ]
     },
     "metadata": {
      "needs_background": "light"
     },
     "output_type": "display_data"
    }
   ],
   "source": [
    "plt.figure(figsize=(20,5))\n",
    "sns.barplot(x='state',y='raised_int',ci=0,data=overlap)"
   ]
  },
  {
   "cell_type": "markdown",
   "metadata": {},
   "source": [
    "# Aggregate Graphs\n"
   ]
  },
  {
   "cell_type": "code",
   "execution_count": null,
   "metadata": {
    "ExecuteTime": {
     "end_time": "2019-11-20T22:01:59.106258Z",
     "start_time": "2019-11-20T22:01:48.523Z"
    }
   },
   "outputs": [],
   "source": [
    "# #using seaborn time series formatting\n",
    "# sns.set(rc={'figure.figsize':(11, 4)})"
   ]
  },
  {
   "cell_type": "code",
   "execution_count": 39,
   "metadata": {
    "ExecuteTime": {
     "end_time": "2019-11-21T04:42:45.156310Z",
     "start_time": "2019-11-21T04:42:45.114339Z"
    }
   },
   "outputs": [
    {
     "name": "stdout",
     "output_type": "stream",
     "text": [
      "<class 'pandas.core.frame.DataFrame'>\n",
      "Int64Index: 1727 entries, 0 to 1538\n",
      "Data columns (total 14 columns):\n",
      "Unnamed: 0      1727 non-null int64\n",
      "created_date    1727 non-null object\n",
      "funds           1727 non-null object\n",
      "goal_int        1727 non-null float64\n",
      "link            1727 non-null object\n",
      "location        1727 non-null object\n",
      "raised_int      1727 non-null float64\n",
      "state           1727 non-null object\n",
      "summary         1727 non-null object\n",
      "tag             1727 non-null object\n",
      "title           1727 non-null object\n",
      "year            1727 non-null int64\n",
      "month           1727 non-null int64\n",
      "weekday_name    1727 non-null object\n",
      "dtypes: float64(2), int64(3), object(9)\n",
      "memory usage: 282.4+ KB\n"
     ]
    }
   ],
   "source": [
    "df.info()"
   ]
  },
  {
   "cell_type": "code",
   "execution_count": 38,
   "metadata": {
    "ExecuteTime": {
     "end_time": "2019-11-21T04:42:16.357514Z",
     "start_time": "2019-11-21T04:42:16.176862Z"
    }
   },
   "outputs": [
    {
     "ename": "KeyError",
     "evalue": "'Weekday Name'",
     "output_type": "error",
     "traceback": [
      "\u001b[0;31m---------------------------------------------------------------------------\u001b[0m",
      "\u001b[0;31mKeyError\u001b[0m                                  Traceback (most recent call last)",
      "\u001b[0;32m~/.pyenv/versions/3.7.1/lib/python3.7/site-packages/pandas/core/indexes/base.py\u001b[0m in \u001b[0;36mget_loc\u001b[0;34m(self, key, method, tolerance)\u001b[0m\n\u001b[1;32m   2656\u001b[0m             \u001b[0;32mtry\u001b[0m\u001b[0;34m:\u001b[0m\u001b[0;34m\u001b[0m\u001b[0;34m\u001b[0m\u001b[0m\n\u001b[0;32m-> 2657\u001b[0;31m                 \u001b[0;32mreturn\u001b[0m \u001b[0mself\u001b[0m\u001b[0;34m.\u001b[0m\u001b[0m_engine\u001b[0m\u001b[0;34m.\u001b[0m\u001b[0mget_loc\u001b[0m\u001b[0;34m(\u001b[0m\u001b[0mkey\u001b[0m\u001b[0;34m)\u001b[0m\u001b[0;34m\u001b[0m\u001b[0;34m\u001b[0m\u001b[0m\n\u001b[0m\u001b[1;32m   2658\u001b[0m             \u001b[0;32mexcept\u001b[0m \u001b[0mKeyError\u001b[0m\u001b[0;34m:\u001b[0m\u001b[0;34m\u001b[0m\u001b[0;34m\u001b[0m\u001b[0m\n",
      "\u001b[0;32mpandas/_libs/index.pyx\u001b[0m in \u001b[0;36mpandas._libs.index.IndexEngine.get_loc\u001b[0;34m()\u001b[0m\n",
      "\u001b[0;32mpandas/_libs/index.pyx\u001b[0m in \u001b[0;36mpandas._libs.index.IndexEngine.get_loc\u001b[0;34m()\u001b[0m\n",
      "\u001b[0;32mpandas/_libs/hashtable_class_helper.pxi\u001b[0m in \u001b[0;36mpandas._libs.hashtable.PyObjectHashTable.get_item\u001b[0;34m()\u001b[0m\n",
      "\u001b[0;32mpandas/_libs/hashtable_class_helper.pxi\u001b[0m in \u001b[0;36mpandas._libs.hashtable.PyObjectHashTable.get_item\u001b[0;34m()\u001b[0m\n",
      "\u001b[0;31mKeyError\u001b[0m: 'Weekday Name'",
      "\nDuring handling of the above exception, another exception occurred:\n",
      "\u001b[0;31mKeyError\u001b[0m                                  Traceback (most recent call last)",
      "\u001b[0;32m<ipython-input-38-2338d7172b38>\u001b[0m in \u001b[0;36m<module>\u001b[0;34m\u001b[0m\n\u001b[0;32m----> 1\u001b[0;31m df['Weekday Name'] = pd.Categorical(df['Weekday Name'], categories=\n\u001b[0m\u001b[1;32m      2\u001b[0m     \u001b[0;34m[\u001b[0m\u001b[0;34m'Monday'\u001b[0m\u001b[0;34m,\u001b[0m\u001b[0;34m'Tuesday'\u001b[0m\u001b[0;34m,\u001b[0m\u001b[0;34m'Wednesday'\u001b[0m\u001b[0;34m,\u001b[0m\u001b[0;34m'Thursday'\u001b[0m\u001b[0;34m,\u001b[0m\u001b[0;34m'Friday'\u001b[0m\u001b[0;34m,\u001b[0m\u001b[0;34m'Saturday'\u001b[0m\u001b[0;34m,\u001b[0m \u001b[0;34m'Sunday'\u001b[0m\u001b[0;34m]\u001b[0m\u001b[0;34m,\u001b[0m\u001b[0;34m\u001b[0m\u001b[0;34m\u001b[0m\u001b[0m\n\u001b[1;32m      3\u001b[0m     ordered=True)\n",
      "\u001b[0;32m~/.pyenv/versions/3.7.1/lib/python3.7/site-packages/pandas/core/frame.py\u001b[0m in \u001b[0;36m__getitem__\u001b[0;34m(self, key)\u001b[0m\n\u001b[1;32m   2925\u001b[0m             \u001b[0;32mif\u001b[0m \u001b[0mself\u001b[0m\u001b[0;34m.\u001b[0m\u001b[0mcolumns\u001b[0m\u001b[0;34m.\u001b[0m\u001b[0mnlevels\u001b[0m \u001b[0;34m>\u001b[0m \u001b[0;36m1\u001b[0m\u001b[0;34m:\u001b[0m\u001b[0;34m\u001b[0m\u001b[0;34m\u001b[0m\u001b[0m\n\u001b[1;32m   2926\u001b[0m                 \u001b[0;32mreturn\u001b[0m \u001b[0mself\u001b[0m\u001b[0;34m.\u001b[0m\u001b[0m_getitem_multilevel\u001b[0m\u001b[0;34m(\u001b[0m\u001b[0mkey\u001b[0m\u001b[0;34m)\u001b[0m\u001b[0;34m\u001b[0m\u001b[0;34m\u001b[0m\u001b[0m\n\u001b[0;32m-> 2927\u001b[0;31m             \u001b[0mindexer\u001b[0m \u001b[0;34m=\u001b[0m \u001b[0mself\u001b[0m\u001b[0;34m.\u001b[0m\u001b[0mcolumns\u001b[0m\u001b[0;34m.\u001b[0m\u001b[0mget_loc\u001b[0m\u001b[0;34m(\u001b[0m\u001b[0mkey\u001b[0m\u001b[0;34m)\u001b[0m\u001b[0;34m\u001b[0m\u001b[0;34m\u001b[0m\u001b[0m\n\u001b[0m\u001b[1;32m   2928\u001b[0m             \u001b[0;32mif\u001b[0m \u001b[0mis_integer\u001b[0m\u001b[0;34m(\u001b[0m\u001b[0mindexer\u001b[0m\u001b[0;34m)\u001b[0m\u001b[0;34m:\u001b[0m\u001b[0;34m\u001b[0m\u001b[0;34m\u001b[0m\u001b[0m\n\u001b[1;32m   2929\u001b[0m                 \u001b[0mindexer\u001b[0m \u001b[0;34m=\u001b[0m \u001b[0;34m[\u001b[0m\u001b[0mindexer\u001b[0m\u001b[0;34m]\u001b[0m\u001b[0;34m\u001b[0m\u001b[0;34m\u001b[0m\u001b[0m\n",
      "\u001b[0;32m~/.pyenv/versions/3.7.1/lib/python3.7/site-packages/pandas/core/indexes/base.py\u001b[0m in \u001b[0;36mget_loc\u001b[0;34m(self, key, method, tolerance)\u001b[0m\n\u001b[1;32m   2657\u001b[0m                 \u001b[0;32mreturn\u001b[0m \u001b[0mself\u001b[0m\u001b[0;34m.\u001b[0m\u001b[0m_engine\u001b[0m\u001b[0;34m.\u001b[0m\u001b[0mget_loc\u001b[0m\u001b[0;34m(\u001b[0m\u001b[0mkey\u001b[0m\u001b[0;34m)\u001b[0m\u001b[0;34m\u001b[0m\u001b[0;34m\u001b[0m\u001b[0m\n\u001b[1;32m   2658\u001b[0m             \u001b[0;32mexcept\u001b[0m \u001b[0mKeyError\u001b[0m\u001b[0;34m:\u001b[0m\u001b[0;34m\u001b[0m\u001b[0;34m\u001b[0m\u001b[0m\n\u001b[0;32m-> 2659\u001b[0;31m                 \u001b[0;32mreturn\u001b[0m \u001b[0mself\u001b[0m\u001b[0;34m.\u001b[0m\u001b[0m_engine\u001b[0m\u001b[0;34m.\u001b[0m\u001b[0mget_loc\u001b[0m\u001b[0;34m(\u001b[0m\u001b[0mself\u001b[0m\u001b[0;34m.\u001b[0m\u001b[0m_maybe_cast_indexer\u001b[0m\u001b[0;34m(\u001b[0m\u001b[0mkey\u001b[0m\u001b[0;34m)\u001b[0m\u001b[0;34m)\u001b[0m\u001b[0;34m\u001b[0m\u001b[0;34m\u001b[0m\u001b[0m\n\u001b[0m\u001b[1;32m   2660\u001b[0m         \u001b[0mindexer\u001b[0m \u001b[0;34m=\u001b[0m \u001b[0mself\u001b[0m\u001b[0;34m.\u001b[0m\u001b[0mget_indexer\u001b[0m\u001b[0;34m(\u001b[0m\u001b[0;34m[\u001b[0m\u001b[0mkey\u001b[0m\u001b[0;34m]\u001b[0m\u001b[0;34m,\u001b[0m \u001b[0mmethod\u001b[0m\u001b[0;34m=\u001b[0m\u001b[0mmethod\u001b[0m\u001b[0;34m,\u001b[0m \u001b[0mtolerance\u001b[0m\u001b[0;34m=\u001b[0m\u001b[0mtolerance\u001b[0m\u001b[0;34m)\u001b[0m\u001b[0;34m\u001b[0m\u001b[0;34m\u001b[0m\u001b[0m\n\u001b[1;32m   2661\u001b[0m         \u001b[0;32mif\u001b[0m \u001b[0mindexer\u001b[0m\u001b[0;34m.\u001b[0m\u001b[0mndim\u001b[0m \u001b[0;34m>\u001b[0m \u001b[0;36m1\u001b[0m \u001b[0;32mor\u001b[0m \u001b[0mindexer\u001b[0m\u001b[0;34m.\u001b[0m\u001b[0msize\u001b[0m \u001b[0;34m>\u001b[0m \u001b[0;36m1\u001b[0m\u001b[0;34m:\u001b[0m\u001b[0;34m\u001b[0m\u001b[0;34m\u001b[0m\u001b[0m\n",
      "\u001b[0;32mpandas/_libs/index.pyx\u001b[0m in \u001b[0;36mpandas._libs.index.IndexEngine.get_loc\u001b[0;34m()\u001b[0m\n",
      "\u001b[0;32mpandas/_libs/index.pyx\u001b[0m in \u001b[0;36mpandas._libs.index.IndexEngine.get_loc\u001b[0;34m()\u001b[0m\n",
      "\u001b[0;32mpandas/_libs/hashtable_class_helper.pxi\u001b[0m in \u001b[0;36mpandas._libs.hashtable.PyObjectHashTable.get_item\u001b[0;34m()\u001b[0m\n",
      "\u001b[0;32mpandas/_libs/hashtable_class_helper.pxi\u001b[0m in \u001b[0;36mpandas._libs.hashtable.PyObjectHashTable.get_item\u001b[0;34m()\u001b[0m\n",
      "\u001b[0;31mKeyError\u001b[0m: 'Weekday Name'"
     ]
    }
   ],
   "source": [
    "df['Weekday Name'] = pd.Categorical(df['Weekday Name'], categories=\n",
    "    ['Monday','Tuesday','Wednesday','Thursday','Friday','Saturday', 'Sunday'],\n",
    "    ordered=True)"
   ]
  },
  {
   "cell_type": "code",
   "execution_count": null,
   "metadata": {
    "ExecuteTime": {
     "end_time": "2019-11-20T22:01:59.111864Z",
     "start_time": "2019-11-20T22:01:48.530Z"
    }
   },
   "outputs": [],
   "source": [
    "created_by_day = df['Weekday Name'].value_counts()\n",
    "created_by_day = created_by_day.sort_index(ascending=False)\n",
    "created_by_day.plot(kind='barh',width=0.8,title= \"Day of the Week Campaigns Are Created\")\n",
    "plt.savefig(\"agg_day_of_week_1120.pdf\")"
   ]
  },
  {
   "cell_type": "code",
   "execution_count": null,
   "metadata": {
    "ExecuteTime": {
     "end_time": "2019-11-20T22:01:59.114660Z",
     "start_time": "2019-11-20T22:01:48.534Z"
    }
   },
   "outputs": [],
   "source": [
    "rep_year=df[df['tag']=='rep'].Year.value_counts().rename_axis('Year').reset_index(name='rep_counts')\n",
    "dem_year =df[df['tag']=='dem'].Year.value_counts().rename_axis('Year').reset_index(name='dem_counts')"
   ]
  },
  {
   "cell_type": "code",
   "execution_count": null,
   "metadata": {
    "ExecuteTime": {
     "end_time": "2019-11-20T22:01:59.117920Z",
     "start_time": "2019-11-20T22:01:48.538Z"
    }
   },
   "outputs": [],
   "source": [
    "#total amount raised\n",
    "#what is this scale though? How do I change this?\n",
    "df.groupby('Year')['raised_int'].sum().plot(kind='barh',title='Total Amount Raised by Campaigns that Mention \"Democrat\" or \"Republican\"')\n",
    "\n",
    "plt.savefig(\"total_amount_raised_1120.pdf\")"
   ]
  },
  {
   "cell_type": "code",
   "execution_count": null,
   "metadata": {
    "ExecuteTime": {
     "end_time": "2019-11-20T22:01:59.120776Z",
     "start_time": "2019-11-20T22:01:48.541Z"
    }
   },
   "outputs": [],
   "source": [
    "data=pd.DataFrame(df.groupby('Year')['tag'].value_counts())"
   ]
  },
  {
   "cell_type": "code",
   "execution_count": null,
   "metadata": {
    "ExecuteTime": {
     "end_time": "2019-11-20T22:01:59.123448Z",
     "start_time": "2019-11-20T22:01:48.545Z"
    }
   },
   "outputs": [],
   "source": [
    "df.groupby('tag')['raised_int'].sum().plot(kind='barh',title='Total Raised by Campaigns by Word Mention')"
   ]
  },
  {
   "cell_type": "code",
   "execution_count": null,
   "metadata": {},
   "outputs": [],
   "source": []
  },
  {
   "cell_type": "code",
   "execution_count": null,
   "metadata": {
    "ExecuteTime": {
     "end_time": "2019-11-20T22:01:59.126606Z",
     "start_time": "2019-11-20T22:01:48.552Z"
    }
   },
   "outputs": [],
   "source": [
    "#another way not as good as crosstab\n",
    "year_df=rep_year.merge(dem_year, left_on='Year',right_on='Year')\n",
    "year_df.sort_values('Year').set_index('Year').plot(kind='barh',stacked=True,width=0.8,title='Campaigns Created By Word Mention',figsize=(10,10))\n",
    "# plt.savefig(\"campaigns_stacked.pdf\")\n"
   ]
  },
  {
   "cell_type": "code",
   "execution_count": null,
   "metadata": {
    "ExecuteTime": {
     "end_time": "2019-11-20T22:01:59.130227Z",
     "start_time": "2019-11-20T22:01:48.557Z"
    }
   },
   "outputs": [],
   "source": [
    "# #some other BS I did\n",
    "rep_Month=df[df['tag']=='rep'].Month.value_counts().rename_axis('Month').reset_index(name='rep_counts')\n",
    "dem_Month =df[df['tag']=='dem'].Month.value_counts().rename_axis('Month').reset_index(name='dem_counts')\n",
    "Month_df=rep_Month.merge(dem_Month, left_on='Month',right_on='Month')\n",
    "Month_df.sort_values('Month').set_index('Month').sort_values(by='Month',ascending=False).plot(kind='barh',stacked=True,width=0.7,title='Campaigns Created By Word Mention')\n",
    "plt.savefig(\"campaigns_stacked2.1120.pdf\")"
   ]
  },
  {
   "cell_type": "code",
   "execution_count": null,
   "metadata": {
    "ExecuteTime": {
     "end_time": "2019-11-20T22:01:59.133466Z",
     "start_time": "2019-11-20T22:01:48.561Z"
    }
   },
   "outputs": [],
   "source": [
    "df.sample(5, random_state=0)"
   ]
  },
  {
   "cell_type": "code",
   "execution_count": null,
   "metadata": {
    "ExecuteTime": {
     "end_time": "2019-11-20T22:01:59.136617Z",
     "start_time": "2019-11-20T22:01:48.565Z"
    }
   },
   "outputs": [],
   "source": [
    "rep_Weekday_Name=df[df['tag']=='rep']['Weekday Name'].value_counts().rename_axis('Weekday Name').reset_index(name='rep_counts')\n",
    "dem_Weekday_Name =df[df['tag']=='dem']['Weekday Name'].value_counts().rename_axis('Weekday Name').reset_index(name='dem_counts')\n",
    "Weekday_Name_df=rep_Weekday_Name.merge(dem_Weekday_Name, left_on='Weekday Name',right_on='Weekday Name')\n",
    "Weekday_Name_df.sort_values('Weekday Name').set_index('Weekday Name').plot(kind='barh',stacked=True,width=0.8,title='Campaigns Created By Word Mention')\n",
    "\n",
    "plt.savefig(\"output1120.pdf\")"
   ]
  },
  {
   "cell_type": "code",
   "execution_count": null,
   "metadata": {
    "ExecuteTime": {
     "end_time": "2019-11-20T22:01:59.139003Z",
     "start_time": "2019-11-20T22:01:48.569Z"
    }
   },
   "outputs": [],
   "source": [
    "df.groupby('tag')['Weekday Name'].value_counts()"
   ]
  },
  {
   "cell_type": "code",
   "execution_count": null,
   "metadata": {
    "ExecuteTime": {
     "end_time": "2019-11-20T22:01:59.142706Z",
     "start_time": "2019-11-20T22:01:48.573Z"
    }
   },
   "outputs": [],
   "source": [
    "#playing with groupbys \n",
    "df.groupby('tag')['Weekday Name'].value_counts().plot(kind='barh',stacked=True,width=0.8,title='Campaigns Created By Word Mention')"
   ]
  },
  {
   "cell_type": "code",
   "execution_count": null,
   "metadata": {
    "ExecuteTime": {
     "end_time": "2019-11-20T22:01:59.145559Z",
     "start_time": "2019-11-20T22:01:48.578Z"
    }
   },
   "outputs": [],
   "source": [
    "df.sample(3, random_state=0)"
   ]
  },
  {
   "cell_type": "code",
   "execution_count": null,
   "metadata": {
    "ExecuteTime": {
     "end_time": "2019-11-20T22:01:59.148669Z",
     "start_time": "2019-11-20T22:01:48.584Z"
    }
   },
   "outputs": [],
   "source": [
    "#the graveyard\n",
    "\n",
    "graveyard = df[df['raised_int']==0]\n",
    "sns.relplot(data=graveyard, x='weekday_name', y='goal_int', hue='tag')"
   ]
  },
  {
   "cell_type": "markdown",
   "metadata": {},
   "source": [
    "# Common Words!"
   ]
  },
  {
   "cell_type": "code",
   "execution_count": null,
   "metadata": {
    "ExecuteTime": {
     "end_time": "2019-11-20T22:01:59.151382Z",
     "start_time": "2019-11-20T22:01:48.589Z"
    },
    "scrolled": true
   },
   "outputs": [],
   "source": [
    "#campaigns with the word republican\n",
    "top_N = 100000\n",
    "rep_rslt =pd.DataFrame()\n",
    "for index, row in df[df['tag']=='rep'].iterrows():\n",
    "    txt = row['summary'].lower()\n",
    "    words = nltk.tokenize.word_tokenize(txt)\n",
    "    word_dist = nltk.FreqDist(words)\n",
    "    stopwords = nltk.corpus.stopwords.words('english')\n",
    "    words_except_stop_dist = nltk.FreqDist(w for w in words if w not in stopwords) \n",
    "    print('All frequencies, including STOPWORDS:')\n",
    "    print('=' * 60)\n",
    "    rslt = pd.DataFrame(word_dist.most_common(top_N),\n",
    "                        columns=['Word', 'Frequency'])\n",
    "    print(rslt)\n",
    "    print('=' * 60)\n",
    "    rslt = pd.DataFrame(words_except_stop_dist.most_common(top_N),columns=['Word', 'Frequency']).set_index('Word')\n",
    "    rep_rslt=rep_rslt.append(rslt)"
   ]
  },
  {
   "cell_type": "code",
   "execution_count": null,
   "metadata": {
    "ExecuteTime": {
     "end_time": "2019-11-20T22:01:59.154494Z",
     "start_time": "2019-11-20T22:01:48.593Z"
    }
   },
   "outputs": [],
   "source": [
    "rep_rslt.index.value_counts().head(20).sort_values(ascending=True).plot(kind='barh',figsize=(30,10))"
   ]
  },
  {
   "cell_type": "code",
   "execution_count": null,
   "metadata": {
    "ExecuteTime": {
     "end_time": "2019-11-20T22:01:59.160304Z",
     "start_time": "2019-11-20T22:01:48.598Z"
    }
   },
   "outputs": [],
   "source": [
    "# rep_rslt['count'] =1\n",
    "# rep_rslt=rep_rslt.groupby('Word').agg({'count':'sum'})\n"
   ]
  },
  {
   "cell_type": "code",
   "execution_count": null,
   "metadata": {
    "ExecuteTime": {
     "end_time": "2019-11-20T22:01:59.162925Z",
     "start_time": "2019-11-20T22:01:48.602Z"
    }
   },
   "outputs": [],
   "source": [
    "rep_rslt.info()"
   ]
  },
  {
   "cell_type": "code",
   "execution_count": null,
   "metadata": {
    "ExecuteTime": {
     "end_time": "2019-11-20T22:01:59.166071Z",
     "start_time": "2019-11-20T22:01:48.607Z"
    }
   },
   "outputs": [],
   "source": [
    "rep_rslt=rep_rslt.reset_index()\n",
    "rep_rslt['tag']='rep'\n",
    "rep_rslt=rep_rslt.rename(columns={'count':'Frequency'})\n",
    "rep_rslt['wd_pct']=rep_rslt['Frequency']/876\n"
   ]
  },
  {
   "cell_type": "code",
   "execution_count": null,
   "metadata": {
    "ExecuteTime": {
     "end_time": "2019-11-20T22:01:59.169180Z",
     "start_time": "2019-11-20T22:01:48.611Z"
    }
   },
   "outputs": [],
   "source": [
    "rep_rslt.sort_values('wd_pct',ascending=False)"
   ]
  },
  {
   "cell_type": "code",
   "execution_count": null,
   "metadata": {
    "ExecuteTime": {
     "end_time": "2019-11-20T22:01:59.171930Z",
     "start_time": "2019-11-20T22:01:48.615Z"
    }
   },
   "outputs": [],
   "source": [
    "rep_rslt.sort_values('wd_pct',ascending=False)[20:30].plot(x='Word',y='wd_pct',kind='barh',figsize=(30,20))"
   ]
  },
  {
   "cell_type": "code",
   "execution_count": null,
   "metadata": {
    "ExecuteTime": {
     "end_time": "2019-11-20T22:01:59.175534Z",
     "start_time": "2019-11-20T22:01:48.620Z"
    }
   },
   "outputs": [],
   "source": [
    "#campaigns with the word democrat\n",
    "top_N = 500\n",
    "txt = df[df['tag']=='dem']['summary'].str.lower().str.replace(r'\\|', ' ').str.cat(sep=' ')\n",
    "words = nltk.tokenize.word_tokenize(txt)\n",
    "word_dist = nltk.FreqDist(words)\n",
    "stopwords = nltk.corpus.stopwords.words('english')\n",
    "words_except_stop_dist = nltk.FreqDist(w for w in words if w not in stopwords) \n",
    "print('All frequencies, including STOPWORDS:')\n",
    "print('=' * 60)\n",
    "rslt = pd.DataFrame(word_dist.most_common(top_N),\n",
    "                    columns=['Word', 'Frequency'])\n",
    "print(rslt)\n",
    "print('=' * 60)\n",
    "dem_rslt = pd.DataFrame(words_except_stop_dist.most_common(top_N),\n",
    "                    columns=['Word', 'Frequency']).set_index('Word')\n",
    "dem_rslt['tag']='dem'\n",
    "dem_rslt['wd_pct']=dem_rslt['Frequency']/1316\n",
    "# matplotlib.style.use('ggplot')\n",
    "dem_rslt[20:30].plot.bar(rot=0,figsize=(30,10))"
   ]
  },
  {
   "cell_type": "code",
   "execution_count": null,
   "metadata": {
    "ExecuteTime": {
     "end_time": "2019-11-20T22:01:59.178510Z",
     "start_time": "2019-11-20T22:01:48.624Z"
    }
   },
   "outputs": [],
   "source": [
    "rep_rslt.head(10)"
   ]
  },
  {
   "cell_type": "code",
   "execution_count": null,
   "metadata": {
    "ExecuteTime": {
     "end_time": "2019-11-20T22:01:59.181394Z",
     "start_time": "2019-11-20T22:01:48.628Z"
    }
   },
   "outputs": [],
   "source": [
    "#all words\n",
    "top_N = 500\n",
    "txt = df['summary'].str.lower().str.replace(r'\\|', ' ').str.cat(sep=' ')\n",
    "words = nltk.tokenize.word_tokenize(txt)\n",
    "word_dist = nltk.FreqDist(words)\n",
    "stopwords = nltk.corpus.stopwords.words('english')\n",
    "words_except_stop_dist = nltk.FreqDist(w for w in words if w not in stopwords) \n",
    "print('All frequencies, including STOPWORDS:')\n",
    "print('=' * 60)\n",
    "rslt = pd.DataFrame(word_dist.most_common(top_N),\n",
    "                    columns=['Word', 'Frequency'])\n",
    "print(rslt)\n",
    "print('=' * 60)\n",
    "rslt = pd.DataFrame(words_except_stop_dist.most_common(top_N),\n",
    "                    columns=['Word', 'Frequency']).set_index('Word')\n",
    "matplotlib.style.use('ggplot')\n",
    "rslt[20:30].plot.bar(rot=0,figsize=(30,10))"
   ]
  },
  {
   "cell_type": "code",
   "execution_count": null,
   "metadata": {},
   "outputs": [],
   "source": []
  },
  {
   "cell_type": "code",
   "execution_count": null,
   "metadata": {
    "ExecuteTime": {
     "end_time": "2019-11-20T22:01:59.183956Z",
     "start_time": "2019-11-20T22:01:48.635Z"
    }
   },
   "outputs": [],
   "source": [
    "words_df=rep_rslt.append(dem_rslt)\n",
    "words_df=words_df.reset_index()\n"
   ]
  },
  {
   "cell_type": "code",
   "execution_count": null,
   "metadata": {
    "ExecuteTime": {
     "end_time": "2019-11-20T22:01:59.186725Z",
     "start_time": "2019-11-20T22:01:48.639Z"
    }
   },
   "outputs": [],
   "source": [
    "rslt=rslt.reset_index()"
   ]
  },
  {
   "cell_type": "code",
   "execution_count": null,
   "metadata": {},
   "outputs": [],
   "source": []
  },
  {
   "cell_type": "code",
   "execution_count": null,
   "metadata": {},
   "outputs": [],
   "source": []
  },
  {
   "cell_type": "code",
   "execution_count": null,
   "metadata": {
    "ExecuteTime": {
     "end_time": "2019-11-20T22:01:59.189512Z",
     "start_time": "2019-11-20T22:01:48.650Z"
    }
   },
   "outputs": [],
   "source": [
    "ser_df=rslt\n",
    "ser_df=ser_df.rename(columns={'Frequency':'total'})\n"
   ]
  },
  {
   "cell_type": "code",
   "execution_count": null,
   "metadata": {
    "ExecuteTime": {
     "end_time": "2019-11-20T22:01:59.191906Z",
     "start_time": "2019-11-20T22:01:48.654Z"
    }
   },
   "outputs": [],
   "source": [
    "ser_df.head(3)"
   ]
  },
  {
   "cell_type": "code",
   "execution_count": null,
   "metadata": {
    "ExecuteTime": {
     "end_time": "2019-11-20T22:01:59.194363Z",
     "start_time": "2019-11-20T22:01:48.658Z"
    }
   },
   "outputs": [],
   "source": [
    "words_df=words_df.merge(ser_df,left_on='Word',right_on='Word',how='left')\n",
    "words_df.head()"
   ]
  },
  {
   "cell_type": "code",
   "execution_count": null,
   "metadata": {
    "ExecuteTime": {
     "end_time": "2019-11-20T22:01:59.197009Z",
     "start_time": "2019-11-20T22:01:48.662Z"
    }
   },
   "outputs": [],
   "source": [
    "ser_df[ser_df['Word']=='republican']"
   ]
  },
  {
   "cell_type": "code",
   "execution_count": null,
   "metadata": {
    "ExecuteTime": {
     "end_time": "2019-11-20T22:01:59.200221Z",
     "start_time": "2019-11-20T22:01:48.667Z"
    }
   },
   "outputs": [],
   "source": [
    "rslt[rslt['Word']=='republican']"
   ]
  },
  {
   "cell_type": "code",
   "execution_count": null,
   "metadata": {
    "ExecuteTime": {
     "end_time": "2019-11-20T22:01:59.203013Z",
     "start_time": "2019-11-20T22:01:48.671Z"
    }
   },
   "outputs": [],
   "source": [
    "words_df[words_df['Word']=='republican']"
   ]
  },
  {
   "cell_type": "code",
   "execution_count": null,
   "metadata": {
    "ExecuteTime": {
     "end_time": "2019-11-20T22:01:59.205823Z",
     "start_time": "2019-11-20T22:01:48.675Z"
    }
   },
   "outputs": [],
   "source": [
    "ser=words_df.total"
   ]
  },
  {
   "cell_type": "code",
   "execution_count": null,
   "metadata": {
    "ExecuteTime": {
     "end_time": "2019-11-20T22:01:59.208760Z",
     "start_time": "2019-11-20T22:01:48.680Z"
    }
   },
   "outputs": [],
   "source": [
    "words_df['word_bin']=pd.qcut(ser, q=5,labels=['1','2','3','4','5'])\n",
    "\n",
    "# sns.catplot(kind='bar',x='Frequency',y='Word',hue='tag',row='word_bin',data=words_df,height=20,aspect=2)"
   ]
  },
  {
   "cell_type": "code",
   "execution_count": null,
   "metadata": {
    "ExecuteTime": {
     "end_time": "2019-11-20T22:01:59.211674Z",
     "start_time": "2019-11-20T22:01:48.683Z"
    }
   },
   "outputs": [],
   "source": [
    "#making individual bins because \n",
    "words_df_3=words_df[words_df['word_bin']=='3']\n",
    "words_df_1=words_df[words_df['word_bin']=='1']\n",
    "words_df_2=words_df[words_df['word_bin']=='2']\n",
    "words_df_4=words_df[words_df['word_bin']=='4']\n",
    "words_df_5=words_df[words_df['word_bin']=='5']"
   ]
  },
  {
   "cell_type": "code",
   "execution_count": null,
   "metadata": {
    "ExecuteTime": {
     "end_time": "2019-11-20T22:01:59.214552Z",
     "start_time": "2019-11-20T22:01:48.687Z"
    },
    "scrolled": true
   },
   "outputs": [],
   "source": [
    "words_df_3.Word.unique()"
   ]
  },
  {
   "cell_type": "code",
   "execution_count": null,
   "metadata": {
    "ExecuteTime": {
     "end_time": "2019-11-20T22:01:59.217271Z",
     "start_time": "2019-11-20T22:01:48.691Z"
    }
   },
   "outputs": [],
   "source": [
    "sns.catplot(y=\"Word\", x=\"wd_pct\", hue=\"tag\", kind=\"bar\", \n",
    "            data=words_df_3[words_df_3.Word.isin(['$', '--','-', '?',\"'m\",'``',\"''\",';','“','”','nonetype'])==False], \n",
    "            height=7, aspect=11.7/8.27,palette='husl')"
   ]
  },
  {
   "cell_type": "code",
   "execution_count": null,
   "metadata": {
    "ExecuteTime": {
     "end_time": "2019-11-20T22:01:59.219927Z",
     "start_time": "2019-11-20T22:01:48.696Z"
    }
   },
   "outputs": [],
   "source": [
    "words_df_5.Word.unique()"
   ]
  },
  {
   "cell_type": "code",
   "execution_count": null,
   "metadata": {
    "ExecuteTime": {
     "end_time": "2019-11-20T22:01:59.223041Z",
     "start_time": "2019-11-20T22:01:48.702Z"
    }
   },
   "outputs": [],
   "source": [
    "sns.catplot(y=\"Word\", x=\"wd_pct\", hue=\"tag\", kind=\"bar\", \n",
    "            data=words_df_5[words_df_5.Word.isin([',', '.',\"'s\", '’', ':','(',')',\"'m\",\"''\",'``','“',\"'ve\",';','(',')',\"n't\",'--','-'])==False], \n",
    "            height=7, aspect=11.7/8.27,palette='husl')"
   ]
  },
  {
   "cell_type": "code",
   "execution_count": null,
   "metadata": {
    "ExecuteTime": {
     "end_time": "2019-11-20T22:01:59.225655Z",
     "start_time": "2019-11-20T22:01:48.706Z"
    }
   },
   "outputs": [],
   "source": [
    "sns.catplot(y=\"Word\", x=\"wd_pct\", hue=\"tag\", kind=\"bar\", \n",
    "            data=words_df_4[words_df_4.Word.isin([',', '.',\"'s\", '’', ':','(',')',\"'m\",\"''\",'``','“',\"'ve\",';'])==False], \n",
    "            height=7, aspect=11.7/8.27,palette='husl')"
   ]
  },
  {
   "cell_type": "code",
   "execution_count": null,
   "metadata": {
    "ExecuteTime": {
     "end_time": "2019-11-20T22:01:59.231777Z",
     "start_time": "2019-11-20T22:01:48.711Z"
    }
   },
   "outputs": [],
   "source": [
    "ser "
   ]
  },
  {
   "cell_type": "code",
   "execution_count": null,
   "metadata": {},
   "outputs": [],
   "source": []
  }
 ],
 "metadata": {
  "kernelspec": {
   "display_name": "Python 3",
   "language": "python",
   "name": "python3"
  },
  "language_info": {
   "codemirror_mode": {
    "name": "ipython",
    "version": 3
   },
   "file_extension": ".py",
   "mimetype": "text/x-python",
   "name": "python",
   "nbconvert_exporter": "python",
   "pygments_lexer": "ipython3",
   "version": "3.7.1"
  },
  "toc": {
   "base_numbering": 1,
   "nav_menu": {},
   "number_sections": true,
   "sideBar": true,
   "skip_h1_title": false,
   "title_cell": "Table of Contents",
   "title_sidebar": "Contents",
   "toc_cell": false,
   "toc_position": {},
   "toc_section_display": true,
   "toc_window_display": false
  },
  "varInspector": {
   "cols": {
    "lenName": 16,
    "lenType": 16,
    "lenVar": 40
   },
   "kernels_config": {
    "python": {
     "delete_cmd_postfix": "",
     "delete_cmd_prefix": "del ",
     "library": "var_list.py",
     "varRefreshCmd": "print(var_dic_list())"
    },
    "r": {
     "delete_cmd_postfix": ") ",
     "delete_cmd_prefix": "rm(",
     "library": "var_list.r",
     "varRefreshCmd": "cat(var_dic_list()) "
    }
   },
   "types_to_exclude": [
    "module",
    "function",
    "builtin_function_or_method",
    "instance",
    "_Feature"
   ],
   "window_display": false
  }
 },
 "nbformat": 4,
 "nbformat_minor": 2
}
