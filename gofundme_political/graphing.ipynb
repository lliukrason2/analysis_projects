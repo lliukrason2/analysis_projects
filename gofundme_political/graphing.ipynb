{
 "cells": [
  {
   "cell_type": "code",
   "execution_count": 67,
   "metadata": {},
   "outputs": [],
   "source": [
    "import pandas as pd\n",
    "import requests\n",
    "import matplotlib\n",
    "import numpy as np\n",
    "import matplotlib.pyplot as plt\n",
    "import re\n",
    "import time\n",
    "from bs4 import BeautifulSoup\n",
    "from selenium.webdriver.common.by import By\n",
    "from selenium.webdriver.support.ui import WebDriverWait\n",
    "from selenium import webdriver\n",
    "from selenium.webdriver.support.ui import Select\n",
    "from selenium.webdriver.support import expected_conditions as EC\n",
    "import seaborn as sns\n",
    "matplotlib.rcParams['pdf.fonttype'] = 42\n",
    "\n",
    "%matplotlib inline"
   ]
  },
  {
   "cell_type": "code",
   "execution_count": 68,
   "metadata": {},
   "outputs": [],
   "source": [
    "df=pd.read_csv('merged_cleaned.csv',thousands=',')"
   ]
  },
  {
   "cell_type": "code",
   "execution_count": 69,
   "metadata": {},
   "outputs": [],
   "source": [
    "df=df.drop(columns=['raised','goal'])"
   ]
  },
  {
   "cell_type": "code",
   "execution_count": 70,
   "metadata": {},
   "outputs": [
    {
     "data": {
      "text/html": [
       "<div>\n",
       "<style scoped>\n",
       "    .dataframe tbody tr th:only-of-type {\n",
       "        vertical-align: middle;\n",
       "    }\n",
       "\n",
       "    .dataframe tbody tr th {\n",
       "        vertical-align: top;\n",
       "    }\n",
       "\n",
       "    .dataframe thead th {\n",
       "        text-align: right;\n",
       "    }\n",
       "</style>\n",
       "<table border=\"1\" class=\"dataframe\">\n",
       "  <thead>\n",
       "    <tr style=\"text-align: right;\">\n",
       "      <th></th>\n",
       "      <th>Unnamed: 0</th>\n",
       "      <th>link</th>\n",
       "      <th>location</th>\n",
       "      <th>summary</th>\n",
       "      <th>title</th>\n",
       "      <th>tag</th>\n",
       "      <th>created_date</th>\n",
       "      <th>goal_int</th>\n",
       "      <th>raised_int</th>\n",
       "    </tr>\n",
       "  </thead>\n",
       "  <tbody>\n",
       "    <tr>\n",
       "      <th>0</th>\n",
       "      <td>0</td>\n",
       "      <td>https://www.gofundme.com/steven-crowder-live-a...</td>\n",
       "      <td>Dallas, TX</td>\n",
       "      <td>SMU College Republicans is bringing comedian S...</td>\n",
       "      <td>Steven Crowder Live at SMU!</td>\n",
       "      <td>rep</td>\n",
       "      <td>March 7, 2018</td>\n",
       "      <td>6500.0</td>\n",
       "      <td>2710.0</td>\n",
       "    </tr>\n",
       "    <tr>\n",
       "      <th>1</th>\n",
       "      <td>1</td>\n",
       "      <td>https://www.gofundme.com/reopen-a-nc-republica...</td>\n",
       "      <td>Brookline, MA</td>\n",
       "      <td>NOTE: We reached our goal and then some in les...</td>\n",
       "      <td>Dems help reopen a NC Repub office</td>\n",
       "      <td>rep</td>\n",
       "      <td>October 16, 2016</td>\n",
       "      <td>10000.0</td>\n",
       "      <td>12857.0</td>\n",
       "    </tr>\n",
       "    <tr>\n",
       "      <th>2</th>\n",
       "      <td>3</td>\n",
       "      <td>https://www.gofundme.com/mugop</td>\n",
       "      <td>Columbia, MO</td>\n",
       "      <td>We are the University of Missouri - College Re...</td>\n",
       "      <td>Mizzou College Republicans</td>\n",
       "      <td>rep</td>\n",
       "      <td>November 17, 2015</td>\n",
       "      <td>5000.0</td>\n",
       "      <td>3649.0</td>\n",
       "    </tr>\n",
       "  </tbody>\n",
       "</table>\n",
       "</div>"
      ],
      "text/plain": [
       "   Unnamed: 0                                               link  \\\n",
       "0           0  https://www.gofundme.com/steven-crowder-live-a...   \n",
       "1           1  https://www.gofundme.com/reopen-a-nc-republica...   \n",
       "2           3                     https://www.gofundme.com/mugop   \n",
       "\n",
       "        location                                            summary  \\\n",
       "0     Dallas, TX  SMU College Republicans is bringing comedian S...   \n",
       "1  Brookline, MA  NOTE: We reached our goal and then some in les...   \n",
       "2   Columbia, MO  We are the University of Missouri - College Re...   \n",
       "\n",
       "                                title  tag        created_date  goal_int  \\\n",
       "0         Steven Crowder Live at SMU!  rep       March 7, 2018    6500.0   \n",
       "1  Dems help reopen a NC Repub office  rep    October 16, 2016   10000.0   \n",
       "2          Mizzou College Republicans  rep   November 17, 2015    5000.0   \n",
       "\n",
       "   raised_int  \n",
       "0      2710.0  \n",
       "1     12857.0  \n",
       "2      3649.0  "
      ]
     },
     "execution_count": 70,
     "metadata": {},
     "output_type": "execute_result"
    }
   ],
   "source": [
    "df.head(3)"
   ]
  },
  {
   "cell_type": "code",
   "execution_count": 71,
   "metadata": {},
   "outputs": [],
   "source": [
    "#converting dates\n",
    "df['date']=pd.to_datetime(df.created_date,infer_datetime_format=True)"
   ]
  },
  {
   "cell_type": "code",
   "execution_count": 74,
   "metadata": {},
   "outputs": [],
   "source": [
    "\n",
    "df = df.set_index('date')"
   ]
  },
  {
   "cell_type": "code",
   "execution_count": 75,
   "metadata": {},
   "outputs": [],
   "source": [
    "#why does this only work when i do the set_index cell first? why can't I do df.date.year?\n",
    "df['Year'] = df.index.year\n",
    "df['Month'] = df.index.month\n",
    "df['Weekday Name'] = df.index.weekday_name"
   ]
  },
  {
   "cell_type": "code",
   "execution_count": 78,
   "metadata": {},
   "outputs": [
    {
     "data": {
      "text/html": [
       "<div>\n",
       "<style scoped>\n",
       "    .dataframe tbody tr th:only-of-type {\n",
       "        vertical-align: middle;\n",
       "    }\n",
       "\n",
       "    .dataframe tbody tr th {\n",
       "        vertical-align: top;\n",
       "    }\n",
       "\n",
       "    .dataframe thead th {\n",
       "        text-align: right;\n",
       "    }\n",
       "</style>\n",
       "<table border=\"1\" class=\"dataframe\">\n",
       "  <thead>\n",
       "    <tr style=\"text-align: right;\">\n",
       "      <th></th>\n",
       "      <th>Unnamed: 0</th>\n",
       "      <th>link</th>\n",
       "      <th>location</th>\n",
       "      <th>summary</th>\n",
       "      <th>title</th>\n",
       "      <th>tag</th>\n",
       "      <th>created_date</th>\n",
       "      <th>goal_int</th>\n",
       "      <th>raised_int</th>\n",
       "      <th>Year</th>\n",
       "      <th>Month</th>\n",
       "      <th>Weekday Name</th>\n",
       "    </tr>\n",
       "    <tr>\n",
       "      <th>date</th>\n",
       "      <th></th>\n",
       "      <th></th>\n",
       "      <th></th>\n",
       "      <th></th>\n",
       "      <th></th>\n",
       "      <th></th>\n",
       "      <th></th>\n",
       "      <th></th>\n",
       "      <th></th>\n",
       "      <th></th>\n",
       "      <th></th>\n",
       "      <th></th>\n",
       "    </tr>\n",
       "  </thead>\n",
       "  <tbody>\n",
       "    <tr>\n",
       "      <th>2018-03-07</th>\n",
       "      <td>0</td>\n",
       "      <td>https://www.gofundme.com/steven-crowder-live-a...</td>\n",
       "      <td>Dallas, TX</td>\n",
       "      <td>SMU College Republicans is bringing comedian S...</td>\n",
       "      <td>Steven Crowder Live at SMU!</td>\n",
       "      <td>rep</td>\n",
       "      <td>March 7, 2018</td>\n",
       "      <td>6500.0</td>\n",
       "      <td>2710.0</td>\n",
       "      <td>2018</td>\n",
       "      <td>3</td>\n",
       "      <td>Wednesday</td>\n",
       "    </tr>\n",
       "    <tr>\n",
       "      <th>2016-10-16</th>\n",
       "      <td>1</td>\n",
       "      <td>https://www.gofundme.com/reopen-a-nc-republica...</td>\n",
       "      <td>Brookline, MA</td>\n",
       "      <td>NOTE: We reached our goal and then some in les...</td>\n",
       "      <td>Dems help reopen a NC Repub office</td>\n",
       "      <td>rep</td>\n",
       "      <td>October 16, 2016</td>\n",
       "      <td>10000.0</td>\n",
       "      <td>12857.0</td>\n",
       "      <td>2016</td>\n",
       "      <td>10</td>\n",
       "      <td>Sunday</td>\n",
       "    </tr>\n",
       "    <tr>\n",
       "      <th>2015-11-17</th>\n",
       "      <td>3</td>\n",
       "      <td>https://www.gofundme.com/mugop</td>\n",
       "      <td>Columbia, MO</td>\n",
       "      <td>We are the University of Missouri - College Re...</td>\n",
       "      <td>Mizzou College Republicans</td>\n",
       "      <td>rep</td>\n",
       "      <td>November 17, 2015</td>\n",
       "      <td>5000.0</td>\n",
       "      <td>3649.0</td>\n",
       "      <td>2015</td>\n",
       "      <td>11</td>\n",
       "      <td>Tuesday</td>\n",
       "    </tr>\n",
       "  </tbody>\n",
       "</table>\n",
       "</div>"
      ],
      "text/plain": [
       "            Unnamed: 0                                               link  \\\n",
       "date                                                                        \n",
       "2018-03-07           0  https://www.gofundme.com/steven-crowder-live-a...   \n",
       "2016-10-16           1  https://www.gofundme.com/reopen-a-nc-republica...   \n",
       "2015-11-17           3                     https://www.gofundme.com/mugop   \n",
       "\n",
       "                 location                                            summary  \\\n",
       "date                                                                           \n",
       "2018-03-07     Dallas, TX  SMU College Republicans is bringing comedian S...   \n",
       "2016-10-16  Brookline, MA  NOTE: We reached our goal and then some in les...   \n",
       "2015-11-17   Columbia, MO  We are the University of Missouri - College Re...   \n",
       "\n",
       "                                         title  tag        created_date  \\\n",
       "date                                                                      \n",
       "2018-03-07         Steven Crowder Live at SMU!  rep       March 7, 2018   \n",
       "2016-10-16  Dems help reopen a NC Repub office  rep    October 16, 2016   \n",
       "2015-11-17          Mizzou College Republicans  rep   November 17, 2015   \n",
       "\n",
       "            goal_int  raised_int  Year  Month Weekday Name  \n",
       "date                                                        \n",
       "2018-03-07    6500.0      2710.0  2018      3    Wednesday  \n",
       "2016-10-16   10000.0     12857.0  2016     10       Sunday  \n",
       "2015-11-17    5000.0      3649.0  2015     11      Tuesday  "
      ]
     },
     "execution_count": 78,
     "metadata": {},
     "output_type": "execute_result"
    }
   ],
   "source": [
    "df.head(3)"
   ]
  },
  {
   "cell_type": "markdown",
   "metadata": {},
   "source": [
    "# Aggregate Graphs\n"
   ]
  },
  {
   "cell_type": "code",
   "execution_count": 45,
   "metadata": {},
   "outputs": [],
   "source": [
    "#using seaborn time series formatting\n",
    "sns.set(rc={'figure.figsize':(11, 4)})"
   ]
  },
  {
   "cell_type": "code",
   "execution_count": 56,
   "metadata": {},
   "outputs": [],
   "source": [
    "df['Weekday Name'] = pd.Categorical(df['Weekday Name'], categories=\n",
    "    ['Monday','Tuesday','Wednesday','Thursday','Friday','Saturday', 'Sunday'],\n",
    "    ordered=True)"
   ]
  },
  {
   "cell_type": "code",
   "execution_count": 64,
   "metadata": {},
   "outputs": [
    {
     "data": {
      "text/plain": [
       "<matplotlib.axes._subplots.AxesSubplot at 0x1278f1a58>"
      ]
     },
     "execution_count": 64,
     "metadata": {},
     "output_type": "execute_result"
    },
    {
     "data": {
      "image/png": "[encoded data removed]",
      "text/plain": [
       "<Figure size 792x288 with 1 Axes>"
      ]
     },
     "metadata": {},
     "output_type": "display_data"
    }
   ],
   "source": [
    "created_by_day = df['Weekday Name'].value_counts()\n",
    "created_by_day = created_by_day.sort_index(ascending=False)\n",
    "created_by_day.plot(kind='barh',width=0.8,title= \"Day of the Week Campaigns Are Created\")"
   ]
  },
  {
   "cell_type": "code",
   "execution_count": 87,
   "metadata": {},
   "outputs": [],
   "source": [
    "rep_year=df[df['tag']=='rep'].Year.value_counts().rename_axis('Year').reset_index(name='rep_counts')\n",
    "dem_year =df[df['tag']=='dem'].Year.value_counts().rename_axis('Year').reset_index(name='dem_counts')"
   ]
  },
  {
   "cell_type": "code",
   "execution_count": 89,
   "metadata": {},
   "outputs": [
    {
     "data": {
      "text/html": [
       "<div>\n",
       "<style scoped>\n",
       "    .dataframe tbody tr th:only-of-type {\n",
       "        vertical-align: middle;\n",
       "    }\n",
       "\n",
       "    .dataframe tbody tr th {\n",
       "        vertical-align: top;\n",
       "    }\n",
       "\n",
       "    .dataframe thead th {\n",
       "        text-align: right;\n",
       "    }\n",
       "</style>\n",
       "<table border=\"1\" class=\"dataframe\">\n",
       "  <thead>\n",
       "    <tr style=\"text-align: right;\">\n",
       "      <th></th>\n",
       "      <th>Year</th>\n",
       "      <th>dem_counts</th>\n",
       "    </tr>\n",
       "  </thead>\n",
       "  <tbody>\n",
       "    <tr>\n",
       "      <th>0</th>\n",
       "      <td>2019</td>\n",
       "      <td>218</td>\n",
       "    </tr>\n",
       "    <tr>\n",
       "      <th>1</th>\n",
       "      <td>2018</td>\n",
       "      <td>202</td>\n",
       "    </tr>\n",
       "    <tr>\n",
       "      <th>2</th>\n",
       "      <td>2016</td>\n",
       "      <td>133</td>\n",
       "    </tr>\n",
       "    <tr>\n",
       "      <th>3</th>\n",
       "      <td>2017</td>\n",
       "      <td>35</td>\n",
       "    </tr>\n",
       "    <tr>\n",
       "      <th>4</th>\n",
       "      <td>2015</td>\n",
       "      <td>18</td>\n",
       "    </tr>\n",
       "    <tr>\n",
       "      <th>5</th>\n",
       "      <td>2014</td>\n",
       "      <td>8</td>\n",
       "    </tr>\n",
       "    <tr>\n",
       "      <th>6</th>\n",
       "      <td>2013</td>\n",
       "      <td>2</td>\n",
       "    </tr>\n",
       "    <tr>\n",
       "      <th>7</th>\n",
       "      <td>2012</td>\n",
       "      <td>2</td>\n",
       "    </tr>\n",
       "  </tbody>\n",
       "</table>\n",
       "</div>"
      ],
      "text/plain": [
       "   Year  dem_counts\n",
       "0  2019         218\n",
       "1  2018         202\n",
       "2  2016         133\n",
       "3  2017          35\n",
       "4  2015          18\n",
       "5  2014           8\n",
       "6  2013           2\n",
       "7  2012           2"
      ]
     },
     "execution_count": 89,
     "metadata": {},
     "output_type": "execute_result"
    }
   ],
   "source": [
    "dem_year"
   ]
  },
  {
   "cell_type": "code",
   "execution_count": 95,
   "metadata": {},
   "outputs": [
    {
     "data": {
      "text/plain": [
       "<matplotlib.axes._subplots.AxesSubplot at 0x127db7358>"
      ]
     },
     "execution_count": 95,
     "metadata": {},
     "output_type": "execute_result"
    },
    {
     "data": {
      "image/png": "[encoded data removed]",
      "text/plain": [
       "<Figure size 432x288 with 1 Axes>"
      ]
     },
     "metadata": {
      "needs_background": "light"
     },
     "output_type": "display_data"
    }
   ],
   "source": [
    "year_df=rep_year.merge(dem_year, left_on='Year',right_on='Year')\n",
    "year_df.sort_values('Year').set_index('Year').plot(kind='barh',stacked=True,width=0.8,title='Campaigns Created By Word Mention')"
   ]
  },
  {
   "cell_type": "code",
   "execution_count": 96,
   "metadata": {},
   "outputs": [
    {
     "data": {
      "text/html": [
       "<div>\n",
       "<style scoped>\n",
       "    .dataframe tbody tr th:only-of-type {\n",
       "        vertical-align: middle;\n",
       "    }\n",
       "\n",
       "    .dataframe tbody tr th {\n",
       "        vertical-align: top;\n",
       "    }\n",
       "\n",
       "    .dataframe thead th {\n",
       "        text-align: right;\n",
       "    }\n",
       "</style>\n",
       "<table border=\"1\" class=\"dataframe\">\n",
       "  <thead>\n",
       "    <tr style=\"text-align: right;\">\n",
       "      <th></th>\n",
       "      <th>Unnamed: 0</th>\n",
       "      <th>link</th>\n",
       "      <th>location</th>\n",
       "      <th>summary</th>\n",
       "      <th>title</th>\n",
       "      <th>tag</th>\n",
       "      <th>created_date</th>\n",
       "      <th>goal_int</th>\n",
       "      <th>raised_int</th>\n",
       "      <th>Year</th>\n",
       "      <th>Month</th>\n",
       "      <th>Weekday Name</th>\n",
       "    </tr>\n",
       "    <tr>\n",
       "      <th>date</th>\n",
       "      <th></th>\n",
       "      <th></th>\n",
       "      <th></th>\n",
       "      <th></th>\n",
       "      <th></th>\n",
       "      <th></th>\n",
       "      <th></th>\n",
       "      <th></th>\n",
       "      <th></th>\n",
       "      <th></th>\n",
       "      <th></th>\n",
       "      <th></th>\n",
       "    </tr>\n",
       "  </thead>\n",
       "  <tbody>\n",
       "    <tr>\n",
       "      <th>2018-03-07</th>\n",
       "      <td>0</td>\n",
       "      <td>https://www.gofundme.com/steven-crowder-live-a...</td>\n",
       "      <td>Dallas, TX</td>\n",
       "      <td>SMU College Republicans is bringing comedian S...</td>\n",
       "      <td>Steven Crowder Live at SMU!</td>\n",
       "      <td>rep</td>\n",
       "      <td>March 7, 2018</td>\n",
       "      <td>6500.0</td>\n",
       "      <td>2710.0</td>\n",
       "      <td>2018</td>\n",
       "      <td>3</td>\n",
       "      <td>Wednesday</td>\n",
       "    </tr>\n",
       "    <tr>\n",
       "      <th>2016-10-16</th>\n",
       "      <td>1</td>\n",
       "      <td>https://www.gofundme.com/reopen-a-nc-republica...</td>\n",
       "      <td>Brookline, MA</td>\n",
       "      <td>NOTE: We reached our goal and then some in les...</td>\n",
       "      <td>Dems help reopen a NC Repub office</td>\n",
       "      <td>rep</td>\n",
       "      <td>October 16, 2016</td>\n",
       "      <td>10000.0</td>\n",
       "      <td>12857.0</td>\n",
       "      <td>2016</td>\n",
       "      <td>10</td>\n",
       "      <td>Sunday</td>\n",
       "    </tr>\n",
       "    <tr>\n",
       "      <th>2015-11-17</th>\n",
       "      <td>3</td>\n",
       "      <td>https://www.gofundme.com/mugop</td>\n",
       "      <td>Columbia, MO</td>\n",
       "      <td>We are the University of Missouri - College Re...</td>\n",
       "      <td>Mizzou College Republicans</td>\n",
       "      <td>rep</td>\n",
       "      <td>November 17, 2015</td>\n",
       "      <td>5000.0</td>\n",
       "      <td>3649.0</td>\n",
       "      <td>2015</td>\n",
       "      <td>11</td>\n",
       "      <td>Tuesday</td>\n",
       "    </tr>\n",
       "  </tbody>\n",
       "</table>\n",
       "</div>"
      ],
      "text/plain": [
       "            Unnamed: 0                                               link  \\\n",
       "date                                                                        \n",
       "2018-03-07           0  https://www.gofundme.com/steven-crowder-live-a...   \n",
       "2016-10-16           1  https://www.gofundme.com/reopen-a-nc-republica...   \n",
       "2015-11-17           3                     https://www.gofundme.com/mugop   \n",
       "\n",
       "                 location                                            summary  \\\n",
       "date                                                                           \n",
       "2018-03-07     Dallas, TX  SMU College Republicans is bringing comedian S...   \n",
       "2016-10-16  Brookline, MA  NOTE: We reached our goal and then some in les...   \n",
       "2015-11-17   Columbia, MO  We are the University of Missouri - College Re...   \n",
       "\n",
       "                                         title  tag        created_date  \\\n",
       "date                                                                      \n",
       "2018-03-07         Steven Crowder Live at SMU!  rep       March 7, 2018   \n",
       "2016-10-16  Dems help reopen a NC Repub office  rep    October 16, 2016   \n",
       "2015-11-17          Mizzou College Republicans  rep   November 17, 2015   \n",
       "\n",
       "            goal_int  raised_int  Year  Month Weekday Name  \n",
       "date                                                        \n",
       "2018-03-07    6500.0      2710.0  2018      3    Wednesday  \n",
       "2016-10-16   10000.0     12857.0  2016     10       Sunday  \n",
       "2015-11-17    5000.0      3649.0  2015     11      Tuesday  "
      ]
     },
     "execution_count": 96,
     "metadata": {},
     "output_type": "execute_result"
    }
   ],
   "source": [
    "df.head(3)"
   ]
  },
  {
   "cell_type": "code",
   "execution_count": 100,
   "metadata": {},
   "outputs": [
    {
     "data": {
      "text/plain": [
       "<matplotlib.axes._subplots.AxesSubplot at 0x128245668>"
      ]
     },
     "execution_count": 100,
     "metadata": {},
     "output_type": "execute_result"
    },
    {
     "data": {
      "image/png": "[encoded data removed]",
      "text/plain": [
       "<Figure size 432x288 with 1 Axes>"
      ]
     },
     "metadata": {
      "needs_background": "light"
     },
     "output_type": "display_data"
    }
   ],
   "source": [
    "rep_Month=df[df['tag']=='rep'].Month.value_counts().rename_axis('Month').reset_index(name='rep_counts')\n",
    "dem_Month =df[df['tag']=='dem'].Month.value_counts().rename_axis('Month').reset_index(name='dem_counts')\n",
    "Month_df=rep_Month.merge(dem_Month, left_on='Month',right_on='Month')\n",
    "Month_df.sort_values('Month').set_index('Month').plot(kind='barh',stacked=True,width=0.7,title='Campaigns Created By Word Mention')"
   ]
  },
  {
   "cell_type": "code",
   "execution_count": 102,
   "metadata": {},
   "outputs": [
    {
     "data": {
      "text/plain": [
       "<matplotlib.axes._subplots.AxesSubplot at 0x12834e0b8>"
      ]
     },
     "execution_count": 102,
     "metadata": {},
     "output_type": "execute_result"
    },
    {
     "data": {
      "image/png": "[encoded data removed]",
      "text/plain": [
       "<Figure size 432x288 with 1 Axes>"
      ]
     },
     "metadata": {
      "needs_background": "light"
     },
     "output_type": "display_data"
    }
   ],
   "source": [
    "rep_Weekday_Name=df[df['tag']=='rep']['Weekday Name'].value_counts().rename_axis('Weekday Name').reset_index(name='rep_counts')\n",
    "dem_Weekday_Name =df[df['tag']=='dem']['Weekday Name'].value_counts().rename_axis('Weekday Name').reset_index(name='dem_counts')\n",
    "Weekday_Name_df=rep_Weekday_Name.merge(dem_Weekday_Name, left_on='Weekday Name',right_on='Weekday Name')\n",
    "Weekday_Name_df.sort_values('Weekday Name').set_index('Weekday Name').plot(kind='barh',stacked=True,width=0.8,title='Campaigns Created By Word Mention')"
   ]
  },
  {
   "cell_type": "code",
   "execution_count": 105,
   "metadata": {},
   "outputs": [
    {
     "data": {
      "text/plain": [
       "<matplotlib.axes._subplots.AxesSubplot at 0x12856cd30>"
      ]
     },
     "execution_count": 105,
     "metadata": {},
     "output_type": "execute_result"
    },
    {
     "data": {
      "image/png": "[encoded data removed]",
      "text/plain": [
       "<Figure size 432x288 with 1 Axes>"
      ]
     },
     "metadata": {
      "needs_background": "light"
     },
     "output_type": "display_data"
    }
   ],
   "source": [
    "#playing with groupbys \n",
    "df.groupby('tag')['Weekday Name'].value_counts().plot(kind='barh',stacked=True,width=0.8,title='Campaigns Created By Word Mention')"
   ]
  },
  {
   "cell_type": "code",
   "execution_count": 106,
   "metadata": {},
   "outputs": [
    {
     "ename": "ValueError",
     "evalue": "Cannot use `hue` without `x` or `y`",
     "output_type": "error",
     "traceback": [
      "\u001b[0;31m---------------------------------------------------------------------------\u001b[0m",
      "\u001b[0;31mValueError\u001b[0m                                Traceback (most recent call last)",
      "\u001b[0;32m<ipython-input-106-2aeddaeb795f>\u001b[0m in \u001b[0;36m<module>\u001b[0;34m\u001b[0m\n\u001b[0;32m----> 1\u001b[0;31m \u001b[0msns\u001b[0m\u001b[0;34m.\u001b[0m\u001b[0mbarplot\u001b[0m\u001b[0;34m(\u001b[0m\u001b[0mdata\u001b[0m\u001b[0;34m=\u001b[0m\u001b[0mdf\u001b[0m\u001b[0;34m.\u001b[0m\u001b[0mgroupby\u001b[0m\u001b[0;34m(\u001b[0m\u001b[0;34m'tag'\u001b[0m\u001b[0;34m)\u001b[0m\u001b[0;34m[\u001b[0m\u001b[0;34m'Weekday Name'\u001b[0m\u001b[0;34m]\u001b[0m\u001b[0;34m.\u001b[0m\u001b[0mvalue_counts\u001b[0m\u001b[0;34m(\u001b[0m\u001b[0;34m)\u001b[0m\u001b[0;34m,\u001b[0m\u001b[0mhue\u001b[0m\u001b[0;34m=\u001b[0m\u001b[0;34m'tag'\u001b[0m\u001b[0;34m,\u001b[0m\u001b[0mstacked\u001b[0m\u001b[0;34m=\u001b[0m\u001b[0;32mTrue\u001b[0m\u001b[0;34m)\u001b[0m\u001b[0;34m\u001b[0m\u001b[0;34m\u001b[0m\u001b[0m\n\u001b[0m",
      "\u001b[0;32m~/.pyenv/versions/3.7.1/lib/python3.7/site-packages/seaborn/categorical.py\u001b[0m in \u001b[0;36mbarplot\u001b[0;34m(x, y, hue, data, order, hue_order, estimator, ci, n_boot, units, orient, color, palette, saturation, errcolor, errwidth, capsize, dodge, ax, **kwargs)\u001b[0m\n\u001b[1;32m   3147\u001b[0m                           \u001b[0mestimator\u001b[0m\u001b[0;34m,\u001b[0m \u001b[0mci\u001b[0m\u001b[0;34m,\u001b[0m \u001b[0mn_boot\u001b[0m\u001b[0;34m,\u001b[0m \u001b[0munits\u001b[0m\u001b[0;34m,\u001b[0m\u001b[0;34m\u001b[0m\u001b[0;34m\u001b[0m\u001b[0m\n\u001b[1;32m   3148\u001b[0m                           \u001b[0morient\u001b[0m\u001b[0;34m,\u001b[0m \u001b[0mcolor\u001b[0m\u001b[0;34m,\u001b[0m \u001b[0mpalette\u001b[0m\u001b[0;34m,\u001b[0m \u001b[0msaturation\u001b[0m\u001b[0;34m,\u001b[0m\u001b[0;34m\u001b[0m\u001b[0;34m\u001b[0m\u001b[0m\n\u001b[0;32m-> 3149\u001b[0;31m                           errcolor, errwidth, capsize, dodge)\n\u001b[0m\u001b[1;32m   3150\u001b[0m \u001b[0;34m\u001b[0m\u001b[0m\n\u001b[1;32m   3151\u001b[0m     \u001b[0;32mif\u001b[0m \u001b[0max\u001b[0m \u001b[0;32mis\u001b[0m \u001b[0;32mNone\u001b[0m\u001b[0;34m:\u001b[0m\u001b[0;34m\u001b[0m\u001b[0;34m\u001b[0m\u001b[0m\n",
      "\u001b[0;32m~/.pyenv/versions/3.7.1/lib/python3.7/site-packages/seaborn/categorical.py\u001b[0m in \u001b[0;36m__init__\u001b[0;34m(self, x, y, hue, data, order, hue_order, estimator, ci, n_boot, units, orient, color, palette, saturation, errcolor, errwidth, capsize, dodge)\u001b[0m\n\u001b[1;32m   1605\u001b[0m         \u001b[0;34m\"\"\"Initialize the plotter.\"\"\"\u001b[0m\u001b[0;34m\u001b[0m\u001b[0;34m\u001b[0m\u001b[0m\n\u001b[1;32m   1606\u001b[0m         self.establish_variables(x, y, hue, data, orient,\n\u001b[0;32m-> 1607\u001b[0;31m                                  order, hue_order, units)\n\u001b[0m\u001b[1;32m   1608\u001b[0m         \u001b[0mself\u001b[0m\u001b[0;34m.\u001b[0m\u001b[0mestablish_colors\u001b[0m\u001b[0;34m(\u001b[0m\u001b[0mcolor\u001b[0m\u001b[0;34m,\u001b[0m \u001b[0mpalette\u001b[0m\u001b[0;34m,\u001b[0m \u001b[0msaturation\u001b[0m\u001b[0;34m)\u001b[0m\u001b[0;34m\u001b[0m\u001b[0;34m\u001b[0m\u001b[0m\n\u001b[1;32m   1609\u001b[0m         \u001b[0mself\u001b[0m\u001b[0;34m.\u001b[0m\u001b[0mestimate_statistic\u001b[0m\u001b[0;34m(\u001b[0m\u001b[0mestimator\u001b[0m\u001b[0;34m,\u001b[0m \u001b[0mci\u001b[0m\u001b[0;34m,\u001b[0m \u001b[0mn_boot\u001b[0m\u001b[0;34m)\u001b[0m\u001b[0;34m\u001b[0m\u001b[0;34m\u001b[0m\u001b[0m\n",
      "\u001b[0;32m~/.pyenv/versions/3.7.1/lib/python3.7/site-packages/seaborn/categorical.py\u001b[0m in \u001b[0;36mestablish_variables\u001b[0;34m(self, x, y, hue, data, orient, order, hue_order, units)\u001b[0m\n\u001b[1;32m     46\u001b[0m             \u001b[0;32mif\u001b[0m \u001b[0mhue\u001b[0m \u001b[0;32mis\u001b[0m \u001b[0;32mnot\u001b[0m \u001b[0;32mNone\u001b[0m\u001b[0;34m:\u001b[0m\u001b[0;34m\u001b[0m\u001b[0;34m\u001b[0m\u001b[0m\n\u001b[1;32m     47\u001b[0m                 \u001b[0merror\u001b[0m \u001b[0;34m=\u001b[0m \u001b[0;34m\"Cannot use `hue` without `x` or `y`\"\u001b[0m\u001b[0;34m\u001b[0m\u001b[0;34m\u001b[0m\u001b[0m\n\u001b[0;32m---> 48\u001b[0;31m                 \u001b[0;32mraise\u001b[0m \u001b[0mValueError\u001b[0m\u001b[0;34m(\u001b[0m\u001b[0merror\u001b[0m\u001b[0;34m)\u001b[0m\u001b[0;34m\u001b[0m\u001b[0;34m\u001b[0m\u001b[0m\n\u001b[0m\u001b[1;32m     49\u001b[0m \u001b[0;34m\u001b[0m\u001b[0m\n\u001b[1;32m     50\u001b[0m             \u001b[0;31m# No hue grouping with wide inputs\u001b[0m\u001b[0;34m\u001b[0m\u001b[0;34m\u001b[0m\u001b[0;34m\u001b[0m\u001b[0m\n",
      "\u001b[0;31mValueError\u001b[0m: Cannot use `hue` without `x` or `y`"
     ]
    }
   ],
   "source": [
    "sns.barplot(data=df.groupby('tag')['Weekday Name'].value_counts(),hue='tag',stacked=True)"
   ]
  },
  {
   "cell_type": "code",
   "execution_count": null,
   "metadata": {},
   "outputs": [],
   "source": []
  }
 ],
 "metadata": {
  "kernelspec": {
   "display_name": "Python 3",
   "language": "python",
   "name": "python3"
  },
  "language_info": {
   "codemirror_mode": {
    "name": "ipython",
    "version": 3
   },
   "file_extension": ".py",
   "mimetype": "text/x-python",
   "name": "python",
   "nbconvert_exporter": "python",
   "pygments_lexer": "ipython3",
   "version": "3.7.1"
  }
 },
 "nbformat": 4,
 "nbformat_minor": 2
}
