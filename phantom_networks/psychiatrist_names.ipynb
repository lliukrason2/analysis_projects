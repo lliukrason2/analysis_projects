{
 "cells": [
  {
   "cell_type": "code",
   "execution_count": 114,
   "metadata": {
    "ExecuteTime": {
     "end_time": "2019-08-09T20:44:16.372154Z",
     "start_time": "2019-08-09T20:44:16.366102Z"
    }
   },
   "outputs": [],
   "source": [
    "import pandas as pd\n",
    "import re\n",
    "import camelot\n",
    "import matplotlib.pyplot as plt"
   ]
  },
  {
   "cell_type": "code",
   "execution_count": 11,
   "metadata": {
    "ExecuteTime": {
     "end_time": "2019-08-08T15:02:41.346013Z",
     "start_time": "2019-08-08T15:02:21.898263Z"
    }
   },
   "outputs": [
    {
     "name": "stderr",
     "output_type": "stream",
     "text": [
      "UserWarning: No tables found in table area 1 [stream.py:346]\n",
      "UserWarning: No tables found in table area 2 [stream.py:346]\n"
     ]
    }
   ],
   "source": [
    "tables = camelot.read_pdf('YourSearchResults - 90001.pdf',pages='all',flavor='stream')"
   ]
  },
  {
   "cell_type": "code",
   "execution_count": 123,
   "metadata": {
    "ExecuteTime": {
     "end_time": "2019-08-09T20:50:00.494373Z",
     "start_time": "2019-08-09T20:50:00.489232Z"
    }
   },
   "outputs": [],
   "source": [
    "#each pdf has various number of tables, let's find the number of tables\n",
    "total_tables=re.search('\\d+',str(tables)).group()\n",
    "total_tables=int(total_tables)-1\n",
    "for table_num in range(0,total_tables):\n",
    "    #each \"table\" has various columns, let's find the number of those\n",
    "    num_columns =tables[table_num].shape\n",
    "    num_columns =list(variable)\n",
    "    num_columns[-1]\n",
    "    #we want to append the content of each column into one huge column\n",
    "    "
   ]
  },
  {
   "cell_type": "code",
   "execution_count": 146,
   "metadata": {
    "ExecuteTime": {
     "end_time": "2019-08-09T21:13:27.521840Z",
     "start_time": "2019-08-09T21:13:27.498497Z"
    }
   },
   "outputs": [
    {
     "data": {
      "text/plain": [
       "(260, 1)"
      ]
     },
     "execution_count": 146,
     "metadata": {},
     "output_type": "execute_result"
    }
   ],
   "source": [
    "tables[1].df[[0]]. \\\n",
    "append(tables[1].df[[1]].rename(columns={1:0})). \\\n",
    "append(tables[1].df[[2]].rename(columns={2:0})). \\\n",
    "append(tables[1].df[[3]].rename(columns={3:0})).shape"
   ]
  },
  {
   "cell_type": "code",
   "execution_count": 147,
   "metadata": {
    "ExecuteTime": {
     "end_time": "2019-08-09T21:13:32.690795Z",
     "start_time": "2019-08-09T21:13:32.681902Z"
    }
   },
   "outputs": [
    {
     "data": {
      "text/plain": [
       "(65, 4)"
      ]
     },
     "execution_count": 147,
     "metadata": {},
     "output_type": "execute_result"
    }
   ],
   "source": [
    "tables[1].df.shape"
   ]
  },
  {
   "cell_type": "code",
   "execution_count": 134,
   "metadata": {
    "ExecuteTime": {
     "end_time": "2019-08-09T21:06:20.483993Z",
     "start_time": "2019-08-09T21:06:20.472493Z"
    }
   },
   "outputs": [
    {
     "data": {
      "text/plain": [
       "0                                  \n",
       "1                                  \n",
       "2            Provider ID #: 7143304\n",
       "3       Advances & Breakthroughs in\n",
       "4                     Mental Health\n",
       "5          Abjelina, Kenneth T., MD\n",
       "6                        Psychiatry\n",
       "7      5199 E PACIFIC COAST HWY STE\n",
       "8                              330N\n",
       "9              LONG BEACH, CA 90804\n",
       "10                   (562) 365-2020\n",
       "11                                 \n",
       "12           Provider ID #: 4105431\n",
       "13           Abkarian, Angineh, PHD\n",
       "14                       Psychiatry\n",
       "15               5525 W SLAUSON AVE\n",
       "16            LOS ANGELES, CA 90056\n",
       "17                   (310) 993-4103\n",
       "18                                 \n",
       "19           Provider ID #: 6920140\n",
       "20       Memory Check Psychological\n",
       "21                          Service\n",
       "22               Adams, Neal H., MD\n",
       "23                       Psychiatry\n",
       "24       4929 WILSHIRE BLVD STE 510\n",
       "25            LOS ANGELES, CA 90010\n",
       "26                   (562) 904-3999\n",
       "27                                 \n",
       "28           Provider ID #: 4220963\n",
       "29             Adatia, Navin H., MD\n",
       "                   ...             \n",
       "100                      Psychiatry\n",
       "101         500 E OLIVE AVE STE 830\n",
       "102               BURBANK, CA 91501\n",
       "103                  (818) 845-3510\n",
       "104                                \n",
       "105          Provider ID #: 4310951\n",
       "106    Citrus Psychc Medical Clinic\n",
       "107                  Ali, Sajid, MD\n",
       "108                      Psychiatry\n",
       "109                500 W BADILLO ST\n",
       "110                COVINA, CA 91722\n",
       "111                  (626) 859-2686\n",
       "112                                \n",
       "113          Provider ID #: 7340160\n",
       "114             Alkhouri, Wadie, MD\n",
       "115                      Psychiatry\n",
       "116         210 S GRAND AVE STE 320\n",
       "117              GLENDORA, CA 91741\n",
       "118                  (626) 335-1919\n",
       "119                                \n",
       "120          Provider ID #: 4389426\n",
       "121             Alt, Winston D., MD\n",
       "122                      Psychiatry\n",
       "123            300 UCLA MEDICAL PLZ\n",
       "124           LOS ANGELES, CA 90095\n",
       "125                  (310) 825-9989\n",
       "126                                \n",
       "127                                \n",
       "128                                \n",
       "129                                \n",
       "Length: 130, dtype: object"
      ]
     },
     "execution_count": 134,
     "metadata": {},
     "output_type": "execute_result"
    }
   ],
   "source": [
    "numz=[0,1,2]\n",
    "table_test=pd.DataFrame(tables[1].df)\n",
    "table_test[numz[0]].append(table_test[numz[1]]).reset_index(drop=True)"
   ]
  },
  {
   "cell_type": "code",
   "execution_count": 130,
   "metadata": {
    "ExecuteTime": {
     "end_time": "2019-08-09T20:57:37.256541Z",
     "start_time": "2019-08-09T20:57:37.222933Z"
    }
   },
   "outputs": [
    {
     "data": {
      "text/html": [
       "<div>\n",
       "<style scoped>\n",
       "    .dataframe tbody tr th:only-of-type {\n",
       "        vertical-align: middle;\n",
       "    }\n",
       "\n",
       "    .dataframe tbody tr th {\n",
       "        vertical-align: top;\n",
       "    }\n",
       "\n",
       "    .dataframe thead th {\n",
       "        text-align: right;\n",
       "    }\n",
       "</style>\n",
       "<table border=\"1\" class=\"dataframe\">\n",
       "  <thead>\n",
       "    <tr style=\"text-align: right;\">\n",
       "      <th></th>\n",
       "      <th>0</th>\n",
       "    </tr>\n",
       "  </thead>\n",
       "  <tbody>\n",
       "    <tr>\n",
       "      <th>0</th>\n",
       "      <td></td>\n",
       "    </tr>\n",
       "    <tr>\n",
       "      <th>1</th>\n",
       "      <td></td>\n",
       "    </tr>\n",
       "    <tr>\n",
       "      <th>2</th>\n",
       "      <td>Provider ID #: 7143304</td>\n",
       "    </tr>\n",
       "    <tr>\n",
       "      <th>3</th>\n",
       "      <td>Advances &amp; Breakthroughs in</td>\n",
       "    </tr>\n",
       "    <tr>\n",
       "      <th>4</th>\n",
       "      <td>Mental Health</td>\n",
       "    </tr>\n",
       "    <tr>\n",
       "      <th>5</th>\n",
       "      <td>Abjelina, Kenneth T., MD</td>\n",
       "    </tr>\n",
       "    <tr>\n",
       "      <th>6</th>\n",
       "      <td>Psychiatry</td>\n",
       "    </tr>\n",
       "    <tr>\n",
       "      <th>7</th>\n",
       "      <td>5199 E PACIFIC COAST HWY STE</td>\n",
       "    </tr>\n",
       "    <tr>\n",
       "      <th>8</th>\n",
       "      <td>330N</td>\n",
       "    </tr>\n",
       "    <tr>\n",
       "      <th>9</th>\n",
       "      <td>LONG BEACH, CA 90804</td>\n",
       "    </tr>\n",
       "    <tr>\n",
       "      <th>10</th>\n",
       "      <td>(562) 365-2020</td>\n",
       "    </tr>\n",
       "    <tr>\n",
       "      <th>11</th>\n",
       "      <td></td>\n",
       "    </tr>\n",
       "    <tr>\n",
       "      <th>12</th>\n",
       "      <td>Provider ID #: 4105431</td>\n",
       "    </tr>\n",
       "    <tr>\n",
       "      <th>13</th>\n",
       "      <td>Abkarian, Angineh, PHD</td>\n",
       "    </tr>\n",
       "    <tr>\n",
       "      <th>14</th>\n",
       "      <td>Psychiatry</td>\n",
       "    </tr>\n",
       "    <tr>\n",
       "      <th>15</th>\n",
       "      <td>5525 W SLAUSON AVE</td>\n",
       "    </tr>\n",
       "    <tr>\n",
       "      <th>16</th>\n",
       "      <td>LOS ANGELES, CA 90056</td>\n",
       "    </tr>\n",
       "    <tr>\n",
       "      <th>17</th>\n",
       "      <td>(310) 993-4103</td>\n",
       "    </tr>\n",
       "    <tr>\n",
       "      <th>18</th>\n",
       "      <td></td>\n",
       "    </tr>\n",
       "    <tr>\n",
       "      <th>19</th>\n",
       "      <td>Provider ID #: 6920140</td>\n",
       "    </tr>\n",
       "    <tr>\n",
       "      <th>20</th>\n",
       "      <td>Memory Check Psychological</td>\n",
       "    </tr>\n",
       "    <tr>\n",
       "      <th>21</th>\n",
       "      <td>Service</td>\n",
       "    </tr>\n",
       "    <tr>\n",
       "      <th>22</th>\n",
       "      <td>Adams, Neal H., MD</td>\n",
       "    </tr>\n",
       "    <tr>\n",
       "      <th>23</th>\n",
       "      <td>Psychiatry</td>\n",
       "    </tr>\n",
       "    <tr>\n",
       "      <th>24</th>\n",
       "      <td>4929 WILSHIRE BLVD STE 510</td>\n",
       "    </tr>\n",
       "    <tr>\n",
       "      <th>25</th>\n",
       "      <td>LOS ANGELES, CA 90010</td>\n",
       "    </tr>\n",
       "    <tr>\n",
       "      <th>26</th>\n",
       "      <td>(562) 904-3999</td>\n",
       "    </tr>\n",
       "    <tr>\n",
       "      <th>27</th>\n",
       "      <td></td>\n",
       "    </tr>\n",
       "    <tr>\n",
       "      <th>28</th>\n",
       "      <td>Provider ID #: 4220963</td>\n",
       "    </tr>\n",
       "    <tr>\n",
       "      <th>29</th>\n",
       "      <td>Adatia, Navin H., MD</td>\n",
       "    </tr>\n",
       "    <tr>\n",
       "      <th>...</th>\n",
       "      <td>...</td>\n",
       "    </tr>\n",
       "    <tr>\n",
       "      <th>35</th>\n",
       "      <td>Provider ID #: 9728325</td>\n",
       "    </tr>\n",
       "    <tr>\n",
       "      <th>36</th>\n",
       "      <td>Gelbart and Associates</td>\n",
       "    </tr>\n",
       "    <tr>\n",
       "      <th>37</th>\n",
       "      <td>Addes, Irina Shifra, MD</td>\n",
       "    </tr>\n",
       "    <tr>\n",
       "      <th>38</th>\n",
       "      <td>Psychiatry</td>\n",
       "    </tr>\n",
       "    <tr>\n",
       "      <th>39</th>\n",
       "      <td>3333 SKYPARK DR STE 220</td>\n",
       "    </tr>\n",
       "    <tr>\n",
       "      <th>40</th>\n",
       "      <td>TORRANCE, CA 90505</td>\n",
       "    </tr>\n",
       "    <tr>\n",
       "      <th>41</th>\n",
       "      <td>(310) 257-5750</td>\n",
       "    </tr>\n",
       "    <tr>\n",
       "      <th>42</th>\n",
       "      <td></td>\n",
       "    </tr>\n",
       "    <tr>\n",
       "      <th>43</th>\n",
       "      <td>Provider ID #: 7129707</td>\n",
       "    </tr>\n",
       "    <tr>\n",
       "      <th>44</th>\n",
       "      <td>Aggarwal, Sushila, MD</td>\n",
       "    </tr>\n",
       "    <tr>\n",
       "      <th>45</th>\n",
       "      <td>Psychiatry</td>\n",
       "    </tr>\n",
       "    <tr>\n",
       "      <th>46</th>\n",
       "      <td>3400 WEST LOMITA BLVD.</td>\n",
       "    </tr>\n",
       "    <tr>\n",
       "      <th>47</th>\n",
       "      <td>SUITE 605</td>\n",
       "    </tr>\n",
       "    <tr>\n",
       "      <th>48</th>\n",
       "      <td>TORRANCE, CA 90505</td>\n",
       "    </tr>\n",
       "    <tr>\n",
       "      <th>49</th>\n",
       "      <td>(310) 539-3303</td>\n",
       "    </tr>\n",
       "    <tr>\n",
       "      <th>50</th>\n",
       "      <td></td>\n",
       "    </tr>\n",
       "    <tr>\n",
       "      <th>51</th>\n",
       "      <td>Provider ID #: 5213393</td>\n",
       "    </tr>\n",
       "    <tr>\n",
       "      <th>52</th>\n",
       "      <td>Ahaddian, Soheil, MD</td>\n",
       "    </tr>\n",
       "    <tr>\n",
       "      <th>53</th>\n",
       "      <td>Psychiatry</td>\n",
       "    </tr>\n",
       "    <tr>\n",
       "      <th>54</th>\n",
       "      <td>9735 WILSHIRE BLVD STE 228</td>\n",
       "    </tr>\n",
       "    <tr>\n",
       "      <th>55</th>\n",
       "      <td>BEVERLY HILLS, CA 90212</td>\n",
       "    </tr>\n",
       "    <tr>\n",
       "      <th>56</th>\n",
       "      <td>(310) 273-1131</td>\n",
       "    </tr>\n",
       "    <tr>\n",
       "      <th>57</th>\n",
       "      <td></td>\n",
       "    </tr>\n",
       "    <tr>\n",
       "      <th>58</th>\n",
       "      <td>Provider ID #: 6332364</td>\n",
       "    </tr>\n",
       "    <tr>\n",
       "      <th>59</th>\n",
       "      <td>Lawrence Genen MD, Inc.</td>\n",
       "    </tr>\n",
       "    <tr>\n",
       "      <th>60</th>\n",
       "      <td>Ahmadi, Naser, MD</td>\n",
       "    </tr>\n",
       "    <tr>\n",
       "      <th>61</th>\n",
       "      <td>Psychiatry</td>\n",
       "    </tr>\n",
       "    <tr>\n",
       "      <th>62</th>\n",
       "      <td>12301 WILSHIRE BLVD STE 512</td>\n",
       "    </tr>\n",
       "    <tr>\n",
       "      <th>63</th>\n",
       "      <td>LOS ANGELES, CA 90025</td>\n",
       "    </tr>\n",
       "    <tr>\n",
       "      <th>64</th>\n",
       "      <td>(310) 892-4284</td>\n",
       "    </tr>\n",
       "  </tbody>\n",
       "</table>\n",
       "<p>65 rows × 1 columns</p>\n",
       "</div>"
      ],
      "text/plain": [
       "                               0\n",
       "0                               \n",
       "1                               \n",
       "2         Provider ID #: 7143304\n",
       "3    Advances & Breakthroughs in\n",
       "4                  Mental Health\n",
       "5       Abjelina, Kenneth T., MD\n",
       "6                     Psychiatry\n",
       "7   5199 E PACIFIC COAST HWY STE\n",
       "8                           330N\n",
       "9           LONG BEACH, CA 90804\n",
       "10                (562) 365-2020\n",
       "11                              \n",
       "12        Provider ID #: 4105431\n",
       "13        Abkarian, Angineh, PHD\n",
       "14                    Psychiatry\n",
       "15            5525 W SLAUSON AVE\n",
       "16         LOS ANGELES, CA 90056\n",
       "17                (310) 993-4103\n",
       "18                              \n",
       "19        Provider ID #: 6920140\n",
       "20    Memory Check Psychological\n",
       "21                       Service\n",
       "22            Adams, Neal H., MD\n",
       "23                    Psychiatry\n",
       "24    4929 WILSHIRE BLVD STE 510\n",
       "25         LOS ANGELES, CA 90010\n",
       "26                (562) 904-3999\n",
       "27                              \n",
       "28        Provider ID #: 4220963\n",
       "29          Adatia, Navin H., MD\n",
       "..                           ...\n",
       "35        Provider ID #: 9728325\n",
       "36        Gelbart and Associates\n",
       "37       Addes, Irina Shifra, MD\n",
       "38                    Psychiatry\n",
       "39       3333 SKYPARK DR STE 220\n",
       "40            TORRANCE, CA 90505\n",
       "41                (310) 257-5750\n",
       "42                              \n",
       "43        Provider ID #: 7129707\n",
       "44         Aggarwal, Sushila, MD\n",
       "45                    Psychiatry\n",
       "46        3400 WEST LOMITA BLVD.\n",
       "47                     SUITE 605\n",
       "48            TORRANCE, CA 90505\n",
       "49                (310) 539-3303\n",
       "50                              \n",
       "51        Provider ID #: 5213393\n",
       "52          Ahaddian, Soheil, MD\n",
       "53                    Psychiatry\n",
       "54    9735 WILSHIRE BLVD STE 228\n",
       "55       BEVERLY HILLS, CA 90212\n",
       "56                (310) 273-1131\n",
       "57                              \n",
       "58        Provider ID #: 6332364\n",
       "59       Lawrence Genen MD, Inc.\n",
       "60             Ahmadi, Naser, MD\n",
       "61                    Psychiatry\n",
       "62   12301 WILSHIRE BLVD STE 512\n",
       "63         LOS ANGELES, CA 90025\n",
       "64                (310) 892-4284\n",
       "\n",
       "[65 rows x 1 columns]"
      ]
     },
     "execution_count": 130,
     "metadata": {},
     "output_type": "execute_result"
    }
   ],
   "source": [
    "test=pd.DataFrame(tables[1].df[0])\n",
    "test.append(pd.DataFrame(tables[1].df[1]))\n",
    "test.append(pd.DataFrame(tables[1].df[2]))\n",
    "test"
   ]
  },
  {
   "cell_type": "code",
   "execution_count": 98,
   "metadata": {
    "ExecuteTime": {
     "end_time": "2019-08-09T20:37:48.598414Z",
     "start_time": "2019-08-09T20:37:48.591352Z"
    }
   },
   "outputs": [
    {
     "data": {
      "text/plain": [
       "6"
      ]
     },
     "execution_count": 98,
     "metadata": {},
     "output_type": "execute_result"
    }
   ],
   "source": []
  },
  {
   "cell_type": "code",
   "execution_count": 56,
   "metadata": {
    "ExecuteTime": {
     "end_time": "2019-08-08T15:40:21.928618Z",
     "start_time": "2019-08-08T15:40:21.924684Z"
    }
   },
   "outputs": [],
   "source": [
    "doctor=[]"
   ]
  },
  {
   "cell_type": "code",
   "execution_count": 55,
   "metadata": {
    "ExecuteTime": {
     "end_time": "2019-08-08T15:34:27.606578Z",
     "start_time": "2019-08-08T15:34:27.599278Z"
    }
   },
   "outputs": [
    {
     "data": {
      "text/plain": [
       "range(0, 65)"
      ]
     },
     "execution_count": 55,
     "metadata": {},
     "output_type": "execute_result"
    }
   ],
   "source": [
    "range(0,len(tables[1].df[0]))"
   ]
  },
  {
   "cell_type": "code",
   "execution_count": 78,
   "metadata": {
    "ExecuteTime": {
     "end_time": "2019-08-08T15:54:35.755181Z",
     "start_time": "2019-08-08T15:54:35.748821Z"
    }
   },
   "outputs": [
    {
     "data": {
      "text/plain": [
       "65"
      ]
     },
     "execution_count": 78,
     "metadata": {},
     "output_type": "execute_result"
    }
   ],
   "source": [
    "len(tables[1].df[0])"
   ]
  },
  {
   "cell_type": "code",
   "execution_count": 67,
   "metadata": {
    "ExecuteTime": {
     "end_time": "2019-08-08T15:49:16.647366Z",
     "start_time": "2019-08-08T15:49:16.641221Z"
    }
   },
   "outputs": [],
   "source": [
    "blanks = list(tables[1].df[0][tables[1].df[0] == ''].index)"
   ]
  },
  {
   "cell_type": "code",
   "execution_count": 79,
   "metadata": {
    "ExecuteTime": {
     "end_time": "2019-08-08T15:56:27.316022Z",
     "start_time": "2019-08-08T15:56:27.311699Z"
    }
   },
   "outputs": [],
   "source": [
    "blanks.append(len(tables[1].df[0]))"
   ]
  },
  {
   "cell_type": "code",
   "execution_count": 80,
   "metadata": {
    "ExecuteTime": {
     "end_time": "2019-08-08T15:56:33.488634Z",
     "start_time": "2019-08-08T15:56:33.481306Z"
    }
   },
   "outputs": [],
   "source": [
    "row = 0\n",
    "for blank in blanks:\n",
    "    #first_row = tables[1].df[0][row]\n",
    "    #last_row = tables[1].df[0][blank]\n",
    "    lister = []\n",
    "    chunk = tables[1].df[0][row:blank]\n",
    "    lister.append(chunk)\n",
    "    doctor.append(lister)\n",
    "    row = blank+1\n",
    "    \n",
    "        \n",
    "    #last_empty_row = 0\n",
    "    #print(row.index)\n",
    "#     if row + 1 == '':\n",
    "#         doctor['doctor']=\n",
    "        \n",
    "            "
   ]
  },
  {
   "cell_type": "code",
   "execution_count": 81,
   "metadata": {
    "ExecuteTime": {
     "end_time": "2019-08-08T15:56:36.244216Z",
     "start_time": "2019-08-08T15:56:36.237475Z"
    }
   },
   "outputs": [
    {
     "data": {
      "text/plain": [
       "[58         Provider ID #: 6332364\n",
       " 59        Lawrence Genen MD, Inc.\n",
       " 60              Ahmadi, Naser, MD\n",
       " 61                     Psychiatry\n",
       " 62    12301 WILSHIRE BLVD STE 512\n",
       " 63          LOS ANGELES, CA 90025\n",
       " 64                 (310) 892-4284\n",
       " Name: 0, dtype: object]"
      ]
     },
     "execution_count": 81,
     "metadata": {},
     "output_type": "execute_result"
    }
   ],
   "source": [
    "doctor[len(doctor)-1]"
   ]
  },
  {
   "cell_type": "code",
   "execution_count": 51,
   "metadata": {
    "ExecuteTime": {
     "end_time": "2019-08-08T15:30:54.359082Z",
     "start_time": "2019-08-08T15:30:54.352877Z"
    }
   },
   "outputs": [],
   "source": [
    "test_list =[]\n",
    "chunk = tables[1].df[0][2:11]\n",
    "test_list.append(chunk)"
   ]
  },
  {
   "cell_type": "code",
   "execution_count": 53,
   "metadata": {
    "ExecuteTime": {
     "end_time": "2019-08-08T15:31:16.812627Z",
     "start_time": "2019-08-08T15:31:16.805491Z"
    }
   },
   "outputs": [
    {
     "data": {
      "text/plain": [
       "2           Provider ID #: 7143304\n",
       "3      Advances & Breakthroughs in\n",
       "4                    Mental Health\n",
       "5         Abjelina, Kenneth T., MD\n",
       "6                       Psychiatry\n",
       "7     5199 E PACIFIC COAST HWY STE\n",
       "8                             330N\n",
       "9             LONG BEACH, CA 90804\n",
       "10                  (562) 365-2020\n",
       "Name: 0, dtype: object"
      ]
     },
     "execution_count": 53,
     "metadata": {},
     "output_type": "execute_result"
    }
   ],
   "source": [
    "test_list[0]"
   ]
  },
  {
   "cell_type": "code",
   "execution_count": 30,
   "metadata": {
    "ExecuteTime": {
     "end_time": "2019-08-08T15:14:45.413498Z",
     "start_time": "2019-08-08T15:14:45.394173Z"
    }
   },
   "outputs": [
    {
     "data": {
      "text/plain": [
       "0                                 \n",
       "1                                 \n",
       "2           Provider ID #: 7143304\n",
       "3      Advances & Breakthroughs in\n",
       "4                    Mental Health\n",
       "5         Abjelina, Kenneth T., MD\n",
       "6                       Psychiatry\n",
       "7     5199 E PACIFIC COAST HWY STE\n",
       "8                             330N\n",
       "9             LONG BEACH, CA 90804\n",
       "10                  (562) 365-2020\n",
       "11                                \n",
       "12          Provider ID #: 4105431\n",
       "13          Abkarian, Angineh, PHD\n",
       "14                      Psychiatry\n",
       "15              5525 W SLAUSON AVE\n",
       "16           LOS ANGELES, CA 90056\n",
       "17                  (310) 993-4103\n",
       "18                                \n",
       "19          Provider ID #: 6920140\n",
       "20      Memory Check Psychological\n",
       "21                         Service\n",
       "22              Adams, Neal H., MD\n",
       "23                      Psychiatry\n",
       "24      4929 WILSHIRE BLVD STE 510\n",
       "25           LOS ANGELES, CA 90010\n",
       "26                  (562) 904-3999\n",
       "27                                \n",
       "28          Provider ID #: 4220963\n",
       "29            Adatia, Navin H., MD\n",
       "                  ...             \n",
       "35          Provider ID #: 9728325\n",
       "36          Gelbart and Associates\n",
       "37         Addes, Irina Shifra, MD\n",
       "38                      Psychiatry\n",
       "39         3333 SKYPARK DR STE 220\n",
       "40              TORRANCE, CA 90505\n",
       "41                  (310) 257-5750\n",
       "42                                \n",
       "43          Provider ID #: 7129707\n",
       "44           Aggarwal, Sushila, MD\n",
       "45                      Psychiatry\n",
       "46          3400 WEST LOMITA BLVD.\n",
       "47                       SUITE 605\n",
       "48              TORRANCE, CA 90505\n",
       "49                  (310) 539-3303\n",
       "50                                \n",
       "51          Provider ID #: 5213393\n",
       "52            Ahaddian, Soheil, MD\n",
       "53                      Psychiatry\n",
       "54      9735 WILSHIRE BLVD STE 228\n",
       "55         BEVERLY HILLS, CA 90212\n",
       "56                  (310) 273-1131\n",
       "57                                \n",
       "58          Provider ID #: 6332364\n",
       "59         Lawrence Genen MD, Inc.\n",
       "60               Ahmadi, Naser, MD\n",
       "61                      Psychiatry\n",
       "62     12301 WILSHIRE BLVD STE 512\n",
       "63           LOS ANGELES, CA 90025\n",
       "64                  (310) 892-4284\n",
       "Name: 0, Length: 65, dtype: object"
      ]
     },
     "execution_count": 30,
     "metadata": {},
     "output_type": "execute_result"
    }
   ],
   "source": [
    "# for column in tables[0].df:\n",
    "for page in tables:\n",
    "    for column in tables[page].df\n",
    "    tables[page].df[column]"
   ]
  },
  {
   "cell_type": "code",
   "execution_count": 21,
   "metadata": {
    "ExecuteTime": {
     "end_time": "2019-08-08T15:08:01.740485Z",
     "start_time": "2019-08-08T15:07:35.398144Z"
    }
   },
   "outputs": [],
   "source": [
    "table2 =camelot.read_pdf('YourSearchResults - 90001.pdf',pages='all')"
   ]
  },
  {
   "cell_type": "code",
   "execution_count": 22,
   "metadata": {
    "ExecuteTime": {
     "end_time": "2019-08-08T15:08:01.762139Z",
     "start_time": "2019-08-08T15:08:01.755124Z"
    }
   },
   "outputs": [
    {
     "data": {
      "text/plain": [
       "<TableList n=0>"
      ]
     },
     "execution_count": 22,
     "metadata": {},
     "output_type": "execute_result"
    }
   ],
   "source": [
    "table2"
   ]
  },
  {
   "cell_type": "code",
   "execution_count": null,
   "metadata": {},
   "outputs": [],
   "source": []
  }
 ],
 "metadata": {
  "kernelspec": {
   "display_name": "Python 3",
   "language": "python",
   "name": "python3"
  },
  "language_info": {
   "codemirror_mode": {
    "name": "ipython",
    "version": 3
   },
   "file_extension": ".py",
   "mimetype": "text/x-python",
   "name": "python",
   "nbconvert_exporter": "python",
   "pygments_lexer": "ipython3",
   "version": "3.7.1"
  },
  "toc": {
   "base_numbering": 1,
   "nav_menu": {},
   "number_sections": true,
   "sideBar": true,
   "skip_h1_title": false,
   "title_cell": "Table of Contents",
   "title_sidebar": "Contents",
   "toc_cell": false,
   "toc_position": {},
   "toc_section_display": true,
   "toc_window_display": false
  },
  "varInspector": {
   "cols": {
    "lenName": 16,
    "lenType": 16,
    "lenVar": 40
   },
   "kernels_config": {
    "python": {
     "delete_cmd_postfix": "",
     "delete_cmd_prefix": "del ",
     "library": "var_list.py",
     "varRefreshCmd": "print(var_dic_list())"
    },
    "r": {
     "delete_cmd_postfix": ") ",
     "delete_cmd_prefix": "rm(",
     "library": "var_list.r",
     "varRefreshCmd": "cat(var_dic_list()) "
    }
   },
   "types_to_exclude": [
    "module",
    "function",
    "builtin_function_or_method",
    "instance",
    "_Feature"
   ],
   "window_display": false
  }
 },
 "nbformat": 4,
 "nbformat_minor": 2
}
