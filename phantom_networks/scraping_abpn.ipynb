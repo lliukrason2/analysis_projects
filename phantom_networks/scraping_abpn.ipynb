{
 "cells": [
  {
   "cell_type": "code",
   "execution_count": 1,
   "metadata": {},
   "outputs": [],
   "source": [
    "import pandas as pd\n",
    "import requests\n",
    "import matplotlib\n",
    "import numpy as np\n",
    "import matplotlib.pyplot as plt\n",
    "import re\n",
    "import time\n",
    "from bs4 import BeautifulSoup\n",
    "from selenium import webdriver\n",
    "from selenium.webdriver.support.ui import Select\n",
    "\n",
    "%matplotlib inline"
   ]
  },
  {
   "cell_type": "code",
   "execution_count": 2,
   "metadata": {},
   "outputs": [],
   "source": [
    "link='https://application.abpn.com/verifycert/verifyCert.asp?a=4'"
   ]
  },
  {
   "cell_type": "code",
   "execution_count": 45,
   "metadata": {},
   "outputs": [],
   "source": [
    "people=[]"
   ]
  },
  {
   "cell_type": "code",
   "execution_count": 46,
   "metadata": {},
   "outputs": [],
   "source": [
    "driver=webdriver.Chrome()\n",
    "driver.get(link)\n",
    "driver.find_element_by_css_selector('[name=\"selSpclty\"] option[value=\"19\"]').click()\n",
    "button=Select(driver.find_element_by_css_selector('[name=\"selSt\"]'))\n",
    "options = button.options"
   ]
  },
  {
   "cell_type": "code",
   "execution_count": 47,
   "metadata": {},
   "outputs": [
    {
     "ename": "NoSuchElementException",
     "evalue": "Message: Could not locate element with index 62\n",
     "output_type": "error",
     "traceback": [
      "\u001b[0;31m---------------------------------------------------------------------------\u001b[0m",
      "\u001b[0;31mNoSuchElementException\u001b[0m                    Traceback (most recent call last)",
      "\u001b[0;32m<ipython-input-47-323a47360334>\u001b[0m in \u001b[0;36m<module>\u001b[0;34m\u001b[0m\n\u001b[1;32m      7\u001b[0m     \u001b[0mdriver\u001b[0m\u001b[0;34m.\u001b[0m\u001b[0mfind_element_by_css_selector\u001b[0m\u001b[0;34m(\u001b[0m\u001b[0;34m'[name=\"selSpclty\"] option[value=\"19\"]'\u001b[0m\u001b[0;34m)\u001b[0m\u001b[0;34m.\u001b[0m\u001b[0mclick\u001b[0m\u001b[0;34m(\u001b[0m\u001b[0;34m)\u001b[0m\u001b[0;34m\u001b[0m\u001b[0;34m\u001b[0m\u001b[0m\n\u001b[1;32m      8\u001b[0m     \u001b[0mbutton\u001b[0m\u001b[0;34m=\u001b[0m\u001b[0mSelect\u001b[0m\u001b[0;34m(\u001b[0m\u001b[0mdriver\u001b[0m\u001b[0;34m.\u001b[0m\u001b[0mfind_element_by_css_selector\u001b[0m\u001b[0;34m(\u001b[0m\u001b[0;34m'[name=\"selSt\"]'\u001b[0m\u001b[0;34m)\u001b[0m\u001b[0;34m)\u001b[0m\u001b[0;34m\u001b[0m\u001b[0;34m\u001b[0m\u001b[0m\n\u001b[0;32m----> 9\u001b[0;31m     \u001b[0mbutton\u001b[0m\u001b[0;34m.\u001b[0m\u001b[0mselect_by_index\u001b[0m\u001b[0;34m(\u001b[0m\u001b[0mi\u001b[0m\u001b[0;34m)\u001b[0m\u001b[0;34m\u001b[0m\u001b[0;34m\u001b[0m\u001b[0m\n\u001b[0m\u001b[1;32m     10\u001b[0m     \u001b[0mdriver\u001b[0m\u001b[0;34m.\u001b[0m\u001b[0mfind_element_by_css_selector\u001b[0m\u001b[0;34m(\u001b[0m\u001b[0;34m'.sm[name=\"vcBtnSrc\"]'\u001b[0m\u001b[0;34m)\u001b[0m\u001b[0;34m.\u001b[0m\u001b[0mclick\u001b[0m\u001b[0;34m(\u001b[0m\u001b[0;34m)\u001b[0m\u001b[0;34m\u001b[0m\u001b[0;34m\u001b[0m\u001b[0m\n\u001b[1;32m     11\u001b[0m     \u001b[0mhtml\u001b[0m \u001b[0;34m=\u001b[0m \u001b[0mdriver\u001b[0m\u001b[0;34m.\u001b[0m\u001b[0mpage_source\u001b[0m\u001b[0;34m\u001b[0m\u001b[0;34m\u001b[0m\u001b[0m\n",
      "\u001b[0;32m~/.pyenv/versions/3.7.1/lib/python3.7/site-packages/selenium/webdriver/support/select.py\u001b[0m in \u001b[0;36mselect_by_index\u001b[0;34m(self, index)\u001b[0m\n\u001b[1;32m    101\u001b[0m                 \u001b[0mself\u001b[0m\u001b[0;34m.\u001b[0m\u001b[0m_setSelected\u001b[0m\u001b[0;34m(\u001b[0m\u001b[0mopt\u001b[0m\u001b[0;34m)\u001b[0m\u001b[0;34m\u001b[0m\u001b[0;34m\u001b[0m\u001b[0m\n\u001b[1;32m    102\u001b[0m                 \u001b[0;32mreturn\u001b[0m\u001b[0;34m\u001b[0m\u001b[0;34m\u001b[0m\u001b[0m\n\u001b[0;32m--> 103\u001b[0;31m         \u001b[0;32mraise\u001b[0m \u001b[0mNoSuchElementException\u001b[0m\u001b[0;34m(\u001b[0m\u001b[0;34m\"Could not locate element with index %d\"\u001b[0m \u001b[0;34m%\u001b[0m \u001b[0mindex\u001b[0m\u001b[0;34m)\u001b[0m\u001b[0;34m\u001b[0m\u001b[0;34m\u001b[0m\u001b[0m\n\u001b[0m\u001b[1;32m    104\u001b[0m \u001b[0;34m\u001b[0m\u001b[0m\n\u001b[1;32m    105\u001b[0m     \u001b[0;32mdef\u001b[0m \u001b[0mselect_by_visible_text\u001b[0m\u001b[0;34m(\u001b[0m\u001b[0mself\u001b[0m\u001b[0;34m,\u001b[0m \u001b[0mtext\u001b[0m\u001b[0;34m)\u001b[0m\u001b[0;34m:\u001b[0m\u001b[0;34m\u001b[0m\u001b[0;34m\u001b[0m\u001b[0m\n",
      "\u001b[0;31mNoSuchElementException\u001b[0m: Message: Could not locate element with index 62\n"
     ]
    }
   ],
   "source": [
    "driver=webdriver.Chrome()\n",
    "for i,option in enumerate(options, start=1):\n",
    "    if option.text.startswith('CANADA'):\n",
    "        continue\n",
    "        \n",
    "    driver.get(link)\n",
    "    driver.find_element_by_css_selector('[name=\"selSpclty\"] option[value=\"19\"]').click()\n",
    "    button=Select(driver.find_element_by_css_selector('[name=\"selSt\"]'))\n",
    "    button.select_by_index(i)\n",
    "    driver.find_element_by_css_selector('.sm[name=\"vcBtnSrc\"]').click()\n",
    "    html = driver.page_source\n",
    "    soup = BeautifulSoup(html)\n",
    "    trs=soup.select('.tbl>#body tr')\n",
    "    for tr in trs:\n",
    "        person={}\n",
    "        tds=tr.findChildren(recursive=False)\n",
    "        if len(tds) in [0,1,2]:\n",
    "            continue\n",
    "        person['name']=tds[0].text.strip()\n",
    "        person['city']=tds[1].text.strip()\n",
    "        person['state']=tds[2].text.strip()\n",
    "        person['dates']=tds[4].text.strip()\n",
    "        person['certified']=tds[5].text.startswith('Cert')\n",
    "        people.append(person)"
   ]
  },
  {
   "cell_type": "code",
   "execution_count": 51,
   "metadata": {},
   "outputs": [],
   "source": [
    "df=pd.DataFrame(people)"
   ]
  },
  {
   "cell_type": "code",
   "execution_count": 57,
   "metadata": {},
   "outputs": [
    {
     "data": {
      "text/plain": [
       "True     49237\n",
       "False     3584\n",
       "Name: certified, dtype: int64"
      ]
     },
     "execution_count": 57,
     "metadata": {},
     "output_type": "execute_result"
    }
   ],
   "source": [
    "df.certified.value_counts()"
   ]
  },
  {
   "cell_type": "code",
   "execution_count": 55,
   "metadata": {},
   "outputs": [],
   "source": [
    "df.to_csv('abpn_07_28_1019.csv',index=False)"
   ]
  },
  {
   "cell_type": "code",
   "execution_count": 62,
   "metadata": {},
   "outputs": [],
   "source": [
    "certifieds=[person for person in people if person['certified']]"
   ]
  },
  {
   "cell_type": "code",
   "execution_count": 65,
   "metadata": {},
   "outputs": [],
   "source": [
    "pd.set_option('display.max_colwidth', -1)"
   ]
  },
  {
   "cell_type": "code",
   "execution_count": 67,
   "metadata": {},
   "outputs": [
    {
     "data": {
      "text/plain": [
       "0        Certified on 05/09/2004  certificate valid through 12/31/2014                                                                                                                                              \n",
       "1        Certified on 05/14/2006  certificate valid through 12/31/2016                                                                                                                                              \n",
       "2        Certified on 01/09/2004  certificate valid through 12/31/2014 Recertified on 04/28/2014Certification contingent on meeting MOC requirements                                                                \n",
       "3        Certified on 11/30/1994  certificate valid through 12/31/2004 Recertified on 08/02/2004  certificate valid through 12/31/2014 Recertified on 02/03/2014Certification contingent on meeting MOC requirements\n",
       "4        Certified on 09/18/2017Certification contingent on meeting MOC requirements                                                                                                                                \n",
       "5        Certified on 01/13/2006  certificate valid through 12/31/2016 Recertified on 04/25/2016Certification contingent on meeting MOC requirements                                                                \n",
       "6        Certified on 09/18/2017Certification contingent on meeting MOC requirements                                                                                                                                \n",
       "7        Certified on 01/30/1992  certificate valid indefinitely                                                                                                                                                    \n",
       "8        Certified on 09/24/2018Certification contingent on meeting MOC requirements                                                                                                                                \n",
       "9        Certified on 05/12/2003  certificate valid through 12/31/2013                                                                                                                                              \n",
       "10       Certified on 01/30/1987  certificate valid indefinitely                                                                                                                                                    \n",
       "11       Certified on 10/01/1999  certificate valid through 12/31/2009 Recertified on 02/15/2010  certificate valid through 12/31/2020                                                                              \n",
       "12       Certified on 06/04/2010  certificate valid through 12/31/2020                                                                                                                                              \n",
       "13       Certified on 09/18/2017Certification contingent on meeting MOC requirements                                                                                                                                \n",
       "14       Certified on 09/24/2015Certification contingent on meeting MOC requirements                                                                                                                                \n",
       "15       Certified on 09/12/2003  certificate valid through 12/31/2013 Recertified on 02/18/2013Certification contingent on meeting MOC requirements                                                                \n",
       "16       Certified on 04/30/1996  certificate valid through 12/31/2006 Recertified on 07/24/2006  certificate valid through 12/31/2016 Recertified on 04/25/2016Certification contingent on meeting MOC requirements\n",
       "17       Certified on 09/15/2014Certification contingent on meeting MOC requirements                                                                                                                                \n",
       "18       Certified on 11/30/1989  certificate valid indefinitely                                                                                                                                                    \n",
       "19       Certified on 06/30/1984  certificate valid indefinitely                                                                                                                                                    \n",
       "20       Certified on 01/30/1993  certificate valid indefinitely                                                                                                                                                    \n",
       "21       Certified on 11/30/1978  certificate valid indefinitely                                                                                                                                                    \n",
       "22       Certified on 06/04/2010  certificate valid through 12/31/2020                                                                                                                                              \n",
       "23       Certified on 01/30/1992  certificate valid indefinitely                                                                                                                                                    \n",
       "24       Certified on 10/30/1988  certificate valid indefinitely                                                                                                                                                    \n",
       "25       Certified on 09/18/2000  certificate valid through 12/31/2010 Recertified on 02/15/2010  certificate valid through 12/31/2020                                                                              \n",
       "26       Certified on 10/30/1988  certificate valid indefinitely                                                                                                                                                    \n",
       "27       Certified on 06/30/1986  certificate valid indefinitely                                                                                                                                                    \n",
       "28       Certified on 01/30/1993  certificate valid indefinitely                                                                                                                                                    \n",
       "29       Certified on 04/30/1984  certificate valid indefinitely                                                                                                                                                    \n",
       "                                  ...                                                                                                                                                                               \n",
       "52791    Certified on 11/30/1982  certificate valid indefinitely                                                                                                                                                    \n",
       "52792    Certified on 04/30/1992  certificate valid indefinitely Voluntarily enrolled in MOC on 10/24/2015  certificate valid through 12/31/2018                                                                    \n",
       "52793    Certified on 01/22/2010  certificate valid through 12/31/2020                                                                                                                                              \n",
       "52794    Certified on 04/19/2013Certification contingent on meeting MOC requirements                                                                                                                                \n",
       "52795    Certified on 05/30/1953  certificate valid indefinitely                                                                                                                                                    \n",
       "52796    Certified on 04/30/1993  certificate valid indefinitely                                                                                                                                                    \n",
       "52797    Certified on 09/24/2015Certification contingent on meeting MOC requirements                                                                                                                                \n",
       "52798    Certified on 04/30/1994  certificate valid indefinitely                                                                                                                                                    \n",
       "52799    Certified on 06/30/1986  certificate valid indefinitely                                                                                                                                                    \n",
       "52800    Certified on 04/30/1994  certificate valid indefinitely                                                                                                                                                    \n",
       "52801    Certified on 10/30/1991  certificate valid indefinitely                                                                                                                                                    \n",
       "52802    Certified on 03/30/1990  certificate valid indefinitely                                                                                                                                                    \n",
       "52803    Certified on 09/18/2017Certification contingent on meeting MOC requirements                                                                                                                                \n",
       "52804    Certified on 01/11/2003  certificate valid through 12/31/2013 Recertified on 02/18/2013Certification contingent on meeting MOC requirements                                                                \n",
       "52805    Certified on 09/24/2015Certification contingent on meeting MOC requirements                                                                                                                                \n",
       "52806    Certified on 10/30/1973  certificate valid indefinitely                                                                                                                                                    \n",
       "52807    Certified on 04/30/1996  certificate valid through 12/31/2006 Recertified on 07/24/2006  certificate valid through 12/31/2016 Recertified on 10/31/2016Certification contingent on meeting MOC requirements\n",
       "52808    Certified on 05/23/1999  certificate valid through 12/31/2009 Recertified on 03/09/2009  certificate valid through 12/31/2019 Recertified on 02/04/2019Certification contingent on meeting MOC requirements\n",
       "52809    Certified on 01/17/2000  certificate valid through 12/31/2010 Recertified on 02/15/2010  certificate valid through 12/31/2020                                                                              \n",
       "52810    Certified on 01/14/2005  certificate valid through 12/31/2015                                                                                                                                              \n",
       "52811    Certified on 05/18/2012Certification contingent on meeting MOC requirements                                                                                                                                \n",
       "52812    Certified on 04/30/1992  certificate valid indefinitely                                                                                                                                                    \n",
       "52813    Certified on 01/30/1976  certificate valid indefinitely                                                                                                                                                    \n",
       "52814    Certified on 04/30/1978  certificate valid indefinitely                                                                                                                                                    \n",
       "52815    Certified on 06/04/2010  certificate valid through 12/31/2020                                                                                                                                              \n",
       "52816    Certified on 01/30/1991  certificate valid indefinitely                                                                                                                                                    \n",
       "52817    Certified on 10/30/1990  certificate valid indefinitely                                                                                                                                                    \n",
       "52818    Certified on 11/30/1987  certificate valid indefinitely                                                                                                                                                    \n",
       "52819    Certified on 05/18/2012Certification contingent on meeting MOC requirements                                                                                                                                \n",
       "52820    Certified on 10/30/1991  certificate valid indefinitely                                                                                                                                                    \n",
       "Name: dates, Length: 52821, dtype: object"
      ]
     },
     "execution_count": 67,
     "metadata": {},
     "output_type": "execute_result"
    }
   ],
   "source": [
    "df.dates"
   ]
  },
  {
   "cell_type": "code",
   "execution_count": null,
   "metadata": {},
   "outputs": [],
   "source": []
  }
 ],
 "metadata": {
  "kernelspec": {
   "display_name": "Python 3",
   "language": "python",
   "name": "python3"
  },
  "language_info": {
   "codemirror_mode": {
    "name": "ipython",
    "version": 3
   },
   "file_extension": ".py",
   "mimetype": "text/x-python",
   "name": "python",
   "nbconvert_exporter": "python",
   "pygments_lexer": "ipython3",
   "version": "3.7.1"
  }
 },
 "nbformat": 4,
 "nbformat_minor": 2
}
