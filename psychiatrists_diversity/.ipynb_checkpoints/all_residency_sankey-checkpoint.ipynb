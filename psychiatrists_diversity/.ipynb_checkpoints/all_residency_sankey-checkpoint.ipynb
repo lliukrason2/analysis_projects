{
 "cells": [
  {
   "cell_type": "markdown",
   "metadata": {},
   "source": [
    "# Taking a Look at the Graduates of Medical Schools and Psychiatry Residency Program Applicants"
   ]
  },
  {
   "cell_type": "code",
   "execution_count": 194,
   "metadata": {
    "ExecuteTime": {
     "end_time": "2019-08-01T15:45:52.772089Z",
     "start_time": "2019-08-01T15:45:52.619430Z"
    }
   },
   "outputs": [],
   "source": [
    "import pandas as pd\n",
    "import requests\n",
    "import matplotlib\n",
    "import numpy as np\n",
    "import matplotlib.pyplot as plt\n",
    "import re\n",
    "from datetime import datetime, timedelta\n",
    "import time\n",
    "import seaborn as sns\n",
    "from pylab import rcParams\n",
    "sns.set(style='whitegrid',palette='husl')\n",
    "matplotlib.rcParams['pdf.fonttype'] = 42\n",
    "\n",
    "%matplotlib inline"
   ]
  },
  {
   "cell_type": "markdown",
   "metadata": {},
   "source": [
    "# Read in Data and Merge\n",
    "This is number of medical school graduates and number of psychiatry residents"
   ]
  },
  {
   "cell_type": "code",
   "execution_count": 223,
   "metadata": {
    "ExecuteTime": {
     "end_time": "2019-08-01T15:55:49.119500Z",
     "start_time": "2019-08-01T15:55:49.098932Z"
    }
   },
   "outputs": [],
   "source": [
    "psychiatry=pd.read_csv('psychiatry_num.csv')"
   ]
  },
  {
   "cell_type": "code",
   "execution_count": 213,
   "metadata": {
    "ExecuteTime": {
     "end_time": "2019-08-01T15:53:56.601364Z",
     "start_time": "2019-08-01T15:53:56.572900Z"
    }
   },
   "outputs": [],
   "source": [
    "pediatrics=pd.read_csv('pediatrics_num.csv')\n",
    "familymedicine=pd.read_csv('familymedicine_num.csv')\n",
    "surgerygen=pd.read_csv('surgery-gen_num.csv')"
   ]
  },
  {
   "cell_type": "code",
   "execution_count": 197,
   "metadata": {
    "ExecuteTime": {
     "end_time": "2019-08-01T15:45:58.044178Z",
     "start_time": "2019-08-01T15:45:58.021996Z"
    }
   },
   "outputs": [],
   "source": [
    "urology=pd.read_csv('urology_num.csv')"
   ]
  },
  {
   "cell_type": "code",
   "execution_count": 198,
   "metadata": {
    "ExecuteTime": {
     "end_time": "2019-08-01T15:45:58.861355Z",
     "start_time": "2019-08-01T15:45:58.845108Z"
    }
   },
   "outputs": [],
   "source": [
    "orthopaedic=pd.read_csv('orthopaedic_num.csv')"
   ]
  },
  {
   "cell_type": "code",
   "execution_count": 199,
   "metadata": {
    "ExecuteTime": {
     "end_time": "2019-08-01T15:46:32.232468Z",
     "start_time": "2019-08-01T15:46:32.206201Z"
    }
   },
   "outputs": [],
   "source": [
    "data_list=[psychiatry,pediatrics,familymedicine,surgerygen,urology,orthopaedic]"
   ]
  },
  {
   "cell_type": "code",
   "execution_count": 210,
   "metadata": {
    "ExecuteTime": {
     "end_time": "2019-08-01T15:53:00.668935Z",
     "start_time": "2019-08-01T15:53:00.665630Z"
    }
   },
   "outputs": [],
   "source": [
    "# for frame in data_list:\n",
    "#     for c in frame.columns[2:]:\n",
    "#         frame=frame.rename(columns={f'{c}':f'{frame}_{c}'})"
   ]
  },
  {
   "cell_type": "code",
   "execution_count": 214,
   "metadata": {
    "ExecuteTime": {
     "end_time": "2019-08-01T15:54:01.206058Z",
     "start_time": "2019-08-01T15:54:01.196036Z"
    }
   },
   "outputs": [],
   "source": [
    "for c in pediatrics.columns[1:]:\n",
    "    pediatrics = pediatrics.rename(columns={f'{c}':f'pediatrics:{c}'})"
   ]
  },
  {
   "cell_type": "code",
   "execution_count": 217,
   "metadata": {
    "ExecuteTime": {
     "end_time": "2019-08-01T15:54:42.059871Z",
     "start_time": "2019-08-01T15:54:42.051076Z"
    }
   },
   "outputs": [],
   "source": [
    "for c in familymedicine.columns[1:]:\n",
    "    familymedicine = familymedicine.rename(columns={f'{c}':f'familymedicine:{c}'})"
   ]
  },
  {
   "cell_type": "code",
   "execution_count": 218,
   "metadata": {
    "ExecuteTime": {
     "end_time": "2019-08-01T15:55:05.156472Z",
     "start_time": "2019-08-01T15:55:05.146779Z"
    }
   },
   "outputs": [],
   "source": [
    "for c in surgerygen.columns[1:]:\n",
    "    surgerygen = surgerygen.rename(columns={f'{c}':f'surgerygen:{c}'})"
   ]
  },
  {
   "cell_type": "code",
   "execution_count": 224,
   "metadata": {
    "ExecuteTime": {
     "end_time": "2019-08-01T15:55:53.787676Z",
     "start_time": "2019-08-01T15:55:53.776986Z"
    }
   },
   "outputs": [],
   "source": [
    "for c in psychiatry.columns[2:]:\n",
    "    psychiatry = psychiatry.rename(columns={f'{c}':f'psychiatry:{c}'})"
   ]
  },
  {
   "cell_type": "code",
   "execution_count": 220,
   "metadata": {
    "ExecuteTime": {
     "end_time": "2019-08-01T15:55:14.300076Z",
     "start_time": "2019-08-01T15:55:14.289426Z"
    }
   },
   "outputs": [],
   "source": [
    "for c in urology.columns[2:]:\n",
    "    urology = urology.rename(columns={f'{c}':f'urology:{c}'})"
   ]
  },
  {
   "cell_type": "code",
   "execution_count": 221,
   "metadata": {
    "ExecuteTime": {
     "end_time": "2019-08-01T15:55:24.584782Z",
     "start_time": "2019-08-01T15:55:24.575298Z"
    }
   },
   "outputs": [],
   "source": [
    "for c in orthopaedic.columns[1:]:\n",
    "    orthopaedic = orthopaedic.rename(columns={f'{c}':f'orthopaedic:{c}'})"
   ]
  },
  {
   "cell_type": "code",
   "execution_count": 225,
   "metadata": {
    "ExecuteTime": {
     "end_time": "2019-08-01T15:55:58.212982Z",
     "start_time": "2019-08-01T15:55:58.196628Z"
    }
   },
   "outputs": [],
   "source": [
    "last_year_df=psychiatry[['race','psychiatry:2018']].rename(columns={'psychiatry:2018':'psychiatry'})"
   ]
  },
  {
   "cell_type": "code",
   "execution_count": 229,
   "metadata": {
    "ExecuteTime": {
     "end_time": "2019-08-01T15:58:04.248440Z",
     "start_time": "2019-08-01T15:58:04.236763Z"
    }
   },
   "outputs": [
    {
     "data": {
      "text/html": [
       "<div>\n",
       "<style scoped>\n",
       "    .dataframe tbody tr th:only-of-type {\n",
       "        vertical-align: middle;\n",
       "    }\n",
       "\n",
       "    .dataframe tbody tr th {\n",
       "        vertical-align: top;\n",
       "    }\n",
       "\n",
       "    .dataframe thead th {\n",
       "        text-align: right;\n",
       "    }\n",
       "</style>\n",
       "<table border=\"1\" class=\"dataframe\">\n",
       "  <thead>\n",
       "    <tr style=\"text-align: right;\">\n",
       "      <th></th>\n",
       "      <th>race</th>\n",
       "      <th>psychiatry</th>\n",
       "    </tr>\n",
       "  </thead>\n",
       "  <tbody>\n",
       "    <tr>\n",
       "      <th>0</th>\n",
       "      <td>American Indian/Alaska Native</td>\n",
       "      <td>31.0</td>\n",
       "    </tr>\n",
       "    <tr>\n",
       "      <th>1</th>\n",
       "      <td>Asian</td>\n",
       "      <td>1640.0</td>\n",
       "    </tr>\n",
       "    <tr>\n",
       "      <th>2</th>\n",
       "      <td>Black/African American</td>\n",
       "      <td>555.0</td>\n",
       "    </tr>\n",
       "    <tr>\n",
       "      <th>3</th>\n",
       "      <td>Hispanic_ Latino_/of Spanish Origin</td>\n",
       "      <td>437.0</td>\n",
       "    </tr>\n",
       "    <tr>\n",
       "      <th>4</th>\n",
       "      <td>Native Hawaiian/Other Pacific Islander</td>\n",
       "      <td>10.0</td>\n",
       "    </tr>\n",
       "    <tr>\n",
       "      <th>5</th>\n",
       "      <td>White</td>\n",
       "      <td>1752.0</td>\n",
       "    </tr>\n",
       "    <tr>\n",
       "      <th>6</th>\n",
       "      <td>Other Race/Ethnicity</td>\n",
       "      <td>217.0</td>\n",
       "    </tr>\n",
       "    <tr>\n",
       "      <th>7</th>\n",
       "      <td>Unknown Race/Ethnicity</td>\n",
       "      <td>308.0</td>\n",
       "    </tr>\n",
       "    <tr>\n",
       "      <th>8</th>\n",
       "      <td>Total</td>\n",
       "      <td>4950.0</td>\n",
       "    </tr>\n",
       "  </tbody>\n",
       "</table>\n",
       "</div>"
      ],
      "text/plain": [
       "                                     race  psychiatry\n",
       "0           American Indian/Alaska Native        31.0\n",
       "1                                   Asian      1640.0\n",
       "2                  Black/African American       555.0\n",
       "3     Hispanic_ Latino_/of Spanish Origin       437.0\n",
       "4  Native Hawaiian/Other Pacific Islander        10.0\n",
       "5                                   White      1752.0\n",
       "6                    Other Race/Ethnicity       217.0\n",
       "7                  Unknown Race/Ethnicity       308.0\n",
       "8                                   Total      4950.0"
      ]
     },
     "execution_count": 229,
     "metadata": {},
     "output_type": "execute_result"
    }
   ],
   "source": [
    "last_year_df"
   ]
  },
  {
   "cell_type": "code",
   "execution_count": 231,
   "metadata": {
    "ExecuteTime": {
     "end_time": "2019-08-01T15:59:16.379774Z",
     "start_time": "2019-08-01T15:59:16.293035Z"
    }
   },
   "outputs": [],
   "source": [
    "last_year_df=last_year_df.merge(orthopaedic[['race','orthopaedic:2018']].rename(columns={'orthopaedic:2018':'orthopaedic'}),left_on='race',right_on='race',how='left')"
   ]
  },
  {
   "cell_type": "code",
   "execution_count": 233,
   "metadata": {
    "ExecuteTime": {
     "end_time": "2019-08-01T16:01:54.997911Z",
     "start_time": "2019-08-01T16:01:54.911674Z"
    }
   },
   "outputs": [],
   "source": [
    "last_year_df=last_year_df.merge(urology[['race','urology:2018']].rename(columns={'urology:2018':'urology'}),left_on='race',right_on='race',how='left')\n",
    "last_year_df=last_year_df.merge(pediatrics[['race','pediatrics:2018']].rename(columns={'pediatrics:2018':'pediatrics'}),left_on='race',right_on='race',how='left')\n",
    "last_year_df=last_year_df.merge(surgerygen[['race','surgerygen:2018']].rename(columns={'surgerygen:2018':'surgerygen'}),left_on='race',right_on='race',how='left')\n",
    "last_year_df=last_year_df.merge(familymedicine[['race','familymedicine:2018']].rename(columns={'familymedicine:2018':'familymedicine'}),left_on='race',right_on='race',how='left')"
   ]
  },
  {
   "cell_type": "code",
   "execution_count": 234,
   "metadata": {
    "ExecuteTime": {
     "end_time": "2019-08-01T16:02:01.384165Z",
     "start_time": "2019-08-01T16:02:01.346225Z"
    }
   },
   "outputs": [
    {
     "data": {
      "text/html": [
       "<div>\n",
       "<style scoped>\n",
       "    .dataframe tbody tr th:only-of-type {\n",
       "        vertical-align: middle;\n",
       "    }\n",
       "\n",
       "    .dataframe tbody tr th {\n",
       "        vertical-align: top;\n",
       "    }\n",
       "\n",
       "    .dataframe thead th {\n",
       "        text-align: right;\n",
       "    }\n",
       "</style>\n",
       "<table border=\"1\" class=\"dataframe\">\n",
       "  <thead>\n",
       "    <tr style=\"text-align: right;\">\n",
       "      <th></th>\n",
       "      <th>race</th>\n",
       "      <th>psychiatry</th>\n",
       "      <th>orthopaedic</th>\n",
       "      <th>urology</th>\n",
       "      <th>pediatrics</th>\n",
       "      <th>surgerygen</th>\n",
       "      <th>familymedicine</th>\n",
       "    </tr>\n",
       "  </thead>\n",
       "  <tbody>\n",
       "    <tr>\n",
       "      <th>0</th>\n",
       "      <td>American Indian/Alaska Native</td>\n",
       "      <td>31.0</td>\n",
       "      <td>15.0</td>\n",
       "      <td>2.0</td>\n",
       "      <td>19.0</td>\n",
       "      <td>54.0</td>\n",
       "      <td>78.0</td>\n",
       "    </tr>\n",
       "    <tr>\n",
       "      <th>1</th>\n",
       "      <td>Asian</td>\n",
       "      <td>1640.0</td>\n",
       "      <td>198.0</td>\n",
       "      <td>93.0</td>\n",
       "      <td>1500.0</td>\n",
       "      <td>1510.0</td>\n",
       "      <td>3769.0</td>\n",
       "    </tr>\n",
       "    <tr>\n",
       "      <th>2</th>\n",
       "      <td>Black/African American</td>\n",
       "      <td>555.0</td>\n",
       "      <td>83.0</td>\n",
       "      <td>20.0</td>\n",
       "      <td>540.0</td>\n",
       "      <td>567.0</td>\n",
       "      <td>1438.0</td>\n",
       "    </tr>\n",
       "    <tr>\n",
       "      <th>3</th>\n",
       "      <td>Hispanic_ Latino_/of Spanish Origin</td>\n",
       "      <td>437.0</td>\n",
       "      <td>107.0</td>\n",
       "      <td>35.0</td>\n",
       "      <td>512.0</td>\n",
       "      <td>628.0</td>\n",
       "      <td>1168.0</td>\n",
       "    </tr>\n",
       "    <tr>\n",
       "      <th>4</th>\n",
       "      <td>Native Hawaiian/Other Pacific Islander</td>\n",
       "      <td>10.0</td>\n",
       "      <td>2.0</td>\n",
       "      <td>1.0</td>\n",
       "      <td>16.0</td>\n",
       "      <td>19.0</td>\n",
       "      <td>21.0</td>\n",
       "    </tr>\n",
       "    <tr>\n",
       "      <th>5</th>\n",
       "      <td>White</td>\n",
       "      <td>1752.0</td>\n",
       "      <td>863.0</td>\n",
       "      <td>258.0</td>\n",
       "      <td>2479.0</td>\n",
       "      <td>3033.0</td>\n",
       "      <td>4612.0</td>\n",
       "    </tr>\n",
       "    <tr>\n",
       "      <th>6</th>\n",
       "      <td>Other Race/Ethnicity</td>\n",
       "      <td>217.0</td>\n",
       "      <td>39.0</td>\n",
       "      <td>15.0</td>\n",
       "      <td>199.0</td>\n",
       "      <td>270.0</td>\n",
       "      <td>522.0</td>\n",
       "    </tr>\n",
       "    <tr>\n",
       "      <th>7</th>\n",
       "      <td>Unknown Race/Ethnicity</td>\n",
       "      <td>308.0</td>\n",
       "      <td>105.0</td>\n",
       "      <td>31.0</td>\n",
       "      <td>336.0</td>\n",
       "      <td>440.0</td>\n",
       "      <td>681.0</td>\n",
       "    </tr>\n",
       "    <tr>\n",
       "      <th>8</th>\n",
       "      <td>Total</td>\n",
       "      <td>4950.0</td>\n",
       "      <td>1412.0</td>\n",
       "      <td>455.0</td>\n",
       "      <td>5601.0</td>\n",
       "      <td>6521.0</td>\n",
       "      <td>12289.0</td>\n",
       "    </tr>\n",
       "  </tbody>\n",
       "</table>\n",
       "</div>"
      ],
      "text/plain": [
       "                                     race  psychiatry  orthopaedic  urology  \\\n",
       "0           American Indian/Alaska Native        31.0         15.0      2.0   \n",
       "1                                   Asian      1640.0        198.0     93.0   \n",
       "2                  Black/African American       555.0         83.0     20.0   \n",
       "3     Hispanic_ Latino_/of Spanish Origin       437.0        107.0     35.0   \n",
       "4  Native Hawaiian/Other Pacific Islander        10.0          2.0      1.0   \n",
       "5                                   White      1752.0        863.0    258.0   \n",
       "6                    Other Race/Ethnicity       217.0         39.0     15.0   \n",
       "7                  Unknown Race/Ethnicity       308.0        105.0     31.0   \n",
       "8                                   Total      4950.0       1412.0    455.0   \n",
       "\n",
       "   pediatrics  surgerygen  familymedicine  \n",
       "0        19.0        54.0            78.0  \n",
       "1      1500.0      1510.0          3769.0  \n",
       "2       540.0       567.0          1438.0  \n",
       "3       512.0       628.0          1168.0  \n",
       "4        16.0        19.0            21.0  \n",
       "5      2479.0      3033.0          4612.0  \n",
       "6       199.0       270.0           522.0  \n",
       "7       336.0       440.0           681.0  \n",
       "8      5601.0      6521.0         12289.0  "
      ]
     },
     "execution_count": 234,
     "metadata": {},
     "output_type": "execute_result"
    }
   ],
   "source": [
    "last_year_df"
   ]
  },
  {
   "cell_type": "markdown",
   "metadata": {},
   "source": [
    "# Manipulate into Long Data for Sankey\n",
    "Using application numbers as sankey weights"
   ]
  },
  {
   "cell_type": "code",
   "execution_count": 235,
   "metadata": {
    "ExecuteTime": {
     "end_time": "2019-08-01T16:02:38.146433Z",
     "start_time": "2019-08-01T16:02:38.052763Z"
    }
   },
   "outputs": [],
   "source": [
    "sank=pd.melt(last_year_df, id_vars=['race'], value_vars=['psychiatry','orthopaedic','urology','pediatrics','surgerygen','familymedicine'])"
   ]
  },
  {
   "cell_type": "code",
   "execution_count": 236,
   "metadata": {
    "ExecuteTime": {
     "end_time": "2019-08-01T16:02:49.344658Z",
     "start_time": "2019-08-01T16:02:49.313708Z"
    }
   },
   "outputs": [
    {
     "data": {
      "text/html": [
       "<div>\n",
       "<style scoped>\n",
       "    .dataframe tbody tr th:only-of-type {\n",
       "        vertical-align: middle;\n",
       "    }\n",
       "\n",
       "    .dataframe tbody tr th {\n",
       "        vertical-align: top;\n",
       "    }\n",
       "\n",
       "    .dataframe thead th {\n",
       "        text-align: right;\n",
       "    }\n",
       "</style>\n",
       "<table border=\"1\" class=\"dataframe\">\n",
       "  <thead>\n",
       "    <tr style=\"text-align: right;\">\n",
       "      <th></th>\n",
       "      <th>race</th>\n",
       "      <th>variable</th>\n",
       "      <th>value</th>\n",
       "    </tr>\n",
       "  </thead>\n",
       "  <tbody>\n",
       "    <tr>\n",
       "      <th>0</th>\n",
       "      <td>American Indian/Alaska Native</td>\n",
       "      <td>psychiatry</td>\n",
       "      <td>31.0</td>\n",
       "    </tr>\n",
       "    <tr>\n",
       "      <th>1</th>\n",
       "      <td>Asian</td>\n",
       "      <td>psychiatry</td>\n",
       "      <td>1640.0</td>\n",
       "    </tr>\n",
       "    <tr>\n",
       "      <th>2</th>\n",
       "      <td>Black/African American</td>\n",
       "      <td>psychiatry</td>\n",
       "      <td>555.0</td>\n",
       "    </tr>\n",
       "    <tr>\n",
       "      <th>3</th>\n",
       "      <td>Hispanic_ Latino_/of Spanish Origin</td>\n",
       "      <td>psychiatry</td>\n",
       "      <td>437.0</td>\n",
       "    </tr>\n",
       "    <tr>\n",
       "      <th>4</th>\n",
       "      <td>Native Hawaiian/Other Pacific Islander</td>\n",
       "      <td>psychiatry</td>\n",
       "      <td>10.0</td>\n",
       "    </tr>\n",
       "    <tr>\n",
       "      <th>5</th>\n",
       "      <td>White</td>\n",
       "      <td>psychiatry</td>\n",
       "      <td>1752.0</td>\n",
       "    </tr>\n",
       "    <tr>\n",
       "      <th>6</th>\n",
       "      <td>Other Race/Ethnicity</td>\n",
       "      <td>psychiatry</td>\n",
       "      <td>217.0</td>\n",
       "    </tr>\n",
       "    <tr>\n",
       "      <th>7</th>\n",
       "      <td>Unknown Race/Ethnicity</td>\n",
       "      <td>psychiatry</td>\n",
       "      <td>308.0</td>\n",
       "    </tr>\n",
       "    <tr>\n",
       "      <th>8</th>\n",
       "      <td>Total</td>\n",
       "      <td>psychiatry</td>\n",
       "      <td>4950.0</td>\n",
       "    </tr>\n",
       "    <tr>\n",
       "      <th>9</th>\n",
       "      <td>American Indian/Alaska Native</td>\n",
       "      <td>orthopaedic</td>\n",
       "      <td>15.0</td>\n",
       "    </tr>\n",
       "    <tr>\n",
       "      <th>10</th>\n",
       "      <td>Asian</td>\n",
       "      <td>orthopaedic</td>\n",
       "      <td>198.0</td>\n",
       "    </tr>\n",
       "    <tr>\n",
       "      <th>11</th>\n",
       "      <td>Black/African American</td>\n",
       "      <td>orthopaedic</td>\n",
       "      <td>83.0</td>\n",
       "    </tr>\n",
       "    <tr>\n",
       "      <th>12</th>\n",
       "      <td>Hispanic_ Latino_/of Spanish Origin</td>\n",
       "      <td>orthopaedic</td>\n",
       "      <td>107.0</td>\n",
       "    </tr>\n",
       "    <tr>\n",
       "      <th>13</th>\n",
       "      <td>Native Hawaiian/Other Pacific Islander</td>\n",
       "      <td>orthopaedic</td>\n",
       "      <td>2.0</td>\n",
       "    </tr>\n",
       "    <tr>\n",
       "      <th>14</th>\n",
       "      <td>White</td>\n",
       "      <td>orthopaedic</td>\n",
       "      <td>863.0</td>\n",
       "    </tr>\n",
       "    <tr>\n",
       "      <th>15</th>\n",
       "      <td>Other Race/Ethnicity</td>\n",
       "      <td>orthopaedic</td>\n",
       "      <td>39.0</td>\n",
       "    </tr>\n",
       "    <tr>\n",
       "      <th>16</th>\n",
       "      <td>Unknown Race/Ethnicity</td>\n",
       "      <td>orthopaedic</td>\n",
       "      <td>105.0</td>\n",
       "    </tr>\n",
       "    <tr>\n",
       "      <th>17</th>\n",
       "      <td>Total</td>\n",
       "      <td>orthopaedic</td>\n",
       "      <td>1412.0</td>\n",
       "    </tr>\n",
       "    <tr>\n",
       "      <th>18</th>\n",
       "      <td>American Indian/Alaska Native</td>\n",
       "      <td>urology</td>\n",
       "      <td>2.0</td>\n",
       "    </tr>\n",
       "    <tr>\n",
       "      <th>19</th>\n",
       "      <td>Asian</td>\n",
       "      <td>urology</td>\n",
       "      <td>93.0</td>\n",
       "    </tr>\n",
       "    <tr>\n",
       "      <th>20</th>\n",
       "      <td>Black/African American</td>\n",
       "      <td>urology</td>\n",
       "      <td>20.0</td>\n",
       "    </tr>\n",
       "    <tr>\n",
       "      <th>21</th>\n",
       "      <td>Hispanic_ Latino_/of Spanish Origin</td>\n",
       "      <td>urology</td>\n",
       "      <td>35.0</td>\n",
       "    </tr>\n",
       "    <tr>\n",
       "      <th>22</th>\n",
       "      <td>Native Hawaiian/Other Pacific Islander</td>\n",
       "      <td>urology</td>\n",
       "      <td>1.0</td>\n",
       "    </tr>\n",
       "    <tr>\n",
       "      <th>23</th>\n",
       "      <td>White</td>\n",
       "      <td>urology</td>\n",
       "      <td>258.0</td>\n",
       "    </tr>\n",
       "    <tr>\n",
       "      <th>24</th>\n",
       "      <td>Other Race/Ethnicity</td>\n",
       "      <td>urology</td>\n",
       "      <td>15.0</td>\n",
       "    </tr>\n",
       "    <tr>\n",
       "      <th>25</th>\n",
       "      <td>Unknown Race/Ethnicity</td>\n",
       "      <td>urology</td>\n",
       "      <td>31.0</td>\n",
       "    </tr>\n",
       "    <tr>\n",
       "      <th>26</th>\n",
       "      <td>Total</td>\n",
       "      <td>urology</td>\n",
       "      <td>455.0</td>\n",
       "    </tr>\n",
       "    <tr>\n",
       "      <th>27</th>\n",
       "      <td>American Indian/Alaska Native</td>\n",
       "      <td>pediatrics</td>\n",
       "      <td>19.0</td>\n",
       "    </tr>\n",
       "    <tr>\n",
       "      <th>28</th>\n",
       "      <td>Asian</td>\n",
       "      <td>pediatrics</td>\n",
       "      <td>1500.0</td>\n",
       "    </tr>\n",
       "    <tr>\n",
       "      <th>29</th>\n",
       "      <td>Black/African American</td>\n",
       "      <td>pediatrics</td>\n",
       "      <td>540.0</td>\n",
       "    </tr>\n",
       "    <tr>\n",
       "      <th>30</th>\n",
       "      <td>Hispanic_ Latino_/of Spanish Origin</td>\n",
       "      <td>pediatrics</td>\n",
       "      <td>512.0</td>\n",
       "    </tr>\n",
       "    <tr>\n",
       "      <th>31</th>\n",
       "      <td>Native Hawaiian/Other Pacific Islander</td>\n",
       "      <td>pediatrics</td>\n",
       "      <td>16.0</td>\n",
       "    </tr>\n",
       "    <tr>\n",
       "      <th>32</th>\n",
       "      <td>White</td>\n",
       "      <td>pediatrics</td>\n",
       "      <td>2479.0</td>\n",
       "    </tr>\n",
       "    <tr>\n",
       "      <th>33</th>\n",
       "      <td>Other Race/Ethnicity</td>\n",
       "      <td>pediatrics</td>\n",
       "      <td>199.0</td>\n",
       "    </tr>\n",
       "    <tr>\n",
       "      <th>34</th>\n",
       "      <td>Unknown Race/Ethnicity</td>\n",
       "      <td>pediatrics</td>\n",
       "      <td>336.0</td>\n",
       "    </tr>\n",
       "    <tr>\n",
       "      <th>35</th>\n",
       "      <td>Total</td>\n",
       "      <td>pediatrics</td>\n",
       "      <td>5601.0</td>\n",
       "    </tr>\n",
       "    <tr>\n",
       "      <th>36</th>\n",
       "      <td>American Indian/Alaska Native</td>\n",
       "      <td>surgerygen</td>\n",
       "      <td>54.0</td>\n",
       "    </tr>\n",
       "    <tr>\n",
       "      <th>37</th>\n",
       "      <td>Asian</td>\n",
       "      <td>surgerygen</td>\n",
       "      <td>1510.0</td>\n",
       "    </tr>\n",
       "    <tr>\n",
       "      <th>38</th>\n",
       "      <td>Black/African American</td>\n",
       "      <td>surgerygen</td>\n",
       "      <td>567.0</td>\n",
       "    </tr>\n",
       "    <tr>\n",
       "      <th>39</th>\n",
       "      <td>Hispanic_ Latino_/of Spanish Origin</td>\n",
       "      <td>surgerygen</td>\n",
       "      <td>628.0</td>\n",
       "    </tr>\n",
       "    <tr>\n",
       "      <th>40</th>\n",
       "      <td>Native Hawaiian/Other Pacific Islander</td>\n",
       "      <td>surgerygen</td>\n",
       "      <td>19.0</td>\n",
       "    </tr>\n",
       "    <tr>\n",
       "      <th>41</th>\n",
       "      <td>White</td>\n",
       "      <td>surgerygen</td>\n",
       "      <td>3033.0</td>\n",
       "    </tr>\n",
       "    <tr>\n",
       "      <th>42</th>\n",
       "      <td>Other Race/Ethnicity</td>\n",
       "      <td>surgerygen</td>\n",
       "      <td>270.0</td>\n",
       "    </tr>\n",
       "    <tr>\n",
       "      <th>43</th>\n",
       "      <td>Unknown Race/Ethnicity</td>\n",
       "      <td>surgerygen</td>\n",
       "      <td>440.0</td>\n",
       "    </tr>\n",
       "    <tr>\n",
       "      <th>44</th>\n",
       "      <td>Total</td>\n",
       "      <td>surgerygen</td>\n",
       "      <td>6521.0</td>\n",
       "    </tr>\n",
       "    <tr>\n",
       "      <th>45</th>\n",
       "      <td>American Indian/Alaska Native</td>\n",
       "      <td>familymedicine</td>\n",
       "      <td>78.0</td>\n",
       "    </tr>\n",
       "    <tr>\n",
       "      <th>46</th>\n",
       "      <td>Asian</td>\n",
       "      <td>familymedicine</td>\n",
       "      <td>3769.0</td>\n",
       "    </tr>\n",
       "    <tr>\n",
       "      <th>47</th>\n",
       "      <td>Black/African American</td>\n",
       "      <td>familymedicine</td>\n",
       "      <td>1438.0</td>\n",
       "    </tr>\n",
       "    <tr>\n",
       "      <th>48</th>\n",
       "      <td>Hispanic_ Latino_/of Spanish Origin</td>\n",
       "      <td>familymedicine</td>\n",
       "      <td>1168.0</td>\n",
       "    </tr>\n",
       "    <tr>\n",
       "      <th>49</th>\n",
       "      <td>Native Hawaiian/Other Pacific Islander</td>\n",
       "      <td>familymedicine</td>\n",
       "      <td>21.0</td>\n",
       "    </tr>\n",
       "    <tr>\n",
       "      <th>50</th>\n",
       "      <td>White</td>\n",
       "      <td>familymedicine</td>\n",
       "      <td>4612.0</td>\n",
       "    </tr>\n",
       "    <tr>\n",
       "      <th>51</th>\n",
       "      <td>Other Race/Ethnicity</td>\n",
       "      <td>familymedicine</td>\n",
       "      <td>522.0</td>\n",
       "    </tr>\n",
       "    <tr>\n",
       "      <th>52</th>\n",
       "      <td>Unknown Race/Ethnicity</td>\n",
       "      <td>familymedicine</td>\n",
       "      <td>681.0</td>\n",
       "    </tr>\n",
       "    <tr>\n",
       "      <th>53</th>\n",
       "      <td>Total</td>\n",
       "      <td>familymedicine</td>\n",
       "      <td>12289.0</td>\n",
       "    </tr>\n",
       "  </tbody>\n",
       "</table>\n",
       "</div>"
      ],
      "text/plain": [
       "                                      race        variable    value\n",
       "0            American Indian/Alaska Native      psychiatry     31.0\n",
       "1                                    Asian      psychiatry   1640.0\n",
       "2                   Black/African American      psychiatry    555.0\n",
       "3      Hispanic_ Latino_/of Spanish Origin      psychiatry    437.0\n",
       "4   Native Hawaiian/Other Pacific Islander      psychiatry     10.0\n",
       "5                                    White      psychiatry   1752.0\n",
       "6                     Other Race/Ethnicity      psychiatry    217.0\n",
       "7                   Unknown Race/Ethnicity      psychiatry    308.0\n",
       "8                                    Total      psychiatry   4950.0\n",
       "9            American Indian/Alaska Native     orthopaedic     15.0\n",
       "10                                   Asian     orthopaedic    198.0\n",
       "11                  Black/African American     orthopaedic     83.0\n",
       "12     Hispanic_ Latino_/of Spanish Origin     orthopaedic    107.0\n",
       "13  Native Hawaiian/Other Pacific Islander     orthopaedic      2.0\n",
       "14                                   White     orthopaedic    863.0\n",
       "15                    Other Race/Ethnicity     orthopaedic     39.0\n",
       "16                  Unknown Race/Ethnicity     orthopaedic    105.0\n",
       "17                                   Total     orthopaedic   1412.0\n",
       "18           American Indian/Alaska Native         urology      2.0\n",
       "19                                   Asian         urology     93.0\n",
       "20                  Black/African American         urology     20.0\n",
       "21     Hispanic_ Latino_/of Spanish Origin         urology     35.0\n",
       "22  Native Hawaiian/Other Pacific Islander         urology      1.0\n",
       "23                                   White         urology    258.0\n",
       "24                    Other Race/Ethnicity         urology     15.0\n",
       "25                  Unknown Race/Ethnicity         urology     31.0\n",
       "26                                   Total         urology    455.0\n",
       "27           American Indian/Alaska Native      pediatrics     19.0\n",
       "28                                   Asian      pediatrics   1500.0\n",
       "29                  Black/African American      pediatrics    540.0\n",
       "30     Hispanic_ Latino_/of Spanish Origin      pediatrics    512.0\n",
       "31  Native Hawaiian/Other Pacific Islander      pediatrics     16.0\n",
       "32                                   White      pediatrics   2479.0\n",
       "33                    Other Race/Ethnicity      pediatrics    199.0\n",
       "34                  Unknown Race/Ethnicity      pediatrics    336.0\n",
       "35                                   Total      pediatrics   5601.0\n",
       "36           American Indian/Alaska Native      surgerygen     54.0\n",
       "37                                   Asian      surgerygen   1510.0\n",
       "38                  Black/African American      surgerygen    567.0\n",
       "39     Hispanic_ Latino_/of Spanish Origin      surgerygen    628.0\n",
       "40  Native Hawaiian/Other Pacific Islander      surgerygen     19.0\n",
       "41                                   White      surgerygen   3033.0\n",
       "42                    Other Race/Ethnicity      surgerygen    270.0\n",
       "43                  Unknown Race/Ethnicity      surgerygen    440.0\n",
       "44                                   Total      surgerygen   6521.0\n",
       "45           American Indian/Alaska Native  familymedicine     78.0\n",
       "46                                   Asian  familymedicine   3769.0\n",
       "47                  Black/African American  familymedicine   1438.0\n",
       "48     Hispanic_ Latino_/of Spanish Origin  familymedicine   1168.0\n",
       "49  Native Hawaiian/Other Pacific Islander  familymedicine     21.0\n",
       "50                                   White  familymedicine   4612.0\n",
       "51                    Other Race/Ethnicity  familymedicine    522.0\n",
       "52                  Unknown Race/Ethnicity  familymedicine    681.0\n",
       "53                                   Total  familymedicine  12289.0"
      ]
     },
     "execution_count": 236,
     "metadata": {},
     "output_type": "execute_result"
    }
   ],
   "source": [
    "sank"
   ]
  },
  {
   "cell_type": "code",
   "execution_count": 237,
   "metadata": {
    "ExecuteTime": {
     "end_time": "2019-08-01T16:02:56.231986Z",
     "start_time": "2019-08-01T16:02:56.204991Z"
    }
   },
   "outputs": [],
   "source": [
    "sank=sank[sank['race']!= 'Total']"
   ]
  },
  {
   "cell_type": "code",
   "execution_count": 238,
   "metadata": {
    "ExecuteTime": {
     "end_time": "2019-08-01T16:03:05.585089Z",
     "start_time": "2019-08-01T16:03:05.560981Z"
    }
   },
   "outputs": [],
   "source": [
    "sank.to_csv('sank.csv',index=False)"
   ]
  },
  {
   "cell_type": "code",
   "execution_count": 239,
   "metadata": {
    "ExecuteTime": {
     "end_time": "2019-08-01T16:03:10.079741Z",
     "start_time": "2019-08-01T16:03:10.073694Z"
    }
   },
   "outputs": [],
   "source": [
    "#casting sankey weights\n",
    "weight = sank['value'].values.astype(float)\n"
   ]
  },
  {
   "cell_type": "markdown",
   "metadata": {},
   "source": [
    "# Sankey Chart!"
   ]
  },
  {
   "cell_type": "code",
   "execution_count": 241,
   "metadata": {
    "ExecuteTime": {
     "end_time": "2019-08-01T16:03:35.097707Z",
     "start_time": "2019-08-01T16:03:32.986981Z"
    }
   },
   "outputs": [
    {
     "data": {
      "image/png": "[encoded data removed]",
      "text/plain": [
       "<Figure size 432x432 with 1 Axes>"
      ]
     },
     "metadata": {
      "needs_background": "light"
     },
     "output_type": "display_data"
    }
   ],
   "source": [
    "#making the sankey\n",
    "sankey(left=sank['race'].values, right=sank['variable'].values,\n",
    "               rightWeight=weight, leftWeight=weight, aspect=20, fontsize=10,\n",
    "               figure_name='residency flows')"
   ]
  },
  {
   "cell_type": "code",
   "execution_count": null,
   "metadata": {},
   "outputs": [],
   "source": []
  }
 ],
 "metadata": {
  "kernelspec": {
   "display_name": "Python 3",
   "language": "python",
   "name": "python3"
  },
  "language_info": {
   "codemirror_mode": {
    "name": "ipython",
    "version": 3
   },
   "file_extension": ".py",
   "mimetype": "text/x-python",
   "name": "python",
   "nbconvert_exporter": "python",
   "pygments_lexer": "ipython3",
   "version": "3.7.1"
  },
  "toc": {
   "base_numbering": 1,
   "nav_menu": {},
   "number_sections": true,
   "sideBar": true,
   "skip_h1_title": false,
   "title_cell": "Table of Contents",
   "title_sidebar": "Contents",
   "toc_cell": false,
   "toc_position": {},
   "toc_section_display": true,
   "toc_window_display": true
  },
  "varInspector": {
   "cols": {
    "lenName": 16,
    "lenType": 16,
    "lenVar": 40
   },
   "kernels_config": {
    "python": {
     "delete_cmd_postfix": "",
     "delete_cmd_prefix": "del ",
     "library": "var_list.py",
     "varRefreshCmd": "print(var_dic_list())"
    },
    "r": {
     "delete_cmd_postfix": ") ",
     "delete_cmd_prefix": "rm(",
     "library": "var_list.r",
     "varRefreshCmd": "cat(var_dic_list()) "
    }
   },
   "types_to_exclude": [
    "module",
    "function",
    "builtin_function_or_method",
    "instance",
    "_Feature"
   ],
   "window_display": false
  }
 },
 "nbformat": 4,
 "nbformat_minor": 2
}
