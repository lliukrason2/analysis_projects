{
 "cells": [
  {
   "cell_type": "markdown",
   "metadata": {},
   "source": [
    "# Family Medicine Residency Applications\n",
    "Data from https://www.aamc.org/data/facts/eras/"
   ]
  },
  {
   "cell_type": "code",
   "execution_count": 1,
   "metadata": {
    "ExecuteTime": {
     "end_time": "2019-08-01T15:28:23.489360Z",
     "start_time": "2019-08-01T15:28:21.370738Z"
    }
   },
   "outputs": [],
   "source": [
    "import pandas as pd\n",
    "import requests\n",
    "import matplotlib\n",
    "import numpy as np\n",
    "import matplotlib.pyplot as plt\n",
    "import re\n",
    "from datetime import datetime, timedelta\n",
    "import time\n",
    "import seaborn as sns\n",
    "from pylab import rcParams\n",
    "sns.set(style='whitegrid',palette='husl')\n",
    "matplotlib.rcParams['pdf.fonttype'] = 42\n",
    "\n",
    "%matplotlib inline"
   ]
  },
  {
   "cell_type": "markdown",
   "metadata": {},
   "source": [
    "# Load Data, Clean, and Add Percentage Columns"
   ]
  },
  {
   "cell_type": "code",
   "execution_count": 16,
   "metadata": {
    "ExecuteTime": {
     "end_time": "2019-08-01T15:29:18.998893Z",
     "start_time": "2019-08-01T15:29:18.989079Z"
    }
   },
   "outputs": [],
   "source": [
    "df=pd.read_csv('tabula-familymedicine.csv',thousands=',',encoding='latin-1')"
   ]
  },
  {
   "cell_type": "code",
   "execution_count": 17,
   "metadata": {
    "ExecuteTime": {
     "end_time": "2019-08-01T15:29:25.120034Z",
     "start_time": "2019-08-01T15:29:25.098710Z"
    }
   },
   "outputs": [
    {
     "data": {
      "text/html": [
       "<div>\n",
       "<style scoped>\n",
       "    .dataframe tbody tr th:only-of-type {\n",
       "        vertical-align: middle;\n",
       "    }\n",
       "\n",
       "    .dataframe tbody tr th {\n",
       "        vertical-align: top;\n",
       "    }\n",
       "\n",
       "    .dataframe thead th {\n",
       "        text-align: right;\n",
       "    }\n",
       "</style>\n",
       "<table border=\"1\" class=\"dataframe\">\n",
       "  <thead>\n",
       "    <tr style=\"text-align: right;\">\n",
       "      <th></th>\n",
       "      <th>Unnamed: 0</th>\n",
       "      <th>Number of Applicants</th>\n",
       "      <th>Unnamed: 2</th>\n",
       "      <th>Unnamed: 3</th>\n",
       "      <th>Unnamed: 4</th>\n",
       "      <th>Unnamed: 5</th>\n",
       "      <th>Unnamed: 6</th>\n",
       "    </tr>\n",
       "  </thead>\n",
       "  <tbody>\n",
       "    <tr>\n",
       "      <th>0</th>\n",
       "      <td>NaN</td>\n",
       "      <td>ERAS 2014</td>\n",
       "      <td>ERAS 2015</td>\n",
       "      <td>ERAS 2016</td>\n",
       "      <td>ERAS 2017</td>\n",
       "      <td>ERAS 2018</td>\n",
       "      <td>NaN</td>\n",
       "    </tr>\n",
       "    <tr>\n",
       "      <th>1</th>\n",
       "      <td>American Indian or Alaska Native</td>\n",
       "      <td>78</td>\n",
       "      <td>89</td>\n",
       "      <td>70</td>\n",
       "      <td>64</td>\n",
       "      <td>78</td>\n",
       "      <td>NaN</td>\n",
       "    </tr>\n",
       "    <tr>\n",
       "      <th>2</th>\n",
       "      <td>Asian</td>\n",
       "      <td>3,888</td>\n",
       "      <td>3,917</td>\n",
       "      <td>3,723</td>\n",
       "      <td>3,802</td>\n",
       "      <td>3,769</td>\n",
       "      <td>NaN</td>\n",
       "    </tr>\n",
       "    <tr>\n",
       "      <th>3</th>\n",
       "      <td>Black or African American</td>\n",
       "      <td>1,277</td>\n",
       "      <td>1,385</td>\n",
       "      <td>1,335</td>\n",
       "      <td>1,335</td>\n",
       "      <td>1,438</td>\n",
       "      <td>NaN</td>\n",
       "    </tr>\n",
       "    <tr>\n",
       "      <th>4</th>\n",
       "      <td>Hispanic, Latino, or of Spanish\\rOrigin</td>\n",
       "      <td>1,030</td>\n",
       "      <td>1,054</td>\n",
       "      <td>1,105</td>\n",
       "      <td>1,133</td>\n",
       "      <td>1,168</td>\n",
       "      <td>NaN</td>\n",
       "    </tr>\n",
       "  </tbody>\n",
       "</table>\n",
       "</div>"
      ],
      "text/plain": [
       "                                Unnamed: 0 Number of Applicants Unnamed: 2  \\\n",
       "0                                      NaN            ERAS 2014  ERAS 2015   \n",
       "1         American Indian or Alaska Native                   78         89   \n",
       "2                                    Asian                3,888      3,917   \n",
       "3                Black or African American                1,277      1,385   \n",
       "4  Hispanic, Latino, or of Spanish\\rOrigin                1,030      1,054   \n",
       "\n",
       "  Unnamed: 3 Unnamed: 4 Unnamed: 5  Unnamed: 6  \n",
       "0  ERAS 2016  ERAS 2017  ERAS 2018         NaN  \n",
       "1         70         64         78         NaN  \n",
       "2      3,723      3,802      3,769         NaN  \n",
       "3      1,335      1,335      1,438         NaN  \n",
       "4      1,105      1,133      1,168         NaN  "
      ]
     },
     "execution_count": 17,
     "metadata": {},
     "output_type": "execute_result"
    }
   ],
   "source": [
    "df.head()"
   ]
  },
  {
   "cell_type": "code",
   "execution_count": 18,
   "metadata": {
    "ExecuteTime": {
     "end_time": "2019-08-01T15:31:15.073018Z",
     "start_time": "2019-08-01T15:31:15.066713Z"
    }
   },
   "outputs": [],
   "source": [
    "df=df.rename(columns={'Unnamed: 0':'race','Number of Applicants':'ERAS 2014','Unnamed: 2':'ERAS 2015','Unnamed: 3':'ERAS 2016','Unnamed: 4':'ERAS 2017','Unnamed: 5':'ERAS 2018'})"
   ]
  },
  {
   "cell_type": "code",
   "execution_count": 19,
   "metadata": {
    "ExecuteTime": {
     "end_time": "2019-08-01T15:31:17.984998Z",
     "start_time": "2019-08-01T15:31:17.969131Z"
    }
   },
   "outputs": [
    {
     "data": {
      "text/html": [
       "<div>\n",
       "<style scoped>\n",
       "    .dataframe tbody tr th:only-of-type {\n",
       "        vertical-align: middle;\n",
       "    }\n",
       "\n",
       "    .dataframe tbody tr th {\n",
       "        vertical-align: top;\n",
       "    }\n",
       "\n",
       "    .dataframe thead th {\n",
       "        text-align: right;\n",
       "    }\n",
       "</style>\n",
       "<table border=\"1\" class=\"dataframe\">\n",
       "  <thead>\n",
       "    <tr style=\"text-align: right;\">\n",
       "      <th></th>\n",
       "      <th>race</th>\n",
       "      <th>ERAS 2014</th>\n",
       "      <th>ERAS 2015</th>\n",
       "      <th>ERAS 2016</th>\n",
       "      <th>ERAS 2017</th>\n",
       "      <th>ERAS 2018</th>\n",
       "      <th>Unnamed: 6</th>\n",
       "    </tr>\n",
       "  </thead>\n",
       "  <tbody>\n",
       "    <tr>\n",
       "      <th>0</th>\n",
       "      <td>NaN</td>\n",
       "      <td>ERAS 2014</td>\n",
       "      <td>ERAS 2015</td>\n",
       "      <td>ERAS 2016</td>\n",
       "      <td>ERAS 2017</td>\n",
       "      <td>ERAS 2018</td>\n",
       "      <td>NaN</td>\n",
       "    </tr>\n",
       "    <tr>\n",
       "      <th>1</th>\n",
       "      <td>American Indian or Alaska Native</td>\n",
       "      <td>78</td>\n",
       "      <td>89</td>\n",
       "      <td>70</td>\n",
       "      <td>64</td>\n",
       "      <td>78</td>\n",
       "      <td>NaN</td>\n",
       "    </tr>\n",
       "    <tr>\n",
       "      <th>2</th>\n",
       "      <td>Asian</td>\n",
       "      <td>3,888</td>\n",
       "      <td>3,917</td>\n",
       "      <td>3,723</td>\n",
       "      <td>3,802</td>\n",
       "      <td>3,769</td>\n",
       "      <td>NaN</td>\n",
       "    </tr>\n",
       "    <tr>\n",
       "      <th>3</th>\n",
       "      <td>Black or African American</td>\n",
       "      <td>1,277</td>\n",
       "      <td>1,385</td>\n",
       "      <td>1,335</td>\n",
       "      <td>1,335</td>\n",
       "      <td>1,438</td>\n",
       "      <td>NaN</td>\n",
       "    </tr>\n",
       "    <tr>\n",
       "      <th>4</th>\n",
       "      <td>Hispanic, Latino, or of Spanish\\rOrigin</td>\n",
       "      <td>1,030</td>\n",
       "      <td>1,054</td>\n",
       "      <td>1,105</td>\n",
       "      <td>1,133</td>\n",
       "      <td>1,168</td>\n",
       "      <td>NaN</td>\n",
       "    </tr>\n",
       "  </tbody>\n",
       "</table>\n",
       "</div>"
      ],
      "text/plain": [
       "                                      race  ERAS 2014  ERAS 2015  ERAS 2016  \\\n",
       "0                                      NaN  ERAS 2014  ERAS 2015  ERAS 2016   \n",
       "1         American Indian or Alaska Native         78         89         70   \n",
       "2                                    Asian      3,888      3,917      3,723   \n",
       "3                Black or African American      1,277      1,385      1,335   \n",
       "4  Hispanic, Latino, or of Spanish\\rOrigin      1,030      1,054      1,105   \n",
       "\n",
       "   ERAS 2017  ERAS 2018  Unnamed: 6  \n",
       "0  ERAS 2017  ERAS 2018         NaN  \n",
       "1         64         78         NaN  \n",
       "2      3,802      3,769         NaN  \n",
       "3      1,335      1,438         NaN  \n",
       "4      1,133      1,168         NaN  "
      ]
     },
     "execution_count": 19,
     "metadata": {},
     "output_type": "execute_result"
    }
   ],
   "source": [
    "df.head()"
   ]
  },
  {
   "cell_type": "code",
   "execution_count": 20,
   "metadata": {
    "ExecuteTime": {
     "end_time": "2019-08-01T15:31:30.413282Z",
     "start_time": "2019-08-01T15:31:30.403954Z"
    }
   },
   "outputs": [],
   "source": [
    "df=df.drop(columns='Unnamed: 6')"
   ]
  },
  {
   "cell_type": "code",
   "execution_count": 22,
   "metadata": {
    "ExecuteTime": {
     "end_time": "2019-08-01T15:31:53.620474Z",
     "start_time": "2019-08-01T15:31:53.616160Z"
    }
   },
   "outputs": [],
   "source": [
    "df=df[1:]"
   ]
  },
  {
   "cell_type": "code",
   "execution_count": 23,
   "metadata": {
    "ExecuteTime": {
     "end_time": "2019-08-01T15:31:56.715145Z",
     "start_time": "2019-08-01T15:31:56.515329Z"
    }
   },
   "outputs": [],
   "source": [
    "df.race=df.race.str.replace('\\r',' ')"
   ]
  },
  {
   "cell_type": "code",
   "execution_count": 24,
   "metadata": {
    "ExecuteTime": {
     "end_time": "2019-08-01T15:31:57.986956Z",
     "start_time": "2019-08-01T15:31:57.982347Z"
    }
   },
   "outputs": [],
   "source": [
    "df.columns = df.columns.str.replace(\"ERAS\", \"\")"
   ]
  },
  {
   "cell_type": "code",
   "execution_count": 25,
   "metadata": {
    "ExecuteTime": {
     "end_time": "2019-08-01T15:31:58.441700Z",
     "start_time": "2019-08-01T15:31:58.436866Z"
    }
   },
   "outputs": [],
   "source": [
    "df.columns=df.columns.str.replace(r\"\\.1\", \"_applications_per_program\")"
   ]
  },
  {
   "cell_type": "code",
   "execution_count": 26,
   "metadata": {
    "ExecuteTime": {
     "end_time": "2019-08-01T15:31:58.841044Z",
     "start_time": "2019-08-01T15:31:58.836809Z"
    }
   },
   "outputs": [],
   "source": [
    "df.columns=df.columns.str.replace(\" \",'')"
   ]
  },
  {
   "cell_type": "code",
   "execution_count": 27,
   "metadata": {
    "ExecuteTime": {
     "end_time": "2019-08-01T15:31:59.284183Z",
     "start_time": "2019-08-01T15:31:59.279010Z"
    }
   },
   "outputs": [],
   "source": [
    "df.race=df.race.str.replace(' or ','/')\n"
   ]
  },
  {
   "cell_type": "code",
   "execution_count": 28,
   "metadata": {
    "ExecuteTime": {
     "end_time": "2019-08-01T15:32:00.947765Z",
     "start_time": "2019-08-01T15:32:00.941667Z"
    }
   },
   "outputs": [],
   "source": [
    "df.race=df.race.str.replace(',','_')"
   ]
  },
  {
   "cell_type": "code",
   "execution_count": 34,
   "metadata": {
    "ExecuteTime": {
     "end_time": "2019-08-01T15:34:10.893128Z",
     "start_time": "2019-08-01T15:34:10.884756Z"
    }
   },
   "outputs": [],
   "source": [
    "for column in df.columns:\n",
    "    df[f'{column}']=df[f'{column}'].str.replace(',','')"
   ]
  },
  {
   "cell_type": "code",
   "execution_count": 35,
   "metadata": {
    "ExecuteTime": {
     "end_time": "2019-08-01T15:34:14.941237Z",
     "start_time": "2019-08-01T15:34:14.929369Z"
    }
   },
   "outputs": [],
   "source": [
    "df[df.columns[1:]]=df[df.columns[1:]].apply(pd.to_numeric)"
   ]
  },
  {
   "cell_type": "code",
   "execution_count": 36,
   "metadata": {
    "ExecuteTime": {
     "end_time": "2019-08-01T15:34:16.973125Z",
     "start_time": "2019-08-01T15:34:16.958926Z"
    }
   },
   "outputs": [],
   "source": [
    "#make a total row\n",
    "df.loc['Total',:]= df.sum(axis=0)"
   ]
  },
  {
   "cell_type": "code",
   "execution_count": 37,
   "metadata": {
    "ExecuteTime": {
     "end_time": "2019-08-01T15:34:18.295686Z",
     "start_time": "2019-08-01T15:34:18.278200Z"
    }
   },
   "outputs": [],
   "source": [
    "df['pct_14']=df['2014']/(df['2014']['Total'])*100"
   ]
  },
  {
   "cell_type": "code",
   "execution_count": 38,
   "metadata": {
    "ExecuteTime": {
     "end_time": "2019-08-01T15:34:19.017197Z",
     "start_time": "2019-08-01T15:34:19.005807Z"
    }
   },
   "outputs": [],
   "source": [
    "df['pct_15']=df['2015']/(df['2015']['Total'])*100\n",
    "df['pct_16']=df['2016']/(df['2016']['Total'])*100\n",
    "df['pct_17']=df['2017']/(df['2017']['Total'])*100\n",
    "df['pct_18']=df['2018']/(df['2018']['Total'])*100"
   ]
  },
  {
   "cell_type": "code",
   "execution_count": 39,
   "metadata": {
    "ExecuteTime": {
     "end_time": "2019-08-01T15:34:20.338422Z",
     "start_time": "2019-08-01T15:34:20.262180Z"
    }
   },
   "outputs": [
    {
     "name": "stderr",
     "output_type": "stream",
     "text": [
      "/Users/lilyliu-krason/.pyenv/versions/3.7.1/lib/python3.7/site-packages/ipykernel_launcher.py:1: SettingWithCopyWarning: \n",
      "A value is trying to be set on a copy of a slice from a DataFrame\n",
      "\n",
      "See the caveats in the documentation: http://pandas.pydata.org/pandas-docs/stable/indexing.html#indexing-view-versus-copy\n",
      "  \"\"\"Entry point for launching an IPython kernel.\n"
     ]
    }
   ],
   "source": [
    "df['race']['Total']='Total'"
   ]
  },
  {
   "cell_type": "markdown",
   "metadata": {},
   "source": [
    "# Dataframe Views"
   ]
  },
  {
   "cell_type": "code",
   "execution_count": 40,
   "metadata": {
    "ExecuteTime": {
     "end_time": "2019-08-01T15:34:23.107138Z",
     "start_time": "2019-08-01T15:34:23.082471Z"
    }
   },
   "outputs": [
    {
     "data": {
      "text/html": [
       "<div>\n",
       "<style scoped>\n",
       "    .dataframe tbody tr th:only-of-type {\n",
       "        vertical-align: middle;\n",
       "    }\n",
       "\n",
       "    .dataframe tbody tr th {\n",
       "        vertical-align: top;\n",
       "    }\n",
       "\n",
       "    .dataframe thead th {\n",
       "        text-align: right;\n",
       "    }\n",
       "</style>\n",
       "<table border=\"1\" class=\"dataframe\">\n",
       "  <thead>\n",
       "    <tr style=\"text-align: right;\">\n",
       "      <th></th>\n",
       "      <th>race</th>\n",
       "      <th>2014</th>\n",
       "      <th>2015</th>\n",
       "      <th>2016</th>\n",
       "      <th>2017</th>\n",
       "      <th>2018</th>\n",
       "      <th>pct_14</th>\n",
       "      <th>pct_15</th>\n",
       "      <th>pct_16</th>\n",
       "      <th>pct_17</th>\n",
       "      <th>pct_18</th>\n",
       "    </tr>\n",
       "  </thead>\n",
       "  <tbody>\n",
       "    <tr>\n",
       "      <th>1</th>\n",
       "      <td>American Indian/Alaska Native</td>\n",
       "      <td>78.0</td>\n",
       "      <td>89.0</td>\n",
       "      <td>70.0</td>\n",
       "      <td>64.0</td>\n",
       "      <td>78.0</td>\n",
       "      <td>0.656510</td>\n",
       "      <td>0.749095</td>\n",
       "      <td>0.602980</td>\n",
       "      <td>0.538585</td>\n",
       "      <td>0.634714</td>\n",
       "    </tr>\n",
       "    <tr>\n",
       "      <th>2</th>\n",
       "      <td>Asian</td>\n",
       "      <td>3888.0</td>\n",
       "      <td>3917.0</td>\n",
       "      <td>3723.0</td>\n",
       "      <td>3802.0</td>\n",
       "      <td>3769.0</td>\n",
       "      <td>32.724518</td>\n",
       "      <td>32.968605</td>\n",
       "      <td>32.069946</td>\n",
       "      <td>31.995287</td>\n",
       "      <td>30.669705</td>\n",
       "    </tr>\n",
       "    <tr>\n",
       "      <th>3</th>\n",
       "      <td>Black/African American</td>\n",
       "      <td>1277.0</td>\n",
       "      <td>1385.0</td>\n",
       "      <td>1335.0</td>\n",
       "      <td>1335.0</td>\n",
       "      <td>1438.0</td>\n",
       "      <td>10.748254</td>\n",
       "      <td>11.657268</td>\n",
       "      <td>11.499699</td>\n",
       "      <td>11.234537</td>\n",
       "      <td>11.701522</td>\n",
       "    </tr>\n",
       "    <tr>\n",
       "      <th>4</th>\n",
       "      <td>Hispanic_ Latino_/of Spanish Origin</td>\n",
       "      <td>1030.0</td>\n",
       "      <td>1054.0</td>\n",
       "      <td>1105.0</td>\n",
       "      <td>1133.0</td>\n",
       "      <td>1168.0</td>\n",
       "      <td>8.669304</td>\n",
       "      <td>8.871307</td>\n",
       "      <td>9.518477</td>\n",
       "      <td>9.534629</td>\n",
       "      <td>9.504435</td>\n",
       "    </tr>\n",
       "    <tr>\n",
       "      <th>5</th>\n",
       "      <td>Native Hawaiian/Other Pacific Islander</td>\n",
       "      <td>14.0</td>\n",
       "      <td>16.0</td>\n",
       "      <td>13.0</td>\n",
       "      <td>24.0</td>\n",
       "      <td>21.0</td>\n",
       "      <td>0.117835</td>\n",
       "      <td>0.134669</td>\n",
       "      <td>0.111982</td>\n",
       "      <td>0.201969</td>\n",
       "      <td>0.170885</td>\n",
       "    </tr>\n",
       "    <tr>\n",
       "      <th>6</th>\n",
       "      <td>White</td>\n",
       "      <td>4157.0</td>\n",
       "      <td>4233.0</td>\n",
       "      <td>4135.0</td>\n",
       "      <td>4291.0</td>\n",
       "      <td>4612.0</td>\n",
       "      <td>34.988637</td>\n",
       "      <td>35.628314</td>\n",
       "      <td>35.618916</td>\n",
       "      <td>36.110410</td>\n",
       "      <td>37.529498</td>\n",
       "    </tr>\n",
       "    <tr>\n",
       "      <th>7</th>\n",
       "      <td>Other Race/Ethnicity</td>\n",
       "      <td>534.0</td>\n",
       "      <td>567.0</td>\n",
       "      <td>493.0</td>\n",
       "      <td>473.0</td>\n",
       "      <td>522.0</td>\n",
       "      <td>4.494571</td>\n",
       "      <td>4.772326</td>\n",
       "      <td>4.246705</td>\n",
       "      <td>3.980476</td>\n",
       "      <td>4.247701</td>\n",
       "    </tr>\n",
       "    <tr>\n",
       "      <th>8</th>\n",
       "      <td>Unknown Race/Ethnicity</td>\n",
       "      <td>903.0</td>\n",
       "      <td>620.0</td>\n",
       "      <td>735.0</td>\n",
       "      <td>761.0</td>\n",
       "      <td>681.0</td>\n",
       "      <td>7.600370</td>\n",
       "      <td>5.218416</td>\n",
       "      <td>6.331295</td>\n",
       "      <td>6.404107</td>\n",
       "      <td>5.541541</td>\n",
       "    </tr>\n",
       "    <tr>\n",
       "      <th>Total</th>\n",
       "      <td>Total</td>\n",
       "      <td>11881.0</td>\n",
       "      <td>11881.0</td>\n",
       "      <td>11609.0</td>\n",
       "      <td>11883.0</td>\n",
       "      <td>12289.0</td>\n",
       "      <td>100.000000</td>\n",
       "      <td>100.000000</td>\n",
       "      <td>100.000000</td>\n",
       "      <td>100.000000</td>\n",
       "      <td>100.000000</td>\n",
       "    </tr>\n",
       "  </tbody>\n",
       "</table>\n",
       "</div>"
      ],
      "text/plain": [
       "                                         race     2014     2015     2016  \\\n",
       "1               American Indian/Alaska Native     78.0     89.0     70.0   \n",
       "2                                       Asian   3888.0   3917.0   3723.0   \n",
       "3                      Black/African American   1277.0   1385.0   1335.0   \n",
       "4         Hispanic_ Latino_/of Spanish Origin   1030.0   1054.0   1105.0   \n",
       "5      Native Hawaiian/Other Pacific Islander     14.0     16.0     13.0   \n",
       "6                                       White   4157.0   4233.0   4135.0   \n",
       "7                        Other Race/Ethnicity    534.0    567.0    493.0   \n",
       "8                      Unknown Race/Ethnicity    903.0    620.0    735.0   \n",
       "Total                                   Total  11881.0  11881.0  11609.0   \n",
       "\n",
       "          2017     2018      pct_14      pct_15      pct_16      pct_17  \\\n",
       "1         64.0     78.0    0.656510    0.749095    0.602980    0.538585   \n",
       "2       3802.0   3769.0   32.724518   32.968605   32.069946   31.995287   \n",
       "3       1335.0   1438.0   10.748254   11.657268   11.499699   11.234537   \n",
       "4       1133.0   1168.0    8.669304    8.871307    9.518477    9.534629   \n",
       "5         24.0     21.0    0.117835    0.134669    0.111982    0.201969   \n",
       "6       4291.0   4612.0   34.988637   35.628314   35.618916   36.110410   \n",
       "7        473.0    522.0    4.494571    4.772326    4.246705    3.980476   \n",
       "8        761.0    681.0    7.600370    5.218416    6.331295    6.404107   \n",
       "Total  11883.0  12289.0  100.000000  100.000000  100.000000  100.000000   \n",
       "\n",
       "           pct_18  \n",
       "1        0.634714  \n",
       "2       30.669705  \n",
       "3       11.701522  \n",
       "4        9.504435  \n",
       "5        0.170885  \n",
       "6       37.529498  \n",
       "7        4.247701  \n",
       "8        5.541541  \n",
       "Total  100.000000  "
      ]
     },
     "execution_count": 40,
     "metadata": {},
     "output_type": "execute_result"
    }
   ],
   "source": [
    "#this is the dataframe I have: \n",
    "df"
   ]
  },
  {
   "cell_type": "code",
   "execution_count": 41,
   "metadata": {
    "ExecuteTime": {
     "end_time": "2019-08-01T15:34:26.312408Z",
     "start_time": "2019-08-01T15:34:26.292904Z"
    }
   },
   "outputs": [
    {
     "data": {
      "text/html": [
       "<div>\n",
       "<style scoped>\n",
       "    .dataframe tbody tr th:only-of-type {\n",
       "        vertical-align: middle;\n",
       "    }\n",
       "\n",
       "    .dataframe tbody tr th {\n",
       "        vertical-align: top;\n",
       "    }\n",
       "\n",
       "    .dataframe thead th {\n",
       "        text-align: right;\n",
       "    }\n",
       "</style>\n",
       "<table border=\"1\" class=\"dataframe\">\n",
       "  <thead>\n",
       "    <tr style=\"text-align: right;\">\n",
       "      <th></th>\n",
       "      <th>race</th>\n",
       "      <th>pct_14</th>\n",
       "      <th>pct_15</th>\n",
       "      <th>pct_16</th>\n",
       "      <th>pct_17</th>\n",
       "      <th>pct_18</th>\n",
       "    </tr>\n",
       "  </thead>\n",
       "  <tbody>\n",
       "    <tr>\n",
       "      <th>1</th>\n",
       "      <td>American Indian/Alaska Native</td>\n",
       "      <td>0.656510</td>\n",
       "      <td>0.749095</td>\n",
       "      <td>0.602980</td>\n",
       "      <td>0.538585</td>\n",
       "      <td>0.634714</td>\n",
       "    </tr>\n",
       "    <tr>\n",
       "      <th>2</th>\n",
       "      <td>Asian</td>\n",
       "      <td>32.724518</td>\n",
       "      <td>32.968605</td>\n",
       "      <td>32.069946</td>\n",
       "      <td>31.995287</td>\n",
       "      <td>30.669705</td>\n",
       "    </tr>\n",
       "    <tr>\n",
       "      <th>3</th>\n",
       "      <td>Black/African American</td>\n",
       "      <td>10.748254</td>\n",
       "      <td>11.657268</td>\n",
       "      <td>11.499699</td>\n",
       "      <td>11.234537</td>\n",
       "      <td>11.701522</td>\n",
       "    </tr>\n",
       "    <tr>\n",
       "      <th>4</th>\n",
       "      <td>Hispanic_ Latino_/of Spanish Origin</td>\n",
       "      <td>8.669304</td>\n",
       "      <td>8.871307</td>\n",
       "      <td>9.518477</td>\n",
       "      <td>9.534629</td>\n",
       "      <td>9.504435</td>\n",
       "    </tr>\n",
       "    <tr>\n",
       "      <th>5</th>\n",
       "      <td>Native Hawaiian/Other Pacific Islander</td>\n",
       "      <td>0.117835</td>\n",
       "      <td>0.134669</td>\n",
       "      <td>0.111982</td>\n",
       "      <td>0.201969</td>\n",
       "      <td>0.170885</td>\n",
       "    </tr>\n",
       "    <tr>\n",
       "      <th>6</th>\n",
       "      <td>White</td>\n",
       "      <td>34.988637</td>\n",
       "      <td>35.628314</td>\n",
       "      <td>35.618916</td>\n",
       "      <td>36.110410</td>\n",
       "      <td>37.529498</td>\n",
       "    </tr>\n",
       "    <tr>\n",
       "      <th>7</th>\n",
       "      <td>Other Race/Ethnicity</td>\n",
       "      <td>4.494571</td>\n",
       "      <td>4.772326</td>\n",
       "      <td>4.246705</td>\n",
       "      <td>3.980476</td>\n",
       "      <td>4.247701</td>\n",
       "    </tr>\n",
       "    <tr>\n",
       "      <th>8</th>\n",
       "      <td>Unknown Race/Ethnicity</td>\n",
       "      <td>7.600370</td>\n",
       "      <td>5.218416</td>\n",
       "      <td>6.331295</td>\n",
       "      <td>6.404107</td>\n",
       "      <td>5.541541</td>\n",
       "    </tr>\n",
       "  </tbody>\n",
       "</table>\n",
       "</div>"
      ],
      "text/plain": [
       "                                     race     pct_14     pct_15     pct_16  \\\n",
       "1           American Indian/Alaska Native   0.656510   0.749095   0.602980   \n",
       "2                                   Asian  32.724518  32.968605  32.069946   \n",
       "3                  Black/African American  10.748254  11.657268  11.499699   \n",
       "4     Hispanic_ Latino_/of Spanish Origin   8.669304   8.871307   9.518477   \n",
       "5  Native Hawaiian/Other Pacific Islander   0.117835   0.134669   0.111982   \n",
       "6                                   White  34.988637  35.628314  35.618916   \n",
       "7                    Other Race/Ethnicity   4.494571   4.772326   4.246705   \n",
       "8                  Unknown Race/Ethnicity   7.600370   5.218416   6.331295   \n",
       "\n",
       "      pct_17     pct_18  \n",
       "1   0.538585   0.634714  \n",
       "2  31.995287  30.669705  \n",
       "3  11.234537  11.701522  \n",
       "4   9.534629   9.504435  \n",
       "5   0.201969   0.170885  \n",
       "6  36.110410  37.529498  \n",
       "7   3.980476   4.247701  \n",
       "8   6.404107   5.541541  "
      ]
     },
     "execution_count": 41,
     "metadata": {},
     "output_type": "execute_result"
    }
   ],
   "source": [
    "df[['race','pct_14','pct_15','pct_16','pct_17','pct_18']][:-1]"
   ]
  },
  {
   "cell_type": "code",
   "execution_count": 42,
   "metadata": {
    "ExecuteTime": {
     "end_time": "2019-08-01T15:34:37.322453Z",
     "start_time": "2019-08-01T15:34:37.319406Z"
    }
   },
   "outputs": [],
   "source": [
    "# sns.set(font_scale=3) \n",
    "# df_race.iloc[0,:].values"
   ]
  },
  {
   "cell_type": "code",
   "execution_count": 43,
   "metadata": {
    "ExecuteTime": {
     "end_time": "2019-08-01T15:34:39.357252Z",
     "start_time": "2019-08-01T15:34:39.283672Z"
    }
   },
   "outputs": [],
   "source": [
    "#Creating second view\n",
    "df_race = df[['race','pct_14','pct_15','pct_16','pct_17','pct_18']][:-1].T\n",
    "df_race.columns=df_race.iloc[0,:].values\n",
    "df_race=df_race.iloc[1:,:]\n",
    "for c in list(df_race.columns):\n",
    "    df_race[c]=df_race[c].astype(float)\n",
    "df_race.index=range(2014, 2019, 1)\n",
    "#adding a year column from the index\n",
    "df_race['year'] = df_race.index\n",
    "df_race['year']= df_race['year'].astype(int)"
   ]
  },
  {
   "cell_type": "code",
   "execution_count": 44,
   "metadata": {
    "ExecuteTime": {
     "end_time": "2019-08-01T15:34:42.117339Z",
     "start_time": "2019-08-01T15:34:42.044248Z"
    }
   },
   "outputs": [],
   "source": [
    "df_number= df[['race','2014','2015','2016','2017','2018']][:-1].T\n",
    "df_number.columns=df_number.iloc[0,:].values\n",
    "df_number=df_number.iloc[1:,:]\n",
    "for c in list(df_number.columns):\n",
    "    df_number[c]=df_number[c].astype(float)\n",
    "df_number['year'] = df_number.index\n",
    "df_number['year']= df_number['year'].astype(int)"
   ]
  },
  {
   "cell_type": "code",
   "execution_count": 45,
   "metadata": {
    "ExecuteTime": {
     "end_time": "2019-08-01T15:34:44.967388Z",
     "start_time": "2019-08-01T15:34:44.947400Z"
    }
   },
   "outputs": [
    {
     "data": {
      "text/html": [
       "<div>\n",
       "<style scoped>\n",
       "    .dataframe tbody tr th:only-of-type {\n",
       "        vertical-align: middle;\n",
       "    }\n",
       "\n",
       "    .dataframe tbody tr th {\n",
       "        vertical-align: top;\n",
       "    }\n",
       "\n",
       "    .dataframe thead th {\n",
       "        text-align: right;\n",
       "    }\n",
       "</style>\n",
       "<table border=\"1\" class=\"dataframe\">\n",
       "  <thead>\n",
       "    <tr style=\"text-align: right;\">\n",
       "      <th></th>\n",
       "      <th>American Indian/Alaska Native</th>\n",
       "      <th>Asian</th>\n",
       "      <th>Black/African American</th>\n",
       "      <th>Hispanic_ Latino_/of Spanish Origin</th>\n",
       "      <th>Native Hawaiian/Other Pacific Islander</th>\n",
       "      <th>White</th>\n",
       "      <th>Other Race/Ethnicity</th>\n",
       "      <th>Unknown Race/Ethnicity</th>\n",
       "      <th>year</th>\n",
       "    </tr>\n",
       "  </thead>\n",
       "  <tbody>\n",
       "    <tr>\n",
       "      <th>2014</th>\n",
       "      <td>78.0</td>\n",
       "      <td>3888.0</td>\n",
       "      <td>1277.0</td>\n",
       "      <td>1030.0</td>\n",
       "      <td>14.0</td>\n",
       "      <td>4157.0</td>\n",
       "      <td>534.0</td>\n",
       "      <td>903.0</td>\n",
       "      <td>2014</td>\n",
       "    </tr>\n",
       "    <tr>\n",
       "      <th>2015</th>\n",
       "      <td>89.0</td>\n",
       "      <td>3917.0</td>\n",
       "      <td>1385.0</td>\n",
       "      <td>1054.0</td>\n",
       "      <td>16.0</td>\n",
       "      <td>4233.0</td>\n",
       "      <td>567.0</td>\n",
       "      <td>620.0</td>\n",
       "      <td>2015</td>\n",
       "    </tr>\n",
       "    <tr>\n",
       "      <th>2016</th>\n",
       "      <td>70.0</td>\n",
       "      <td>3723.0</td>\n",
       "      <td>1335.0</td>\n",
       "      <td>1105.0</td>\n",
       "      <td>13.0</td>\n",
       "      <td>4135.0</td>\n",
       "      <td>493.0</td>\n",
       "      <td>735.0</td>\n",
       "      <td>2016</td>\n",
       "    </tr>\n",
       "    <tr>\n",
       "      <th>2017</th>\n",
       "      <td>64.0</td>\n",
       "      <td>3802.0</td>\n",
       "      <td>1335.0</td>\n",
       "      <td>1133.0</td>\n",
       "      <td>24.0</td>\n",
       "      <td>4291.0</td>\n",
       "      <td>473.0</td>\n",
       "      <td>761.0</td>\n",
       "      <td>2017</td>\n",
       "    </tr>\n",
       "    <tr>\n",
       "      <th>2018</th>\n",
       "      <td>78.0</td>\n",
       "      <td>3769.0</td>\n",
       "      <td>1438.0</td>\n",
       "      <td>1168.0</td>\n",
       "      <td>21.0</td>\n",
       "      <td>4612.0</td>\n",
       "      <td>522.0</td>\n",
       "      <td>681.0</td>\n",
       "      <td>2018</td>\n",
       "    </tr>\n",
       "  </tbody>\n",
       "</table>\n",
       "</div>"
      ],
      "text/plain": [
       "      American Indian/Alaska Native   Asian  Black/African American  \\\n",
       "2014                           78.0  3888.0                  1277.0   \n",
       "2015                           89.0  3917.0                  1385.0   \n",
       "2016                           70.0  3723.0                  1335.0   \n",
       "2017                           64.0  3802.0                  1335.0   \n",
       "2018                           78.0  3769.0                  1438.0   \n",
       "\n",
       "      Hispanic_ Latino_/of Spanish Origin  \\\n",
       "2014                               1030.0   \n",
       "2015                               1054.0   \n",
       "2016                               1105.0   \n",
       "2017                               1133.0   \n",
       "2018                               1168.0   \n",
       "\n",
       "      Native Hawaiian/Other Pacific Islander   White  Other Race/Ethnicity  \\\n",
       "2014                                    14.0  4157.0                 534.0   \n",
       "2015                                    16.0  4233.0                 567.0   \n",
       "2016                                    13.0  4135.0                 493.0   \n",
       "2017                                    24.0  4291.0                 473.0   \n",
       "2018                                    21.0  4612.0                 522.0   \n",
       "\n",
       "      Unknown Race/Ethnicity  year  \n",
       "2014                   903.0  2014  \n",
       "2015                   620.0  2015  \n",
       "2016                   735.0  2016  \n",
       "2017                   761.0  2017  \n",
       "2018                   681.0  2018  "
      ]
     },
     "execution_count": 45,
     "metadata": {},
     "output_type": "execute_result"
    }
   ],
   "source": [
    "df_number"
   ]
  },
  {
   "cell_type": "code",
   "execution_count": 46,
   "metadata": {
    "ExecuteTime": {
     "end_time": "2019-08-01T15:34:46.965869Z",
     "start_time": "2019-08-01T15:34:46.945317Z"
    }
   },
   "outputs": [],
   "source": [
    "#putting dataframe into a csv so that we can combine with graduates later\n",
    "df_race.to_csv('familymedicine_residency_pct.csv',index=False)\n",
    "df_number.to_csv('familymedicine_residency_number.csv',index=False)"
   ]
  },
  {
   "cell_type": "code",
   "execution_count": 47,
   "metadata": {
    "ExecuteTime": {
     "end_time": "2019-08-01T15:34:48.969852Z",
     "start_time": "2019-08-01T15:34:48.964543Z"
    }
   },
   "outputs": [],
   "source": [
    "sns.set(font_scale=1) "
   ]
  },
  {
   "cell_type": "code",
   "execution_count": 48,
   "metadata": {
    "ExecuteTime": {
     "end_time": "2019-08-01T15:34:54.425602Z",
     "start_time": "2019-08-01T15:34:50.619580Z"
    }
   },
   "outputs": [
    {
     "name": "stderr",
     "output_type": "stream",
     "text": [
      "/Users/lilyliu-krason/.pyenv/versions/3.7.1/lib/python3.7/site-packages/ipykernel_launcher.py:4: RuntimeWarning: Second argument 'White' is ambiguous: could be a color spec but is in data; using as data.  Either rename the entry in data or use three arguments to plot.\n",
      "  after removing the cwd from sys.path.\n"
     ]
    },
    {
     "data": {
      "image/png": "[encoded data removed]",
      "text/plain": [
       "<Figure size 1440x360 with 1 Axes>"
      ]
     },
     "metadata": {},
     "output_type": "display_data"
    },
    {
     "data": {
      "image/png": "[encoded data removed]",
      "text/plain": [
       "<Figure size 1440x360 with 1 Axes>"
      ]
     },
     "metadata": {},
     "output_type": "display_data"
    },
    {
     "data": {
      "image/png": "[encoded data removed]",
      "text/plain": [
       "<Figure size 1440x360 with 1 Axes>"
      ]
     },
     "metadata": {},
     "output_type": "display_data"
    },
    {
     "data": {
      "image/png": "[encoded data removed]",
      "text/plain": [
       "<Figure size 1440x360 with 1 Axes>"
      ]
     },
     "metadata": {},
     "output_type": "display_data"
    },
    {
     "data": {
      "image/png": "[encoded data removed]",
      "text/plain": [
       "<Figure size 1440x360 with 1 Axes>"
      ]
     },
     "metadata": {},
     "output_type": "display_data"
    },
    {
     "data": {
      "image/png": "[encoded data removed]",
      "text/plain": [
       "<Figure size 1440x360 with 1 Axes>"
      ]
     },
     "metadata": {},
     "output_type": "display_data"
    },
    {
     "data": {
      "image/png": "[encoded data removed]",
      "text/plain": [
       "<Figure size 1440x360 with 1 Axes>"
      ]
     },
     "metadata": {},
     "output_type": "display_data"
    },
    {
     "data": {
      "image/png": "[encoded data removed]",
      "text/plain": [
       "<Figure size 1440x360 with 1 Axes>"
      ]
     },
     "metadata": {},
     "output_type": "display_data"
    }
   ],
   "source": [
    "rcParams['figure.figsize'] = 20, 5\n",
    "for c in df_race.columns[:-1]:\n",
    "    plt.figure()\n",
    "    plt.plot('year', c, data=df_race,marker='o')\n",
    "    plt.xticks(df_race['year'].values)\n",
    "    plt.yticks(range(0,42,5))\n",
    "    plt.title(c)"
   ]
  },
  {
   "cell_type": "code",
   "execution_count": 49,
   "metadata": {
    "ExecuteTime": {
     "end_time": "2019-08-01T15:35:12.318453Z",
     "start_time": "2019-08-01T15:35:11.562215Z"
    }
   },
   "outputs": [
    {
     "name": "stderr",
     "output_type": "stream",
     "text": [
      "/Users/lilyliu-krason/.pyenv/versions/3.7.1/lib/python3.7/site-packages/ipykernel_launcher.py:2: RuntimeWarning: Second argument 'White' is ambiguous: could be a color spec but is in data; using as data.  Either rename the entry in data or use three arguments to plot.\n",
      "  \n"
     ]
    },
    {
     "data": {
      "image/png": "[encoded data removed]",
      "text/plain": [
       "<Figure size 1440x360 with 1 Axes>"
      ]
     },
     "metadata": {},
     "output_type": "display_data"
    }
   ],
   "source": [
    "for c in df_race.columns[:-1]:  \n",
    "    plt.plot('year', c, data=df_race,marker='o')\n",
    "    plt.legend(loc='upper right', bbox_to_anchor=(0.5, 0.3, 0.5, 0.5))\n",
    "    plt.xticks(df_race['year'].values)\n",
    "    plt.title('Percentage of Residency Applications by Year and Race')\n",
    "#save to pdf out of loop"
   ]
  },
  {
   "cell_type": "code",
   "execution_count": 50,
   "metadata": {
    "ExecuteTime": {
     "end_time": "2019-08-01T15:35:20.657935Z",
     "start_time": "2019-08-01T15:35:19.753390Z"
    }
   },
   "outputs": [
    {
     "data": {
      "text/plain": [
       "<matplotlib.axes._subplots.AxesSubplot at 0x123018b00>"
      ]
     },
     "execution_count": 50,
     "metadata": {},
     "output_type": "execute_result"
    },
    {
     "data": {
      "image/png": "[encoded data removed]",
      "text/plain": [
       "<Figure size 1440x360 with 1 Axes>"
      ]
     },
     "metadata": {},
     "output_type": "display_data"
    }
   ],
   "source": [
    "df[['race','pct_14','pct_15','pct_16','pct_17','pct_18']][:-1].plot(kind='barh',x='race')"
   ]
  },
  {
   "cell_type": "code",
   "execution_count": 51,
   "metadata": {
    "ExecuteTime": {
     "end_time": "2019-08-01T15:35:23.654884Z",
     "start_time": "2019-08-01T15:35:23.644816Z"
    }
   },
   "outputs": [],
   "source": [
    "df_num=df[['race','2014','2015','2016','2017','2018']]\n",
    "df_num.to_csv('familymedicine_num.csv',index=False)"
   ]
  },
  {
   "cell_type": "code",
   "execution_count": 52,
   "metadata": {
    "ExecuteTime": {
     "end_time": "2019-08-01T15:35:24.946254Z",
     "start_time": "2019-08-01T15:35:24.926653Z"
    }
   },
   "outputs": [
    {
     "data": {
      "text/html": [
       "<div>\n",
       "<style scoped>\n",
       "    .dataframe tbody tr th:only-of-type {\n",
       "        vertical-align: middle;\n",
       "    }\n",
       "\n",
       "    .dataframe tbody tr th {\n",
       "        vertical-align: top;\n",
       "    }\n",
       "\n",
       "    .dataframe thead th {\n",
       "        text-align: right;\n",
       "    }\n",
       "</style>\n",
       "<table border=\"1\" class=\"dataframe\">\n",
       "  <thead>\n",
       "    <tr style=\"text-align: right;\">\n",
       "      <th></th>\n",
       "      <th>race</th>\n",
       "      <th>2014</th>\n",
       "      <th>2015</th>\n",
       "      <th>2016</th>\n",
       "      <th>2017</th>\n",
       "      <th>2018</th>\n",
       "    </tr>\n",
       "  </thead>\n",
       "  <tbody>\n",
       "    <tr>\n",
       "      <th>1</th>\n",
       "      <td>American Indian/Alaska Native</td>\n",
       "      <td>78.0</td>\n",
       "      <td>89.0</td>\n",
       "      <td>70.0</td>\n",
       "      <td>64.0</td>\n",
       "      <td>78.0</td>\n",
       "    </tr>\n",
       "    <tr>\n",
       "      <th>2</th>\n",
       "      <td>Asian</td>\n",
       "      <td>3888.0</td>\n",
       "      <td>3917.0</td>\n",
       "      <td>3723.0</td>\n",
       "      <td>3802.0</td>\n",
       "      <td>3769.0</td>\n",
       "    </tr>\n",
       "    <tr>\n",
       "      <th>3</th>\n",
       "      <td>Black/African American</td>\n",
       "      <td>1277.0</td>\n",
       "      <td>1385.0</td>\n",
       "      <td>1335.0</td>\n",
       "      <td>1335.0</td>\n",
       "      <td>1438.0</td>\n",
       "    </tr>\n",
       "    <tr>\n",
       "      <th>4</th>\n",
       "      <td>Hispanic_ Latino_/of Spanish Origin</td>\n",
       "      <td>1030.0</td>\n",
       "      <td>1054.0</td>\n",
       "      <td>1105.0</td>\n",
       "      <td>1133.0</td>\n",
       "      <td>1168.0</td>\n",
       "    </tr>\n",
       "    <tr>\n",
       "      <th>5</th>\n",
       "      <td>Native Hawaiian/Other Pacific Islander</td>\n",
       "      <td>14.0</td>\n",
       "      <td>16.0</td>\n",
       "      <td>13.0</td>\n",
       "      <td>24.0</td>\n",
       "      <td>21.0</td>\n",
       "    </tr>\n",
       "    <tr>\n",
       "      <th>6</th>\n",
       "      <td>White</td>\n",
       "      <td>4157.0</td>\n",
       "      <td>4233.0</td>\n",
       "      <td>4135.0</td>\n",
       "      <td>4291.0</td>\n",
       "      <td>4612.0</td>\n",
       "    </tr>\n",
       "    <tr>\n",
       "      <th>7</th>\n",
       "      <td>Other Race/Ethnicity</td>\n",
       "      <td>534.0</td>\n",
       "      <td>567.0</td>\n",
       "      <td>493.0</td>\n",
       "      <td>473.0</td>\n",
       "      <td>522.0</td>\n",
       "    </tr>\n",
       "    <tr>\n",
       "      <th>8</th>\n",
       "      <td>Unknown Race/Ethnicity</td>\n",
       "      <td>903.0</td>\n",
       "      <td>620.0</td>\n",
       "      <td>735.0</td>\n",
       "      <td>761.0</td>\n",
       "      <td>681.0</td>\n",
       "    </tr>\n",
       "    <tr>\n",
       "      <th>Total</th>\n",
       "      <td>Total</td>\n",
       "      <td>11881.0</td>\n",
       "      <td>11881.0</td>\n",
       "      <td>11609.0</td>\n",
       "      <td>11883.0</td>\n",
       "      <td>12289.0</td>\n",
       "    </tr>\n",
       "  </tbody>\n",
       "</table>\n",
       "</div>"
      ],
      "text/plain": [
       "                                         race     2014     2015     2016  \\\n",
       "1               American Indian/Alaska Native     78.0     89.0     70.0   \n",
       "2                                       Asian   3888.0   3917.0   3723.0   \n",
       "3                      Black/African American   1277.0   1385.0   1335.0   \n",
       "4         Hispanic_ Latino_/of Spanish Origin   1030.0   1054.0   1105.0   \n",
       "5      Native Hawaiian/Other Pacific Islander     14.0     16.0     13.0   \n",
       "6                                       White   4157.0   4233.0   4135.0   \n",
       "7                        Other Race/Ethnicity    534.0    567.0    493.0   \n",
       "8                      Unknown Race/Ethnicity    903.0    620.0    735.0   \n",
       "Total                                   Total  11881.0  11881.0  11609.0   \n",
       "\n",
       "          2017     2018  \n",
       "1         64.0     78.0  \n",
       "2       3802.0   3769.0  \n",
       "3       1335.0   1438.0  \n",
       "4       1133.0   1168.0  \n",
       "5         24.0     21.0  \n",
       "6       4291.0   4612.0  \n",
       "7        473.0    522.0  \n",
       "8        761.0    681.0  \n",
       "Total  11883.0  12289.0  "
      ]
     },
     "execution_count": 52,
     "metadata": {},
     "output_type": "execute_result"
    }
   ],
   "source": [
    "df_num"
   ]
  },
  {
   "cell_type": "code",
   "execution_count": null,
   "metadata": {},
   "outputs": [],
   "source": []
  }
 ],
 "metadata": {
  "kernelspec": {
   "display_name": "Python 3",
   "language": "python",
   "name": "python3"
  },
  "language_info": {
   "codemirror_mode": {
    "name": "ipython",
    "version": 3
   },
   "file_extension": ".py",
   "mimetype": "text/x-python",
   "name": "python",
   "nbconvert_exporter": "python",
   "pygments_lexer": "ipython3",
   "version": "3.7.1"
  },
  "toc": {
   "base_numbering": 1,
   "nav_menu": {},
   "number_sections": true,
   "sideBar": true,
   "skip_h1_title": false,
   "title_cell": "Table of Contents",
   "title_sidebar": "Contents",
   "toc_cell": false,
   "toc_position": {},
   "toc_section_display": true,
   "toc_window_display": false
  },
  "varInspector": {
   "cols": {
    "lenName": 16,
    "lenType": 16,
    "lenVar": 40
   },
   "kernels_config": {
    "python": {
     "delete_cmd_postfix": "",
     "delete_cmd_prefix": "del ",
     "library": "var_list.py",
     "varRefreshCmd": "print(var_dic_list())"
    },
    "r": {
     "delete_cmd_postfix": ") ",
     "delete_cmd_prefix": "rm(",
     "library": "var_list.r",
     "varRefreshCmd": "cat(var_dic_list()) "
    }
   },
   "types_to_exclude": [
    "module",
    "function",
    "builtin_function_or_method",
    "instance",
    "_Feature"
   ],
   "window_display": false
  }
 },
 "nbformat": 4,
 "nbformat_minor": 2
}
