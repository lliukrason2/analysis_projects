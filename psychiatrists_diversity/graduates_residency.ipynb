{
 "cells": [
  {
   "cell_type": "markdown",
   "metadata": {},
   "source": [
    "# Taking a Look at the Graduates of Medical Schools and Psychiatry Residency Program Applicants"
   ]
  },
  {
   "cell_type": "code",
   "execution_count": 1,
   "metadata": {},
   "outputs": [],
   "source": [
    "import pandas as pd\n",
    "import requests\n",
    "import matplotlib\n",
    "import numpy as np\n",
    "import matplotlib.pyplot as plt\n",
    "import re\n",
    "from datetime import datetime, timedelta\n",
    "import time\n",
    "import seaborn as sns\n",
    "from pylab import rcParams\n",
    "sns.set(style='whitegrid',palette='husl')\n",
    "matplotlib.rcParams['pdf.fonttype'] = 42\n",
    "\n",
    "%matplotlib inline"
   ]
  },
  {
   "cell_type": "markdown",
   "metadata": {},
   "source": [
    "# Read in Data and Merge"
   ]
  },
  {
   "cell_type": "code",
   "execution_count": 6,
   "metadata": {},
   "outputs": [],
   "source": [
    "residency=pd.read_csv('residency_number.csv')"
   ]
  },
  {
   "cell_type": "code",
   "execution_count": 7,
   "metadata": {},
   "outputs": [
    {
     "data": {
      "text/html": [
       "<div>\n",
       "<style scoped>\n",
       "    .dataframe tbody tr th:only-of-type {\n",
       "        vertical-align: middle;\n",
       "    }\n",
       "\n",
       "    .dataframe tbody tr th {\n",
       "        vertical-align: top;\n",
       "    }\n",
       "\n",
       "    .dataframe thead th {\n",
       "        text-align: right;\n",
       "    }\n",
       "</style>\n",
       "<table border=\"1\" class=\"dataframe\">\n",
       "  <thead>\n",
       "    <tr style=\"text-align: right;\">\n",
       "      <th></th>\n",
       "      <th>Index</th>\n",
       "      <th>American Indian or Alaska Native</th>\n",
       "      <th>Asian</th>\n",
       "      <th>Black or African American</th>\n",
       "      <th>Hispanic, Latino, or of Spanish\r",
       "Origin</th>\n",
       "      <th>Native Hawaiian or Other Pacific Islander</th>\n",
       "      <th>White</th>\n",
       "      <th>Other Race/Ethnicity</th>\n",
       "      <th>Unknown Race/Ethnicity</th>\n",
       "      <th>year</th>\n",
       "    </tr>\n",
       "  </thead>\n",
       "  <tbody>\n",
       "    <tr>\n",
       "      <th>0</th>\n",
       "      <td>2014</td>\n",
       "      <td>22</td>\n",
       "      <td>1725</td>\n",
       "      <td>559</td>\n",
       "      <td>313</td>\n",
       "      <td>5</td>\n",
       "      <td>1464</td>\n",
       "      <td>224</td>\n",
       "      <td>392</td>\n",
       "      <td>2014</td>\n",
       "    </tr>\n",
       "    <tr>\n",
       "      <th>1</th>\n",
       "      <td>2015</td>\n",
       "      <td>32</td>\n",
       "      <td>1704</td>\n",
       "      <td>538</td>\n",
       "      <td>342</td>\n",
       "      <td>4</td>\n",
       "      <td>1568</td>\n",
       "      <td>243</td>\n",
       "      <td>287</td>\n",
       "      <td>2015</td>\n",
       "    </tr>\n",
       "    <tr>\n",
       "      <th>2</th>\n",
       "      <td>2016</td>\n",
       "      <td>28</td>\n",
       "      <td>1572</td>\n",
       "      <td>484</td>\n",
       "      <td>392</td>\n",
       "      <td>3</td>\n",
       "      <td>1553</td>\n",
       "      <td>216</td>\n",
       "      <td>372</td>\n",
       "      <td>2016</td>\n",
       "    </tr>\n",
       "    <tr>\n",
       "      <th>3</th>\n",
       "      <td>2017</td>\n",
       "      <td>31</td>\n",
       "      <td>1572</td>\n",
       "      <td>525</td>\n",
       "      <td>371</td>\n",
       "      <td>7</td>\n",
       "      <td>1586</td>\n",
       "      <td>171</td>\n",
       "      <td>336</td>\n",
       "      <td>2017</td>\n",
       "    </tr>\n",
       "    <tr>\n",
       "      <th>4</th>\n",
       "      <td>2018</td>\n",
       "      <td>31</td>\n",
       "      <td>1640</td>\n",
       "      <td>555</td>\n",
       "      <td>437</td>\n",
       "      <td>10</td>\n",
       "      <td>1752</td>\n",
       "      <td>217</td>\n",
       "      <td>308</td>\n",
       "      <td>2018</td>\n",
       "    </tr>\n",
       "  </tbody>\n",
       "</table>\n",
       "</div>"
      ],
      "text/plain": [
       "   Index  American Indian or Alaska Native  Asian  Black or African American  \\\n",
       "0   2014                                22   1725                        559   \n",
       "1   2015                                32   1704                        538   \n",
       "2   2016                                28   1572                        484   \n",
       "3   2017                                31   1572                        525   \n",
       "4   2018                                31   1640                        555   \n",
       "\n",
       "   Hispanic, Latino, or of Spanish\\rOrigin  \\\n",
       "0                                      313   \n",
       "1                                      342   \n",
       "2                                      392   \n",
       "3                                      371   \n",
       "4                                      437   \n",
       "\n",
       "   Native Hawaiian or Other Pacific Islander  White  Other Race/Ethnicity  \\\n",
       "0                                          5   1464                   224   \n",
       "1                                          4   1568                   243   \n",
       "2                                          3   1553                   216   \n",
       "3                                          7   1586                   171   \n",
       "4                                         10   1752                   217   \n",
       "\n",
       "   Unknown Race/Ethnicity  year  \n",
       "0                     392  2014  \n",
       "1                     287  2015  \n",
       "2                     372  2016  \n",
       "3                     336  2017  \n",
       "4                     308  2018  "
      ]
     },
     "execution_count": 7,
     "metadata": {},
     "output_type": "execute_result"
    }
   ],
   "source": [
    "residency"
   ]
  },
  {
   "cell_type": "code",
   "execution_count": null,
   "metadata": {},
   "outputs": [],
   "source": []
  }
 ],
 "metadata": {
  "kernelspec": {
   "display_name": "Python 3",
   "language": "python",
   "name": "python3"
  },
  "language_info": {
   "codemirror_mode": {
    "name": "ipython",
    "version": 3
   },
   "file_extension": ".py",
   "mimetype": "text/x-python",
   "name": "python",
   "nbconvert_exporter": "python",
   "pygments_lexer": "ipython3",
   "version": "3.7.1"
  }
 },
 "nbformat": 4,
 "nbformat_minor": 2
}
