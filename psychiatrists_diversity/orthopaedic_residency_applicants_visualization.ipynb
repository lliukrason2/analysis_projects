{
 "cells": [
  {
   "cell_type": "markdown",
   "metadata": {},
   "source": [
    "# Orthopaedic Residency Applications\n",
    "Data from https://www.aamc.org/data/facts/eras/"
   ]
  },
  {
   "cell_type": "code",
   "execution_count": 33,
   "metadata": {
    "ExecuteTime": {
     "end_time": "2019-08-01T20:48:50.167024Z",
     "start_time": "2019-08-01T20:48:49.778307Z"
    }
   },
   "outputs": [],
   "source": [
    "import pandas as pd\n",
    "import requests\n",
    "import matplotlib\n",
    "import numpy as np\n",
    "import matplotlib.pyplot as plt\n",
    "import re\n",
    "from datetime import datetime, timedelta\n",
    "import time\n",
    "import seaborn as sns\n",
    "from pylab import rcParams\n",
    "sns.set(style='whitegrid',palette='husl')\n",
    "matplotlib.rcParams['pdf.fonttype'] = 42\n",
    "\n",
    "%matplotlib inline"
   ]
  },
  {
   "cell_type": "markdown",
   "metadata": {},
   "source": [
    "# Load Data, Clean, and Add Percentage Columns"
   ]
  },
  {
   "cell_type": "code",
   "execution_count": 34,
   "metadata": {
    "ExecuteTime": {
     "end_time": "2019-08-01T20:48:50.452602Z",
     "start_time": "2019-08-01T20:48:50.351820Z"
    }
   },
   "outputs": [],
   "source": [
    "df=pd.read_csv('tabula-orthopaedicsurgery.csv',thousands=',',encoding='latin-1')"
   ]
  },
  {
   "cell_type": "code",
   "execution_count": 35,
   "metadata": {
    "ExecuteTime": {
     "end_time": "2019-08-01T20:48:50.623590Z",
     "start_time": "2019-08-01T20:48:50.611456Z"
    }
   },
   "outputs": [],
   "source": [
    "df=df.rename(columns={'Unnamed: 0':'race'})"
   ]
  },
  {
   "cell_type": "code",
   "execution_count": 36,
   "metadata": {
    "ExecuteTime": {
     "end_time": "2019-08-01T20:48:50.767472Z",
     "start_time": "2019-08-01T20:48:50.747404Z"
    }
   },
   "outputs": [],
   "source": [
    "df=df.drop(columns='Unnamed: 6')"
   ]
  },
  {
   "cell_type": "code",
   "execution_count": 37,
   "metadata": {
    "ExecuteTime": {
     "end_time": "2019-08-01T20:48:50.903783Z",
     "start_time": "2019-08-01T20:48:50.887152Z"
    }
   },
   "outputs": [],
   "source": [
    "df.race=df.race.str.replace('\\r',' ')"
   ]
  },
  {
   "cell_type": "code",
   "execution_count": 38,
   "metadata": {
    "ExecuteTime": {
     "end_time": "2019-08-01T20:48:51.037300Z",
     "start_time": "2019-08-01T20:48:51.029225Z"
    }
   },
   "outputs": [],
   "source": [
    "df.columns = df.columns.str.replace(\"ERAS\", \"\")"
   ]
  },
  {
   "cell_type": "code",
   "execution_count": 39,
   "metadata": {
    "ExecuteTime": {
     "end_time": "2019-08-01T20:48:51.156701Z",
     "start_time": "2019-08-01T20:48:51.147311Z"
    }
   },
   "outputs": [],
   "source": [
    "df.columns=df.columns.str.replace(r\"\\.1\", \"_applications_per_program\")"
   ]
  },
  {
   "cell_type": "code",
   "execution_count": 40,
   "metadata": {
    "ExecuteTime": {
     "end_time": "2019-08-01T20:48:51.302153Z",
     "start_time": "2019-08-01T20:48:51.292715Z"
    }
   },
   "outputs": [],
   "source": [
    "df.columns=df.columns.str.replace(\" \",'')"
   ]
  },
  {
   "cell_type": "code",
   "execution_count": 41,
   "metadata": {
    "ExecuteTime": {
     "end_time": "2019-08-01T20:48:51.455793Z",
     "start_time": "2019-08-01T20:48:51.448689Z"
    }
   },
   "outputs": [],
   "source": [
    "df.race=df.race.str.replace(' or ','/')\n"
   ]
  },
  {
   "cell_type": "code",
   "execution_count": 42,
   "metadata": {
    "ExecuteTime": {
     "end_time": "2019-08-01T20:48:51.471136Z",
     "start_time": "2019-08-01T20:48:51.460898Z"
    }
   },
   "outputs": [],
   "source": [
    "df.race=df.race.str.replace(',','_')"
   ]
  },
  {
   "cell_type": "code",
   "execution_count": 43,
   "metadata": {
    "ExecuteTime": {
     "end_time": "2019-08-01T20:48:51.670718Z",
     "start_time": "2019-08-01T20:48:51.647203Z"
    }
   },
   "outputs": [
    {
     "data": {
      "text/plain": [
       "0             American Indian/Alaska Native\n",
       "1                                     Asian\n",
       "2                    Black/African American\n",
       "3       Hispanic_ Latino_/of Spanish Origin\n",
       "4    Native Hawaiian/Other Pacific Islander\n",
       "5                                     White\n",
       "6                      Other Race/Ethnicity\n",
       "7                    Unknown Race/Ethnicity\n",
       "Name: race, dtype: object"
      ]
     },
     "execution_count": 43,
     "metadata": {},
     "output_type": "execute_result"
    }
   ],
   "source": [
    "df.race"
   ]
  },
  {
   "cell_type": "code",
   "execution_count": 44,
   "metadata": {
    "ExecuteTime": {
     "end_time": "2019-08-01T20:48:52.213403Z",
     "start_time": "2019-08-01T20:48:52.178233Z"
    }
   },
   "outputs": [],
   "source": [
    "df[df.columns[1:]]=df[df.columns[1:]].apply(pd.to_numeric)"
   ]
  },
  {
   "cell_type": "code",
   "execution_count": 45,
   "metadata": {
    "ExecuteTime": {
     "end_time": "2019-08-01T20:48:52.737911Z",
     "start_time": "2019-08-01T20:48:52.685156Z"
    }
   },
   "outputs": [],
   "source": [
    "#make a total row\n",
    "df.loc['Total',:]= df.sum(axis=0)"
   ]
  },
  {
   "cell_type": "code",
   "execution_count": 46,
   "metadata": {
    "ExecuteTime": {
     "end_time": "2019-08-01T20:48:52.864644Z",
     "start_time": "2019-08-01T20:48:52.855551Z"
    }
   },
   "outputs": [],
   "source": [
    "df['pct_14']=df['2014']/(df['2014']['Total'])*100"
   ]
  },
  {
   "cell_type": "code",
   "execution_count": 47,
   "metadata": {
    "ExecuteTime": {
     "end_time": "2019-08-01T20:48:53.034746Z",
     "start_time": "2019-08-01T20:48:53.016767Z"
    }
   },
   "outputs": [],
   "source": [
    "df['pct_15']=df['2015']/(df['2015']['Total'])*100\n",
    "df['pct_16']=df['2016']/(df['2016']['Total'])*100\n",
    "df['pct_17']=df['2017']/(df['2017']['Total'])*100\n",
    "df['pct_18']=df['2018']/(df['2018']['Total'])*100"
   ]
  },
  {
   "cell_type": "code",
   "execution_count": 48,
   "metadata": {
    "ExecuteTime": {
     "end_time": "2019-08-01T20:48:54.321064Z",
     "start_time": "2019-08-01T20:48:53.166769Z"
    }
   },
   "outputs": [
    {
     "name": "stderr",
     "output_type": "stream",
     "text": [
      "/Users/lilyliu-krason/.pyenv/versions/3.7.1/lib/python3.7/site-packages/ipykernel_launcher.py:1: SettingWithCopyWarning: \n",
      "A value is trying to be set on a copy of a slice from a DataFrame\n",
      "\n",
      "See the caveats in the documentation: http://pandas.pydata.org/pandas-docs/stable/indexing.html#indexing-view-versus-copy\n",
      "  \"\"\"Entry point for launching an IPython kernel.\n"
     ]
    }
   ],
   "source": [
    "df['race']['Total']='Total'"
   ]
  },
  {
   "cell_type": "markdown",
   "metadata": {},
   "source": [
    "# Dataframe Views"
   ]
  },
  {
   "cell_type": "code",
   "execution_count": 49,
   "metadata": {
    "ExecuteTime": {
     "end_time": "2019-08-01T20:48:54.582946Z",
     "start_time": "2019-08-01T20:48:54.538558Z"
    }
   },
   "outputs": [
    {
     "data": {
      "text/html": [
       "<div>\n",
       "<style scoped>\n",
       "    .dataframe tbody tr th:only-of-type {\n",
       "        vertical-align: middle;\n",
       "    }\n",
       "\n",
       "    .dataframe tbody tr th {\n",
       "        vertical-align: top;\n",
       "    }\n",
       "\n",
       "    .dataframe thead th {\n",
       "        text-align: right;\n",
       "    }\n",
       "</style>\n",
       "<table border=\"1\" class=\"dataframe\">\n",
       "  <thead>\n",
       "    <tr style=\"text-align: right;\">\n",
       "      <th></th>\n",
       "      <th>race</th>\n",
       "      <th>2014</th>\n",
       "      <th>2015</th>\n",
       "      <th>2016</th>\n",
       "      <th>2017</th>\n",
       "      <th>2018</th>\n",
       "      <th>pct_14</th>\n",
       "      <th>pct_15</th>\n",
       "      <th>pct_16</th>\n",
       "      <th>pct_17</th>\n",
       "      <th>pct_18</th>\n",
       "    </tr>\n",
       "  </thead>\n",
       "  <tbody>\n",
       "    <tr>\n",
       "      <th>0</th>\n",
       "      <td>American Indian/Alaska Native</td>\n",
       "      <td>6.0</td>\n",
       "      <td>12.0</td>\n",
       "      <td>11.0</td>\n",
       "      <td>13.0</td>\n",
       "      <td>15.0</td>\n",
       "      <td>0.389105</td>\n",
       "      <td>0.877835</td>\n",
       "      <td>0.833333</td>\n",
       "      <td>0.867824</td>\n",
       "      <td>1.062323</td>\n",
       "    </tr>\n",
       "    <tr>\n",
       "      <th>1</th>\n",
       "      <td>Asian</td>\n",
       "      <td>242.0</td>\n",
       "      <td>204.0</td>\n",
       "      <td>176.0</td>\n",
       "      <td>190.0</td>\n",
       "      <td>198.0</td>\n",
       "      <td>15.693904</td>\n",
       "      <td>14.923189</td>\n",
       "      <td>13.333333</td>\n",
       "      <td>12.683578</td>\n",
       "      <td>14.022663</td>\n",
       "    </tr>\n",
       "    <tr>\n",
       "      <th>2</th>\n",
       "      <td>Black/African American</td>\n",
       "      <td>104.0</td>\n",
       "      <td>94.0</td>\n",
       "      <td>73.0</td>\n",
       "      <td>84.0</td>\n",
       "      <td>83.0</td>\n",
       "      <td>6.744488</td>\n",
       "      <td>6.876372</td>\n",
       "      <td>5.530303</td>\n",
       "      <td>5.607477</td>\n",
       "      <td>5.878187</td>\n",
       "    </tr>\n",
       "    <tr>\n",
       "      <th>3</th>\n",
       "      <td>Hispanic_ Latino_/of Spanish Origin</td>\n",
       "      <td>101.0</td>\n",
       "      <td>96.0</td>\n",
       "      <td>88.0</td>\n",
       "      <td>118.0</td>\n",
       "      <td>107.0</td>\n",
       "      <td>6.549935</td>\n",
       "      <td>7.022677</td>\n",
       "      <td>6.666667</td>\n",
       "      <td>7.877170</td>\n",
       "      <td>7.577904</td>\n",
       "    </tr>\n",
       "    <tr>\n",
       "      <th>4</th>\n",
       "      <td>Native Hawaiian/Other Pacific Islander</td>\n",
       "      <td>4.0</td>\n",
       "      <td>5.0</td>\n",
       "      <td>2.0</td>\n",
       "      <td>4.0</td>\n",
       "      <td>2.0</td>\n",
       "      <td>0.259403</td>\n",
       "      <td>0.365764</td>\n",
       "      <td>0.151515</td>\n",
       "      <td>0.267023</td>\n",
       "      <td>0.141643</td>\n",
       "    </tr>\n",
       "    <tr>\n",
       "      <th>5</th>\n",
       "      <td>White</td>\n",
       "      <td>952.0</td>\n",
       "      <td>867.0</td>\n",
       "      <td>830.0</td>\n",
       "      <td>918.0</td>\n",
       "      <td>863.0</td>\n",
       "      <td>61.738003</td>\n",
       "      <td>63.423555</td>\n",
       "      <td>62.878788</td>\n",
       "      <td>61.281709</td>\n",
       "      <td>61.118980</td>\n",
       "    </tr>\n",
       "    <tr>\n",
       "      <th>6</th>\n",
       "      <td>Other Race/Ethnicity</td>\n",
       "      <td>43.0</td>\n",
       "      <td>44.0</td>\n",
       "      <td>38.0</td>\n",
       "      <td>61.0</td>\n",
       "      <td>39.0</td>\n",
       "      <td>2.788586</td>\n",
       "      <td>3.218727</td>\n",
       "      <td>2.878788</td>\n",
       "      <td>4.072096</td>\n",
       "      <td>2.762040</td>\n",
       "    </tr>\n",
       "    <tr>\n",
       "      <th>7</th>\n",
       "      <td>Unknown Race/Ethnicity</td>\n",
       "      <td>90.0</td>\n",
       "      <td>45.0</td>\n",
       "      <td>102.0</td>\n",
       "      <td>110.0</td>\n",
       "      <td>105.0</td>\n",
       "      <td>5.836576</td>\n",
       "      <td>3.291880</td>\n",
       "      <td>7.727273</td>\n",
       "      <td>7.343124</td>\n",
       "      <td>7.436261</td>\n",
       "    </tr>\n",
       "    <tr>\n",
       "      <th>Total</th>\n",
       "      <td>Total</td>\n",
       "      <td>1542.0</td>\n",
       "      <td>1367.0</td>\n",
       "      <td>1320.0</td>\n",
       "      <td>1498.0</td>\n",
       "      <td>1412.0</td>\n",
       "      <td>100.000000</td>\n",
       "      <td>100.000000</td>\n",
       "      <td>100.000000</td>\n",
       "      <td>100.000000</td>\n",
       "      <td>100.000000</td>\n",
       "    </tr>\n",
       "  </tbody>\n",
       "</table>\n",
       "</div>"
      ],
      "text/plain": [
       "                                         race    2014    2015    2016    2017  \\\n",
       "0               American Indian/Alaska Native     6.0    12.0    11.0    13.0   \n",
       "1                                       Asian   242.0   204.0   176.0   190.0   \n",
       "2                      Black/African American   104.0    94.0    73.0    84.0   \n",
       "3         Hispanic_ Latino_/of Spanish Origin   101.0    96.0    88.0   118.0   \n",
       "4      Native Hawaiian/Other Pacific Islander     4.0     5.0     2.0     4.0   \n",
       "5                                       White   952.0   867.0   830.0   918.0   \n",
       "6                        Other Race/Ethnicity    43.0    44.0    38.0    61.0   \n",
       "7                      Unknown Race/Ethnicity    90.0    45.0   102.0   110.0   \n",
       "Total                                   Total  1542.0  1367.0  1320.0  1498.0   \n",
       "\n",
       "         2018      pct_14      pct_15      pct_16      pct_17      pct_18  \n",
       "0        15.0    0.389105    0.877835    0.833333    0.867824    1.062323  \n",
       "1       198.0   15.693904   14.923189   13.333333   12.683578   14.022663  \n",
       "2        83.0    6.744488    6.876372    5.530303    5.607477    5.878187  \n",
       "3       107.0    6.549935    7.022677    6.666667    7.877170    7.577904  \n",
       "4         2.0    0.259403    0.365764    0.151515    0.267023    0.141643  \n",
       "5       863.0   61.738003   63.423555   62.878788   61.281709   61.118980  \n",
       "6        39.0    2.788586    3.218727    2.878788    4.072096    2.762040  \n",
       "7       105.0    5.836576    3.291880    7.727273    7.343124    7.436261  \n",
       "Total  1412.0  100.000000  100.000000  100.000000  100.000000  100.000000  "
      ]
     },
     "execution_count": 49,
     "metadata": {},
     "output_type": "execute_result"
    }
   ],
   "source": [
    "#this is the dataframe I have: \n",
    "df"
   ]
  },
  {
   "cell_type": "code",
   "execution_count": 50,
   "metadata": {
    "ExecuteTime": {
     "end_time": "2019-08-01T20:48:56.443361Z",
     "start_time": "2019-08-01T20:48:56.423269Z"
    }
   },
   "outputs": [
    {
     "data": {
      "text/html": [
       "<div>\n",
       "<style scoped>\n",
       "    .dataframe tbody tr th:only-of-type {\n",
       "        vertical-align: middle;\n",
       "    }\n",
       "\n",
       "    .dataframe tbody tr th {\n",
       "        vertical-align: top;\n",
       "    }\n",
       "\n",
       "    .dataframe thead th {\n",
       "        text-align: right;\n",
       "    }\n",
       "</style>\n",
       "<table border=\"1\" class=\"dataframe\">\n",
       "  <thead>\n",
       "    <tr style=\"text-align: right;\">\n",
       "      <th></th>\n",
       "      <th>race</th>\n",
       "      <th>pct_14</th>\n",
       "      <th>pct_15</th>\n",
       "      <th>pct_16</th>\n",
       "      <th>pct_17</th>\n",
       "      <th>pct_18</th>\n",
       "    </tr>\n",
       "  </thead>\n",
       "  <tbody>\n",
       "    <tr>\n",
       "      <th>0</th>\n",
       "      <td>American Indian/Alaska Native</td>\n",
       "      <td>0.389105</td>\n",
       "      <td>0.877835</td>\n",
       "      <td>0.833333</td>\n",
       "      <td>0.867824</td>\n",
       "      <td>1.062323</td>\n",
       "    </tr>\n",
       "    <tr>\n",
       "      <th>1</th>\n",
       "      <td>Asian</td>\n",
       "      <td>15.693904</td>\n",
       "      <td>14.923189</td>\n",
       "      <td>13.333333</td>\n",
       "      <td>12.683578</td>\n",
       "      <td>14.022663</td>\n",
       "    </tr>\n",
       "    <tr>\n",
       "      <th>2</th>\n",
       "      <td>Black/African American</td>\n",
       "      <td>6.744488</td>\n",
       "      <td>6.876372</td>\n",
       "      <td>5.530303</td>\n",
       "      <td>5.607477</td>\n",
       "      <td>5.878187</td>\n",
       "    </tr>\n",
       "    <tr>\n",
       "      <th>3</th>\n",
       "      <td>Hispanic_ Latino_/of Spanish Origin</td>\n",
       "      <td>6.549935</td>\n",
       "      <td>7.022677</td>\n",
       "      <td>6.666667</td>\n",
       "      <td>7.877170</td>\n",
       "      <td>7.577904</td>\n",
       "    </tr>\n",
       "    <tr>\n",
       "      <th>4</th>\n",
       "      <td>Native Hawaiian/Other Pacific Islander</td>\n",
       "      <td>0.259403</td>\n",
       "      <td>0.365764</td>\n",
       "      <td>0.151515</td>\n",
       "      <td>0.267023</td>\n",
       "      <td>0.141643</td>\n",
       "    </tr>\n",
       "    <tr>\n",
       "      <th>5</th>\n",
       "      <td>White</td>\n",
       "      <td>61.738003</td>\n",
       "      <td>63.423555</td>\n",
       "      <td>62.878788</td>\n",
       "      <td>61.281709</td>\n",
       "      <td>61.118980</td>\n",
       "    </tr>\n",
       "    <tr>\n",
       "      <th>6</th>\n",
       "      <td>Other Race/Ethnicity</td>\n",
       "      <td>2.788586</td>\n",
       "      <td>3.218727</td>\n",
       "      <td>2.878788</td>\n",
       "      <td>4.072096</td>\n",
       "      <td>2.762040</td>\n",
       "    </tr>\n",
       "    <tr>\n",
       "      <th>7</th>\n",
       "      <td>Unknown Race/Ethnicity</td>\n",
       "      <td>5.836576</td>\n",
       "      <td>3.291880</td>\n",
       "      <td>7.727273</td>\n",
       "      <td>7.343124</td>\n",
       "      <td>7.436261</td>\n",
       "    </tr>\n",
       "  </tbody>\n",
       "</table>\n",
       "</div>"
      ],
      "text/plain": [
       "                                     race     pct_14     pct_15     pct_16  \\\n",
       "0           American Indian/Alaska Native   0.389105   0.877835   0.833333   \n",
       "1                                   Asian  15.693904  14.923189  13.333333   \n",
       "2                  Black/African American   6.744488   6.876372   5.530303   \n",
       "3     Hispanic_ Latino_/of Spanish Origin   6.549935   7.022677   6.666667   \n",
       "4  Native Hawaiian/Other Pacific Islander   0.259403   0.365764   0.151515   \n",
       "5                                   White  61.738003  63.423555  62.878788   \n",
       "6                    Other Race/Ethnicity   2.788586   3.218727   2.878788   \n",
       "7                  Unknown Race/Ethnicity   5.836576   3.291880   7.727273   \n",
       "\n",
       "      pct_17     pct_18  \n",
       "0   0.867824   1.062323  \n",
       "1  12.683578  14.022663  \n",
       "2   5.607477   5.878187  \n",
       "3   7.877170   7.577904  \n",
       "4   0.267023   0.141643  \n",
       "5  61.281709  61.118980  \n",
       "6   4.072096   2.762040  \n",
       "7   7.343124   7.436261  "
      ]
     },
     "execution_count": 50,
     "metadata": {},
     "output_type": "execute_result"
    }
   ],
   "source": [
    "df[['race','pct_14','pct_15','pct_16','pct_17','pct_18']][:-1]"
   ]
  },
  {
   "cell_type": "code",
   "execution_count": 51,
   "metadata": {
    "ExecuteTime": {
     "end_time": "2019-08-01T20:48:56.847313Z",
     "start_time": "2019-08-01T20:48:56.844103Z"
    }
   },
   "outputs": [],
   "source": [
    "# sns.set(font_scale=3) \n",
    "# df_race.iloc[0,:].values"
   ]
  },
  {
   "cell_type": "code",
   "execution_count": 52,
   "metadata": {
    "ExecuteTime": {
     "end_time": "2019-08-01T20:48:57.705574Z",
     "start_time": "2019-08-01T20:48:57.621558Z"
    }
   },
   "outputs": [],
   "source": [
    "#Creating second view\n",
    "df_race = df[['race','pct_14','pct_15','pct_16','pct_17','pct_18']][:-1].T\n",
    "df_race.columns=df_race.iloc[0,:].values\n",
    "df_race=df_race.iloc[1:,:]\n",
    "for c in list(df_race.columns):\n",
    "    df_race[c]=df_race[c].astype(float)\n",
    "df_race.index=range(2014, 2019, 1)\n",
    "#adding a year column from the index\n",
    "df_race['year'] = df_race.index\n",
    "df_race['year']= df_race['year'].astype(int)"
   ]
  },
  {
   "cell_type": "code",
   "execution_count": 53,
   "metadata": {
    "ExecuteTime": {
     "end_time": "2019-08-01T20:48:58.213832Z",
     "start_time": "2019-08-01T20:48:58.128344Z"
    }
   },
   "outputs": [],
   "source": [
    "df_number= df[['race','2014','2015','2016','2017','2018']][:-1].T\n",
    "df_number.columns=df_number.iloc[0,:].values\n",
    "df_number=df_number.iloc[1:,:]\n",
    "for c in list(df_number.columns):\n",
    "    df_number[c]=df_number[c].astype(float)\n",
    "df_number['year'] = df_number.index\n",
    "df_number['year']= df_number['year'].astype(int)"
   ]
  },
  {
   "cell_type": "code",
   "execution_count": 54,
   "metadata": {
    "ExecuteTime": {
     "end_time": "2019-08-01T20:48:58.889921Z",
     "start_time": "2019-08-01T20:48:58.870261Z"
    }
   },
   "outputs": [
    {
     "data": {
      "text/html": [
       "<div>\n",
       "<style scoped>\n",
       "    .dataframe tbody tr th:only-of-type {\n",
       "        vertical-align: middle;\n",
       "    }\n",
       "\n",
       "    .dataframe tbody tr th {\n",
       "        vertical-align: top;\n",
       "    }\n",
       "\n",
       "    .dataframe thead th {\n",
       "        text-align: right;\n",
       "    }\n",
       "</style>\n",
       "<table border=\"1\" class=\"dataframe\">\n",
       "  <thead>\n",
       "    <tr style=\"text-align: right;\">\n",
       "      <th></th>\n",
       "      <th>American Indian/Alaska Native</th>\n",
       "      <th>Asian</th>\n",
       "      <th>Black/African American</th>\n",
       "      <th>Hispanic_ Latino_/of Spanish Origin</th>\n",
       "      <th>Native Hawaiian/Other Pacific Islander</th>\n",
       "      <th>White</th>\n",
       "      <th>Other Race/Ethnicity</th>\n",
       "      <th>Unknown Race/Ethnicity</th>\n",
       "      <th>year</th>\n",
       "    </tr>\n",
       "  </thead>\n",
       "  <tbody>\n",
       "    <tr>\n",
       "      <th>2014</th>\n",
       "      <td>6.0</td>\n",
       "      <td>242.0</td>\n",
       "      <td>104.0</td>\n",
       "      <td>101.0</td>\n",
       "      <td>4.0</td>\n",
       "      <td>952.0</td>\n",
       "      <td>43.0</td>\n",
       "      <td>90.0</td>\n",
       "      <td>2014</td>\n",
       "    </tr>\n",
       "    <tr>\n",
       "      <th>2015</th>\n",
       "      <td>12.0</td>\n",
       "      <td>204.0</td>\n",
       "      <td>94.0</td>\n",
       "      <td>96.0</td>\n",
       "      <td>5.0</td>\n",
       "      <td>867.0</td>\n",
       "      <td>44.0</td>\n",
       "      <td>45.0</td>\n",
       "      <td>2015</td>\n",
       "    </tr>\n",
       "    <tr>\n",
       "      <th>2016</th>\n",
       "      <td>11.0</td>\n",
       "      <td>176.0</td>\n",
       "      <td>73.0</td>\n",
       "      <td>88.0</td>\n",
       "      <td>2.0</td>\n",
       "      <td>830.0</td>\n",
       "      <td>38.0</td>\n",
       "      <td>102.0</td>\n",
       "      <td>2016</td>\n",
       "    </tr>\n",
       "    <tr>\n",
       "      <th>2017</th>\n",
       "      <td>13.0</td>\n",
       "      <td>190.0</td>\n",
       "      <td>84.0</td>\n",
       "      <td>118.0</td>\n",
       "      <td>4.0</td>\n",
       "      <td>918.0</td>\n",
       "      <td>61.0</td>\n",
       "      <td>110.0</td>\n",
       "      <td>2017</td>\n",
       "    </tr>\n",
       "    <tr>\n",
       "      <th>2018</th>\n",
       "      <td>15.0</td>\n",
       "      <td>198.0</td>\n",
       "      <td>83.0</td>\n",
       "      <td>107.0</td>\n",
       "      <td>2.0</td>\n",
       "      <td>863.0</td>\n",
       "      <td>39.0</td>\n",
       "      <td>105.0</td>\n",
       "      <td>2018</td>\n",
       "    </tr>\n",
       "  </tbody>\n",
       "</table>\n",
       "</div>"
      ],
      "text/plain": [
       "      American Indian/Alaska Native  Asian  Black/African American  \\\n",
       "2014                            6.0  242.0                   104.0   \n",
       "2015                           12.0  204.0                    94.0   \n",
       "2016                           11.0  176.0                    73.0   \n",
       "2017                           13.0  190.0                    84.0   \n",
       "2018                           15.0  198.0                    83.0   \n",
       "\n",
       "      Hispanic_ Latino_/of Spanish Origin  \\\n",
       "2014                                101.0   \n",
       "2015                                 96.0   \n",
       "2016                                 88.0   \n",
       "2017                                118.0   \n",
       "2018                                107.0   \n",
       "\n",
       "      Native Hawaiian/Other Pacific Islander  White  Other Race/Ethnicity  \\\n",
       "2014                                     4.0  952.0                  43.0   \n",
       "2015                                     5.0  867.0                  44.0   \n",
       "2016                                     2.0  830.0                  38.0   \n",
       "2017                                     4.0  918.0                  61.0   \n",
       "2018                                     2.0  863.0                  39.0   \n",
       "\n",
       "      Unknown Race/Ethnicity  year  \n",
       "2014                    90.0  2014  \n",
       "2015                    45.0  2015  \n",
       "2016                   102.0  2016  \n",
       "2017                   110.0  2017  \n",
       "2018                   105.0  2018  "
      ]
     },
     "execution_count": 54,
     "metadata": {},
     "output_type": "execute_result"
    }
   ],
   "source": [
    "df_number"
   ]
  },
  {
   "cell_type": "code",
   "execution_count": 55,
   "metadata": {
    "ExecuteTime": {
     "end_time": "2019-08-01T20:48:59.430525Z",
     "start_time": "2019-08-01T20:48:59.412731Z"
    }
   },
   "outputs": [],
   "source": [
    "df_num=df[['race','2014','2015','2016','2017','2018']]\n",
    "df_num.to_csv('orthopaedic_num.csv',index=False)"
   ]
  },
  {
   "cell_type": "code",
   "execution_count": 56,
   "metadata": {
    "ExecuteTime": {
     "end_time": "2019-08-01T20:49:00.191480Z",
     "start_time": "2019-08-01T20:49:00.166341Z"
    }
   },
   "outputs": [],
   "source": [
    "#putting dataframe into a csv so that we can combine with graduates later\n",
    "df_race.to_csv('orthopaedic_residency_pct.csv',index=False)\n",
    "df_number.to_csv('orthopaedic_residency_number.csv',index=False)"
   ]
  },
  {
   "cell_type": "code",
   "execution_count": 57,
   "metadata": {
    "ExecuteTime": {
     "end_time": "2019-08-01T20:49:01.298830Z",
     "start_time": "2019-08-01T20:49:01.293733Z"
    }
   },
   "outputs": [],
   "source": [
    "sns.set(font_scale=1) "
   ]
  },
  {
   "cell_type": "code",
   "execution_count": 58,
   "metadata": {
    "ExecuteTime": {
     "end_time": "2019-08-01T20:49:06.175832Z",
     "start_time": "2019-08-01T20:49:01.990254Z"
    }
   },
   "outputs": [
    {
     "name": "stderr",
     "output_type": "stream",
     "text": [
      "/Users/lilyliu-krason/.pyenv/versions/3.7.1/lib/python3.7/site-packages/ipykernel_launcher.py:4: RuntimeWarning: Second argument 'White' is ambiguous: could be a color spec but is in data; using as data.  Either rename the entry in data or use three arguments to plot.\n",
      "  after removing the cwd from sys.path.\n"
     ]
    },
    {
     "data": {
      "image/png": "[encoded data removed]",
      "text/plain": [
       "<Figure size 1440x360 with 1 Axes>"
      ]
     },
     "metadata": {},
     "output_type": "display_data"
    },
    {
     "data": {
      "image/png": "[encoded data removed]",
      "text/plain": [
       "<Figure size 1440x360 with 1 Axes>"
      ]
     },
     "metadata": {},
     "output_type": "display_data"
    },
    {
     "data": {
      "image/png": "[encoded data removed]",
      "text/plain": [
       "<Figure size 1440x360 with 1 Axes>"
      ]
     },
     "metadata": {},
     "output_type": "display_data"
    },
    {
     "data": {
      "image/png": "[encoded data removed]",
      "text/plain": [
       "<Figure size 1440x360 with 1 Axes>"
      ]
     },
     "metadata": {},
     "output_type": "display_data"
    },
    {
     "data": {
      "image/png": "[encoded data removed]",
      "text/plain": [
       "<Figure size 1440x360 with 1 Axes>"
      ]
     },
     "metadata": {},
     "output_type": "display_data"
    },
    {
     "data": {
      "image/png": "[encoded data removed]",
      "text/plain": [
       "<Figure size 1440x360 with 1 Axes>"
      ]
     },
     "metadata": {},
     "output_type": "display_data"
    },
    {
     "data": {
      "image/png": "[encoded data removed]",
      "text/plain": [
       "<Figure size 1440x360 with 1 Axes>"
      ]
     },
     "metadata": {},
     "output_type": "display_data"
    },
    {
     "data": {
      "image/png": "[encoded data removed]",
      "text/plain": [
       "<Figure size 1440x360 with 1 Axes>"
      ]
     },
     "metadata": {},
     "output_type": "display_data"
    }
   ],
   "source": [
    "rcParams['figure.figsize'] = 20, 5\n",
    "for c in df_race.columns[:-1]:\n",
    "    plt.figure()\n",
    "    plt.plot('year', c, data=df_race,marker='o')\n",
    "    plt.xticks(df_race['year'].values)\n",
    "    plt.yticks(range(0,42,5))\n",
    "    plt.title(c)"
   ]
  },
  {
   "cell_type": "code",
   "execution_count": 59,
   "metadata": {
    "ExecuteTime": {
     "end_time": "2019-08-01T20:49:08.856627Z",
     "start_time": "2019-08-01T20:49:06.272263Z"
    }
   },
   "outputs": [
    {
     "name": "stderr",
     "output_type": "stream",
     "text": [
      "/Users/lilyliu-krason/.pyenv/versions/3.7.1/lib/python3.7/site-packages/ipykernel_launcher.py:2: RuntimeWarning: Second argument 'White' is ambiguous: could be a color spec but is in data; using as data.  Either rename the entry in data or use three arguments to plot.\n",
      "  \n"
     ]
    },
    {
     "data": {
      "image/png": "[encoded data removed]",
      "text/plain": [
       "<Figure size 1440x360 with 1 Axes>"
      ]
     },
     "metadata": {},
     "output_type": "display_data"
    }
   ],
   "source": [
    "for c in df_race.columns[:-1]:  \n",
    "    plt.plot('year', c, data=df_race,marker='o')\n",
    "    plt.legend(loc='upper right', bbox_to_anchor=(0.5, 0.3, 0.5, 0.5))\n",
    "    plt.xticks(df_race['year'].values)\n",
    "    plt.title('Percentage of Orthopaedic Residency Applications by Year and Race')\n",
    "    plt.savefig(\"orthopaedic_residency.pdf\")\n",
    "#save to pdf out of loop"
   ]
  },
  {
   "cell_type": "code",
   "execution_count": 60,
   "metadata": {
    "ExecuteTime": {
     "end_time": "2019-08-01T20:49:09.909996Z",
     "start_time": "2019-08-01T20:49:08.973044Z"
    }
   },
   "outputs": [
    {
     "data": {
      "text/plain": [
       "<matplotlib.axes._subplots.AxesSubplot at 0x11ca655f8>"
      ]
     },
     "execution_count": 60,
     "metadata": {},
     "output_type": "execute_result"
    },
    {
     "data": {
      "image/png": "[encoded data removed]",
      "text/plain": [
       "<Figure size 1440x360 with 1 Axes>"
      ]
     },
     "metadata": {},
     "output_type": "display_data"
    }
   ],
   "source": [
    "df[['race','pct_14','pct_15','pct_16','pct_17','pct_18']][:-1].plot(kind='barh',x='race')"
   ]
  },
  {
   "cell_type": "code",
   "execution_count": 8,
   "metadata": {},
   "outputs": [],
   "source": []
  },
  {
   "cell_type": "code",
   "execution_count": 10,
   "metadata": {},
   "outputs": [
    {
     "data": {
      "text/html": [
       "<div>\n",
       "<style scoped>\n",
       "    .dataframe tbody tr th:only-of-type {\n",
       "        vertical-align: middle;\n",
       "    }\n",
       "\n",
       "    .dataframe tbody tr th {\n",
       "        vertical-align: top;\n",
       "    }\n",
       "\n",
       "    .dataframe thead th {\n",
       "        text-align: right;\n",
       "    }\n",
       "</style>\n",
       "<table border=\"1\" class=\"dataframe\">\n",
       "  <thead>\n",
       "    <tr style=\"text-align: right;\">\n",
       "      <th></th>\n",
       "      <th>Location</th>\n",
       "      <th>White</th>\n",
       "      <th>Black</th>\n",
       "      <th>Asian</th>\n",
       "      <th>Hispanic</th>\n",
       "      <th>American Indian/ Alaska Native</th>\n",
       "      <th>Native Hawaiian/ Pacific Islander</th>\n",
       "      <th>Other</th>\n",
       "      <th>Multiple Race/ Ethnicity</th>\n",
       "      <th>Non-U.S. Citizen/Non-Permanent Resident</th>\n",
       "      <th>Unknown Race/ Ethnicity</th>\n",
       "      <th>Total</th>\n",
       "      <th>Footnotes</th>\n",
       "    </tr>\n",
       "  </thead>\n",
       "  <tbody>\n",
       "    <tr>\n",
       "      <th>0</th>\n",
       "      <td>United States</td>\n",
       "      <td>10458.0</td>\n",
       "      <td>1052.0</td>\n",
       "      <td>3701.0</td>\n",
       "      <td>928.0</td>\n",
       "      <td>27.0</td>\n",
       "      <td>4.0</td>\n",
       "      <td>300.0</td>\n",
       "      <td>1168.0</td>\n",
       "      <td>365.0</td>\n",
       "      <td>75.0</td>\n",
       "      <td>18078.0</td>\n",
       "      <td>1.0</td>\n",
       "    </tr>\n",
       "  </tbody>\n",
       "</table>\n",
       "</div>"
      ],
      "text/plain": [
       "        Location    White   Black   Asian  Hispanic  \\\n",
       "0  United States  10458.0  1052.0  3701.0     928.0   \n",
       "\n",
       "   American Indian/ Alaska Native  Native Hawaiian/ Pacific Islander  Other  \\\n",
       "0                            27.0                                4.0  300.0   \n",
       "\n",
       "   Multiple Race/ Ethnicity  Non-U.S. Citizen/Non-Permanent Resident  \\\n",
       "0                    1168.0                                    365.0   \n",
       "\n",
       "   Unknown Race/ Ethnicity    Total  Footnotes  \n",
       "0                     75.0  18078.0        1.0  "
      ]
     },
     "execution_count": 10,
     "metadata": {},
     "output_type": "execute_result"
    }
   ],
   "source": [
    "df_2014[:1]\n"
   ]
  },
  {
   "cell_type": "code",
   "execution_count": null,
   "metadata": {},
   "outputs": [],
   "source": []
  }
 ],
 "metadata": {
  "kernelspec": {
   "display_name": "Python 3",
   "language": "python",
   "name": "python3"
  },
  "language_info": {
   "codemirror_mode": {
    "name": "ipython",
    "version": 3
   },
   "file_extension": ".py",
   "mimetype": "text/x-python",
   "name": "python",
   "nbconvert_exporter": "python",
   "pygments_lexer": "ipython3",
   "version": "3.7.1"
  },
  "toc": {
   "base_numbering": 1,
   "nav_menu": {},
   "number_sections": true,
   "sideBar": true,
   "skip_h1_title": false,
   "title_cell": "Table of Contents",
   "title_sidebar": "Contents",
   "toc_cell": false,
   "toc_position": {},
   "toc_section_display": true,
   "toc_window_display": false
  },
  "varInspector": {
   "cols": {
    "lenName": 16,
    "lenType": 16,
    "lenVar": 40
   },
   "kernels_config": {
    "python": {
     "delete_cmd_postfix": "",
     "delete_cmd_prefix": "del ",
     "library": "var_list.py",
     "varRefreshCmd": "print(var_dic_list())"
    },
    "r": {
     "delete_cmd_postfix": ") ",
     "delete_cmd_prefix": "rm(",
     "library": "var_list.r",
     "varRefreshCmd": "cat(var_dic_list()) "
    }
   },
   "types_to_exclude": [
    "module",
    "function",
    "builtin_function_or_method",
    "instance",
    "_Feature"
   ],
   "window_display": false
  }
 },
 "nbformat": 4,
 "nbformat_minor": 2
}
