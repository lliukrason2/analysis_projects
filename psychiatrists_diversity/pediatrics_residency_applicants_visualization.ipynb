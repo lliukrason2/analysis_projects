{
 "cells": [
  {
   "cell_type": "markdown",
   "metadata": {},
   "source": [
    "# Pediatrics Residency Applications\n",
    "Data from https://www.aamc.org/data/facts/eras/"
   ]
  },
  {
   "cell_type": "code",
   "execution_count": 1,
   "metadata": {
    "ExecuteTime": {
     "end_time": "2019-08-01T15:40:37.828982Z",
     "start_time": "2019-08-01T15:40:35.611478Z"
    }
   },
   "outputs": [],
   "source": [
    "import pandas as pd\n",
    "import requests\n",
    "import matplotlib\n",
    "import numpy as np\n",
    "import matplotlib.pyplot as plt\n",
    "import re\n",
    "from datetime import datetime, timedelta\n",
    "import time\n",
    "import seaborn as sns\n",
    "from pylab import rcParams\n",
    "sns.set(style='whitegrid',palette='husl')\n",
    "matplotlib.rcParams['pdf.fonttype'] = 42\n",
    "\n",
    "%matplotlib inline"
   ]
  },
  {
   "cell_type": "markdown",
   "metadata": {},
   "source": [
    "# Load Data, Clean, and Add Percentage Columns"
   ]
  },
  {
   "cell_type": "code",
   "execution_count": 2,
   "metadata": {
    "ExecuteTime": {
     "end_time": "2019-08-01T15:40:37.847213Z",
     "start_time": "2019-08-01T15:40:37.833794Z"
    }
   },
   "outputs": [],
   "source": [
    "df=pd.read_csv('tabula-pediatrics.csv',thousands=',',encoding='latin-1')"
   ]
  },
  {
   "cell_type": "code",
   "execution_count": 3,
   "metadata": {
    "ExecuteTime": {
     "end_time": "2019-08-01T15:40:37.859391Z",
     "start_time": "2019-08-01T15:40:37.852767Z"
    }
   },
   "outputs": [],
   "source": [
    "df=df.rename(columns={'Unnamed: 0':'race'})"
   ]
  },
  {
   "cell_type": "code",
   "execution_count": 4,
   "metadata": {
    "ExecuteTime": {
     "end_time": "2019-08-01T15:40:37.892824Z",
     "start_time": "2019-08-01T15:40:37.863491Z"
    }
   },
   "outputs": [
    {
     "data": {
      "text/html": [
       "<div>\n",
       "<style scoped>\n",
       "    .dataframe tbody tr th:only-of-type {\n",
       "        vertical-align: middle;\n",
       "    }\n",
       "\n",
       "    .dataframe tbody tr th {\n",
       "        vertical-align: top;\n",
       "    }\n",
       "\n",
       "    .dataframe thead th {\n",
       "        text-align: right;\n",
       "    }\n",
       "</style>\n",
       "<table border=\"1\" class=\"dataframe\">\n",
       "  <thead>\n",
       "    <tr style=\"text-align: right;\">\n",
       "      <th></th>\n",
       "      <th>race</th>\n",
       "      <th>ERAS 2014</th>\n",
       "      <th>ERAS 2015</th>\n",
       "      <th>ERAS 2016</th>\n",
       "      <th>ERAS 2017</th>\n",
       "      <th>ERAS 2018</th>\n",
       "      <th>Unnamed: 6</th>\n",
       "    </tr>\n",
       "  </thead>\n",
       "  <tbody>\n",
       "    <tr>\n",
       "      <th>0</th>\n",
       "      <td>American Indian or Alaska Native</td>\n",
       "      <td>30</td>\n",
       "      <td>28</td>\n",
       "      <td>20</td>\n",
       "      <td>35</td>\n",
       "      <td>19</td>\n",
       "      <td>NaN</td>\n",
       "    </tr>\n",
       "    <tr>\n",
       "      <th>1</th>\n",
       "      <td>Asian</td>\n",
       "      <td>1687</td>\n",
       "      <td>1670</td>\n",
       "      <td>1524</td>\n",
       "      <td>1581</td>\n",
       "      <td>1500</td>\n",
       "      <td>NaN</td>\n",
       "    </tr>\n",
       "    <tr>\n",
       "      <th>2</th>\n",
       "      <td>Black or African American</td>\n",
       "      <td>592</td>\n",
       "      <td>595</td>\n",
       "      <td>555</td>\n",
       "      <td>533</td>\n",
       "      <td>540</td>\n",
       "      <td>NaN</td>\n",
       "    </tr>\n",
       "    <tr>\n",
       "      <th>3</th>\n",
       "      <td>Hispanic, Latino, or of Spanish\\rOrigin</td>\n",
       "      <td>450</td>\n",
       "      <td>499</td>\n",
       "      <td>504</td>\n",
       "      <td>505</td>\n",
       "      <td>512</td>\n",
       "      <td>NaN</td>\n",
       "    </tr>\n",
       "    <tr>\n",
       "      <th>4</th>\n",
       "      <td>Native Hawaiian or Other Pacific\\rIslander</td>\n",
       "      <td>7</td>\n",
       "      <td>5</td>\n",
       "      <td>5</td>\n",
       "      <td>11</td>\n",
       "      <td>16</td>\n",
       "      <td>NaN</td>\n",
       "    </tr>\n",
       "  </tbody>\n",
       "</table>\n",
       "</div>"
      ],
      "text/plain": [
       "                                         race  ERAS 2014  ERAS 2015  \\\n",
       "0            American Indian or Alaska Native         30         28   \n",
       "1                                       Asian       1687       1670   \n",
       "2                   Black or African American        592        595   \n",
       "3     Hispanic, Latino, or of Spanish\\rOrigin        450        499   \n",
       "4  Native Hawaiian or Other Pacific\\rIslander          7          5   \n",
       "\n",
       "   ERAS 2016  ERAS 2017  ERAS 2018  Unnamed: 6  \n",
       "0         20         35         19         NaN  \n",
       "1       1524       1581       1500         NaN  \n",
       "2        555        533        540         NaN  \n",
       "3        504        505        512         NaN  \n",
       "4          5         11         16         NaN  "
      ]
     },
     "execution_count": 4,
     "metadata": {},
     "output_type": "execute_result"
    }
   ],
   "source": [
    "df.head()"
   ]
  },
  {
   "cell_type": "code",
   "execution_count": 5,
   "metadata": {
    "ExecuteTime": {
     "end_time": "2019-08-01T15:40:37.902081Z",
     "start_time": "2019-08-01T15:40:37.897002Z"
    }
   },
   "outputs": [],
   "source": [
    "df=df.drop(columns='Unnamed: 6')"
   ]
  },
  {
   "cell_type": "code",
   "execution_count": 6,
   "metadata": {
    "ExecuteTime": {
     "end_time": "2019-08-01T15:40:37.911353Z",
     "start_time": "2019-08-01T15:40:37.905675Z"
    }
   },
   "outputs": [],
   "source": [
    "df.race=df.race.str.replace('\\r',' ')"
   ]
  },
  {
   "cell_type": "code",
   "execution_count": 7,
   "metadata": {
    "ExecuteTime": {
     "end_time": "2019-08-01T15:40:37.919931Z",
     "start_time": "2019-08-01T15:40:37.915101Z"
    }
   },
   "outputs": [],
   "source": [
    "df.columns = df.columns.str.replace(\"ERAS\", \"\")"
   ]
  },
  {
   "cell_type": "code",
   "execution_count": 8,
   "metadata": {
    "ExecuteTime": {
     "end_time": "2019-08-01T15:40:37.932179Z",
     "start_time": "2019-08-01T15:40:37.925173Z"
    }
   },
   "outputs": [],
   "source": [
    "df.columns=df.columns.str.replace(r\"\\.1\", \"_applications_per_program\")"
   ]
  },
  {
   "cell_type": "code",
   "execution_count": 9,
   "metadata": {
    "ExecuteTime": {
     "end_time": "2019-08-01T15:40:37.946144Z",
     "start_time": "2019-08-01T15:40:37.940474Z"
    }
   },
   "outputs": [],
   "source": [
    "df.columns=df.columns.str.replace(\" \",'')"
   ]
  },
  {
   "cell_type": "code",
   "execution_count": 10,
   "metadata": {
    "ExecuteTime": {
     "end_time": "2019-08-01T15:40:37.955236Z",
     "start_time": "2019-08-01T15:40:37.949234Z"
    }
   },
   "outputs": [],
   "source": [
    "df.race=df.race.str.replace(' or ','/')\n"
   ]
  },
  {
   "cell_type": "code",
   "execution_count": 11,
   "metadata": {
    "ExecuteTime": {
     "end_time": "2019-08-01T15:40:37.966972Z",
     "start_time": "2019-08-01T15:40:37.960341Z"
    }
   },
   "outputs": [],
   "source": [
    "df.race=df.race.str.replace(',','_')"
   ]
  },
  {
   "cell_type": "code",
   "execution_count": 12,
   "metadata": {
    "ExecuteTime": {
     "end_time": "2019-08-01T15:40:37.978763Z",
     "start_time": "2019-08-01T15:40:37.970293Z"
    }
   },
   "outputs": [
    {
     "data": {
      "text/plain": [
       "0             American Indian/Alaska Native\n",
       "1                                     Asian\n",
       "2                    Black/African American\n",
       "3       Hispanic_ Latino_/of Spanish Origin\n",
       "4    Native Hawaiian/Other Pacific Islander\n",
       "5                                     White\n",
       "6                      Other Race/Ethnicity\n",
       "7                    Unknown Race/Ethnicity\n",
       "Name: race, dtype: object"
      ]
     },
     "execution_count": 12,
     "metadata": {},
     "output_type": "execute_result"
    }
   ],
   "source": [
    "df.race"
   ]
  },
  {
   "cell_type": "code",
   "execution_count": 13,
   "metadata": {
    "ExecuteTime": {
     "end_time": "2019-08-01T15:40:38.001058Z",
     "start_time": "2019-08-01T15:40:37.984990Z"
    }
   },
   "outputs": [],
   "source": [
    "df[df.columns[1:]]=df[df.columns[1:]].apply(pd.to_numeric)"
   ]
  },
  {
   "cell_type": "code",
   "execution_count": 14,
   "metadata": {
    "ExecuteTime": {
     "end_time": "2019-08-01T15:40:38.017977Z",
     "start_time": "2019-08-01T15:40:38.004387Z"
    }
   },
   "outputs": [],
   "source": [
    "#make a total row\n",
    "df.loc['Total',:]= df.sum(axis=0)"
   ]
  },
  {
   "cell_type": "code",
   "execution_count": 15,
   "metadata": {
    "ExecuteTime": {
     "end_time": "2019-08-01T15:40:38.033517Z",
     "start_time": "2019-08-01T15:40:38.022145Z"
    }
   },
   "outputs": [],
   "source": [
    "df['pct_14']=df['2014']/(df['2014']['Total'])*100"
   ]
  },
  {
   "cell_type": "code",
   "execution_count": 16,
   "metadata": {
    "ExecuteTime": {
     "end_time": "2019-08-01T15:40:38.054473Z",
     "start_time": "2019-08-01T15:40:38.036532Z"
    }
   },
   "outputs": [],
   "source": [
    "df['pct_15']=df['2015']/(df['2015']['Total'])*100\n",
    "df['pct_16']=df['2016']/(df['2016']['Total'])*100\n",
    "df['pct_17']=df['2017']/(df['2017']['Total'])*100\n",
    "df['pct_18']=df['2018']/(df['2018']['Total'])*100"
   ]
  },
  {
   "cell_type": "code",
   "execution_count": 17,
   "metadata": {
    "ExecuteTime": {
     "end_time": "2019-08-01T15:40:38.131629Z",
     "start_time": "2019-08-01T15:40:38.060456Z"
    }
   },
   "outputs": [
    {
     "name": "stderr",
     "output_type": "stream",
     "text": [
      "/Users/lilyliu-krason/.pyenv/versions/3.7.1/lib/python3.7/site-packages/ipykernel_launcher.py:1: SettingWithCopyWarning: \n",
      "A value is trying to be set on a copy of a slice from a DataFrame\n",
      "\n",
      "See the caveats in the documentation: http://pandas.pydata.org/pandas-docs/stable/indexing.html#indexing-view-versus-copy\n",
      "  \"\"\"Entry point for launching an IPython kernel.\n"
     ]
    }
   ],
   "source": [
    "df['race']['Total']='Total'"
   ]
  },
  {
   "cell_type": "markdown",
   "metadata": {},
   "source": [
    "# Dataframe Views"
   ]
  },
  {
   "cell_type": "code",
   "execution_count": 18,
   "metadata": {
    "ExecuteTime": {
     "end_time": "2019-08-01T15:40:38.165147Z",
     "start_time": "2019-08-01T15:40:38.134374Z"
    }
   },
   "outputs": [
    {
     "data": {
      "text/html": [
       "<div>\n",
       "<style scoped>\n",
       "    .dataframe tbody tr th:only-of-type {\n",
       "        vertical-align: middle;\n",
       "    }\n",
       "\n",
       "    .dataframe tbody tr th {\n",
       "        vertical-align: top;\n",
       "    }\n",
       "\n",
       "    .dataframe thead th {\n",
       "        text-align: right;\n",
       "    }\n",
       "</style>\n",
       "<table border=\"1\" class=\"dataframe\">\n",
       "  <thead>\n",
       "    <tr style=\"text-align: right;\">\n",
       "      <th></th>\n",
       "      <th>race</th>\n",
       "      <th>2014</th>\n",
       "      <th>2015</th>\n",
       "      <th>2016</th>\n",
       "      <th>2017</th>\n",
       "      <th>2018</th>\n",
       "      <th>pct_14</th>\n",
       "      <th>pct_15</th>\n",
       "      <th>pct_16</th>\n",
       "      <th>pct_17</th>\n",
       "      <th>pct_18</th>\n",
       "    </tr>\n",
       "  </thead>\n",
       "  <tbody>\n",
       "    <tr>\n",
       "      <th>0</th>\n",
       "      <td>American Indian/Alaska Native</td>\n",
       "      <td>30.0</td>\n",
       "      <td>28.0</td>\n",
       "      <td>20.0</td>\n",
       "      <td>35.0</td>\n",
       "      <td>19.0</td>\n",
       "      <td>0.506158</td>\n",
       "      <td>0.465580</td>\n",
       "      <td>0.349528</td>\n",
       "      <td>0.600137</td>\n",
       "      <td>0.339225</td>\n",
       "    </tr>\n",
       "    <tr>\n",
       "      <th>1</th>\n",
       "      <td>Asian</td>\n",
       "      <td>1687.0</td>\n",
       "      <td>1670.0</td>\n",
       "      <td>1524.0</td>\n",
       "      <td>1581.0</td>\n",
       "      <td>1500.0</td>\n",
       "      <td>28.462966</td>\n",
       "      <td>27.768540</td>\n",
       "      <td>26.634044</td>\n",
       "      <td>27.109053</td>\n",
       "      <td>26.780932</td>\n",
       "    </tr>\n",
       "    <tr>\n",
       "      <th>2</th>\n",
       "      <td>Black/African American</td>\n",
       "      <td>592.0</td>\n",
       "      <td>595.0</td>\n",
       "      <td>555.0</td>\n",
       "      <td>533.0</td>\n",
       "      <td>540.0</td>\n",
       "      <td>9.988190</td>\n",
       "      <td>9.893582</td>\n",
       "      <td>9.699406</td>\n",
       "      <td>9.139232</td>\n",
       "      <td>9.641136</td>\n",
       "    </tr>\n",
       "    <tr>\n",
       "      <th>3</th>\n",
       "      <td>Hispanic_ Latino_/of Spanish Origin</td>\n",
       "      <td>450.0</td>\n",
       "      <td>499.0</td>\n",
       "      <td>504.0</td>\n",
       "      <td>505.0</td>\n",
       "      <td>512.0</td>\n",
       "      <td>7.592374</td>\n",
       "      <td>8.297306</td>\n",
       "      <td>8.808109</td>\n",
       "      <td>8.659122</td>\n",
       "      <td>9.141225</td>\n",
       "    </tr>\n",
       "    <tr>\n",
       "      <th>4</th>\n",
       "      <td>Native Hawaiian/Other Pacific Islander</td>\n",
       "      <td>7.0</td>\n",
       "      <td>5.0</td>\n",
       "      <td>5.0</td>\n",
       "      <td>11.0</td>\n",
       "      <td>16.0</td>\n",
       "      <td>0.118104</td>\n",
       "      <td>0.083139</td>\n",
       "      <td>0.087382</td>\n",
       "      <td>0.188615</td>\n",
       "      <td>0.285663</td>\n",
       "    </tr>\n",
       "    <tr>\n",
       "      <th>5</th>\n",
       "      <td>White</td>\n",
       "      <td>2536.0</td>\n",
       "      <td>2704.0</td>\n",
       "      <td>2539.0</td>\n",
       "      <td>2625.0</td>\n",
       "      <td>2479.0</td>\n",
       "      <td>42.787245</td>\n",
       "      <td>44.961756</td>\n",
       "      <td>44.372597</td>\n",
       "      <td>45.010288</td>\n",
       "      <td>44.259954</td>\n",
       "    </tr>\n",
       "    <tr>\n",
       "      <th>6</th>\n",
       "      <td>Other Race/Ethnicity</td>\n",
       "      <td>234.0</td>\n",
       "      <td>238.0</td>\n",
       "      <td>191.0</td>\n",
       "      <td>201.0</td>\n",
       "      <td>199.0</td>\n",
       "      <td>3.948034</td>\n",
       "      <td>3.957433</td>\n",
       "      <td>3.337994</td>\n",
       "      <td>3.446502</td>\n",
       "      <td>3.552937</td>\n",
       "    </tr>\n",
       "    <tr>\n",
       "      <th>7</th>\n",
       "      <td>Unknown Race/Ethnicity</td>\n",
       "      <td>391.0</td>\n",
       "      <td>275.0</td>\n",
       "      <td>384.0</td>\n",
       "      <td>341.0</td>\n",
       "      <td>336.0</td>\n",
       "      <td>6.596929</td>\n",
       "      <td>4.572664</td>\n",
       "      <td>6.710940</td>\n",
       "      <td>5.847051</td>\n",
       "      <td>5.998929</td>\n",
       "    </tr>\n",
       "    <tr>\n",
       "      <th>Total</th>\n",
       "      <td>Total</td>\n",
       "      <td>5927.0</td>\n",
       "      <td>6014.0</td>\n",
       "      <td>5722.0</td>\n",
       "      <td>5832.0</td>\n",
       "      <td>5601.0</td>\n",
       "      <td>100.000000</td>\n",
       "      <td>100.000000</td>\n",
       "      <td>100.000000</td>\n",
       "      <td>100.000000</td>\n",
       "      <td>100.000000</td>\n",
       "    </tr>\n",
       "  </tbody>\n",
       "</table>\n",
       "</div>"
      ],
      "text/plain": [
       "                                         race    2014    2015    2016    2017  \\\n",
       "0               American Indian/Alaska Native    30.0    28.0    20.0    35.0   \n",
       "1                                       Asian  1687.0  1670.0  1524.0  1581.0   \n",
       "2                      Black/African American   592.0   595.0   555.0   533.0   \n",
       "3         Hispanic_ Latino_/of Spanish Origin   450.0   499.0   504.0   505.0   \n",
       "4      Native Hawaiian/Other Pacific Islander     7.0     5.0     5.0    11.0   \n",
       "5                                       White  2536.0  2704.0  2539.0  2625.0   \n",
       "6                        Other Race/Ethnicity   234.0   238.0   191.0   201.0   \n",
       "7                      Unknown Race/Ethnicity   391.0   275.0   384.0   341.0   \n",
       "Total                                   Total  5927.0  6014.0  5722.0  5832.0   \n",
       "\n",
       "         2018      pct_14      pct_15      pct_16      pct_17      pct_18  \n",
       "0        19.0    0.506158    0.465580    0.349528    0.600137    0.339225  \n",
       "1      1500.0   28.462966   27.768540   26.634044   27.109053   26.780932  \n",
       "2       540.0    9.988190    9.893582    9.699406    9.139232    9.641136  \n",
       "3       512.0    7.592374    8.297306    8.808109    8.659122    9.141225  \n",
       "4        16.0    0.118104    0.083139    0.087382    0.188615    0.285663  \n",
       "5      2479.0   42.787245   44.961756   44.372597   45.010288   44.259954  \n",
       "6       199.0    3.948034    3.957433    3.337994    3.446502    3.552937  \n",
       "7       336.0    6.596929    4.572664    6.710940    5.847051    5.998929  \n",
       "Total  5601.0  100.000000  100.000000  100.000000  100.000000  100.000000  "
      ]
     },
     "execution_count": 18,
     "metadata": {},
     "output_type": "execute_result"
    }
   ],
   "source": [
    "#this is the dataframe I have: \n",
    "df"
   ]
  },
  {
   "cell_type": "code",
   "execution_count": 19,
   "metadata": {
    "ExecuteTime": {
     "end_time": "2019-08-01T15:40:38.193571Z",
     "start_time": "2019-08-01T15:40:38.169169Z"
    }
   },
   "outputs": [
    {
     "data": {
      "text/html": [
       "<div>\n",
       "<style scoped>\n",
       "    .dataframe tbody tr th:only-of-type {\n",
       "        vertical-align: middle;\n",
       "    }\n",
       "\n",
       "    .dataframe tbody tr th {\n",
       "        vertical-align: top;\n",
       "    }\n",
       "\n",
       "    .dataframe thead th {\n",
       "        text-align: right;\n",
       "    }\n",
       "</style>\n",
       "<table border=\"1\" class=\"dataframe\">\n",
       "  <thead>\n",
       "    <tr style=\"text-align: right;\">\n",
       "      <th></th>\n",
       "      <th>race</th>\n",
       "      <th>pct_14</th>\n",
       "      <th>pct_15</th>\n",
       "      <th>pct_16</th>\n",
       "      <th>pct_17</th>\n",
       "      <th>pct_18</th>\n",
       "    </tr>\n",
       "  </thead>\n",
       "  <tbody>\n",
       "    <tr>\n",
       "      <th>0</th>\n",
       "      <td>American Indian/Alaska Native</td>\n",
       "      <td>0.506158</td>\n",
       "      <td>0.465580</td>\n",
       "      <td>0.349528</td>\n",
       "      <td>0.600137</td>\n",
       "      <td>0.339225</td>\n",
       "    </tr>\n",
       "    <tr>\n",
       "      <th>1</th>\n",
       "      <td>Asian</td>\n",
       "      <td>28.462966</td>\n",
       "      <td>27.768540</td>\n",
       "      <td>26.634044</td>\n",
       "      <td>27.109053</td>\n",
       "      <td>26.780932</td>\n",
       "    </tr>\n",
       "    <tr>\n",
       "      <th>2</th>\n",
       "      <td>Black/African American</td>\n",
       "      <td>9.988190</td>\n",
       "      <td>9.893582</td>\n",
       "      <td>9.699406</td>\n",
       "      <td>9.139232</td>\n",
       "      <td>9.641136</td>\n",
       "    </tr>\n",
       "    <tr>\n",
       "      <th>3</th>\n",
       "      <td>Hispanic_ Latino_/of Spanish Origin</td>\n",
       "      <td>7.592374</td>\n",
       "      <td>8.297306</td>\n",
       "      <td>8.808109</td>\n",
       "      <td>8.659122</td>\n",
       "      <td>9.141225</td>\n",
       "    </tr>\n",
       "    <tr>\n",
       "      <th>4</th>\n",
       "      <td>Native Hawaiian/Other Pacific Islander</td>\n",
       "      <td>0.118104</td>\n",
       "      <td>0.083139</td>\n",
       "      <td>0.087382</td>\n",
       "      <td>0.188615</td>\n",
       "      <td>0.285663</td>\n",
       "    </tr>\n",
       "    <tr>\n",
       "      <th>5</th>\n",
       "      <td>White</td>\n",
       "      <td>42.787245</td>\n",
       "      <td>44.961756</td>\n",
       "      <td>44.372597</td>\n",
       "      <td>45.010288</td>\n",
       "      <td>44.259954</td>\n",
       "    </tr>\n",
       "    <tr>\n",
       "      <th>6</th>\n",
       "      <td>Other Race/Ethnicity</td>\n",
       "      <td>3.948034</td>\n",
       "      <td>3.957433</td>\n",
       "      <td>3.337994</td>\n",
       "      <td>3.446502</td>\n",
       "      <td>3.552937</td>\n",
       "    </tr>\n",
       "    <tr>\n",
       "      <th>7</th>\n",
       "      <td>Unknown Race/Ethnicity</td>\n",
       "      <td>6.596929</td>\n",
       "      <td>4.572664</td>\n",
       "      <td>6.710940</td>\n",
       "      <td>5.847051</td>\n",
       "      <td>5.998929</td>\n",
       "    </tr>\n",
       "  </tbody>\n",
       "</table>\n",
       "</div>"
      ],
      "text/plain": [
       "                                     race     pct_14     pct_15     pct_16  \\\n",
       "0           American Indian/Alaska Native   0.506158   0.465580   0.349528   \n",
       "1                                   Asian  28.462966  27.768540  26.634044   \n",
       "2                  Black/African American   9.988190   9.893582   9.699406   \n",
       "3     Hispanic_ Latino_/of Spanish Origin   7.592374   8.297306   8.808109   \n",
       "4  Native Hawaiian/Other Pacific Islander   0.118104   0.083139   0.087382   \n",
       "5                                   White  42.787245  44.961756  44.372597   \n",
       "6                    Other Race/Ethnicity   3.948034   3.957433   3.337994   \n",
       "7                  Unknown Race/Ethnicity   6.596929   4.572664   6.710940   \n",
       "\n",
       "      pct_17     pct_18  \n",
       "0   0.600137   0.339225  \n",
       "1  27.109053  26.780932  \n",
       "2   9.139232   9.641136  \n",
       "3   8.659122   9.141225  \n",
       "4   0.188615   0.285663  \n",
       "5  45.010288  44.259954  \n",
       "6   3.446502   3.552937  \n",
       "7   5.847051   5.998929  "
      ]
     },
     "execution_count": 19,
     "metadata": {},
     "output_type": "execute_result"
    }
   ],
   "source": [
    "df[['race','pct_14','pct_15','pct_16','pct_17','pct_18']][:-1]"
   ]
  },
  {
   "cell_type": "code",
   "execution_count": 20,
   "metadata": {
    "ExecuteTime": {
     "end_time": "2019-08-01T15:40:38.201106Z",
     "start_time": "2019-08-01T15:40:38.197638Z"
    }
   },
   "outputs": [],
   "source": [
    "# sns.set(font_scale=3) \n",
    "# df_race.iloc[0,:].values"
   ]
  },
  {
   "cell_type": "code",
   "execution_count": 21,
   "metadata": {
    "ExecuteTime": {
     "end_time": "2019-08-01T15:40:38.280190Z",
     "start_time": "2019-08-01T15:40:38.205490Z"
    }
   },
   "outputs": [],
   "source": [
    "#Creating second view\n",
    "df_race = df[['race','pct_14','pct_15','pct_16','pct_17','pct_18']][:-1].T\n",
    "df_race.columns=df_race.iloc[0,:].values\n",
    "df_race=df_race.iloc[1:,:]\n",
    "for c in list(df_race.columns):\n",
    "    df_race[c]=df_race[c].astype(float)\n",
    "df_race.index=range(2014, 2019, 1)\n",
    "#adding a year column from the index\n",
    "df_race['year'] = df_race.index\n",
    "df_race['year']= df_race['year'].astype(int)"
   ]
  },
  {
   "cell_type": "code",
   "execution_count": 22,
   "metadata": {
    "ExecuteTime": {
     "end_time": "2019-08-01T15:40:38.361365Z",
     "start_time": "2019-08-01T15:40:38.283439Z"
    }
   },
   "outputs": [],
   "source": [
    "df_number= df[['race','2014','2015','2016','2017','2018']][:-1].T\n",
    "df_number.columns=df_number.iloc[0,:].values\n",
    "df_number=df_number.iloc[1:,:]\n",
    "for c in list(df_number.columns):\n",
    "    df_number[c]=df_number[c].astype(float)\n",
    "df_number['year'] = df_number.index\n",
    "df_number['year']= df_number['year'].astype(int)"
   ]
  },
  {
   "cell_type": "code",
   "execution_count": 23,
   "metadata": {
    "ExecuteTime": {
     "end_time": "2019-08-01T15:40:38.396810Z",
     "start_time": "2019-08-01T15:40:38.370596Z"
    }
   },
   "outputs": [
    {
     "data": {
      "text/html": [
       "<div>\n",
       "<style scoped>\n",
       "    .dataframe tbody tr th:only-of-type {\n",
       "        vertical-align: middle;\n",
       "    }\n",
       "\n",
       "    .dataframe tbody tr th {\n",
       "        vertical-align: top;\n",
       "    }\n",
       "\n",
       "    .dataframe thead th {\n",
       "        text-align: right;\n",
       "    }\n",
       "</style>\n",
       "<table border=\"1\" class=\"dataframe\">\n",
       "  <thead>\n",
       "    <tr style=\"text-align: right;\">\n",
       "      <th></th>\n",
       "      <th>American Indian/Alaska Native</th>\n",
       "      <th>Asian</th>\n",
       "      <th>Black/African American</th>\n",
       "      <th>Hispanic_ Latino_/of Spanish Origin</th>\n",
       "      <th>Native Hawaiian/Other Pacific Islander</th>\n",
       "      <th>White</th>\n",
       "      <th>Other Race/Ethnicity</th>\n",
       "      <th>Unknown Race/Ethnicity</th>\n",
       "      <th>year</th>\n",
       "    </tr>\n",
       "  </thead>\n",
       "  <tbody>\n",
       "    <tr>\n",
       "      <th>2014</th>\n",
       "      <td>30.0</td>\n",
       "      <td>1687.0</td>\n",
       "      <td>592.0</td>\n",
       "      <td>450.0</td>\n",
       "      <td>7.0</td>\n",
       "      <td>2536.0</td>\n",
       "      <td>234.0</td>\n",
       "      <td>391.0</td>\n",
       "      <td>2014</td>\n",
       "    </tr>\n",
       "    <tr>\n",
       "      <th>2015</th>\n",
       "      <td>28.0</td>\n",
       "      <td>1670.0</td>\n",
       "      <td>595.0</td>\n",
       "      <td>499.0</td>\n",
       "      <td>5.0</td>\n",
       "      <td>2704.0</td>\n",
       "      <td>238.0</td>\n",
       "      <td>275.0</td>\n",
       "      <td>2015</td>\n",
       "    </tr>\n",
       "    <tr>\n",
       "      <th>2016</th>\n",
       "      <td>20.0</td>\n",
       "      <td>1524.0</td>\n",
       "      <td>555.0</td>\n",
       "      <td>504.0</td>\n",
       "      <td>5.0</td>\n",
       "      <td>2539.0</td>\n",
       "      <td>191.0</td>\n",
       "      <td>384.0</td>\n",
       "      <td>2016</td>\n",
       "    </tr>\n",
       "    <tr>\n",
       "      <th>2017</th>\n",
       "      <td>35.0</td>\n",
       "      <td>1581.0</td>\n",
       "      <td>533.0</td>\n",
       "      <td>505.0</td>\n",
       "      <td>11.0</td>\n",
       "      <td>2625.0</td>\n",
       "      <td>201.0</td>\n",
       "      <td>341.0</td>\n",
       "      <td>2017</td>\n",
       "    </tr>\n",
       "    <tr>\n",
       "      <th>2018</th>\n",
       "      <td>19.0</td>\n",
       "      <td>1500.0</td>\n",
       "      <td>540.0</td>\n",
       "      <td>512.0</td>\n",
       "      <td>16.0</td>\n",
       "      <td>2479.0</td>\n",
       "      <td>199.0</td>\n",
       "      <td>336.0</td>\n",
       "      <td>2018</td>\n",
       "    </tr>\n",
       "  </tbody>\n",
       "</table>\n",
       "</div>"
      ],
      "text/plain": [
       "      American Indian/Alaska Native   Asian  Black/African American  \\\n",
       "2014                           30.0  1687.0                   592.0   \n",
       "2015                           28.0  1670.0                   595.0   \n",
       "2016                           20.0  1524.0                   555.0   \n",
       "2017                           35.0  1581.0                   533.0   \n",
       "2018                           19.0  1500.0                   540.0   \n",
       "\n",
       "      Hispanic_ Latino_/of Spanish Origin  \\\n",
       "2014                                450.0   \n",
       "2015                                499.0   \n",
       "2016                                504.0   \n",
       "2017                                505.0   \n",
       "2018                                512.0   \n",
       "\n",
       "      Native Hawaiian/Other Pacific Islander   White  Other Race/Ethnicity  \\\n",
       "2014                                     7.0  2536.0                 234.0   \n",
       "2015                                     5.0  2704.0                 238.0   \n",
       "2016                                     5.0  2539.0                 191.0   \n",
       "2017                                    11.0  2625.0                 201.0   \n",
       "2018                                    16.0  2479.0                 199.0   \n",
       "\n",
       "      Unknown Race/Ethnicity  year  \n",
       "2014                   391.0  2014  \n",
       "2015                   275.0  2015  \n",
       "2016                   384.0  2016  \n",
       "2017                   341.0  2017  \n",
       "2018                   336.0  2018  "
      ]
     },
     "execution_count": 23,
     "metadata": {},
     "output_type": "execute_result"
    }
   ],
   "source": [
    "df_number"
   ]
  },
  {
   "cell_type": "code",
   "execution_count": 24,
   "metadata": {
    "ExecuteTime": {
     "end_time": "2019-08-01T15:40:38.416492Z",
     "start_time": "2019-08-01T15:40:38.402530Z"
    }
   },
   "outputs": [],
   "source": [
    "#putting dataframe into a csv so that we can combine with graduates later\n",
    "df_race.to_csv('pediatrics_residency_pct.csv',index=False)\n",
    "df_number.to_csv('pediatrics_residency_number.csv',index=False)"
   ]
  },
  {
   "cell_type": "code",
   "execution_count": 25,
   "metadata": {
    "ExecuteTime": {
     "end_time": "2019-08-01T15:40:38.427925Z",
     "start_time": "2019-08-01T15:40:38.420703Z"
    }
   },
   "outputs": [],
   "source": [
    "sns.set(font_scale=1) "
   ]
  },
  {
   "cell_type": "code",
   "execution_count": 26,
   "metadata": {
    "ExecuteTime": {
     "end_time": "2019-08-01T15:40:42.114480Z",
     "start_time": "2019-08-01T15:40:38.432495Z"
    }
   },
   "outputs": [
    {
     "name": "stderr",
     "output_type": "stream",
     "text": [
      "/Users/lilyliu-krason/.pyenv/versions/3.7.1/lib/python3.7/site-packages/ipykernel_launcher.py:4: RuntimeWarning: Second argument 'White' is ambiguous: could be a color spec but is in data; using as data.  Either rename the entry in data or use three arguments to plot.\n",
      "  after removing the cwd from sys.path.\n"
     ]
    },
    {
     "data": {
      "image/png": "[encoded data removed]",
      "text/plain": [
       "<Figure size 1440x360 with 1 Axes>"
      ]
     },
     "metadata": {},
     "output_type": "display_data"
    },
    {
     "data": {
      "image/png": "[encoded data removed]",
      "text/plain": [
       "<Figure size 1440x360 with 1 Axes>"
      ]
     },
     "metadata": {},
     "output_type": "display_data"
    },
    {
     "data": {
      "image/png": "[encoded data removed]",
      "text/plain": [
       "<Figure size 1440x360 with 1 Axes>"
      ]
     },
     "metadata": {},
     "output_type": "display_data"
    },
    {
     "data": {
      "image/png": "[encoded data removed]",
      "text/plain": [
       "<Figure size 1440x360 with 1 Axes>"
      ]
     },
     "metadata": {},
     "output_type": "display_data"
    },
    {
     "data": {
      "image/png": "[encoded data removed]",
      "text/plain": [
       "<Figure size 1440x360 with 1 Axes>"
      ]
     },
     "metadata": {},
     "output_type": "display_data"
    },
    {
     "data": {
      "image/png": "[encoded data removed]",
      "text/plain": [
       "<Figure size 1440x360 with 1 Axes>"
      ]
     },
     "metadata": {},
     "output_type": "display_data"
    },
    {
     "data": {
      "image/png": "[encoded data removed]",
      "text/plain": [
       "<Figure size 1440x360 with 1 Axes>"
      ]
     },
     "metadata": {},
     "output_type": "display_data"
    },
    {
     "data": {
      "image/png": "[encoded data removed]",
      "text/plain": [
       "<Figure size 1440x360 with 1 Axes>"
      ]
     },
     "metadata": {},
     "output_type": "display_data"
    }
   ],
   "source": [
    "rcParams['figure.figsize'] = 20, 5\n",
    "for c in df_race.columns[:-1]:\n",
    "    plt.figure()\n",
    "    plt.plot('year', c, data=df_race,marker='o')\n",
    "    plt.xticks(df_race['year'].values)\n",
    "    plt.yticks(range(0,42,5))\n",
    "    plt.title(c)"
   ]
  },
  {
   "cell_type": "code",
   "execution_count": 27,
   "metadata": {
    "ExecuteTime": {
     "end_time": "2019-08-01T15:40:42.795029Z",
     "start_time": "2019-08-01T15:40:42.117870Z"
    }
   },
   "outputs": [
    {
     "name": "stderr",
     "output_type": "stream",
     "text": [
      "/Users/lilyliu-krason/.pyenv/versions/3.7.1/lib/python3.7/site-packages/ipykernel_launcher.py:2: RuntimeWarning: Second argument 'White' is ambiguous: could be a color spec but is in data; using as data.  Either rename the entry in data or use three arguments to plot.\n",
      "  \n"
     ]
    },
    {
     "data": {
      "image/png": "[encoded data removed]",
      "text/plain": [
       "<Figure size 1440x360 with 1 Axes>"
      ]
     },
     "metadata": {},
     "output_type": "display_data"
    }
   ],
   "source": [
    "for c in df_race.columns[:-1]:  \n",
    "    plt.plot('year', c, data=df_race,marker='o')\n",
    "    plt.legend(loc='upper right', bbox_to_anchor=(0.5, 0.3, 0.5, 0.5))\n",
    "    plt.xticks(df_race['year'].values)\n",
    "    plt.title('Percentage of Residency Applications by Year and Race')\n",
    "#save to pdf out of loop"
   ]
  },
  {
   "cell_type": "code",
   "execution_count": 28,
   "metadata": {
    "ExecuteTime": {
     "end_time": "2019-08-01T15:40:43.635315Z",
     "start_time": "2019-08-01T15:40:42.797776Z"
    }
   },
   "outputs": [
    {
     "data": {
      "text/plain": [
       "<matplotlib.axes._subplots.AxesSubplot at 0x11cb03828>"
      ]
     },
     "execution_count": 28,
     "metadata": {},
     "output_type": "execute_result"
    },
    {
     "data": {
      "image/png": "[encoded data removed]",
      "text/plain": [
       "<Figure size 1440x360 with 1 Axes>"
      ]
     },
     "metadata": {},
     "output_type": "display_data"
    }
   ],
   "source": [
    "df[['race','pct_14','pct_15','pct_16','pct_17','pct_18']][:-1].plot(kind='barh',x='race')"
   ]
  },
  {
   "cell_type": "code",
   "execution_count": 29,
   "metadata": {
    "ExecuteTime": {
     "end_time": "2019-08-01T15:40:43.648579Z",
     "start_time": "2019-08-01T15:40:43.638922Z"
    }
   },
   "outputs": [],
   "source": [
    "df_num=df[['race','2014','2015','2016','2017','2018']]\n",
    "df_num.to_csv('pediatrics_num.csv',index=False)"
   ]
  },
  {
   "cell_type": "code",
   "execution_count": 30,
   "metadata": {
    "ExecuteTime": {
     "end_time": "2019-08-01T15:40:43.700593Z",
     "start_time": "2019-08-01T15:40:43.654443Z"
    }
   },
   "outputs": [
    {
     "data": {
      "text/html": [
       "<div>\n",
       "<style scoped>\n",
       "    .dataframe tbody tr th:only-of-type {\n",
       "        vertical-align: middle;\n",
       "    }\n",
       "\n",
       "    .dataframe tbody tr th {\n",
       "        vertical-align: top;\n",
       "    }\n",
       "\n",
       "    .dataframe thead th {\n",
       "        text-align: right;\n",
       "    }\n",
       "</style>\n",
       "<table border=\"1\" class=\"dataframe\">\n",
       "  <thead>\n",
       "    <tr style=\"text-align: right;\">\n",
       "      <th></th>\n",
       "      <th>race</th>\n",
       "      <th>2014</th>\n",
       "      <th>2015</th>\n",
       "      <th>2016</th>\n",
       "      <th>2017</th>\n",
       "      <th>2018</th>\n",
       "    </tr>\n",
       "  </thead>\n",
       "  <tbody>\n",
       "    <tr>\n",
       "      <th>0</th>\n",
       "      <td>American Indian/Alaska Native</td>\n",
       "      <td>30.0</td>\n",
       "      <td>28.0</td>\n",
       "      <td>20.0</td>\n",
       "      <td>35.0</td>\n",
       "      <td>19.0</td>\n",
       "    </tr>\n",
       "    <tr>\n",
       "      <th>1</th>\n",
       "      <td>Asian</td>\n",
       "      <td>1687.0</td>\n",
       "      <td>1670.0</td>\n",
       "      <td>1524.0</td>\n",
       "      <td>1581.0</td>\n",
       "      <td>1500.0</td>\n",
       "    </tr>\n",
       "    <tr>\n",
       "      <th>2</th>\n",
       "      <td>Black/African American</td>\n",
       "      <td>592.0</td>\n",
       "      <td>595.0</td>\n",
       "      <td>555.0</td>\n",
       "      <td>533.0</td>\n",
       "      <td>540.0</td>\n",
       "    </tr>\n",
       "    <tr>\n",
       "      <th>3</th>\n",
       "      <td>Hispanic_ Latino_/of Spanish Origin</td>\n",
       "      <td>450.0</td>\n",
       "      <td>499.0</td>\n",
       "      <td>504.0</td>\n",
       "      <td>505.0</td>\n",
       "      <td>512.0</td>\n",
       "    </tr>\n",
       "    <tr>\n",
       "      <th>4</th>\n",
       "      <td>Native Hawaiian/Other Pacific Islander</td>\n",
       "      <td>7.0</td>\n",
       "      <td>5.0</td>\n",
       "      <td>5.0</td>\n",
       "      <td>11.0</td>\n",
       "      <td>16.0</td>\n",
       "    </tr>\n",
       "    <tr>\n",
       "      <th>5</th>\n",
       "      <td>White</td>\n",
       "      <td>2536.0</td>\n",
       "      <td>2704.0</td>\n",
       "      <td>2539.0</td>\n",
       "      <td>2625.0</td>\n",
       "      <td>2479.0</td>\n",
       "    </tr>\n",
       "    <tr>\n",
       "      <th>6</th>\n",
       "      <td>Other Race/Ethnicity</td>\n",
       "      <td>234.0</td>\n",
       "      <td>238.0</td>\n",
       "      <td>191.0</td>\n",
       "      <td>201.0</td>\n",
       "      <td>199.0</td>\n",
       "    </tr>\n",
       "    <tr>\n",
       "      <th>7</th>\n",
       "      <td>Unknown Race/Ethnicity</td>\n",
       "      <td>391.0</td>\n",
       "      <td>275.0</td>\n",
       "      <td>384.0</td>\n",
       "      <td>341.0</td>\n",
       "      <td>336.0</td>\n",
       "    </tr>\n",
       "    <tr>\n",
       "      <th>Total</th>\n",
       "      <td>Total</td>\n",
       "      <td>5927.0</td>\n",
       "      <td>6014.0</td>\n",
       "      <td>5722.0</td>\n",
       "      <td>5832.0</td>\n",
       "      <td>5601.0</td>\n",
       "    </tr>\n",
       "  </tbody>\n",
       "</table>\n",
       "</div>"
      ],
      "text/plain": [
       "                                         race    2014    2015    2016    2017  \\\n",
       "0               American Indian/Alaska Native    30.0    28.0    20.0    35.0   \n",
       "1                                       Asian  1687.0  1670.0  1524.0  1581.0   \n",
       "2                      Black/African American   592.0   595.0   555.0   533.0   \n",
       "3         Hispanic_ Latino_/of Spanish Origin   450.0   499.0   504.0   505.0   \n",
       "4      Native Hawaiian/Other Pacific Islander     7.0     5.0     5.0    11.0   \n",
       "5                                       White  2536.0  2704.0  2539.0  2625.0   \n",
       "6                        Other Race/Ethnicity   234.0   238.0   191.0   201.0   \n",
       "7                      Unknown Race/Ethnicity   391.0   275.0   384.0   341.0   \n",
       "Total                                   Total  5927.0  6014.0  5722.0  5832.0   \n",
       "\n",
       "         2018  \n",
       "0        19.0  \n",
       "1      1500.0  \n",
       "2       540.0  \n",
       "3       512.0  \n",
       "4        16.0  \n",
       "5      2479.0  \n",
       "6       199.0  \n",
       "7       336.0  \n",
       "Total  5601.0  "
      ]
     },
     "execution_count": 30,
     "metadata": {},
     "output_type": "execute_result"
    }
   ],
   "source": [
    "df_num"
   ]
  },
  {
   "cell_type": "code",
   "execution_count": 31,
   "metadata": {
    "ExecuteTime": {
     "end_time": "2019-08-01T15:40:43.752794Z",
     "start_time": "2019-08-01T15:40:43.709918Z"
    }
   },
   "outputs": [
    {
     "data": {
      "text/html": [
       "<div>\n",
       "<style scoped>\n",
       "    .dataframe tbody tr th:only-of-type {\n",
       "        vertical-align: middle;\n",
       "    }\n",
       "\n",
       "    .dataframe tbody tr th {\n",
       "        vertical-align: top;\n",
       "    }\n",
       "\n",
       "    .dataframe thead th {\n",
       "        text-align: right;\n",
       "    }\n",
       "</style>\n",
       "<table border=\"1\" class=\"dataframe\">\n",
       "  <thead>\n",
       "    <tr style=\"text-align: right;\">\n",
       "      <th></th>\n",
       "      <th>American Indian/Alaska Native</th>\n",
       "      <th>Asian</th>\n",
       "      <th>Black/African American</th>\n",
       "      <th>Hispanic_ Latino_/of Spanish Origin</th>\n",
       "      <th>Native Hawaiian/Other Pacific Islander</th>\n",
       "      <th>White</th>\n",
       "      <th>Other Race/Ethnicity</th>\n",
       "      <th>Unknown Race/Ethnicity</th>\n",
       "      <th>year</th>\n",
       "    </tr>\n",
       "  </thead>\n",
       "  <tbody>\n",
       "    <tr>\n",
       "      <th>2014</th>\n",
       "      <td>0.506158</td>\n",
       "      <td>28.462966</td>\n",
       "      <td>9.988190</td>\n",
       "      <td>7.592374</td>\n",
       "      <td>0.118104</td>\n",
       "      <td>42.787245</td>\n",
       "      <td>3.948034</td>\n",
       "      <td>6.596929</td>\n",
       "      <td>2014</td>\n",
       "    </tr>\n",
       "    <tr>\n",
       "      <th>2015</th>\n",
       "      <td>0.465580</td>\n",
       "      <td>27.768540</td>\n",
       "      <td>9.893582</td>\n",
       "      <td>8.297306</td>\n",
       "      <td>0.083139</td>\n",
       "      <td>44.961756</td>\n",
       "      <td>3.957433</td>\n",
       "      <td>4.572664</td>\n",
       "      <td>2015</td>\n",
       "    </tr>\n",
       "    <tr>\n",
       "      <th>2016</th>\n",
       "      <td>0.349528</td>\n",
       "      <td>26.634044</td>\n",
       "      <td>9.699406</td>\n",
       "      <td>8.808109</td>\n",
       "      <td>0.087382</td>\n",
       "      <td>44.372597</td>\n",
       "      <td>3.337994</td>\n",
       "      <td>6.710940</td>\n",
       "      <td>2016</td>\n",
       "    </tr>\n",
       "    <tr>\n",
       "      <th>2017</th>\n",
       "      <td>0.600137</td>\n",
       "      <td>27.109053</td>\n",
       "      <td>9.139232</td>\n",
       "      <td>8.659122</td>\n",
       "      <td>0.188615</td>\n",
       "      <td>45.010288</td>\n",
       "      <td>3.446502</td>\n",
       "      <td>5.847051</td>\n",
       "      <td>2017</td>\n",
       "    </tr>\n",
       "    <tr>\n",
       "      <th>2018</th>\n",
       "      <td>0.339225</td>\n",
       "      <td>26.780932</td>\n",
       "      <td>9.641136</td>\n",
       "      <td>9.141225</td>\n",
       "      <td>0.285663</td>\n",
       "      <td>44.259954</td>\n",
       "      <td>3.552937</td>\n",
       "      <td>5.998929</td>\n",
       "      <td>2018</td>\n",
       "    </tr>\n",
       "  </tbody>\n",
       "</table>\n",
       "</div>"
      ],
      "text/plain": [
       "      American Indian/Alaska Native      Asian  Black/African American  \\\n",
       "2014                       0.506158  28.462966                9.988190   \n",
       "2015                       0.465580  27.768540                9.893582   \n",
       "2016                       0.349528  26.634044                9.699406   \n",
       "2017                       0.600137  27.109053                9.139232   \n",
       "2018                       0.339225  26.780932                9.641136   \n",
       "\n",
       "      Hispanic_ Latino_/of Spanish Origin  \\\n",
       "2014                             7.592374   \n",
       "2015                             8.297306   \n",
       "2016                             8.808109   \n",
       "2017                             8.659122   \n",
       "2018                             9.141225   \n",
       "\n",
       "      Native Hawaiian/Other Pacific Islander      White  Other Race/Ethnicity  \\\n",
       "2014                                0.118104  42.787245              3.948034   \n",
       "2015                                0.083139  44.961756              3.957433   \n",
       "2016                                0.087382  44.372597              3.337994   \n",
       "2017                                0.188615  45.010288              3.446502   \n",
       "2018                                0.285663  44.259954              3.552937   \n",
       "\n",
       "      Unknown Race/Ethnicity  year  \n",
       "2014                6.596929  2014  \n",
       "2015                4.572664  2015  \n",
       "2016                6.710940  2016  \n",
       "2017                5.847051  2017  \n",
       "2018                5.998929  2018  "
      ]
     },
     "execution_count": 31,
     "metadata": {},
     "output_type": "execute_result"
    }
   ],
   "source": [
    "df_race"
   ]
  },
  {
   "cell_type": "code",
   "execution_count": null,
   "metadata": {},
   "outputs": [],
   "source": []
  }
 ],
 "metadata": {
  "kernelspec": {
   "display_name": "Python 3",
   "language": "python",
   "name": "python3"
  },
  "language_info": {
   "codemirror_mode": {
    "name": "ipython",
    "version": 3
   },
   "file_extension": ".py",
   "mimetype": "text/x-python",
   "name": "python",
   "nbconvert_exporter": "python",
   "pygments_lexer": "ipython3",
   "version": "3.7.1"
  },
  "toc": {
   "base_numbering": 1,
   "nav_menu": {},
   "number_sections": true,
   "sideBar": true,
   "skip_h1_title": false,
   "title_cell": "Table of Contents",
   "title_sidebar": "Contents",
   "toc_cell": false,
   "toc_position": {},
   "toc_section_display": true,
   "toc_window_display": false
  },
  "varInspector": {
   "cols": {
    "lenName": 16,
    "lenType": 16,
    "lenVar": 40
   },
   "kernels_config": {
    "python": {
     "delete_cmd_postfix": "",
     "delete_cmd_prefix": "del ",
     "library": "var_list.py",
     "varRefreshCmd": "print(var_dic_list())"
    },
    "r": {
     "delete_cmd_postfix": ") ",
     "delete_cmd_prefix": "rm(",
     "library": "var_list.r",
     "varRefreshCmd": "cat(var_dic_list()) "
    }
   },
   "types_to_exclude": [
    "module",
    "function",
    "builtin_function_or_method",
    "instance",
    "_Feature"
   ],
   "window_display": false
  }
 },
 "nbformat": 4,
 "nbformat_minor": 2
}
