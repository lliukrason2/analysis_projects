{
 "cells": [
  {
   "cell_type": "markdown",
   "metadata": {},
   "source": [
    "# Psychiatry Residency Applications\n",
    "Data from https://www.aamc.org/data/facts/eras/"
   ]
  },
  {
   "cell_type": "code",
   "execution_count": 67,
   "metadata": {
    "ExecuteTime": {
     "end_time": "2019-08-01T20:41:45.297927Z",
     "start_time": "2019-08-01T20:41:45.031464Z"
    }
   },
   "outputs": [],
   "source": [
    "import pandas as pd\n",
    "import requests\n",
    "import matplotlib\n",
    "import numpy as np\n",
    "import matplotlib.pyplot as plt\n",
    "import re\n",
    "from datetime import datetime, timedelta\n",
    "import time\n",
    "import seaborn as sns\n",
    "from pylab import rcParams\n",
    "sns.set(style='whitegrid',palette='husl')\n",
    "matplotlib.rcParams['pdf.fonttype'] = 42\n",
    "\n",
    "%matplotlib inline"
   ]
  },
  {
   "cell_type": "markdown",
   "metadata": {},
   "source": [
    "# Load Data, Clean, and Add Percentage Columns"
   ]
  },
  {
   "cell_type": "code",
   "execution_count": 68,
   "metadata": {
    "ExecuteTime": {
     "end_time": "2019-08-01T20:41:45.874038Z",
     "start_time": "2019-08-01T20:41:45.489123Z"
    }
   },
   "outputs": [],
   "source": [
    "df=pd.read_csv('tabula-psychiatry_residency.csv',thousands=',',encoding='latin-1')"
   ]
  },
  {
   "cell_type": "code",
   "execution_count": 69,
   "metadata": {
    "ExecuteTime": {
     "end_time": "2019-08-01T20:41:46.043036Z",
     "start_time": "2019-08-01T20:41:46.028207Z"
    }
   },
   "outputs": [],
   "source": [
    "df=df.rename(columns={'Unnamed: 0':'race'})"
   ]
  },
  {
   "cell_type": "code",
   "execution_count": 70,
   "metadata": {
    "ExecuteTime": {
     "end_time": "2019-08-01T20:41:46.227754Z",
     "start_time": "2019-08-01T20:41:46.179591Z"
    }
   },
   "outputs": [
    {
     "data": {
      "text/html": [
       "<div>\n",
       "<style scoped>\n",
       "    .dataframe tbody tr th:only-of-type {\n",
       "        vertical-align: middle;\n",
       "    }\n",
       "\n",
       "    .dataframe tbody tr th {\n",
       "        vertical-align: top;\n",
       "    }\n",
       "\n",
       "    .dataframe thead th {\n",
       "        text-align: right;\n",
       "    }\n",
       "</style>\n",
       "<table border=\"1\" class=\"dataframe\">\n",
       "  <thead>\n",
       "    <tr style=\"text-align: right;\">\n",
       "      <th></th>\n",
       "      <th>race</th>\n",
       "      <th>ERAS 2014</th>\n",
       "      <th>ERAS 2015</th>\n",
       "      <th>ERAS 2016</th>\n",
       "      <th>ERAS 2017</th>\n",
       "      <th>ERAS 2018</th>\n",
       "      <th>ERAS 2014.1</th>\n",
       "      <th>ERAS 2015.1</th>\n",
       "      <th>ERAS 2016.1</th>\n",
       "      <th>ERAS 2017.1</th>\n",
       "      <th>ERAS 2018.1</th>\n",
       "    </tr>\n",
       "  </thead>\n",
       "  <tbody>\n",
       "    <tr>\n",
       "      <th>0</th>\n",
       "      <td>American Indian or Alaska Native</td>\n",
       "      <td>22</td>\n",
       "      <td>32</td>\n",
       "      <td>28</td>\n",
       "      <td>31</td>\n",
       "      <td>31</td>\n",
       "      <td>3.4</td>\n",
       "      <td>4.5</td>\n",
       "      <td>5.8</td>\n",
       "      <td>7.5</td>\n",
       "      <td>5.2</td>\n",
       "    </tr>\n",
       "    <tr>\n",
       "      <th>1</th>\n",
       "      <td>Asian</td>\n",
       "      <td>1725</td>\n",
       "      <td>1704</td>\n",
       "      <td>1572</td>\n",
       "      <td>1572</td>\n",
       "      <td>1640</td>\n",
       "      <td>317.6</td>\n",
       "      <td>358.9</td>\n",
       "      <td>369.2</td>\n",
       "      <td>370.7</td>\n",
       "      <td>344.5</td>\n",
       "    </tr>\n",
       "    <tr>\n",
       "      <th>2</th>\n",
       "      <td>Black or African American</td>\n",
       "      <td>559</td>\n",
       "      <td>538</td>\n",
       "      <td>484</td>\n",
       "      <td>525</td>\n",
       "      <td>555</td>\n",
       "      <td>65.4</td>\n",
       "      <td>65.8</td>\n",
       "      <td>66.8</td>\n",
       "      <td>80.0</td>\n",
       "      <td>69.6</td>\n",
       "    </tr>\n",
       "    <tr>\n",
       "      <th>3</th>\n",
       "      <td>Hispanic, Latino, or of Spanish\\rOrigin</td>\n",
       "      <td>313</td>\n",
       "      <td>342</td>\n",
       "      <td>392</td>\n",
       "      <td>371</td>\n",
       "      <td>437</td>\n",
       "      <td>40.7</td>\n",
       "      <td>50.3</td>\n",
       "      <td>63.0</td>\n",
       "      <td>67.3</td>\n",
       "      <td>76.8</td>\n",
       "    </tr>\n",
       "    <tr>\n",
       "      <th>4</th>\n",
       "      <td>Native Hawaiian or Other Pacific\\rIslander</td>\n",
       "      <td>5</td>\n",
       "      <td>4</td>\n",
       "      <td>3</td>\n",
       "      <td>7</td>\n",
       "      <td>10</td>\n",
       "      <td>1.3</td>\n",
       "      <td>1.1</td>\n",
       "      <td>1.2</td>\n",
       "      <td>2.0</td>\n",
       "      <td>2.5</td>\n",
       "    </tr>\n",
       "  </tbody>\n",
       "</table>\n",
       "</div>"
      ],
      "text/plain": [
       "                                         race  ERAS 2014  ERAS 2015  \\\n",
       "0            American Indian or Alaska Native         22         32   \n",
       "1                                       Asian       1725       1704   \n",
       "2                   Black or African American        559        538   \n",
       "3     Hispanic, Latino, or of Spanish\\rOrigin        313        342   \n",
       "4  Native Hawaiian or Other Pacific\\rIslander          5          4   \n",
       "\n",
       "   ERAS 2016  ERAS 2017  ERAS 2018  ERAS 2014.1  ERAS 2015.1  ERAS 2016.1  \\\n",
       "0         28         31         31          3.4          4.5          5.8   \n",
       "1       1572       1572       1640        317.6        358.9        369.2   \n",
       "2        484        525        555         65.4         65.8         66.8   \n",
       "3        392        371        437         40.7         50.3         63.0   \n",
       "4          3          7         10          1.3          1.1          1.2   \n",
       "\n",
       "   ERAS 2017.1  ERAS 2018.1  \n",
       "0          7.5          5.2  \n",
       "1        370.7        344.5  \n",
       "2         80.0         69.6  \n",
       "3         67.3         76.8  \n",
       "4          2.0          2.5  "
      ]
     },
     "execution_count": 70,
     "metadata": {},
     "output_type": "execute_result"
    }
   ],
   "source": [
    "df.head()"
   ]
  },
  {
   "cell_type": "code",
   "execution_count": 71,
   "metadata": {
    "ExecuteTime": {
     "end_time": "2019-08-01T20:41:46.344128Z",
     "start_time": "2019-08-01T20:41:46.332147Z"
    }
   },
   "outputs": [],
   "source": [
    "df.race=df.race.str.replace('\\r',' ')"
   ]
  },
  {
   "cell_type": "code",
   "execution_count": 72,
   "metadata": {
    "ExecuteTime": {
     "end_time": "2019-08-01T20:41:46.460208Z",
     "start_time": "2019-08-01T20:41:46.444517Z"
    }
   },
   "outputs": [],
   "source": [
    "df.columns = df.columns.str.replace(\"ERAS\", \"\")"
   ]
  },
  {
   "cell_type": "code",
   "execution_count": 73,
   "metadata": {
    "ExecuteTime": {
     "end_time": "2019-08-01T20:41:46.575800Z",
     "start_time": "2019-08-01T20:41:46.566296Z"
    }
   },
   "outputs": [],
   "source": [
    "df.columns=df.columns.str.replace(r\"\\.1\", \"_applications_per_program\")"
   ]
  },
  {
   "cell_type": "code",
   "execution_count": 74,
   "metadata": {
    "ExecuteTime": {
     "end_time": "2019-08-01T20:41:46.712362Z",
     "start_time": "2019-08-01T20:41:46.706296Z"
    }
   },
   "outputs": [],
   "source": [
    "df.columns=df.columns.str.replace(\" \",'')"
   ]
  },
  {
   "cell_type": "code",
   "execution_count": 75,
   "metadata": {
    "ExecuteTime": {
     "end_time": "2019-08-01T20:41:46.841571Z",
     "start_time": "2019-08-01T20:41:46.833159Z"
    }
   },
   "outputs": [],
   "source": [
    "df.race=df.race.str.replace(' or ','/')\n"
   ]
  },
  {
   "cell_type": "code",
   "execution_count": 76,
   "metadata": {
    "ExecuteTime": {
     "end_time": "2019-08-01T20:41:46.977604Z",
     "start_time": "2019-08-01T20:41:46.970273Z"
    }
   },
   "outputs": [],
   "source": [
    "df.race=df.race.str.replace(',','_')"
   ]
  },
  {
   "cell_type": "code",
   "execution_count": 77,
   "metadata": {
    "ExecuteTime": {
     "end_time": "2019-08-01T20:41:47.117573Z",
     "start_time": "2019-08-01T20:41:47.093888Z"
    }
   },
   "outputs": [
    {
     "data": {
      "text/plain": [
       "0             American Indian/Alaska Native\n",
       "1                                     Asian\n",
       "2                    Black/African American\n",
       "3       Hispanic_ Latino_/of Spanish Origin\n",
       "4    Native Hawaiian/Other Pacific Islander\n",
       "5                                     White\n",
       "6                      Other Race/Ethnicity\n",
       "7                    Unknown Race/Ethnicity\n",
       "Name: race, dtype: object"
      ]
     },
     "execution_count": 77,
     "metadata": {},
     "output_type": "execute_result"
    }
   ],
   "source": [
    "df.race"
   ]
  },
  {
   "cell_type": "code",
   "execution_count": 78,
   "metadata": {
    "ExecuteTime": {
     "end_time": "2019-08-01T20:41:47.282216Z",
     "start_time": "2019-08-01T20:41:47.225199Z"
    }
   },
   "outputs": [],
   "source": [
    "df[df.columns[1:]]=df[df.columns[1:]].apply(pd.to_numeric)"
   ]
  },
  {
   "cell_type": "code",
   "execution_count": 79,
   "metadata": {
    "ExecuteTime": {
     "end_time": "2019-08-01T20:41:47.407586Z",
     "start_time": "2019-08-01T20:41:47.381429Z"
    }
   },
   "outputs": [],
   "source": [
    "#make a total row\n",
    "df.loc['Total',:]= df.sum(axis=0)"
   ]
  },
  {
   "cell_type": "code",
   "execution_count": 80,
   "metadata": {
    "ExecuteTime": {
     "end_time": "2019-08-01T20:41:47.549814Z",
     "start_time": "2019-08-01T20:41:47.521786Z"
    }
   },
   "outputs": [],
   "source": [
    "df['pct_14']=df['2014']/(df['2014']['Total'])*100"
   ]
  },
  {
   "cell_type": "code",
   "execution_count": 81,
   "metadata": {
    "ExecuteTime": {
     "end_time": "2019-08-01T20:41:47.699821Z",
     "start_time": "2019-08-01T20:41:47.673138Z"
    }
   },
   "outputs": [],
   "source": [
    "df['pct_15']=df['2015']/(df['2015']['Total'])*100\n",
    "df['pct_16']=df['2016']/(df['2016']['Total'])*100\n",
    "df['pct_17']=df['2017']/(df['2017']['Total'])*100\n",
    "df['pct_18']=df['2018']/(df['2018']['Total'])*100"
   ]
  },
  {
   "cell_type": "code",
   "execution_count": 82,
   "metadata": {
    "ExecuteTime": {
     "end_time": "2019-08-01T20:41:48.765561Z",
     "start_time": "2019-08-01T20:41:47.806298Z"
    }
   },
   "outputs": [
    {
     "name": "stderr",
     "output_type": "stream",
     "text": [
      "/Users/lilyliu-krason/.pyenv/versions/3.7.1/lib/python3.7/site-packages/ipykernel_launcher.py:1: SettingWithCopyWarning: \n",
      "A value is trying to be set on a copy of a slice from a DataFrame\n",
      "\n",
      "See the caveats in the documentation: http://pandas.pydata.org/pandas-docs/stable/indexing.html#indexing-view-versus-copy\n",
      "  \"\"\"Entry point for launching an IPython kernel.\n"
     ]
    }
   ],
   "source": [
    "df['race']['Total']='Total'"
   ]
  },
  {
   "cell_type": "markdown",
   "metadata": {},
   "source": [
    "# Dataframe Views"
   ]
  },
  {
   "cell_type": "code",
   "execution_count": 83,
   "metadata": {
    "ExecuteTime": {
     "end_time": "2019-08-01T20:41:48.941015Z",
     "start_time": "2019-08-01T20:41:48.900674Z"
    }
   },
   "outputs": [
    {
     "data": {
      "text/html": [
       "<div>\n",
       "<style scoped>\n",
       "    .dataframe tbody tr th:only-of-type {\n",
       "        vertical-align: middle;\n",
       "    }\n",
       "\n",
       "    .dataframe tbody tr th {\n",
       "        vertical-align: top;\n",
       "    }\n",
       "\n",
       "    .dataframe thead th {\n",
       "        text-align: right;\n",
       "    }\n",
       "</style>\n",
       "<table border=\"1\" class=\"dataframe\">\n",
       "  <thead>\n",
       "    <tr style=\"text-align: right;\">\n",
       "      <th></th>\n",
       "      <th>race</th>\n",
       "      <th>2014</th>\n",
       "      <th>2015</th>\n",
       "      <th>2016</th>\n",
       "      <th>2017</th>\n",
       "      <th>2018</th>\n",
       "      <th>2014_applications_per_program</th>\n",
       "      <th>2015_applications_per_program</th>\n",
       "      <th>2016_applications_per_program</th>\n",
       "      <th>2017_applications_per_program</th>\n",
       "      <th>2018_applications_per_program</th>\n",
       "      <th>pct_14</th>\n",
       "      <th>pct_15</th>\n",
       "      <th>pct_16</th>\n",
       "      <th>pct_17</th>\n",
       "      <th>pct_18</th>\n",
       "    </tr>\n",
       "  </thead>\n",
       "  <tbody>\n",
       "    <tr>\n",
       "      <th>0</th>\n",
       "      <td>American Indian/Alaska Native</td>\n",
       "      <td>22.0</td>\n",
       "      <td>32.0</td>\n",
       "      <td>28.0</td>\n",
       "      <td>31.0</td>\n",
       "      <td>31.0</td>\n",
       "      <td>3.4</td>\n",
       "      <td>4.5</td>\n",
       "      <td>5.8</td>\n",
       "      <td>7.5</td>\n",
       "      <td>5.2</td>\n",
       "      <td>0.467687</td>\n",
       "      <td>0.678253</td>\n",
       "      <td>0.606061</td>\n",
       "      <td>0.674060</td>\n",
       "      <td>0.626263</td>\n",
       "    </tr>\n",
       "    <tr>\n",
       "      <th>1</th>\n",
       "      <td>Asian</td>\n",
       "      <td>1725.0</td>\n",
       "      <td>1704.0</td>\n",
       "      <td>1572.0</td>\n",
       "      <td>1572.0</td>\n",
       "      <td>1640.0</td>\n",
       "      <td>317.6</td>\n",
       "      <td>358.9</td>\n",
       "      <td>369.2</td>\n",
       "      <td>370.7</td>\n",
       "      <td>344.5</td>\n",
       "      <td>36.670918</td>\n",
       "      <td>36.116999</td>\n",
       "      <td>34.025974</td>\n",
       "      <td>34.181344</td>\n",
       "      <td>33.131313</td>\n",
       "    </tr>\n",
       "    <tr>\n",
       "      <th>2</th>\n",
       "      <td>Black/African American</td>\n",
       "      <td>559.0</td>\n",
       "      <td>538.0</td>\n",
       "      <td>484.0</td>\n",
       "      <td>525.0</td>\n",
       "      <td>555.0</td>\n",
       "      <td>65.4</td>\n",
       "      <td>65.8</td>\n",
       "      <td>66.8</td>\n",
       "      <td>80.0</td>\n",
       "      <td>69.6</td>\n",
       "      <td>11.883503</td>\n",
       "      <td>11.403137</td>\n",
       "      <td>10.476190</td>\n",
       "      <td>11.415525</td>\n",
       "      <td>11.212121</td>\n",
       "    </tr>\n",
       "    <tr>\n",
       "      <th>3</th>\n",
       "      <td>Hispanic_ Latino_/of Spanish Origin</td>\n",
       "      <td>313.0</td>\n",
       "      <td>342.0</td>\n",
       "      <td>392.0</td>\n",
       "      <td>371.0</td>\n",
       "      <td>437.0</td>\n",
       "      <td>40.7</td>\n",
       "      <td>50.3</td>\n",
       "      <td>63.0</td>\n",
       "      <td>67.3</td>\n",
       "      <td>76.8</td>\n",
       "      <td>6.653912</td>\n",
       "      <td>7.248834</td>\n",
       "      <td>8.484848</td>\n",
       "      <td>8.066971</td>\n",
       "      <td>8.828283</td>\n",
       "    </tr>\n",
       "    <tr>\n",
       "      <th>4</th>\n",
       "      <td>Native Hawaiian/Other Pacific Islander</td>\n",
       "      <td>5.0</td>\n",
       "      <td>4.0</td>\n",
       "      <td>3.0</td>\n",
       "      <td>7.0</td>\n",
       "      <td>10.0</td>\n",
       "      <td>1.3</td>\n",
       "      <td>1.1</td>\n",
       "      <td>1.2</td>\n",
       "      <td>2.0</td>\n",
       "      <td>2.5</td>\n",
       "      <td>0.106293</td>\n",
       "      <td>0.084782</td>\n",
       "      <td>0.064935</td>\n",
       "      <td>0.152207</td>\n",
       "      <td>0.202020</td>\n",
       "    </tr>\n",
       "    <tr>\n",
       "      <th>5</th>\n",
       "      <td>White</td>\n",
       "      <td>1464.0</td>\n",
       "      <td>1568.0</td>\n",
       "      <td>1553.0</td>\n",
       "      <td>1586.0</td>\n",
       "      <td>1752.0</td>\n",
       "      <td>199.1</td>\n",
       "      <td>236.7</td>\n",
       "      <td>268.2</td>\n",
       "      <td>311.7</td>\n",
       "      <td>313.2</td>\n",
       "      <td>31.122449</td>\n",
       "      <td>33.234421</td>\n",
       "      <td>33.614719</td>\n",
       "      <td>34.485758</td>\n",
       "      <td>35.393939</td>\n",
       "    </tr>\n",
       "    <tr>\n",
       "      <th>6</th>\n",
       "      <td>Other Race/Ethnicity</td>\n",
       "      <td>224.0</td>\n",
       "      <td>243.0</td>\n",
       "      <td>216.0</td>\n",
       "      <td>171.0</td>\n",
       "      <td>217.0</td>\n",
       "      <td>40.8</td>\n",
       "      <td>43.3</td>\n",
       "      <td>50.5</td>\n",
       "      <td>34.9</td>\n",
       "      <td>40.1</td>\n",
       "      <td>4.761905</td>\n",
       "      <td>5.150487</td>\n",
       "      <td>4.675325</td>\n",
       "      <td>3.718200</td>\n",
       "      <td>4.383838</td>\n",
       "    </tr>\n",
       "    <tr>\n",
       "      <th>7</th>\n",
       "      <td>Unknown Race/Ethnicity</td>\n",
       "      <td>392.0</td>\n",
       "      <td>287.0</td>\n",
       "      <td>372.0</td>\n",
       "      <td>336.0</td>\n",
       "      <td>308.0</td>\n",
       "      <td>60.7</td>\n",
       "      <td>49.5</td>\n",
       "      <td>0.0</td>\n",
       "      <td>0.0</td>\n",
       "      <td>0.0</td>\n",
       "      <td>8.333333</td>\n",
       "      <td>6.083086</td>\n",
       "      <td>8.051948</td>\n",
       "      <td>7.305936</td>\n",
       "      <td>6.222222</td>\n",
       "    </tr>\n",
       "    <tr>\n",
       "      <th>Total</th>\n",
       "      <td>Total</td>\n",
       "      <td>4704.0</td>\n",
       "      <td>4718.0</td>\n",
       "      <td>4620.0</td>\n",
       "      <td>4599.0</td>\n",
       "      <td>4950.0</td>\n",
       "      <td>729.0</td>\n",
       "      <td>810.1</td>\n",
       "      <td>824.7</td>\n",
       "      <td>874.1</td>\n",
       "      <td>851.9</td>\n",
       "      <td>100.000000</td>\n",
       "      <td>100.000000</td>\n",
       "      <td>100.000000</td>\n",
       "      <td>100.000000</td>\n",
       "      <td>100.000000</td>\n",
       "    </tr>\n",
       "  </tbody>\n",
       "</table>\n",
       "</div>"
      ],
      "text/plain": [
       "                                         race    2014    2015    2016    2017  \\\n",
       "0               American Indian/Alaska Native    22.0    32.0    28.0    31.0   \n",
       "1                                       Asian  1725.0  1704.0  1572.0  1572.0   \n",
       "2                      Black/African American   559.0   538.0   484.0   525.0   \n",
       "3         Hispanic_ Latino_/of Spanish Origin   313.0   342.0   392.0   371.0   \n",
       "4      Native Hawaiian/Other Pacific Islander     5.0     4.0     3.0     7.0   \n",
       "5                                       White  1464.0  1568.0  1553.0  1586.0   \n",
       "6                        Other Race/Ethnicity   224.0   243.0   216.0   171.0   \n",
       "7                      Unknown Race/Ethnicity   392.0   287.0   372.0   336.0   \n",
       "Total                                   Total  4704.0  4718.0  4620.0  4599.0   \n",
       "\n",
       "         2018  2014_applications_per_program  2015_applications_per_program  \\\n",
       "0        31.0                            3.4                            4.5   \n",
       "1      1640.0                          317.6                          358.9   \n",
       "2       555.0                           65.4                           65.8   \n",
       "3       437.0                           40.7                           50.3   \n",
       "4        10.0                            1.3                            1.1   \n",
       "5      1752.0                          199.1                          236.7   \n",
       "6       217.0                           40.8                           43.3   \n",
       "7       308.0                           60.7                           49.5   \n",
       "Total  4950.0                          729.0                          810.1   \n",
       "\n",
       "       2016_applications_per_program  2017_applications_per_program  \\\n",
       "0                                5.8                            7.5   \n",
       "1                              369.2                          370.7   \n",
       "2                               66.8                           80.0   \n",
       "3                               63.0                           67.3   \n",
       "4                                1.2                            2.0   \n",
       "5                              268.2                          311.7   \n",
       "6                               50.5                           34.9   \n",
       "7                                0.0                            0.0   \n",
       "Total                          824.7                          874.1   \n",
       "\n",
       "       2018_applications_per_program      pct_14      pct_15      pct_16  \\\n",
       "0                                5.2    0.467687    0.678253    0.606061   \n",
       "1                              344.5   36.670918   36.116999   34.025974   \n",
       "2                               69.6   11.883503   11.403137   10.476190   \n",
       "3                               76.8    6.653912    7.248834    8.484848   \n",
       "4                                2.5    0.106293    0.084782    0.064935   \n",
       "5                              313.2   31.122449   33.234421   33.614719   \n",
       "6                               40.1    4.761905    5.150487    4.675325   \n",
       "7                                0.0    8.333333    6.083086    8.051948   \n",
       "Total                          851.9  100.000000  100.000000  100.000000   \n",
       "\n",
       "           pct_17      pct_18  \n",
       "0        0.674060    0.626263  \n",
       "1       34.181344   33.131313  \n",
       "2       11.415525   11.212121  \n",
       "3        8.066971    8.828283  \n",
       "4        0.152207    0.202020  \n",
       "5       34.485758   35.393939  \n",
       "6        3.718200    4.383838  \n",
       "7        7.305936    6.222222  \n",
       "Total  100.000000  100.000000  "
      ]
     },
     "execution_count": 83,
     "metadata": {},
     "output_type": "execute_result"
    }
   ],
   "source": [
    "#this is the dataframe I have: \n",
    "df"
   ]
  },
  {
   "cell_type": "code",
   "execution_count": 84,
   "metadata": {
    "ExecuteTime": {
     "end_time": "2019-08-01T20:41:49.120655Z",
     "start_time": "2019-08-01T20:41:49.075135Z"
    }
   },
   "outputs": [
    {
     "data": {
      "text/html": [
       "<div>\n",
       "<style scoped>\n",
       "    .dataframe tbody tr th:only-of-type {\n",
       "        vertical-align: middle;\n",
       "    }\n",
       "\n",
       "    .dataframe tbody tr th {\n",
       "        vertical-align: top;\n",
       "    }\n",
       "\n",
       "    .dataframe thead th {\n",
       "        text-align: right;\n",
       "    }\n",
       "</style>\n",
       "<table border=\"1\" class=\"dataframe\">\n",
       "  <thead>\n",
       "    <tr style=\"text-align: right;\">\n",
       "      <th></th>\n",
       "      <th>race</th>\n",
       "      <th>pct_14</th>\n",
       "      <th>pct_15</th>\n",
       "      <th>pct_16</th>\n",
       "      <th>pct_17</th>\n",
       "      <th>pct_18</th>\n",
       "    </tr>\n",
       "  </thead>\n",
       "  <tbody>\n",
       "    <tr>\n",
       "      <th>0</th>\n",
       "      <td>American Indian/Alaska Native</td>\n",
       "      <td>0.467687</td>\n",
       "      <td>0.678253</td>\n",
       "      <td>0.606061</td>\n",
       "      <td>0.674060</td>\n",
       "      <td>0.626263</td>\n",
       "    </tr>\n",
       "    <tr>\n",
       "      <th>1</th>\n",
       "      <td>Asian</td>\n",
       "      <td>36.670918</td>\n",
       "      <td>36.116999</td>\n",
       "      <td>34.025974</td>\n",
       "      <td>34.181344</td>\n",
       "      <td>33.131313</td>\n",
       "    </tr>\n",
       "    <tr>\n",
       "      <th>2</th>\n",
       "      <td>Black/African American</td>\n",
       "      <td>11.883503</td>\n",
       "      <td>11.403137</td>\n",
       "      <td>10.476190</td>\n",
       "      <td>11.415525</td>\n",
       "      <td>11.212121</td>\n",
       "    </tr>\n",
       "    <tr>\n",
       "      <th>3</th>\n",
       "      <td>Hispanic_ Latino_/of Spanish Origin</td>\n",
       "      <td>6.653912</td>\n",
       "      <td>7.248834</td>\n",
       "      <td>8.484848</td>\n",
       "      <td>8.066971</td>\n",
       "      <td>8.828283</td>\n",
       "    </tr>\n",
       "    <tr>\n",
       "      <th>4</th>\n",
       "      <td>Native Hawaiian/Other Pacific Islander</td>\n",
       "      <td>0.106293</td>\n",
       "      <td>0.084782</td>\n",
       "      <td>0.064935</td>\n",
       "      <td>0.152207</td>\n",
       "      <td>0.202020</td>\n",
       "    </tr>\n",
       "    <tr>\n",
       "      <th>5</th>\n",
       "      <td>White</td>\n",
       "      <td>31.122449</td>\n",
       "      <td>33.234421</td>\n",
       "      <td>33.614719</td>\n",
       "      <td>34.485758</td>\n",
       "      <td>35.393939</td>\n",
       "    </tr>\n",
       "    <tr>\n",
       "      <th>6</th>\n",
       "      <td>Other Race/Ethnicity</td>\n",
       "      <td>4.761905</td>\n",
       "      <td>5.150487</td>\n",
       "      <td>4.675325</td>\n",
       "      <td>3.718200</td>\n",
       "      <td>4.383838</td>\n",
       "    </tr>\n",
       "    <tr>\n",
       "      <th>7</th>\n",
       "      <td>Unknown Race/Ethnicity</td>\n",
       "      <td>8.333333</td>\n",
       "      <td>6.083086</td>\n",
       "      <td>8.051948</td>\n",
       "      <td>7.305936</td>\n",
       "      <td>6.222222</td>\n",
       "    </tr>\n",
       "  </tbody>\n",
       "</table>\n",
       "</div>"
      ],
      "text/plain": [
       "                                     race     pct_14     pct_15     pct_16  \\\n",
       "0           American Indian/Alaska Native   0.467687   0.678253   0.606061   \n",
       "1                                   Asian  36.670918  36.116999  34.025974   \n",
       "2                  Black/African American  11.883503  11.403137  10.476190   \n",
       "3     Hispanic_ Latino_/of Spanish Origin   6.653912   7.248834   8.484848   \n",
       "4  Native Hawaiian/Other Pacific Islander   0.106293   0.084782   0.064935   \n",
       "5                                   White  31.122449  33.234421  33.614719   \n",
       "6                    Other Race/Ethnicity   4.761905   5.150487   4.675325   \n",
       "7                  Unknown Race/Ethnicity   8.333333   6.083086   8.051948   \n",
       "\n",
       "      pct_17     pct_18  \n",
       "0   0.674060   0.626263  \n",
       "1  34.181344  33.131313  \n",
       "2  11.415525  11.212121  \n",
       "3   8.066971   8.828283  \n",
       "4   0.152207   0.202020  \n",
       "5  34.485758  35.393939  \n",
       "6   3.718200   4.383838  \n",
       "7   7.305936   6.222222  "
      ]
     },
     "execution_count": 84,
     "metadata": {},
     "output_type": "execute_result"
    }
   ],
   "source": [
    "df[['race','pct_14','pct_15','pct_16','pct_17','pct_18']][:-1]"
   ]
  },
  {
   "cell_type": "code",
   "execution_count": 85,
   "metadata": {
    "ExecuteTime": {
     "end_time": "2019-08-01T20:41:49.289066Z",
     "start_time": "2019-08-01T20:41:49.283468Z"
    }
   },
   "outputs": [],
   "source": [
    "# sns.set(font_scale=3) \n",
    "# df_race.iloc[0,:].values"
   ]
  },
  {
   "cell_type": "code",
   "execution_count": 86,
   "metadata": {
    "ExecuteTime": {
     "end_time": "2019-08-01T20:41:49.560623Z",
     "start_time": "2019-08-01T20:41:49.456267Z"
    }
   },
   "outputs": [],
   "source": [
    "#Creating second view\n",
    "df_race = df[['race','pct_14','pct_15','pct_16','pct_17','pct_18']][:-1].T\n",
    "df_race.columns=df_race.iloc[0,:].values\n",
    "df_race=df_race.iloc[1:,:]\n",
    "for c in list(df_race.columns):\n",
    "    df_race[c]=df_race[c].astype(float)\n",
    "df_race.index=range(2014, 2019, 1)\n",
    "#adding a year column from the index\n",
    "df_race['year'] = df_race.index\n",
    "df_race['year']= df_race['year'].astype(int)"
   ]
  },
  {
   "cell_type": "code",
   "execution_count": 87,
   "metadata": {
    "ExecuteTime": {
     "end_time": "2019-08-01T20:41:49.748808Z",
     "start_time": "2019-08-01T20:41:49.672134Z"
    }
   },
   "outputs": [],
   "source": [
    "df_number= df[['race','2014','2015','2016','2017','2018']][:-1].T\n",
    "df_number.columns=df_number.iloc[0,:].values\n",
    "df_number=df_number.iloc[1:,:]\n",
    "for c in list(df_number.columns):\n",
    "    df_number[c]=df_number[c].astype(float)\n",
    "df_number['year'] = df_number.index\n",
    "df_number['year']= df_number['year'].astype(int)"
   ]
  },
  {
   "cell_type": "code",
   "execution_count": 88,
   "metadata": {
    "ExecuteTime": {
     "end_time": "2019-08-01T20:41:49.877494Z",
     "start_time": "2019-08-01T20:41:49.866163Z"
    }
   },
   "outputs": [],
   "source": [
    "df_num=df[['race','2014','2015','2016','2017','2018']]\n",
    "df_num.to_csv('psychiatry_num.csv',index=False)"
   ]
  },
  {
   "cell_type": "code",
   "execution_count": 89,
   "metadata": {
    "ExecuteTime": {
     "end_time": "2019-08-01T20:41:50.006302Z",
     "start_time": "2019-08-01T20:41:49.984962Z"
    }
   },
   "outputs": [],
   "source": [
    "#putting dataframe into a csv so that we can combine with graduates later\n",
    "df_race.to_csv('psychiatry_residency_pct.csv',index=False)\n",
    "df_number.to_csv('psychiatry_residency_number.csv',index=False)"
   ]
  },
  {
   "cell_type": "code",
   "execution_count": 90,
   "metadata": {
    "ExecuteTime": {
     "end_time": "2019-08-01T20:41:50.127796Z",
     "start_time": "2019-08-01T20:41:50.121549Z"
    }
   },
   "outputs": [],
   "source": [
    "sns.set(font_scale=1) "
   ]
  },
  {
   "cell_type": "code",
   "execution_count": 91,
   "metadata": {
    "ExecuteTime": {
     "end_time": "2019-08-01T20:41:54.264184Z",
     "start_time": "2019-08-01T20:41:50.283549Z"
    }
   },
   "outputs": [
    {
     "name": "stderr",
     "output_type": "stream",
     "text": [
      "/Users/lilyliu-krason/.pyenv/versions/3.7.1/lib/python3.7/site-packages/ipykernel_launcher.py:4: RuntimeWarning: Second argument 'White' is ambiguous: could be a color spec but is in data; using as data.  Either rename the entry in data or use three arguments to plot.\n",
      "  after removing the cwd from sys.path.\n"
     ]
    },
    {
     "data": {
      "image/png": "[encoded data removed]",
      "text/plain": [
       "<Figure size 1440x360 with 1 Axes>"
      ]
     },
     "metadata": {},
     "output_type": "display_data"
    },
    {
     "data": {
      "image/png": "[encoded data removed]",
      "text/plain": [
       "<Figure size 1440x360 with 1 Axes>"
      ]
     },
     "metadata": {},
     "output_type": "display_data"
    },
    {
     "data": {
      "image/png": "[encoded data removed]",
      "text/plain": [
       "<Figure size 1440x360 with 1 Axes>"
      ]
     },
     "metadata": {},
     "output_type": "display_data"
    },
    {
     "data": {
      "image/png": "[encoded data removed]",
      "text/plain": [
       "<Figure size 1440x360 with 1 Axes>"
      ]
     },
     "metadata": {},
     "output_type": "display_data"
    },
    {
     "data": {
      "image/png": "[encoded data removed]",
      "text/plain": [
       "<Figure size 1440x360 with 1 Axes>"
      ]
     },
     "metadata": {},
     "output_type": "display_data"
    },
    {
     "data": {
      "image/png": "[encoded data removed]",
      "text/plain": [
       "<Figure size 1440x360 with 1 Axes>"
      ]
     },
     "metadata": {},
     "output_type": "display_data"
    },
    {
     "data": {
      "image/png": "[encoded data removed]",
      "text/plain": [
       "<Figure size 1440x360 with 1 Axes>"
      ]
     },
     "metadata": {},
     "output_type": "display_data"
    },
    {
     "data": {
      "image/png": "[encoded data removed]",
      "text/plain": [
       "<Figure size 1440x360 with 1 Axes>"
      ]
     },
     "metadata": {},
     "output_type": "display_data"
    }
   ],
   "source": [
    "rcParams['figure.figsize'] = 20, 5\n",
    "for c in df_race.columns[:-1]:\n",
    "    plt.figure()\n",
    "    plt.plot('year', c, data=df_race,marker='o')\n",
    "    plt.xticks(df_race['year'].values)\n",
    "    plt.yticks(range(0,42,5))\n",
    "    plt.title(c)"
   ]
  },
  {
   "cell_type": "code",
   "execution_count": 92,
   "metadata": {
    "ExecuteTime": {
     "end_time": "2019-08-01T20:41:55.374342Z",
     "start_time": "2019-08-01T20:41:54.369323Z"
    }
   },
   "outputs": [
    {
     "name": "stderr",
     "output_type": "stream",
     "text": [
      "/Users/lilyliu-krason/.pyenv/versions/3.7.1/lib/python3.7/site-packages/ipykernel_launcher.py:2: RuntimeWarning: Second argument 'White' is ambiguous: could be a color spec but is in data; using as data.  Either rename the entry in data or use three arguments to plot.\n",
      "  \n"
     ]
    },
    {
     "data": {
      "image/png": "[encoded data removed]",
      "text/plain": [
       "<Figure size 1440x360 with 1 Axes>"
      ]
     },
     "metadata": {},
     "output_type": "display_data"
    }
   ],
   "source": [
    "for c in df_race.columns[:-1]:  \n",
    "    plt.plot('year', c, data=df_race,marker='o')\n",
    "    plt.legend(loc='upper right', bbox_to_anchor=(0.5, 0.3, 0.5, 0.5))\n",
    "    plt.xticks(df_race['year'].values)\n",
    "    plt.title('Psychiatry Percentage of Residency Applications by Year and Race')\n",
    "#save to pdf out of loop\n",
    "plt.savefig(\"psychiatry_residency.pdf\")"
   ]
  },
  {
   "cell_type": "code",
   "execution_count": 93,
   "metadata": {
    "ExecuteTime": {
     "end_time": "2019-08-01T20:41:56.537135Z",
     "start_time": "2019-08-01T20:41:55.526854Z"
    }
   },
   "outputs": [
    {
     "data": {
      "text/plain": [
       "<matplotlib.axes._subplots.AxesSubplot at 0x12073d4a8>"
      ]
     },
     "execution_count": 93,
     "metadata": {},
     "output_type": "execute_result"
    },
    {
     "data": {
      "image/png": "[encoded data removed]",
      "text/plain": [
       "<Figure size 1440x360 with 1 Axes>"
      ]
     },
     "metadata": {},
     "output_type": "display_data"
    }
   ],
   "source": [
    "df[['race','pct_14','pct_15','pct_16','pct_17','pct_18']][:-1].plot(kind='barh',x='race')"
   ]
  },
  {
   "cell_type": "code",
   "execution_count": null,
   "metadata": {},
   "outputs": [],
   "source": []
  },
  {
   "cell_type": "code",
   "execution_count": 62,
   "metadata": {
    "ExecuteTime": {
     "end_time": "2019-07-31T20:08:33.702355Z",
     "start_time": "2019-07-31T20:08:33.685469Z"
    }
   },
   "outputs": [
    {
     "ename": "NameError",
     "evalue": "name 'df_2014' is not defined",
     "output_type": "error",
     "traceback": [
      "\u001b[0;31m---------------------------------------------------------------------------\u001b[0m",
      "\u001b[0;31mNameError\u001b[0m                                 Traceback (most recent call last)",
      "\u001b[0;32m<ipython-input-62-8281b625572e>\u001b[0m in \u001b[0;36m<module>\u001b[0;34m\u001b[0m\n\u001b[0;32m----> 1\u001b[0;31m \u001b[0mdf_2014\u001b[0m\u001b[0;34m[\u001b[0m\u001b[0;34m:\u001b[0m\u001b[0;36m1\u001b[0m\u001b[0;34m]\u001b[0m\u001b[0;34m\u001b[0m\u001b[0;34m\u001b[0m\u001b[0m\n\u001b[0m",
      "\u001b[0;31mNameError\u001b[0m: name 'df_2014' is not defined"
     ]
    }
   ],
   "source": [
    "df_2014[:1]\n"
   ]
  },
  {
   "cell_type": "code",
   "execution_count": null,
   "metadata": {},
   "outputs": [],
   "source": []
  }
 ],
 "metadata": {
  "kernelspec": {
   "display_name": "Python 3",
   "language": "python",
   "name": "python3"
  },
  "language_info": {
   "codemirror_mode": {
    "name": "ipython",
    "version": 3
   },
   "file_extension": ".py",
   "mimetype": "text/x-python",
   "name": "python",
   "nbconvert_exporter": "python",
   "pygments_lexer": "ipython3",
   "version": "3.7.1"
  },
  "toc": {
   "base_numbering": 1,
   "nav_menu": {},
   "number_sections": true,
   "sideBar": true,
   "skip_h1_title": false,
   "title_cell": "Table of Contents",
   "title_sidebar": "Contents",
   "toc_cell": false,
   "toc_position": {},
   "toc_section_display": true,
   "toc_window_display": false
  },
  "varInspector": {
   "cols": {
    "lenName": 16,
    "lenType": 16,
    "lenVar": 40
   },
   "kernels_config": {
    "python": {
     "delete_cmd_postfix": "",
     "delete_cmd_prefix": "del ",
     "library": "var_list.py",
     "varRefreshCmd": "print(var_dic_list())"
    },
    "r": {
     "delete_cmd_postfix": ") ",
     "delete_cmd_prefix": "rm(",
     "library": "var_list.r",
     "varRefreshCmd": "cat(var_dic_list()) "
    }
   },
   "types_to_exclude": [
    "module",
    "function",
    "builtin_function_or_method",
    "instance",
    "_Feature"
   ],
   "window_display": false
  }
 },
 "nbformat": 4,
 "nbformat_minor": 2
}
