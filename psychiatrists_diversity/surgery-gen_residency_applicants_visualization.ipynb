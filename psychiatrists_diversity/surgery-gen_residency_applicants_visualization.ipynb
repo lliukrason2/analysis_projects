{
 "cells": [
  {
   "cell_type": "markdown",
   "metadata": {},
   "source": [
    "# Surgery General Residency Applications\n",
    "Data from https://www.aamc.org/data/facts/eras/"
   ]
  },
  {
   "cell_type": "code",
   "execution_count": 1,
   "metadata": {
    "ExecuteTime": {
     "end_time": "2019-08-01T15:24:38.334856Z",
     "start_time": "2019-08-01T15:24:35.103593Z"
    }
   },
   "outputs": [],
   "source": [
    "import pandas as pd\n",
    "import requests\n",
    "import matplotlib\n",
    "import numpy as np\n",
    "import matplotlib.pyplot as plt\n",
    "import re\n",
    "from datetime import datetime, timedelta\n",
    "import time\n",
    "import seaborn as sns\n",
    "from pylab import rcParams\n",
    "sns.set(style='whitegrid',palette='husl')\n",
    "matplotlib.rcParams['pdf.fonttype'] = 42\n",
    "\n",
    "%matplotlib inline"
   ]
  },
  {
   "cell_type": "markdown",
   "metadata": {},
   "source": [
    "# Load Data, Clean, and Add Percentage Columns"
   ]
  },
  {
   "cell_type": "code",
   "execution_count": 2,
   "metadata": {
    "ExecuteTime": {
     "end_time": "2019-08-01T15:24:45.592138Z",
     "start_time": "2019-08-01T15:24:45.558251Z"
    }
   },
   "outputs": [],
   "source": [
    "df=pd.read_csv('tabula-surgery-gen.csv',thousands=',',encoding='latin-1')"
   ]
  },
  {
   "cell_type": "code",
   "execution_count": 3,
   "metadata": {
    "ExecuteTime": {
     "end_time": "2019-08-01T15:24:47.643871Z",
     "start_time": "2019-08-01T15:24:47.636681Z"
    }
   },
   "outputs": [],
   "source": [
    "df=df.rename(columns={'Unnamed: 0':'race'})"
   ]
  },
  {
   "cell_type": "code",
   "execution_count": 5,
   "metadata": {
    "ExecuteTime": {
     "end_time": "2019-08-01T15:24:57.260191Z",
     "start_time": "2019-08-01T15:24:57.214681Z"
    }
   },
   "outputs": [
    {
     "data": {
      "text/html": [
       "<div>\n",
       "<style scoped>\n",
       "    .dataframe tbody tr th:only-of-type {\n",
       "        vertical-align: middle;\n",
       "    }\n",
       "\n",
       "    .dataframe tbody tr th {\n",
       "        vertical-align: top;\n",
       "    }\n",
       "\n",
       "    .dataframe thead th {\n",
       "        text-align: right;\n",
       "    }\n",
       "</style>\n",
       "<table border=\"1\" class=\"dataframe\">\n",
       "  <thead>\n",
       "    <tr style=\"text-align: right;\">\n",
       "      <th></th>\n",
       "      <th>race</th>\n",
       "      <th>ERAS 2014</th>\n",
       "      <th>ERAS 2015</th>\n",
       "      <th>ERAS 2016</th>\n",
       "      <th>ERAS 2017</th>\n",
       "      <th>ERAS 2018</th>\n",
       "      <th>Unnamed: 6</th>\n",
       "    </tr>\n",
       "  </thead>\n",
       "  <tbody>\n",
       "    <tr>\n",
       "      <th>0</th>\n",
       "      <td>American Indian or Alaska Native</td>\n",
       "      <td>44</td>\n",
       "      <td>55</td>\n",
       "      <td>37</td>\n",
       "      <td>53</td>\n",
       "      <td>54</td>\n",
       "      <td>NaN</td>\n",
       "    </tr>\n",
       "    <tr>\n",
       "      <th>1</th>\n",
       "      <td>Asian</td>\n",
       "      <td>1683</td>\n",
       "      <td>1688</td>\n",
       "      <td>1540</td>\n",
       "      <td>1619</td>\n",
       "      <td>1510</td>\n",
       "      <td>NaN</td>\n",
       "    </tr>\n",
       "    <tr>\n",
       "      <th>2</th>\n",
       "      <td>Black or African American</td>\n",
       "      <td>616</td>\n",
       "      <td>615</td>\n",
       "      <td>566</td>\n",
       "      <td>565</td>\n",
       "      <td>567</td>\n",
       "      <td>NaN</td>\n",
       "    </tr>\n",
       "    <tr>\n",
       "      <th>3</th>\n",
       "      <td>Hispanic, Latino, or of Spanish\\rOrigin</td>\n",
       "      <td>595</td>\n",
       "      <td>574</td>\n",
       "      <td>569</td>\n",
       "      <td>598</td>\n",
       "      <td>628</td>\n",
       "      <td>NaN</td>\n",
       "    </tr>\n",
       "    <tr>\n",
       "      <th>4</th>\n",
       "      <td>Native Hawaiian or Other Pacific\\rIslander</td>\n",
       "      <td>8</td>\n",
       "      <td>12</td>\n",
       "      <td>12</td>\n",
       "      <td>13</td>\n",
       "      <td>19</td>\n",
       "      <td>NaN</td>\n",
       "    </tr>\n",
       "    <tr>\n",
       "      <th>5</th>\n",
       "      <td>White</td>\n",
       "      <td>3057</td>\n",
       "      <td>3169</td>\n",
       "      <td>2932</td>\n",
       "      <td>3095</td>\n",
       "      <td>3033</td>\n",
       "      <td>NaN</td>\n",
       "    </tr>\n",
       "    <tr>\n",
       "      <th>6</th>\n",
       "      <td>Other Race/Ethnicity</td>\n",
       "      <td>308</td>\n",
       "      <td>348</td>\n",
       "      <td>270</td>\n",
       "      <td>285</td>\n",
       "      <td>270</td>\n",
       "      <td>NaN</td>\n",
       "    </tr>\n",
       "    <tr>\n",
       "      <th>7</th>\n",
       "      <td>Unknown Race/Ethnicity</td>\n",
       "      <td>510</td>\n",
       "      <td>346</td>\n",
       "      <td>481</td>\n",
       "      <td>469</td>\n",
       "      <td>440</td>\n",
       "      <td>NaN</td>\n",
       "    </tr>\n",
       "  </tbody>\n",
       "</table>\n",
       "</div>"
      ],
      "text/plain": [
       "                                         race  ERAS 2014  ERAS 2015  \\\n",
       "0            American Indian or Alaska Native         44         55   \n",
       "1                                       Asian       1683       1688   \n",
       "2                   Black or African American        616        615   \n",
       "3     Hispanic, Latino, or of Spanish\\rOrigin        595        574   \n",
       "4  Native Hawaiian or Other Pacific\\rIslander          8         12   \n",
       "5                                       White       3057       3169   \n",
       "6                        Other Race/Ethnicity        308        348   \n",
       "7                      Unknown Race/Ethnicity        510        346   \n",
       "\n",
       "   ERAS 2016  ERAS 2017  ERAS 2018  Unnamed: 6  \n",
       "0         37         53         54         NaN  \n",
       "1       1540       1619       1510         NaN  \n",
       "2        566        565        567         NaN  \n",
       "3        569        598        628         NaN  \n",
       "4         12         13         19         NaN  \n",
       "5       2932       3095       3033         NaN  \n",
       "6        270        285        270         NaN  \n",
       "7        481        469        440         NaN  "
      ]
     },
     "execution_count": 5,
     "metadata": {},
     "output_type": "execute_result"
    }
   ],
   "source": [
    "df"
   ]
  },
  {
   "cell_type": "code",
   "execution_count": 6,
   "metadata": {
    "ExecuteTime": {
     "end_time": "2019-08-01T15:25:01.576790Z",
     "start_time": "2019-08-01T15:25:01.544333Z"
    }
   },
   "outputs": [],
   "source": [
    "df=df.drop(columns='Unnamed: 6')"
   ]
  },
  {
   "cell_type": "code",
   "execution_count": 7,
   "metadata": {
    "ExecuteTime": {
     "end_time": "2019-08-01T15:25:02.515536Z",
     "start_time": "2019-08-01T15:25:02.508771Z"
    }
   },
   "outputs": [],
   "source": [
    "df.race=df.race.str.replace('\\r',' ')"
   ]
  },
  {
   "cell_type": "code",
   "execution_count": 8,
   "metadata": {
    "ExecuteTime": {
     "end_time": "2019-08-01T15:25:03.503673Z",
     "start_time": "2019-08-01T15:25:03.498442Z"
    }
   },
   "outputs": [],
   "source": [
    "df.columns = df.columns.str.replace(\"ERAS\", \"\")"
   ]
  },
  {
   "cell_type": "code",
   "execution_count": 9,
   "metadata": {
    "ExecuteTime": {
     "end_time": "2019-08-01T15:25:05.147977Z",
     "start_time": "2019-08-01T15:25:05.141794Z"
    }
   },
   "outputs": [],
   "source": [
    "df.columns=df.columns.str.replace(r\"\\.1\", \"_applications_per_program\")"
   ]
  },
  {
   "cell_type": "code",
   "execution_count": 10,
   "metadata": {
    "ExecuteTime": {
     "end_time": "2019-08-01T15:25:05.961617Z",
     "start_time": "2019-08-01T15:25:05.956392Z"
    }
   },
   "outputs": [],
   "source": [
    "df.columns=df.columns.str.replace(\" \",'')"
   ]
  },
  {
   "cell_type": "code",
   "execution_count": 11,
   "metadata": {
    "ExecuteTime": {
     "end_time": "2019-08-01T15:25:07.191686Z",
     "start_time": "2019-08-01T15:25:07.186555Z"
    }
   },
   "outputs": [],
   "source": [
    "df.race=df.race.str.replace(' or ','/')\n"
   ]
  },
  {
   "cell_type": "code",
   "execution_count": 12,
   "metadata": {
    "ExecuteTime": {
     "end_time": "2019-08-01T15:25:07.490715Z",
     "start_time": "2019-08-01T15:25:07.482928Z"
    }
   },
   "outputs": [],
   "source": [
    "df.race=df.race.str.replace(',','_')"
   ]
  },
  {
   "cell_type": "code",
   "execution_count": 13,
   "metadata": {
    "ExecuteTime": {
     "end_time": "2019-08-01T15:25:07.833400Z",
     "start_time": "2019-08-01T15:25:07.825522Z"
    }
   },
   "outputs": [
    {
     "data": {
      "text/plain": [
       "0             American Indian/Alaska Native\n",
       "1                                     Asian\n",
       "2                    Black/African American\n",
       "3       Hispanic_ Latino_/of Spanish Origin\n",
       "4    Native Hawaiian/Other Pacific Islander\n",
       "5                                     White\n",
       "6                      Other Race/Ethnicity\n",
       "7                    Unknown Race/Ethnicity\n",
       "Name: race, dtype: object"
      ]
     },
     "execution_count": 13,
     "metadata": {},
     "output_type": "execute_result"
    }
   ],
   "source": [
    "df.race"
   ]
  },
  {
   "cell_type": "code",
   "execution_count": 14,
   "metadata": {
    "ExecuteTime": {
     "end_time": "2019-08-01T15:25:09.717783Z",
     "start_time": "2019-08-01T15:25:09.695441Z"
    }
   },
   "outputs": [],
   "source": [
    "df[df.columns[1:]]=df[df.columns[1:]].apply(pd.to_numeric)"
   ]
  },
  {
   "cell_type": "code",
   "execution_count": 15,
   "metadata": {
    "ExecuteTime": {
     "end_time": "2019-08-01T15:25:10.032100Z",
     "start_time": "2019-08-01T15:25:10.009476Z"
    }
   },
   "outputs": [],
   "source": [
    "#make a total row\n",
    "df.loc['Total',:]= df.sum(axis=0)"
   ]
  },
  {
   "cell_type": "code",
   "execution_count": 16,
   "metadata": {
    "ExecuteTime": {
     "end_time": "2019-08-01T15:25:10.748649Z",
     "start_time": "2019-08-01T15:25:10.727529Z"
    }
   },
   "outputs": [],
   "source": [
    "df['pct_14']=df['2014']/(df['2014']['Total'])*100"
   ]
  },
  {
   "cell_type": "code",
   "execution_count": 17,
   "metadata": {
    "ExecuteTime": {
     "end_time": "2019-08-01T15:25:11.211740Z",
     "start_time": "2019-08-01T15:25:11.200344Z"
    }
   },
   "outputs": [],
   "source": [
    "df['pct_15']=df['2015']/(df['2015']['Total'])*100\n",
    "df['pct_16']=df['2016']/(df['2016']['Total'])*100\n",
    "df['pct_17']=df['2017']/(df['2017']['Total'])*100\n",
    "df['pct_18']=df['2018']/(df['2018']['Total'])*100"
   ]
  },
  {
   "cell_type": "code",
   "execution_count": 18,
   "metadata": {
    "ExecuteTime": {
     "end_time": "2019-08-01T15:25:12.834213Z",
     "start_time": "2019-08-01T15:25:12.547618Z"
    }
   },
   "outputs": [
    {
     "name": "stderr",
     "output_type": "stream",
     "text": [
      "/Users/lilyliu-krason/.pyenv/versions/3.7.1/lib/python3.7/site-packages/ipykernel_launcher.py:1: SettingWithCopyWarning: \n",
      "A value is trying to be set on a copy of a slice from a DataFrame\n",
      "\n",
      "See the caveats in the documentation: http://pandas.pydata.org/pandas-docs/stable/indexing.html#indexing-view-versus-copy\n",
      "  \"\"\"Entry point for launching an IPython kernel.\n"
     ]
    }
   ],
   "source": [
    "df['race']['Total']='Total'"
   ]
  },
  {
   "cell_type": "markdown",
   "metadata": {},
   "source": [
    "# Dataframe Views"
   ]
  },
  {
   "cell_type": "code",
   "execution_count": 19,
   "metadata": {
    "ExecuteTime": {
     "end_time": "2019-08-01T15:25:14.643518Z",
     "start_time": "2019-08-01T15:25:14.613343Z"
    }
   },
   "outputs": [
    {
     "data": {
      "text/html": [
       "<div>\n",
       "<style scoped>\n",
       "    .dataframe tbody tr th:only-of-type {\n",
       "        vertical-align: middle;\n",
       "    }\n",
       "\n",
       "    .dataframe tbody tr th {\n",
       "        vertical-align: top;\n",
       "    }\n",
       "\n",
       "    .dataframe thead th {\n",
       "        text-align: right;\n",
       "    }\n",
       "</style>\n",
       "<table border=\"1\" class=\"dataframe\">\n",
       "  <thead>\n",
       "    <tr style=\"text-align: right;\">\n",
       "      <th></th>\n",
       "      <th>race</th>\n",
       "      <th>2014</th>\n",
       "      <th>2015</th>\n",
       "      <th>2016</th>\n",
       "      <th>2017</th>\n",
       "      <th>2018</th>\n",
       "      <th>pct_14</th>\n",
       "      <th>pct_15</th>\n",
       "      <th>pct_16</th>\n",
       "      <th>pct_17</th>\n",
       "      <th>pct_18</th>\n",
       "    </tr>\n",
       "  </thead>\n",
       "  <tbody>\n",
       "    <tr>\n",
       "      <th>0</th>\n",
       "      <td>American Indian/Alaska Native</td>\n",
       "      <td>44.0</td>\n",
       "      <td>55.0</td>\n",
       "      <td>37.0</td>\n",
       "      <td>53.0</td>\n",
       "      <td>54.0</td>\n",
       "      <td>0.645067</td>\n",
       "      <td>0.807992</td>\n",
       "      <td>0.577493</td>\n",
       "      <td>0.791399</td>\n",
       "      <td>0.828094</td>\n",
       "    </tr>\n",
       "    <tr>\n",
       "      <th>1</th>\n",
       "      <td>Asian</td>\n",
       "      <td>1683.0</td>\n",
       "      <td>1688.0</td>\n",
       "      <td>1540.0</td>\n",
       "      <td>1619.0</td>\n",
       "      <td>1510.0</td>\n",
       "      <td>24.673801</td>\n",
       "      <td>24.798002</td>\n",
       "      <td>24.036210</td>\n",
       "      <td>24.175004</td>\n",
       "      <td>23.155958</td>\n",
       "    </tr>\n",
       "    <tr>\n",
       "      <th>2</th>\n",
       "      <td>Black/African American</td>\n",
       "      <td>616.0</td>\n",
       "      <td>615.0</td>\n",
       "      <td>566.0</td>\n",
       "      <td>565.0</td>\n",
       "      <td>567.0</td>\n",
       "      <td>9.030934</td>\n",
       "      <td>9.034817</td>\n",
       "      <td>8.834088</td>\n",
       "      <td>8.436613</td>\n",
       "      <td>8.694985</td>\n",
       "    </tr>\n",
       "    <tr>\n",
       "      <th>3</th>\n",
       "      <td>Hispanic_ Latino_/of Spanish Origin</td>\n",
       "      <td>595.0</td>\n",
       "      <td>574.0</td>\n",
       "      <td>569.0</td>\n",
       "      <td>598.0</td>\n",
       "      <td>628.0</td>\n",
       "      <td>8.723061</td>\n",
       "      <td>8.432496</td>\n",
       "      <td>8.880912</td>\n",
       "      <td>8.929371</td>\n",
       "      <td>9.630425</td>\n",
       "    </tr>\n",
       "    <tr>\n",
       "      <th>4</th>\n",
       "      <td>Native Hawaiian/Other Pacific Islander</td>\n",
       "      <td>8.0</td>\n",
       "      <td>12.0</td>\n",
       "      <td>12.0</td>\n",
       "      <td>13.0</td>\n",
       "      <td>19.0</td>\n",
       "      <td>0.117285</td>\n",
       "      <td>0.176289</td>\n",
       "      <td>0.187295</td>\n",
       "      <td>0.194117</td>\n",
       "      <td>0.291366</td>\n",
       "    </tr>\n",
       "    <tr>\n",
       "      <th>5</th>\n",
       "      <td>White</td>\n",
       "      <td>3057.0</td>\n",
       "      <td>3169.0</td>\n",
       "      <td>2932.0</td>\n",
       "      <td>3095.0</td>\n",
       "      <td>3033.0</td>\n",
       "      <td>44.817475</td>\n",
       "      <td>46.555017</td>\n",
       "      <td>45.762447</td>\n",
       "      <td>46.214723</td>\n",
       "      <td>46.511271</td>\n",
       "    </tr>\n",
       "    <tr>\n",
       "      <th>6</th>\n",
       "      <td>Other Race/Ethnicity</td>\n",
       "      <td>308.0</td>\n",
       "      <td>348.0</td>\n",
       "      <td>270.0</td>\n",
       "      <td>285.0</td>\n",
       "      <td>270.0</td>\n",
       "      <td>4.515467</td>\n",
       "      <td>5.112384</td>\n",
       "      <td>4.214141</td>\n",
       "      <td>4.255637</td>\n",
       "      <td>4.140469</td>\n",
       "    </tr>\n",
       "    <tr>\n",
       "      <th>7</th>\n",
       "      <td>Unknown Race/Ethnicity</td>\n",
       "      <td>510.0</td>\n",
       "      <td>346.0</td>\n",
       "      <td>481.0</td>\n",
       "      <td>469.0</td>\n",
       "      <td>440.0</td>\n",
       "      <td>7.476910</td>\n",
       "      <td>5.083003</td>\n",
       "      <td>7.507414</td>\n",
       "      <td>7.003136</td>\n",
       "      <td>6.747431</td>\n",
       "    </tr>\n",
       "    <tr>\n",
       "      <th>Total</th>\n",
       "      <td>Total</td>\n",
       "      <td>6821.0</td>\n",
       "      <td>6807.0</td>\n",
       "      <td>6407.0</td>\n",
       "      <td>6697.0</td>\n",
       "      <td>6521.0</td>\n",
       "      <td>100.000000</td>\n",
       "      <td>100.000000</td>\n",
       "      <td>100.000000</td>\n",
       "      <td>100.000000</td>\n",
       "      <td>100.000000</td>\n",
       "    </tr>\n",
       "  </tbody>\n",
       "</table>\n",
       "</div>"
      ],
      "text/plain": [
       "                                         race    2014    2015    2016    2017  \\\n",
       "0               American Indian/Alaska Native    44.0    55.0    37.0    53.0   \n",
       "1                                       Asian  1683.0  1688.0  1540.0  1619.0   \n",
       "2                      Black/African American   616.0   615.0   566.0   565.0   \n",
       "3         Hispanic_ Latino_/of Spanish Origin   595.0   574.0   569.0   598.0   \n",
       "4      Native Hawaiian/Other Pacific Islander     8.0    12.0    12.0    13.0   \n",
       "5                                       White  3057.0  3169.0  2932.0  3095.0   \n",
       "6                        Other Race/Ethnicity   308.0   348.0   270.0   285.0   \n",
       "7                      Unknown Race/Ethnicity   510.0   346.0   481.0   469.0   \n",
       "Total                                   Total  6821.0  6807.0  6407.0  6697.0   \n",
       "\n",
       "         2018      pct_14      pct_15      pct_16      pct_17      pct_18  \n",
       "0        54.0    0.645067    0.807992    0.577493    0.791399    0.828094  \n",
       "1      1510.0   24.673801   24.798002   24.036210   24.175004   23.155958  \n",
       "2       567.0    9.030934    9.034817    8.834088    8.436613    8.694985  \n",
       "3       628.0    8.723061    8.432496    8.880912    8.929371    9.630425  \n",
       "4        19.0    0.117285    0.176289    0.187295    0.194117    0.291366  \n",
       "5      3033.0   44.817475   46.555017   45.762447   46.214723   46.511271  \n",
       "6       270.0    4.515467    5.112384    4.214141    4.255637    4.140469  \n",
       "7       440.0    7.476910    5.083003    7.507414    7.003136    6.747431  \n",
       "Total  6521.0  100.000000  100.000000  100.000000  100.000000  100.000000  "
      ]
     },
     "execution_count": 19,
     "metadata": {},
     "output_type": "execute_result"
    }
   ],
   "source": [
    "#this is the dataframe I have: \n",
    "df"
   ]
  },
  {
   "cell_type": "code",
   "execution_count": 20,
   "metadata": {
    "ExecuteTime": {
     "end_time": "2019-08-01T15:25:16.126422Z",
     "start_time": "2019-08-01T15:25:16.106043Z"
    }
   },
   "outputs": [
    {
     "data": {
      "text/html": [
       "<div>\n",
       "<style scoped>\n",
       "    .dataframe tbody tr th:only-of-type {\n",
       "        vertical-align: middle;\n",
       "    }\n",
       "\n",
       "    .dataframe tbody tr th {\n",
       "        vertical-align: top;\n",
       "    }\n",
       "\n",
       "    .dataframe thead th {\n",
       "        text-align: right;\n",
       "    }\n",
       "</style>\n",
       "<table border=\"1\" class=\"dataframe\">\n",
       "  <thead>\n",
       "    <tr style=\"text-align: right;\">\n",
       "      <th></th>\n",
       "      <th>race</th>\n",
       "      <th>pct_14</th>\n",
       "      <th>pct_15</th>\n",
       "      <th>pct_16</th>\n",
       "      <th>pct_17</th>\n",
       "      <th>pct_18</th>\n",
       "    </tr>\n",
       "  </thead>\n",
       "  <tbody>\n",
       "    <tr>\n",
       "      <th>0</th>\n",
       "      <td>American Indian/Alaska Native</td>\n",
       "      <td>0.645067</td>\n",
       "      <td>0.807992</td>\n",
       "      <td>0.577493</td>\n",
       "      <td>0.791399</td>\n",
       "      <td>0.828094</td>\n",
       "    </tr>\n",
       "    <tr>\n",
       "      <th>1</th>\n",
       "      <td>Asian</td>\n",
       "      <td>24.673801</td>\n",
       "      <td>24.798002</td>\n",
       "      <td>24.036210</td>\n",
       "      <td>24.175004</td>\n",
       "      <td>23.155958</td>\n",
       "    </tr>\n",
       "    <tr>\n",
       "      <th>2</th>\n",
       "      <td>Black/African American</td>\n",
       "      <td>9.030934</td>\n",
       "      <td>9.034817</td>\n",
       "      <td>8.834088</td>\n",
       "      <td>8.436613</td>\n",
       "      <td>8.694985</td>\n",
       "    </tr>\n",
       "    <tr>\n",
       "      <th>3</th>\n",
       "      <td>Hispanic_ Latino_/of Spanish Origin</td>\n",
       "      <td>8.723061</td>\n",
       "      <td>8.432496</td>\n",
       "      <td>8.880912</td>\n",
       "      <td>8.929371</td>\n",
       "      <td>9.630425</td>\n",
       "    </tr>\n",
       "    <tr>\n",
       "      <th>4</th>\n",
       "      <td>Native Hawaiian/Other Pacific Islander</td>\n",
       "      <td>0.117285</td>\n",
       "      <td>0.176289</td>\n",
       "      <td>0.187295</td>\n",
       "      <td>0.194117</td>\n",
       "      <td>0.291366</td>\n",
       "    </tr>\n",
       "    <tr>\n",
       "      <th>5</th>\n",
       "      <td>White</td>\n",
       "      <td>44.817475</td>\n",
       "      <td>46.555017</td>\n",
       "      <td>45.762447</td>\n",
       "      <td>46.214723</td>\n",
       "      <td>46.511271</td>\n",
       "    </tr>\n",
       "    <tr>\n",
       "      <th>6</th>\n",
       "      <td>Other Race/Ethnicity</td>\n",
       "      <td>4.515467</td>\n",
       "      <td>5.112384</td>\n",
       "      <td>4.214141</td>\n",
       "      <td>4.255637</td>\n",
       "      <td>4.140469</td>\n",
       "    </tr>\n",
       "    <tr>\n",
       "      <th>7</th>\n",
       "      <td>Unknown Race/Ethnicity</td>\n",
       "      <td>7.476910</td>\n",
       "      <td>5.083003</td>\n",
       "      <td>7.507414</td>\n",
       "      <td>7.003136</td>\n",
       "      <td>6.747431</td>\n",
       "    </tr>\n",
       "  </tbody>\n",
       "</table>\n",
       "</div>"
      ],
      "text/plain": [
       "                                     race     pct_14     pct_15     pct_16  \\\n",
       "0           American Indian/Alaska Native   0.645067   0.807992   0.577493   \n",
       "1                                   Asian  24.673801  24.798002  24.036210   \n",
       "2                  Black/African American   9.030934   9.034817   8.834088   \n",
       "3     Hispanic_ Latino_/of Spanish Origin   8.723061   8.432496   8.880912   \n",
       "4  Native Hawaiian/Other Pacific Islander   0.117285   0.176289   0.187295   \n",
       "5                                   White  44.817475  46.555017  45.762447   \n",
       "6                    Other Race/Ethnicity   4.515467   5.112384   4.214141   \n",
       "7                  Unknown Race/Ethnicity   7.476910   5.083003   7.507414   \n",
       "\n",
       "      pct_17     pct_18  \n",
       "0   0.791399   0.828094  \n",
       "1  24.175004  23.155958  \n",
       "2   8.436613   8.694985  \n",
       "3   8.929371   9.630425  \n",
       "4   0.194117   0.291366  \n",
       "5  46.214723  46.511271  \n",
       "6   4.255637   4.140469  \n",
       "7   7.003136   6.747431  "
      ]
     },
     "execution_count": 20,
     "metadata": {},
     "output_type": "execute_result"
    }
   ],
   "source": [
    "df[['race','pct_14','pct_15','pct_16','pct_17','pct_18']][:-1]"
   ]
  },
  {
   "cell_type": "code",
   "execution_count": 21,
   "metadata": {
    "ExecuteTime": {
     "end_time": "2019-08-01T15:25:16.588771Z",
     "start_time": "2019-08-01T15:25:16.585671Z"
    }
   },
   "outputs": [],
   "source": [
    "# sns.set(font_scale=3) \n",
    "# df_race.iloc[0,:].values"
   ]
  },
  {
   "cell_type": "code",
   "execution_count": 22,
   "metadata": {
    "ExecuteTime": {
     "end_time": "2019-08-01T15:25:18.601350Z",
     "start_time": "2019-08-01T15:25:18.530477Z"
    }
   },
   "outputs": [],
   "source": [
    "#Creating second view\n",
    "df_race = df[['race','pct_14','pct_15','pct_16','pct_17','pct_18']][:-1].T\n",
    "df_race.columns=df_race.iloc[0,:].values\n",
    "df_race=df_race.iloc[1:,:]\n",
    "for c in list(df_race.columns):\n",
    "    df_race[c]=df_race[c].astype(float)\n",
    "df_race.index=range(2014, 2019, 1)\n",
    "#adding a year column from the index\n",
    "df_race['year'] = df_race.index\n",
    "df_race['year']= df_race['year'].astype(int)"
   ]
  },
  {
   "cell_type": "code",
   "execution_count": 23,
   "metadata": {
    "ExecuteTime": {
     "end_time": "2019-08-01T15:25:19.105294Z",
     "start_time": "2019-08-01T15:25:19.025566Z"
    }
   },
   "outputs": [],
   "source": [
    "df_number= df[['race','2014','2015','2016','2017','2018']][:-1].T\n",
    "df_number.columns=df_number.iloc[0,:].values\n",
    "df_number=df_number.iloc[1:,:]\n",
    "for c in list(df_number.columns):\n",
    "    df_number[c]=df_number[c].astype(float)\n",
    "df_number['year'] = df_number.index\n",
    "df_number['year']= df_number['year'].astype(int)"
   ]
  },
  {
   "cell_type": "code",
   "execution_count": 24,
   "metadata": {
    "ExecuteTime": {
     "end_time": "2019-08-01T15:25:20.328275Z",
     "start_time": "2019-08-01T15:25:20.309440Z"
    }
   },
   "outputs": [
    {
     "data": {
      "text/html": [
       "<div>\n",
       "<style scoped>\n",
       "    .dataframe tbody tr th:only-of-type {\n",
       "        vertical-align: middle;\n",
       "    }\n",
       "\n",
       "    .dataframe tbody tr th {\n",
       "        vertical-align: top;\n",
       "    }\n",
       "\n",
       "    .dataframe thead th {\n",
       "        text-align: right;\n",
       "    }\n",
       "</style>\n",
       "<table border=\"1\" class=\"dataframe\">\n",
       "  <thead>\n",
       "    <tr style=\"text-align: right;\">\n",
       "      <th></th>\n",
       "      <th>American Indian/Alaska Native</th>\n",
       "      <th>Asian</th>\n",
       "      <th>Black/African American</th>\n",
       "      <th>Hispanic_ Latino_/of Spanish Origin</th>\n",
       "      <th>Native Hawaiian/Other Pacific Islander</th>\n",
       "      <th>White</th>\n",
       "      <th>Other Race/Ethnicity</th>\n",
       "      <th>Unknown Race/Ethnicity</th>\n",
       "      <th>year</th>\n",
       "    </tr>\n",
       "  </thead>\n",
       "  <tbody>\n",
       "    <tr>\n",
       "      <th>2014</th>\n",
       "      <td>44.0</td>\n",
       "      <td>1683.0</td>\n",
       "      <td>616.0</td>\n",
       "      <td>595.0</td>\n",
       "      <td>8.0</td>\n",
       "      <td>3057.0</td>\n",
       "      <td>308.0</td>\n",
       "      <td>510.0</td>\n",
       "      <td>2014</td>\n",
       "    </tr>\n",
       "    <tr>\n",
       "      <th>2015</th>\n",
       "      <td>55.0</td>\n",
       "      <td>1688.0</td>\n",
       "      <td>615.0</td>\n",
       "      <td>574.0</td>\n",
       "      <td>12.0</td>\n",
       "      <td>3169.0</td>\n",
       "      <td>348.0</td>\n",
       "      <td>346.0</td>\n",
       "      <td>2015</td>\n",
       "    </tr>\n",
       "    <tr>\n",
       "      <th>2016</th>\n",
       "      <td>37.0</td>\n",
       "      <td>1540.0</td>\n",
       "      <td>566.0</td>\n",
       "      <td>569.0</td>\n",
       "      <td>12.0</td>\n",
       "      <td>2932.0</td>\n",
       "      <td>270.0</td>\n",
       "      <td>481.0</td>\n",
       "      <td>2016</td>\n",
       "    </tr>\n",
       "    <tr>\n",
       "      <th>2017</th>\n",
       "      <td>53.0</td>\n",
       "      <td>1619.0</td>\n",
       "      <td>565.0</td>\n",
       "      <td>598.0</td>\n",
       "      <td>13.0</td>\n",
       "      <td>3095.0</td>\n",
       "      <td>285.0</td>\n",
       "      <td>469.0</td>\n",
       "      <td>2017</td>\n",
       "    </tr>\n",
       "    <tr>\n",
       "      <th>2018</th>\n",
       "      <td>54.0</td>\n",
       "      <td>1510.0</td>\n",
       "      <td>567.0</td>\n",
       "      <td>628.0</td>\n",
       "      <td>19.0</td>\n",
       "      <td>3033.0</td>\n",
       "      <td>270.0</td>\n",
       "      <td>440.0</td>\n",
       "      <td>2018</td>\n",
       "    </tr>\n",
       "  </tbody>\n",
       "</table>\n",
       "</div>"
      ],
      "text/plain": [
       "      American Indian/Alaska Native   Asian  Black/African American  \\\n",
       "2014                           44.0  1683.0                   616.0   \n",
       "2015                           55.0  1688.0                   615.0   \n",
       "2016                           37.0  1540.0                   566.0   \n",
       "2017                           53.0  1619.0                   565.0   \n",
       "2018                           54.0  1510.0                   567.0   \n",
       "\n",
       "      Hispanic_ Latino_/of Spanish Origin  \\\n",
       "2014                                595.0   \n",
       "2015                                574.0   \n",
       "2016                                569.0   \n",
       "2017                                598.0   \n",
       "2018                                628.0   \n",
       "\n",
       "      Native Hawaiian/Other Pacific Islander   White  Other Race/Ethnicity  \\\n",
       "2014                                     8.0  3057.0                 308.0   \n",
       "2015                                    12.0  3169.0                 348.0   \n",
       "2016                                    12.0  2932.0                 270.0   \n",
       "2017                                    13.0  3095.0                 285.0   \n",
       "2018                                    19.0  3033.0                 270.0   \n",
       "\n",
       "      Unknown Race/Ethnicity  year  \n",
       "2014                   510.0  2014  \n",
       "2015                   346.0  2015  \n",
       "2016                   481.0  2016  \n",
       "2017                   469.0  2017  \n",
       "2018                   440.0  2018  "
      ]
     },
     "execution_count": 24,
     "metadata": {},
     "output_type": "execute_result"
    }
   ],
   "source": [
    "df_number"
   ]
  },
  {
   "cell_type": "code",
   "execution_count": 25,
   "metadata": {
    "ExecuteTime": {
     "end_time": "2019-08-01T15:25:21.766670Z",
     "start_time": "2019-08-01T15:25:21.744624Z"
    }
   },
   "outputs": [],
   "source": [
    "#putting dataframe into a csv so that we can combine with graduates later\n",
    "df_race.to_csv('surgery-gen_residency_pct.csv',index=False)\n",
    "df_number.to_csv('surgery-gen_residency_number.csv',index=False)"
   ]
  },
  {
   "cell_type": "code",
   "execution_count": 26,
   "metadata": {
    "ExecuteTime": {
     "end_time": "2019-08-01T15:25:22.283141Z",
     "start_time": "2019-08-01T15:25:22.275239Z"
    }
   },
   "outputs": [],
   "source": [
    "sns.set(font_scale=1) "
   ]
  },
  {
   "cell_type": "code",
   "execution_count": 27,
   "metadata": {
    "ExecuteTime": {
     "end_time": "2019-08-01T15:25:28.782302Z",
     "start_time": "2019-08-01T15:25:24.616284Z"
    }
   },
   "outputs": [
    {
     "name": "stderr",
     "output_type": "stream",
     "text": [
      "/Users/lilyliu-krason/.pyenv/versions/3.7.1/lib/python3.7/site-packages/ipykernel_launcher.py:4: RuntimeWarning: Second argument 'White' is ambiguous: could be a color spec but is in data; using as data.  Either rename the entry in data or use three arguments to plot.\n",
      "  after removing the cwd from sys.path.\n"
     ]
    },
    {
     "data": {
      "image/png": "[encoded data removed]",
      "text/plain": [
       "<Figure size 1440x360 with 1 Axes>"
      ]
     },
     "metadata": {},
     "output_type": "display_data"
    },
    {
     "data": {
      "image/png": "[encoded data removed]",
      "text/plain": [
       "<Figure size 1440x360 with 1 Axes>"
      ]
     },
     "metadata": {},
     "output_type": "display_data"
    },
    {
     "data": {
      "image/png": "[encoded data removed]",
      "text/plain": [
       "<Figure size 1440x360 with 1 Axes>"
      ]
     },
     "metadata": {},
     "output_type": "display_data"
    },
    {
     "data": {
      "image/png": "[encoded data removed]",
      "text/plain": [
       "<Figure size 1440x360 with 1 Axes>"
      ]
     },
     "metadata": {},
     "output_type": "display_data"
    },
    {
     "data": {
      "image/png": "[encoded data removed]",
      "text/plain": [
       "<Figure size 1440x360 with 1 Axes>"
      ]
     },
     "metadata": {},
     "output_type": "display_data"
    },
    {
     "data": {
      "image/png": "[encoded data removed]",
      "text/plain": [
       "<Figure size 1440x360 with 1 Axes>"
      ]
     },
     "metadata": {},
     "output_type": "display_data"
    },
    {
     "data": {
      "image/png": "[encoded data removed]",
      "text/plain": [
       "<Figure size 1440x360 with 1 Axes>"
      ]
     },
     "metadata": {},
     "output_type": "display_data"
    },
    {
     "data": {
      "image/png": "[encoded data removed]",
      "text/plain": [
       "<Figure size 1440x360 with 1 Axes>"
      ]
     },
     "metadata": {},
     "output_type": "display_data"
    }
   ],
   "source": [
    "rcParams['figure.figsize'] = 20, 5\n",
    "for c in df_race.columns[:-1]:\n",
    "    plt.figure()\n",
    "    plt.plot('year', c, data=df_race,marker='o')\n",
    "    plt.xticks(df_race['year'].values)\n",
    "    plt.yticks(range(0,42,5))\n",
    "    plt.title(c)"
   ]
  },
  {
   "cell_type": "code",
   "execution_count": 28,
   "metadata": {
    "ExecuteTime": {
     "end_time": "2019-08-01T15:25:37.617344Z",
     "start_time": "2019-08-01T15:25:36.892696Z"
    }
   },
   "outputs": [
    {
     "name": "stderr",
     "output_type": "stream",
     "text": [
      "/Users/lilyliu-krason/.pyenv/versions/3.7.1/lib/python3.7/site-packages/ipykernel_launcher.py:2: RuntimeWarning: Second argument 'White' is ambiguous: could be a color spec but is in data; using as data.  Either rename the entry in data or use three arguments to plot.\n",
      "  \n"
     ]
    },
    {
     "data": {
      "image/png": "[encoded data removed]",
      "text/plain": [
       "<Figure size 1440x360 with 1 Axes>"
      ]
     },
     "metadata": {},
     "output_type": "display_data"
    }
   ],
   "source": [
    "for c in df_race.columns[:-1]:  \n",
    "    plt.plot('year', c, data=df_race,marker='o')\n",
    "    plt.legend(loc='upper right', bbox_to_anchor=(0.5, 0.3, 0.5, 0.5))\n",
    "    plt.xticks(df_race['year'].values)\n",
    "    plt.title('Percentage of Residency Applications by Year and Race')\n",
    "#save to pdf out of loop"
   ]
  },
  {
   "cell_type": "code",
   "execution_count": 29,
   "metadata": {
    "ExecuteTime": {
     "end_time": "2019-08-01T15:25:40.076993Z",
     "start_time": "2019-08-01T15:25:39.259050Z"
    }
   },
   "outputs": [
    {
     "data": {
      "text/plain": [
       "<matplotlib.axes._subplots.AxesSubplot at 0x117aa2f28>"
      ]
     },
     "execution_count": 29,
     "metadata": {},
     "output_type": "execute_result"
    },
    {
     "data": {
      "image/png": "[encoded data removed]",
      "text/plain": [
       "<Figure size 1440x360 with 1 Axes>"
      ]
     },
     "metadata": {},
     "output_type": "display_data"
    }
   ],
   "source": [
    "df[['race','pct_14','pct_15','pct_16','pct_17','pct_18']][:-1].plot(kind='barh',x='race')"
   ]
  },
  {
   "cell_type": "code",
   "execution_count": 30,
   "metadata": {
    "ExecuteTime": {
     "end_time": "2019-08-01T15:25:46.610786Z",
     "start_time": "2019-08-01T15:25:46.601242Z"
    }
   },
   "outputs": [],
   "source": [
    "df_num=df[['race','2014','2015','2016','2017','2018']]\n",
    "df_num.to_csv('surgery-gen_num.csv',index=False)"
   ]
  },
  {
   "cell_type": "code",
   "execution_count": 31,
   "metadata": {
    "ExecuteTime": {
     "end_time": "2019-08-01T15:25:48.257569Z",
     "start_time": "2019-08-01T15:25:48.237844Z"
    }
   },
   "outputs": [
    {
     "data": {
      "text/html": [
       "<div>\n",
       "<style scoped>\n",
       "    .dataframe tbody tr th:only-of-type {\n",
       "        vertical-align: middle;\n",
       "    }\n",
       "\n",
       "    .dataframe tbody tr th {\n",
       "        vertical-align: top;\n",
       "    }\n",
       "\n",
       "    .dataframe thead th {\n",
       "        text-align: right;\n",
       "    }\n",
       "</style>\n",
       "<table border=\"1\" class=\"dataframe\">\n",
       "  <thead>\n",
       "    <tr style=\"text-align: right;\">\n",
       "      <th></th>\n",
       "      <th>race</th>\n",
       "      <th>2014</th>\n",
       "      <th>2015</th>\n",
       "      <th>2016</th>\n",
       "      <th>2017</th>\n",
       "      <th>2018</th>\n",
       "    </tr>\n",
       "  </thead>\n",
       "  <tbody>\n",
       "    <tr>\n",
       "      <th>0</th>\n",
       "      <td>American Indian/Alaska Native</td>\n",
       "      <td>44.0</td>\n",
       "      <td>55.0</td>\n",
       "      <td>37.0</td>\n",
       "      <td>53.0</td>\n",
       "      <td>54.0</td>\n",
       "    </tr>\n",
       "    <tr>\n",
       "      <th>1</th>\n",
       "      <td>Asian</td>\n",
       "      <td>1683.0</td>\n",
       "      <td>1688.0</td>\n",
       "      <td>1540.0</td>\n",
       "      <td>1619.0</td>\n",
       "      <td>1510.0</td>\n",
       "    </tr>\n",
       "    <tr>\n",
       "      <th>2</th>\n",
       "      <td>Black/African American</td>\n",
       "      <td>616.0</td>\n",
       "      <td>615.0</td>\n",
       "      <td>566.0</td>\n",
       "      <td>565.0</td>\n",
       "      <td>567.0</td>\n",
       "    </tr>\n",
       "    <tr>\n",
       "      <th>3</th>\n",
       "      <td>Hispanic_ Latino_/of Spanish Origin</td>\n",
       "      <td>595.0</td>\n",
       "      <td>574.0</td>\n",
       "      <td>569.0</td>\n",
       "      <td>598.0</td>\n",
       "      <td>628.0</td>\n",
       "    </tr>\n",
       "    <tr>\n",
       "      <th>4</th>\n",
       "      <td>Native Hawaiian/Other Pacific Islander</td>\n",
       "      <td>8.0</td>\n",
       "      <td>12.0</td>\n",
       "      <td>12.0</td>\n",
       "      <td>13.0</td>\n",
       "      <td>19.0</td>\n",
       "    </tr>\n",
       "    <tr>\n",
       "      <th>5</th>\n",
       "      <td>White</td>\n",
       "      <td>3057.0</td>\n",
       "      <td>3169.0</td>\n",
       "      <td>2932.0</td>\n",
       "      <td>3095.0</td>\n",
       "      <td>3033.0</td>\n",
       "    </tr>\n",
       "    <tr>\n",
       "      <th>6</th>\n",
       "      <td>Other Race/Ethnicity</td>\n",
       "      <td>308.0</td>\n",
       "      <td>348.0</td>\n",
       "      <td>270.0</td>\n",
       "      <td>285.0</td>\n",
       "      <td>270.0</td>\n",
       "    </tr>\n",
       "    <tr>\n",
       "      <th>7</th>\n",
       "      <td>Unknown Race/Ethnicity</td>\n",
       "      <td>510.0</td>\n",
       "      <td>346.0</td>\n",
       "      <td>481.0</td>\n",
       "      <td>469.0</td>\n",
       "      <td>440.0</td>\n",
       "    </tr>\n",
       "    <tr>\n",
       "      <th>Total</th>\n",
       "      <td>Total</td>\n",
       "      <td>6821.0</td>\n",
       "      <td>6807.0</td>\n",
       "      <td>6407.0</td>\n",
       "      <td>6697.0</td>\n",
       "      <td>6521.0</td>\n",
       "    </tr>\n",
       "  </tbody>\n",
       "</table>\n",
       "</div>"
      ],
      "text/plain": [
       "                                         race    2014    2015    2016    2017  \\\n",
       "0               American Indian/Alaska Native    44.0    55.0    37.0    53.0   \n",
       "1                                       Asian  1683.0  1688.0  1540.0  1619.0   \n",
       "2                      Black/African American   616.0   615.0   566.0   565.0   \n",
       "3         Hispanic_ Latino_/of Spanish Origin   595.0   574.0   569.0   598.0   \n",
       "4      Native Hawaiian/Other Pacific Islander     8.0    12.0    12.0    13.0   \n",
       "5                                       White  3057.0  3169.0  2932.0  3095.0   \n",
       "6                        Other Race/Ethnicity   308.0   348.0   270.0   285.0   \n",
       "7                      Unknown Race/Ethnicity   510.0   346.0   481.0   469.0   \n",
       "Total                                   Total  6821.0  6807.0  6407.0  6697.0   \n",
       "\n",
       "         2018  \n",
       "0        54.0  \n",
       "1      1510.0  \n",
       "2       567.0  \n",
       "3       628.0  \n",
       "4        19.0  \n",
       "5      3033.0  \n",
       "6       270.0  \n",
       "7       440.0  \n",
       "Total  6521.0  "
      ]
     },
     "execution_count": 31,
     "metadata": {},
     "output_type": "execute_result"
    }
   ],
   "source": [
    "df_num"
   ]
  },
  {
   "cell_type": "code",
   "execution_count": null,
   "metadata": {},
   "outputs": [],
   "source": []
  }
 ],
 "metadata": {
  "kernelspec": {
   "display_name": "Python 3",
   "language": "python",
   "name": "python3"
  },
  "language_info": {
   "codemirror_mode": {
    "name": "ipython",
    "version": 3
   },
   "file_extension": ".py",
   "mimetype": "text/x-python",
   "name": "python",
   "nbconvert_exporter": "python",
   "pygments_lexer": "ipython3",
   "version": "3.7.1"
  },
  "toc": {
   "base_numbering": 1,
   "nav_menu": {},
   "number_sections": true,
   "sideBar": true,
   "skip_h1_title": false,
   "title_cell": "Table of Contents",
   "title_sidebar": "Contents",
   "toc_cell": false,
   "toc_position": {},
   "toc_section_display": true,
   "toc_window_display": false
  },
  "varInspector": {
   "cols": {
    "lenName": 16,
    "lenType": 16,
    "lenVar": 40
   },
   "kernels_config": {
    "python": {
     "delete_cmd_postfix": "",
     "delete_cmd_prefix": "del ",
     "library": "var_list.py",
     "varRefreshCmd": "print(var_dic_list())"
    },
    "r": {
     "delete_cmd_postfix": ") ",
     "delete_cmd_prefix": "rm(",
     "library": "var_list.r",
     "varRefreshCmd": "cat(var_dic_list()) "
    }
   },
   "types_to_exclude": [
    "module",
    "function",
    "builtin_function_or_method",
    "instance",
    "_Feature"
   ],
   "window_display": false
  }
 },
 "nbformat": 4,
 "nbformat_minor": 2
}
