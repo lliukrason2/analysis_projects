{
 "cells": [
  {
   "cell_type": "markdown",
   "metadata": {},
   "source": [
    "# Machine learning on wine\n",
    "\n",
    "**Topics:** Text analysis, linear regression, logistic regression, text analysis, classification\n",
    "\n",
    "**Datasets**\n",
    "\n",
    "- **wine-reviews.csv** Wine reviews scraped from https://www.winemag.com/\n",
    "- **Data dictionary:** just go [here](https://www.winemag.com/buying-guide/tenuta-dellornellaia-2007-masseto-merlot-toscana/) and look at the page\n",
    "\n",
    "## The background\n",
    "\n",
    "You work in the **worst newsroom in the world**, and you've had a hard few weeks at work - a couple stories killed, a few scoops stolen out from under you. It's not going well.\n",
    "\n",
    "And because things just can't get any worse: your boss shows up, carrying a huge binder. She slams it down on your desk.\n",
    "\n",
    "\"You know some machine learning stuff, right?\"\n",
    "\n",
    "You say \"no,\" but she isn't listening. She's giving you an assignment, the _worst assignment_:\n",
    "\n",
    "> Machine learning is the new maps. Let's get some hits!\n",
    ">\n",
    "> **Do some machine learning on this stuff.**\n",
    "\n",
    "\"This stuff\" is wine reviews.\n",
    "\n",
    "## A tiny, meagre bit of help\n",
    "\n",
    "You have a dataset. It has some stuff in it:\n",
    "\n",
    "* **Numbers:**\n",
    "    - Year published\n",
    "    - Alcohol percentage\n",
    "    - Price\n",
    "    - Score\n",
    "    - Bottle size\n",
    "* **Categories:**\n",
    "    - Red vs white\n",
    "    - Different countries\n",
    "    - Importer\n",
    "    - Designation\n",
    "    - Taster\n",
    "    - Variety\n",
    "    - Winery\n",
    "* **Free text:**\n",
    "    - Wine description"
   ]
  },
  {
   "cell_type": "markdown",
   "metadata": {},
   "source": [
    "# Cleaning up your data\n",
    "\n",
    "Many of these pieces - the alcohol, the year produced, the bottle size, the country the wine is from - aren't in a format you can use. Convert the ones to numbers that are numbers, and extract the others from the appropriate strings."
   ]
  },
  {
   "cell_type": "code",
   "execution_count": null,
   "metadata": {},
   "outputs": [],
   "source": []
  },
  {
   "cell_type": "code",
   "execution_count": null,
   "metadata": {},
   "outputs": [],
   "source": []
  },
  {
   "cell_type": "code",
   "execution_count": null,
   "metadata": {},
   "outputs": [],
   "source": []
  },
  {
   "cell_type": "code",
   "execution_count": null,
   "metadata": {},
   "outputs": [],
   "source": []
  },
  {
   "cell_type": "markdown",
   "metadata": {},
   "source": [
    "## What might be interesting in this dataset?\n",
    "\n",
    "Maybe start out playing around _without_ machine learning. Here are some thoughts to get you started:\n",
    "\n",
    "* I've heard that since the 90's wine has gone through [Parkerization](https://www.estatewinebrokers.com/blog/the-parkerization-of-wine-in-the-1990s-and-beyond/), an increase in production of high-alcohol, fruity red wines thanks to the influence of wine critic Robert Parker.\n",
    "* Red and white wines taste different, obviously, but people always use [goofy words to describe them](https://winefolly.com/tutorial/40-wine-descriptions/)\n",
    "* Once upon a time in 1976 [California wines proved themselves against France](https://en.wikipedia.org/wiki/Judgment_of_Paris_(wine)) and France got very angry about it"
   ]
  },
  {
   "cell_type": "code",
   "execution_count": null,
   "metadata": {},
   "outputs": [],
   "source": []
  },
  {
   "cell_type": "code",
   "execution_count": null,
   "metadata": {},
   "outputs": [],
   "source": []
  },
  {
   "cell_type": "code",
   "execution_count": null,
   "metadata": {},
   "outputs": [],
   "source": []
  },
  {
   "cell_type": "markdown",
   "metadata": {},
   "source": [
    "## But machine learning?\n",
    "\n",
    "Well, you can usually break machine learning down into a few different things. These aren't necessarily perfect ways of categorizing things, but eh, close enough.\n",
    "\n",
    "* **Predicting a number**\n",
    "    - Linear regression\n",
    "    - How does a change in unemployment translate into a change in life expectancy?\n",
    "* **Predicting a category** (aka classification)\n",
    "    - Lots of algos options: logistic regression, random forest, etc\n",
    "    - For example, predicting cuisines based on ingredients\n",
    "* **Seeing what influences a numeric outcome**\n",
    "    - Linear regression since the output is a number\n",
    "    - For example, minority and poverty status on test scores \n",
    "* **Seeing what influences a categorical outcome**\n",
    "    - Logistic regression since the output is a category\n",
    "    - Race and car speed for if you get a waring vs ticket\n",
    "    - Wet/dry pavement and car weight if you survive or not in a car crash)\n",
    "\n",
    "We have numbers, we have categories, we have all sorts of stuff. **What are some ways we can mash them together and use machine learning?**\n",
    "\n",
    "### Brainstorm some ideas\n",
    "\n",
    "Use the categories above to try to come up with some ideas. Be sure to scroll up where I break down categories vs numbers vs text!\n",
    "\n",
    "**I'll give you one idea for free:** if you don't have any ideas, start off by creating a classifier that determines whether a wine is white or red based on the wine's description."
   ]
  },
  {
   "cell_type": "code",
   "execution_count": null,
   "metadata": {},
   "outputs": [],
   "source": []
  },
  {
   "cell_type": "markdown",
   "metadata": {},
   "source": [
    "You can also go to https://library.columbia.edu and see if you can find some academic papers about wine. I'm sure they'll inspire you! (and they might even have some ML ideas in them you can steal, too)"
   ]
  },
  {
   "cell_type": "markdown",
   "metadata": {},
   "source": [
    "# Implement 2 of your machine learning ideas"
   ]
  },
  {
   "cell_type": "code",
   "execution_count": null,
   "metadata": {},
   "outputs": [],
   "source": []
  },
  {
   "cell_type": "code",
   "execution_count": null,
   "metadata": {},
   "outputs": [],
   "source": []
  },
  {
   "cell_type": "code",
   "execution_count": null,
   "metadata": {},
   "outputs": [],
   "source": []
  },
  {
   "cell_type": "code",
   "execution_count": null,
   "metadata": {},
   "outputs": [],
   "source": []
  },
  {
   "cell_type": "code",
   "execution_count": null,
   "metadata": {},
   "outputs": [],
   "source": []
  },
  {
   "cell_type": "code",
   "execution_count": null,
   "metadata": {},
   "outputs": [],
   "source": []
  }
 ],
 "metadata": {
  "kernelspec": {
   "display_name": "Python 3",
   "language": "python",
   "name": "python3"
  },
  "language_info": {
   "codemirror_mode": {
    "name": "ipython",
    "version": 3
   },
   "file_extension": ".py",
   "mimetype": "text/x-python",
   "name": "python",
   "nbconvert_exporter": "python",
   "pygments_lexer": "ipython3",
   "version": "3.7.1"
  },
  "toc": {
   "base_numbering": 1,
   "nav_menu": {},
   "number_sections": true,
   "sideBar": true,
   "skip_h1_title": false,
   "title_cell": "Table of Contents",
   "title_sidebar": "Contents",
   "toc_cell": false,
   "toc_position": {},
   "toc_section_display": true,
   "toc_window_display": false
  },
  "varInspector": {
   "cols": {
    "lenName": 16,
    "lenType": 16,
    "lenVar": 40
   },
   "kernels_config": {
    "python": {
     "delete_cmd_postfix": "",
     "delete_cmd_prefix": "del ",
     "library": "var_list.py",
     "varRefreshCmd": "print(var_dic_list())"
    },
    "r": {
     "delete_cmd_postfix": ") ",
     "delete_cmd_prefix": "rm(",
     "library": "var_list.r",
     "varRefreshCmd": "cat(var_dic_list()) "
    }
   },
   "types_to_exclude": [
    "module",
    "function",
    "builtin_function_or_method",
    "instance",
    "_Feature"
   ],
   "window_display": false
  }
 },
 "nbformat": 4,
 "nbformat_minor": 2
}
