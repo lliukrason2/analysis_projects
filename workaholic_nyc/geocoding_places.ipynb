{
 "cells": [
  {
   "cell_type": "code",
   "execution_count": 85,
   "metadata": {},
   "outputs": [],
   "source": [
    "import json\n",
    "import os\n",
    "import time\n",
    "import requests\n",
    "import pandas as pd\n",
    "from dotenv import load_dotenv\n",
    "load_dotenv()\n",
    "import os\n",
    "\n",
    "API_KEY = os.getenv(\"GOOGLE_API_KEY\")"
   ]
  },
  {
   "cell_type": "code",
   "execution_count": 86,
   "metadata": {},
   "outputs": [],
   "source": [
    "def process_to_geojson(file):\n",
    "    geo_data = {\"type\": \"FeatureCollection\", \"features\":[]}\n",
    "    for row in file:\n",
    "        this_dict = {\"type\": \"Feature\", \"properties\":{}, \"geometry\": {}}\n",
    "        for key, value in row.items():\n",
    "            key_names = key.split('.')\n",
    "            if key_names[0] == 'geometry':\n",
    "                this_dict['geometry'][key_names[1]] = value\n",
    "            if str(key_names[0]) == 'properties':\n",
    "                this_dict['properties'][key_names[1]] = value\n",
    "        geo_data['features'].append(this_dict)\n",
    "    return geo_data"
   ]
  },
  {
   "cell_type": "code",
   "execution_count": 87,
   "metadata": {},
   "outputs": [],
   "source": [
    "placeNames=['Arlo Soho New York,NY','CloudM Bowery New York, NY','Ace Hotel NYC','Hi Life Bar and Grill, NY','St.James Gate NY','Studio at the Freehand','The Marlton Hotel NY','The Bean-824 Broadway','The Bean-31 3rd Ave','The Bean 147 1st Ave','Round K']"
   ]
  },
  {
   "cell_type": "code",
   "execution_count": 88,
   "metadata": {},
   "outputs": [],
   "source": [
    "geometries_df=[]"
   ]
  },
  {
   "cell_type": "code",
   "execution_count": 89,
   "metadata": {},
   "outputs": [
    {
     "data": {
      "text/plain": [
       "[{'place': 'Arlo Soho New York,NY',\n",
       "  'geometry.type': 'Point',\n",
       "  'geometry.coordinates': [-74.00796509999999, 40.7244913]},\n",
       " {'place': 'CloudM Bowery New York, NY',\n",
       "  'geometry.type': 'Point',\n",
       "  'geometry.coordinates': [-73.9935179, 40.7206008]},\n",
       " {'place': 'Ace Hotel NYC',\n",
       "  'geometry.type': 'Point',\n",
       "  'geometry.coordinates': [-73.98828499999999, 40.745778]},\n",
       " {'place': 'Hi Life Bar and Grill, NY',\n",
       "  'geometry.type': 'Point',\n",
       "  'geometry.coordinates': [-73.97631129999999, 40.7855601]},\n",
       " {'place': 'St.James Gate NY',\n",
       "  'geometry.type': 'Point',\n",
       "  'geometry.coordinates': [-73.97711869999999, 40.78449699999999]},\n",
       " {'place': 'Studio at the Freehand',\n",
       "  'geometry.type': 'Point',\n",
       "  'geometry.coordinates': [-73.9842543, 40.7398336]},\n",
       " {'place': 'The Marlton Hotel NY',\n",
       "  'geometry.type': 'Point',\n",
       "  'geometry.coordinates': [-73.9967972, 40.7326143]},\n",
       " {'place': 'The Bean-824 Broadway',\n",
       "  'geometry.type': 'Point',\n",
       "  'geometry.coordinates': [-73.990978, 40.733021]},\n",
       " {'place': 'The Bean-31 3rd Ave',\n",
       "  'geometry.type': 'Point',\n",
       "  'geometry.coordinates': [-73.9894592, 40.72972]},\n",
       " {'place': 'The Bean 147 1st Ave',\n",
       "  'geometry.type': 'Point',\n",
       "  'geometry.coordinates': [-73.9850093, 40.72839219999999]},\n",
       " {'place': 'Round K',\n",
       "  'geometry.type': 'Point',\n",
       "  'geometry.coordinates': [-73.9909629, 40.718898]}]"
      ]
     },
     "execution_count": 89,
     "metadata": {},
     "output_type": "execute_result"
    }
   ],
   "source": [
    "geometry_df = []\n",
    "for place in placeNames:\n",
    "    url = 'https://maps.googleapis.com/maps/api/geocode/json'\n",
    "    keys = {'address': place, 'key': API_KEY}\n",
    "    r = requests.get(url,params=keys)\n",
    "    result_dic = r.json()\n",
    "    lat = result_dic['results'][0]['geometry']['location']['lat']\n",
    "    long = result_dic['results'][0]['geometry']['location']['lng']\n",
    "    coords = []\n",
    "    coords.append(long)\n",
    "    coords.append(lat)\n",
    "    mygeometry = {'place': place, 'geometry.type': 'Point','geometry.coordinates':coords}\n",
    "    geometry_df.append(mygeometry)\n",
    "    time.sleep(1)\n",
    "geometry_df"
   ]
  },
  {
   "cell_type": "code",
   "execution_count": 90,
   "metadata": {},
   "outputs": [],
   "source": [
    "geometry_df=pd.DataFrame(geometry_df)"
   ]
  },
  {
   "cell_type": "code",
   "execution_count": 46,
   "metadata": {},
   "outputs": [
    {
     "name": "stdout",
     "output_type": "stream",
     "text": [
      "Arlo Soho New York,NY {'location': {'lat': 40.7244913, 'lng': -74.00796509999999}, 'location_type': 'ROOFTOP', 'viewport': {'northeast': {'lat': 40.72584028029149, 'lng': -74.00661611970848}, 'southwest': {'lat': 40.72314231970849, 'lng': -74.0093140802915}}}\n",
      "CloudM Bowery New York, NY {'location': {'lat': 40.7206008, 'lng': -73.9935179}, 'location_type': 'ROOFTOP', 'viewport': {'northeast': {'lat': 40.7219497802915, 'lng': -73.99216891970849}, 'southwest': {'lat': 40.7192518197085, 'lng': -73.9948668802915}}}\n",
      "Ace Hotel NYC {'location': {'lat': 40.745778, 'lng': -73.98828499999999}, 'location_type': 'ROOFTOP', 'viewport': {'northeast': {'lat': 40.7471269802915, 'lng': -73.98693601970848}, 'southwest': {'lat': 40.74442901970851, 'lng': -73.9896339802915}}}\n",
      "Hi Life Bar and Grill, NY {'location': {'lat': 40.7855601, 'lng': -73.97631129999999}, 'location_type': 'ROOFTOP', 'viewport': {'northeast': {'lat': 40.7869090802915, 'lng': -73.97496231970848}, 'southwest': {'lat': 40.7842111197085, 'lng': -73.9776602802915}}}\n",
      "St.James Gate NY {'location': {'lat': 40.78449699999999, 'lng': -73.97711869999999}, 'location_type': 'ROOFTOP', 'viewport': {'northeast': {'lat': 40.7858459802915, 'lng': -73.97576971970848}, 'southwest': {'lat': 40.7831480197085, 'lng': -73.9784676802915}}}\n",
      "Studio at the Freehand {'location': {'lat': 40.7398336, 'lng': -73.9842543}, 'location_type': 'ROOFTOP', 'viewport': {'northeast': {'lat': 40.7411825802915, 'lng': -73.9829053197085}, 'southwest': {'lat': 40.7384846197085, 'lng': -73.9856032802915}}}\n",
      "The Marlton Hotel NY {'location': {'lat': 40.7326143, 'lng': -73.9967972}, 'location_type': 'ROOFTOP', 'viewport': {'northeast': {'lat': 40.7339632802915, 'lng': -73.99544821970849}, 'southwest': {'lat': 40.73126531970851, 'lng': -73.99814618029151}}}\n",
      "The Bean-824 Broadway {'location': {'lat': 40.733021, 'lng': -73.990978}, 'location_type': 'ROOFTOP', 'viewport': {'northeast': {'lat': 40.7343699802915, 'lng': -73.9896290197085}, 'southwest': {'lat': 40.7316720197085, 'lng': -73.99232698029151}}}\n",
      "The Bean-31 3rd Ave {'location': {'lat': 40.72972, 'lng': -73.9894592}, 'location_type': 'ROOFTOP', 'viewport': {'northeast': {'lat': 40.7310689802915, 'lng': -73.98811021970849}, 'southwest': {'lat': 40.7283710197085, 'lng': -73.99080818029151}}}\n",
      "The Bean 147 1st Ave {'location': {'lat': 40.72839219999999, 'lng': -73.9850093}, 'location_type': 'ROOFTOP', 'viewport': {'northeast': {'lat': 40.7297411802915, 'lng': -73.9836603197085}, 'southwest': {'lat': 40.7270432197085, 'lng': -73.98635828029151}}}\n",
      "Round K {'location': {'lat': 40.718898, 'lng': -73.9909629}, 'location_type': 'ROOFTOP', 'viewport': {'northeast': {'lat': 40.7202469802915, 'lng': -73.98961391970849}, 'southwest': {'lat': 40.7175490197085, 'lng': -73.9923118802915}}}\n"
     ]
    }
   ],
   "source": [
    "# for address in places:\n",
    "#     geometry={}\n",
    "#     url = 'https://maps.googleapis.com/maps/api/geocode/json'\n",
    "#     keys={'address':address,'key':API_KEY}\n",
    "#     r = requests.get(url,params=keys)\n",
    "#     result_dic = r.json()\n",
    "#     geometry['address']=address\n",
    "#     geometry['geometry'] = result_dic['results'][0]['geometry']\n",
    "#     geometries_df.append(geometry)\n",
    "#     print(address, result_dic['results'][0]['geometry'])\n",
    "# #     print(result_dic)\n",
    "#     time.sleep(1)"
   ]
  },
  {
   "cell_type": "code",
   "execution_count": 91,
   "metadata": {},
   "outputs": [],
   "source": [
    "df=pd.DataFrame(places)"
   ]
  },
  {
   "cell_type": "code",
   "execution_count": 92,
   "metadata": {},
   "outputs": [],
   "source": [
    "df=df.rename(columns={0:'place'})"
   ]
  },
  {
   "cell_type": "code",
   "execution_count": 93,
   "metadata": {},
   "outputs": [],
   "source": [
    "# df=df.drop(columns='properties.article')"
   ]
  },
  {
   "cell_type": "code",
   "execution_count": 94,
   "metadata": {
    "scrolled": true
   },
   "outputs": [],
   "source": [
    "df['properties.article']=df.place.apply(lambda x: \"<div id='place'><P>\" + x + \"</P></div></p><p>\")"
   ]
  },
  {
   "cell_type": "code",
   "execution_count": 95,
   "metadata": {},
   "outputs": [],
   "source": [
    "# df.place.apply(lambda x: \"<div id='place'><P>%s</P></div>\" % '</p><p>'.join(str(x)))"
   ]
  },
  {
   "cell_type": "code",
   "execution_count": 96,
   "metadata": {},
   "outputs": [],
   "source": [
    "df=df.rename(columns={'place':'properties.name'})"
   ]
  },
  {
   "cell_type": "code",
   "execution_count": 97,
   "metadata": {},
   "outputs": [],
   "source": [
    "df['properties.headline'] = '<div class=\"body-text\"><p><span>Work:</span>emoji<span>Werk:</span>emoji</p>'"
   ]
  },
  {
   "cell_type": "code",
   "execution_count": 98,
   "metadata": {},
   "outputs": [
    {
     "data": {
      "text/html": [
       "<div>\n",
       "<style scoped>\n",
       "    .dataframe tbody tr th:only-of-type {\n",
       "        vertical-align: middle;\n",
       "    }\n",
       "\n",
       "    .dataframe tbody tr th {\n",
       "        vertical-align: top;\n",
       "    }\n",
       "\n",
       "    .dataframe thead th {\n",
       "        text-align: right;\n",
       "    }\n",
       "</style>\n",
       "<table border=\"1\" class=\"dataframe\">\n",
       "  <thead>\n",
       "    <tr style=\"text-align: right;\">\n",
       "      <th></th>\n",
       "      <th>properties.name</th>\n",
       "      <th>properties.article</th>\n",
       "      <th>properties.headline</th>\n",
       "    </tr>\n",
       "  </thead>\n",
       "  <tbody>\n",
       "    <tr>\n",
       "      <th>0</th>\n",
       "      <td>Arlo Soho New York,NY</td>\n",
       "      <td>&lt;div id='place'&gt;&lt;P&gt;Arlo Soho New York,NY&lt;/P&gt;&lt;/...</td>\n",
       "      <td>&lt;div class=\"body-text\"&gt;&lt;p&gt;&lt;span&gt;Work:&lt;/span&gt;em...</td>\n",
       "    </tr>\n",
       "    <tr>\n",
       "      <th>1</th>\n",
       "      <td>CloudM Bowery New York, NY</td>\n",
       "      <td>&lt;div id='place'&gt;&lt;P&gt;CloudM Bowery New York, NY&lt;...</td>\n",
       "      <td>&lt;div class=\"body-text\"&gt;&lt;p&gt;&lt;span&gt;Work:&lt;/span&gt;em...</td>\n",
       "    </tr>\n",
       "    <tr>\n",
       "      <th>2</th>\n",
       "      <td>Ace Hotel NYC</td>\n",
       "      <td>&lt;div id='place'&gt;&lt;P&gt;Ace Hotel NYC&lt;/P&gt;&lt;/div&gt;&lt;/p&gt;&lt;p&gt;</td>\n",
       "      <td>&lt;div class=\"body-text\"&gt;&lt;p&gt;&lt;span&gt;Work:&lt;/span&gt;em...</td>\n",
       "    </tr>\n",
       "  </tbody>\n",
       "</table>\n",
       "</div>"
      ],
      "text/plain": [
       "              properties.name  \\\n",
       "0       Arlo Soho New York,NY   \n",
       "1  CloudM Bowery New York, NY   \n",
       "2               Ace Hotel NYC   \n",
       "\n",
       "                                  properties.article  \\\n",
       "0  <div id='place'><P>Arlo Soho New York,NY</P></...   \n",
       "1  <div id='place'><P>CloudM Bowery New York, NY<...   \n",
       "2  <div id='place'><P>Ace Hotel NYC</P></div></p><p>   \n",
       "\n",
       "                                 properties.headline  \n",
       "0  <div class=\"body-text\"><p><span>Work:</span>em...  \n",
       "1  <div class=\"body-text\"><p><span>Work:</span>em...  \n",
       "2  <div class=\"body-text\"><p><span>Work:</span>em...  "
      ]
     },
     "execution_count": 98,
     "metadata": {},
     "output_type": "execute_result"
    }
   ],
   "source": [
    "df.head(3)"
   ]
  },
  {
   "cell_type": "code",
   "execution_count": 99,
   "metadata": {},
   "outputs": [],
   "source": [
    "df['properties.group_id']=11"
   ]
  },
  {
   "cell_type": "code",
   "execution_count": 100,
   "metadata": {},
   "outputs": [],
   "source": [
    "df['properties.group_name']='random'"
   ]
  },
  {
   "cell_type": "code",
   "execution_count": 101,
   "metadata": {},
   "outputs": [
    {
     "data": {
      "text/html": [
       "<div>\n",
       "<style scoped>\n",
       "    .dataframe tbody tr th:only-of-type {\n",
       "        vertical-align: middle;\n",
       "    }\n",
       "\n",
       "    .dataframe tbody tr th {\n",
       "        vertical-align: top;\n",
       "    }\n",
       "\n",
       "    .dataframe thead th {\n",
       "        text-align: right;\n",
       "    }\n",
       "</style>\n",
       "<table border=\"1\" class=\"dataframe\">\n",
       "  <thead>\n",
       "    <tr style=\"text-align: right;\">\n",
       "      <th></th>\n",
       "      <th>properties.name</th>\n",
       "      <th>properties.article</th>\n",
       "      <th>properties.headline</th>\n",
       "      <th>properties.group_id</th>\n",
       "      <th>properties.group_name</th>\n",
       "    </tr>\n",
       "  </thead>\n",
       "  <tbody>\n",
       "    <tr>\n",
       "      <th>0</th>\n",
       "      <td>Arlo Soho New York,NY</td>\n",
       "      <td>&lt;div id='place'&gt;&lt;P&gt;Arlo Soho New York,NY&lt;/P&gt;&lt;/...</td>\n",
       "      <td>&lt;div class=\"body-text\"&gt;&lt;p&gt;&lt;span&gt;Work:&lt;/span&gt;em...</td>\n",
       "      <td>11</td>\n",
       "      <td>random</td>\n",
       "    </tr>\n",
       "    <tr>\n",
       "      <th>1</th>\n",
       "      <td>CloudM Bowery New York, NY</td>\n",
       "      <td>&lt;div id='place'&gt;&lt;P&gt;CloudM Bowery New York, NY&lt;...</td>\n",
       "      <td>&lt;div class=\"body-text\"&gt;&lt;p&gt;&lt;span&gt;Work:&lt;/span&gt;em...</td>\n",
       "      <td>11</td>\n",
       "      <td>random</td>\n",
       "    </tr>\n",
       "    <tr>\n",
       "      <th>2</th>\n",
       "      <td>Ace Hotel NYC</td>\n",
       "      <td>&lt;div id='place'&gt;&lt;P&gt;Ace Hotel NYC&lt;/P&gt;&lt;/div&gt;&lt;/p&gt;&lt;p&gt;</td>\n",
       "      <td>&lt;div class=\"body-text\"&gt;&lt;p&gt;&lt;span&gt;Work:&lt;/span&gt;em...</td>\n",
       "      <td>11</td>\n",
       "      <td>random</td>\n",
       "    </tr>\n",
       "  </tbody>\n",
       "</table>\n",
       "</div>"
      ],
      "text/plain": [
       "              properties.name  \\\n",
       "0       Arlo Soho New York,NY   \n",
       "1  CloudM Bowery New York, NY   \n",
       "2               Ace Hotel NYC   \n",
       "\n",
       "                                  properties.article  \\\n",
       "0  <div id='place'><P>Arlo Soho New York,NY</P></...   \n",
       "1  <div id='place'><P>CloudM Bowery New York, NY<...   \n",
       "2  <div id='place'><P>Ace Hotel NYC</P></div></p><p>   \n",
       "\n",
       "                                 properties.headline  properties.group_id  \\\n",
       "0  <div class=\"body-text\"><p><span>Work:</span>em...                   11   \n",
       "1  <div class=\"body-text\"><p><span>Work:</span>em...                   11   \n",
       "2  <div class=\"body-text\"><p><span>Work:</span>em...                   11   \n",
       "\n",
       "  properties.group_name  \n",
       "0                random  \n",
       "1                random  \n",
       "2                random  "
      ]
     },
     "execution_count": 101,
     "metadata": {},
     "output_type": "execute_result"
    }
   ],
   "source": [
    "df.head(3)"
   ]
  },
  {
   "cell_type": "code",
   "execution_count": 102,
   "metadata": {},
   "outputs": [],
   "source": [
    "df=df.merge(geometry_df, left_on='properties.name',right_on='place',how='left')"
   ]
  },
  {
   "cell_type": "code",
   "execution_count": 103,
   "metadata": {},
   "outputs": [
    {
     "data": {
      "text/html": [
       "<div>\n",
       "<style scoped>\n",
       "    .dataframe tbody tr th:only-of-type {\n",
       "        vertical-align: middle;\n",
       "    }\n",
       "\n",
       "    .dataframe tbody tr th {\n",
       "        vertical-align: top;\n",
       "    }\n",
       "\n",
       "    .dataframe thead th {\n",
       "        text-align: right;\n",
       "    }\n",
       "</style>\n",
       "<table border=\"1\" class=\"dataframe\">\n",
       "  <thead>\n",
       "    <tr style=\"text-align: right;\">\n",
       "      <th></th>\n",
       "      <th>properties.name</th>\n",
       "      <th>properties.article</th>\n",
       "      <th>properties.headline</th>\n",
       "      <th>properties.group_id</th>\n",
       "      <th>properties.group_name</th>\n",
       "      <th>geometry.coordinates</th>\n",
       "      <th>geometry.type</th>\n",
       "    </tr>\n",
       "  </thead>\n",
       "  <tbody>\n",
       "    <tr>\n",
       "      <th>0</th>\n",
       "      <td>Arlo Soho New York,NY</td>\n",
       "      <td>&lt;div id='place'&gt;&lt;P&gt;Arlo Soho New York,NY&lt;/P&gt;&lt;/...</td>\n",
       "      <td>&lt;div class=\"body-text\"&gt;&lt;p&gt;&lt;span&gt;Work:&lt;/span&gt;em...</td>\n",
       "      <td>11</td>\n",
       "      <td>random</td>\n",
       "      <td>[-74.00796509999999, 40.7244913]</td>\n",
       "      <td>Point</td>\n",
       "    </tr>\n",
       "    <tr>\n",
       "      <th>1</th>\n",
       "      <td>CloudM Bowery New York, NY</td>\n",
       "      <td>&lt;div id='place'&gt;&lt;P&gt;CloudM Bowery New York, NY&lt;...</td>\n",
       "      <td>&lt;div class=\"body-text\"&gt;&lt;p&gt;&lt;span&gt;Work:&lt;/span&gt;em...</td>\n",
       "      <td>11</td>\n",
       "      <td>random</td>\n",
       "      <td>[-73.9935179, 40.7206008]</td>\n",
       "      <td>Point</td>\n",
       "    </tr>\n",
       "    <tr>\n",
       "      <th>2</th>\n",
       "      <td>Ace Hotel NYC</td>\n",
       "      <td>&lt;div id='place'&gt;&lt;P&gt;Ace Hotel NYC&lt;/P&gt;&lt;/div&gt;&lt;/p&gt;&lt;p&gt;</td>\n",
       "      <td>&lt;div class=\"body-text\"&gt;&lt;p&gt;&lt;span&gt;Work:&lt;/span&gt;em...</td>\n",
       "      <td>11</td>\n",
       "      <td>random</td>\n",
       "      <td>[-73.98828499999999, 40.745778]</td>\n",
       "      <td>Point</td>\n",
       "    </tr>\n",
       "    <tr>\n",
       "      <th>3</th>\n",
       "      <td>Hi Life Bar and Grill, NY</td>\n",
       "      <td>&lt;div id='place'&gt;&lt;P&gt;Hi Life Bar and Grill, NY&lt;/...</td>\n",
       "      <td>&lt;div class=\"body-text\"&gt;&lt;p&gt;&lt;span&gt;Work:&lt;/span&gt;em...</td>\n",
       "      <td>11</td>\n",
       "      <td>random</td>\n",
       "      <td>[-73.97631129999999, 40.7855601]</td>\n",
       "      <td>Point</td>\n",
       "    </tr>\n",
       "    <tr>\n",
       "      <th>4</th>\n",
       "      <td>St.James Gate NY</td>\n",
       "      <td>&lt;div id='place'&gt;&lt;P&gt;St.James Gate NY&lt;/P&gt;&lt;/div&gt;&lt;...</td>\n",
       "      <td>&lt;div class=\"body-text\"&gt;&lt;p&gt;&lt;span&gt;Work:&lt;/span&gt;em...</td>\n",
       "      <td>11</td>\n",
       "      <td>random</td>\n",
       "      <td>[-73.97711869999999, 40.78449699999999]</td>\n",
       "      <td>Point</td>\n",
       "    </tr>\n",
       "    <tr>\n",
       "      <th>5</th>\n",
       "      <td>Studio at the Freehand</td>\n",
       "      <td>&lt;div id='place'&gt;&lt;P&gt;Studio at the Freehand&lt;/P&gt;&lt;...</td>\n",
       "      <td>&lt;div class=\"body-text\"&gt;&lt;p&gt;&lt;span&gt;Work:&lt;/span&gt;em...</td>\n",
       "      <td>11</td>\n",
       "      <td>random</td>\n",
       "      <td>[-73.9842543, 40.7398336]</td>\n",
       "      <td>Point</td>\n",
       "    </tr>\n",
       "    <tr>\n",
       "      <th>6</th>\n",
       "      <td>The Marlton Hotel NY</td>\n",
       "      <td>&lt;div id='place'&gt;&lt;P&gt;The Marlton Hotel NY&lt;/P&gt;&lt;/d...</td>\n",
       "      <td>&lt;div class=\"body-text\"&gt;&lt;p&gt;&lt;span&gt;Work:&lt;/span&gt;em...</td>\n",
       "      <td>11</td>\n",
       "      <td>random</td>\n",
       "      <td>[-73.9967972, 40.7326143]</td>\n",
       "      <td>Point</td>\n",
       "    </tr>\n",
       "    <tr>\n",
       "      <th>7</th>\n",
       "      <td>The Bean-824 Broadway</td>\n",
       "      <td>&lt;div id='place'&gt;&lt;P&gt;The Bean-824 Broadway&lt;/P&gt;&lt;/...</td>\n",
       "      <td>&lt;div class=\"body-text\"&gt;&lt;p&gt;&lt;span&gt;Work:&lt;/span&gt;em...</td>\n",
       "      <td>11</td>\n",
       "      <td>random</td>\n",
       "      <td>[-73.990978, 40.733021]</td>\n",
       "      <td>Point</td>\n",
       "    </tr>\n",
       "    <tr>\n",
       "      <th>8</th>\n",
       "      <td>The Bean-31 3rd Ave</td>\n",
       "      <td>&lt;div id='place'&gt;&lt;P&gt;The Bean-31 3rd Ave&lt;/P&gt;&lt;/di...</td>\n",
       "      <td>&lt;div class=\"body-text\"&gt;&lt;p&gt;&lt;span&gt;Work:&lt;/span&gt;em...</td>\n",
       "      <td>11</td>\n",
       "      <td>random</td>\n",
       "      <td>[-73.9894592, 40.72972]</td>\n",
       "      <td>Point</td>\n",
       "    </tr>\n",
       "    <tr>\n",
       "      <th>9</th>\n",
       "      <td>The Bean 147 1st Ave</td>\n",
       "      <td>&lt;div id='place'&gt;&lt;P&gt;The Bean 147 1st Ave&lt;/P&gt;&lt;/d...</td>\n",
       "      <td>&lt;div class=\"body-text\"&gt;&lt;p&gt;&lt;span&gt;Work:&lt;/span&gt;em...</td>\n",
       "      <td>11</td>\n",
       "      <td>random</td>\n",
       "      <td>[-73.9850093, 40.72839219999999]</td>\n",
       "      <td>Point</td>\n",
       "    </tr>\n",
       "    <tr>\n",
       "      <th>10</th>\n",
       "      <td>Round K</td>\n",
       "      <td>&lt;div id='place'&gt;&lt;P&gt;Round K&lt;/P&gt;&lt;/div&gt;&lt;/p&gt;&lt;p&gt;</td>\n",
       "      <td>&lt;div class=\"body-text\"&gt;&lt;p&gt;&lt;span&gt;Work:&lt;/span&gt;em...</td>\n",
       "      <td>11</td>\n",
       "      <td>random</td>\n",
       "      <td>[-73.9909629, 40.718898]</td>\n",
       "      <td>Point</td>\n",
       "    </tr>\n",
       "  </tbody>\n",
       "</table>\n",
       "</div>"
      ],
      "text/plain": [
       "               properties.name  \\\n",
       "0        Arlo Soho New York,NY   \n",
       "1   CloudM Bowery New York, NY   \n",
       "2                Ace Hotel NYC   \n",
       "3    Hi Life Bar and Grill, NY   \n",
       "4             St.James Gate NY   \n",
       "5       Studio at the Freehand   \n",
       "6         The Marlton Hotel NY   \n",
       "7        The Bean-824 Broadway   \n",
       "8          The Bean-31 3rd Ave   \n",
       "9         The Bean 147 1st Ave   \n",
       "10                     Round K   \n",
       "\n",
       "                                   properties.article  \\\n",
       "0   <div id='place'><P>Arlo Soho New York,NY</P></...   \n",
       "1   <div id='place'><P>CloudM Bowery New York, NY<...   \n",
       "2   <div id='place'><P>Ace Hotel NYC</P></div></p><p>   \n",
       "3   <div id='place'><P>Hi Life Bar and Grill, NY</...   \n",
       "4   <div id='place'><P>St.James Gate NY</P></div><...   \n",
       "5   <div id='place'><P>Studio at the Freehand</P><...   \n",
       "6   <div id='place'><P>The Marlton Hotel NY</P></d...   \n",
       "7   <div id='place'><P>The Bean-824 Broadway</P></...   \n",
       "8   <div id='place'><P>The Bean-31 3rd Ave</P></di...   \n",
       "9   <div id='place'><P>The Bean 147 1st Ave</P></d...   \n",
       "10        <div id='place'><P>Round K</P></div></p><p>   \n",
       "\n",
       "                                  properties.headline  properties.group_id  \\\n",
       "0   <div class=\"body-text\"><p><span>Work:</span>em...                   11   \n",
       "1   <div class=\"body-text\"><p><span>Work:</span>em...                   11   \n",
       "2   <div class=\"body-text\"><p><span>Work:</span>em...                   11   \n",
       "3   <div class=\"body-text\"><p><span>Work:</span>em...                   11   \n",
       "4   <div class=\"body-text\"><p><span>Work:</span>em...                   11   \n",
       "5   <div class=\"body-text\"><p><span>Work:</span>em...                   11   \n",
       "6   <div class=\"body-text\"><p><span>Work:</span>em...                   11   \n",
       "7   <div class=\"body-text\"><p><span>Work:</span>em...                   11   \n",
       "8   <div class=\"body-text\"><p><span>Work:</span>em...                   11   \n",
       "9   <div class=\"body-text\"><p><span>Work:</span>em...                   11   \n",
       "10  <div class=\"body-text\"><p><span>Work:</span>em...                   11   \n",
       "\n",
       "   properties.group_name                     geometry.coordinates  \\\n",
       "0                 random         [-74.00796509999999, 40.7244913]   \n",
       "1                 random                [-73.9935179, 40.7206008]   \n",
       "2                 random          [-73.98828499999999, 40.745778]   \n",
       "3                 random         [-73.97631129999999, 40.7855601]   \n",
       "4                 random  [-73.97711869999999, 40.78449699999999]   \n",
       "5                 random                [-73.9842543, 40.7398336]   \n",
       "6                 random                [-73.9967972, 40.7326143]   \n",
       "7                 random                  [-73.990978, 40.733021]   \n",
       "8                 random                  [-73.9894592, 40.72972]   \n",
       "9                 random         [-73.9850093, 40.72839219999999]   \n",
       "10                random                 [-73.9909629, 40.718898]   \n",
       "\n",
       "   geometry.type  \n",
       "0          Point  \n",
       "1          Point  \n",
       "2          Point  \n",
       "3          Point  \n",
       "4          Point  \n",
       "5          Point  \n",
       "6          Point  \n",
       "7          Point  \n",
       "8          Point  \n",
       "9          Point  \n",
       "10         Point  "
      ]
     },
     "execution_count": 103,
     "metadata": {},
     "output_type": "execute_result"
    }
   ],
   "source": [
    "df.drop(columns='place')"
   ]
  },
  {
   "cell_type": "code",
   "execution_count": 104,
   "metadata": {},
   "outputs": [],
   "source": [
    "df['properties.color']='#64ffda'"
   ]
  },
  {
   "cell_type": "code",
   "execution_count": 105,
   "metadata": {},
   "outputs": [],
   "source": [
    "#converting to geojson\n",
    "ok_json = json.loads(df.to_json(orient='records'))"
   ]
  },
  {
   "cell_type": "code",
   "execution_count": 106,
   "metadata": {},
   "outputs": [],
   "source": [
    "geo_format = process_to_geojson(ok_json)"
   ]
  },
  {
   "cell_type": "code",
   "execution_count": 107,
   "metadata": {},
   "outputs": [],
   "source": [
    "#Variable name\n",
    "with open('geo-data.js', 'w') as outfile:\n",
    "    outfile.write(\"var infoData = \")\n",
    "#geojson output\n",
    "with open('geo-data.js', 'a') as outfile:\n",
    "    json.dump(geo_format, outfile)\n"
   ]
  },
  {
   "cell_type": "code",
   "execution_count": null,
   "metadata": {},
   "outputs": [],
   "source": []
  }
 ],
 "metadata": {
  "kernelspec": {
   "display_name": "Python 3",
   "language": "python",
   "name": "python3"
  },
  "language_info": {
   "codemirror_mode": {
    "name": "ipython",
    "version": 3
   },
   "file_extension": ".py",
   "mimetype": "text/x-python",
   "name": "python",
   "nbconvert_exporter": "python",
   "pygments_lexer": "ipython3",
   "version": "3.7.1"
  }
 },
 "nbformat": 4,
 "nbformat_minor": 2
}
